{
 "cells": [
  {
   "cell_type": "code",
   "execution_count": 2,
   "metadata": {},
   "outputs": [],
   "source": [
    "# pip install spotipy"
   ]
  },
  {
   "cell_type": "code",
   "execution_count": 3,
   "metadata": {},
   "outputs": [],
   "source": [
    "# pip install spotipy --upgrade"
   ]
  },
  {
   "cell_type": "code",
   "execution_count": 4,
   "metadata": {},
   "outputs": [],
   "source": [
    "import spotipy\n",
    "from spotipy.oauth2 import SpotifyClientCredentials\n",
    "\n",
    "cid = '3be62ceebcef44a1807e9002adf8d159'\n",
    "secret = 'bde76e0d3cd54a68b6ca267237bf7e0e'\n",
    "client_credentials_manager = SpotifyClientCredentials(client_id=cid, client_secret=secret)\n",
    "sp = spotipy.Spotify(client_credentials_manager=client_credentials_manager)"
   ]
  },
  {
   "cell_type": "code",
   "execution_count": 2,
   "metadata": {},
   "outputs": [],
   "source": [
    "# Data Exploration\n",
    "\n",
    "# artist_name = []\n",
    "# track_name = []\n",
    "# popularity = []\n",
    "# track_id = []\n",
    "\n",
    "\n",
    "# for i in range(0,2000,50):\n",
    "#     track_results = sp.search(q='year:2018', type='track', limit=50,offset=i)\n",
    "#     for i, t in enumerate(track_results['tracks']['items']):\n",
    "#         artist_name.append(t['artists'][0]['name'])\n",
    "#         track_name.append(t['name'])\n",
    "#         track_id.append(t['id'])\n",
    "#         popularity.append(t['popularity'])"
   ]
  },
  {
   "cell_type": "code",
   "execution_count": 3,
   "metadata": {},
   "outputs": [],
   "source": [
    "# Data Exploration\n",
    "\n",
    "# track_results"
   ]
  },
  {
   "cell_type": "code",
   "execution_count": 4,
   "metadata": {},
   "outputs": [],
   "source": [
    "# Data Exploration\n",
    "# example on how to get the list of names of all the albums released by artist Birdy\n",
    "\n",
    "# birdy_uri = 'spotify:artist:2WX2uTcsvV5OnS0inACecP'\n",
    "\n",
    "# results = sp.artist_albums(birdy_uri, album_type='album')\n",
    "\n",
    "# albums = results['items']\n",
    "\n",
    "# while results['next']:\n",
    "#     results = sp.next(results)\n",
    "#     albums.extend(results['items'])\n",
    "\n",
    "# for album in albums:\n",
    "#     print(album['name'])"
   ]
  },
  {
   "cell_type": "code",
   "execution_count": 5,
   "metadata": {},
   "outputs": [],
   "source": [
    "# getting the list of genres from Spotify API\n",
    "\n",
    "genres = []\n",
    "None_counter = 0\n",
    "\n",
    "for i in range(0,2000,50):\n",
    "    results = sp.recommendation_genre_seeds()\n",
    "    for i, t in enumerate(results):\n",
    "        if t == None:\n",
    "            None_counter = None_counter + 1\n",
    "        else:\n",
    "            genres.append(t)"
   ]
  },
  {
   "cell_type": "code",
   "execution_count": 6,
   "metadata": {},
   "outputs": [],
   "source": [
    "# Data Exploration\n",
    "\n",
    "# len(results['genres'])"
   ]
  },
  {
   "cell_type": "code",
   "execution_count": 7,
   "metadata": {},
   "outputs": [],
   "source": [
    "# Data Exploration\n",
    "# results"
   ]
  },
  {
   "cell_type": "code",
   "execution_count": 7,
   "metadata": {},
   "outputs": [],
   "source": [
    "# going through genres\n",
    "\n",
    "artist_name = []\n",
    "track_name = []\n",
    "genre_name = []\n",
    "\n",
    "for genre in results['genres']:\n",
    "    # print(genre)\n",
    "    for i in range(0,1000,50):\n",
    "        q1 = 'genre:'+str(genre)\n",
    "        genre_results = sp.search(q=q1, type='track', limit=50,offset=i)\n",
    "        for i, t in enumerate(genre_results['tracks']['items']):\n",
    "            artist_name.append(t['artists'][0]['name'])\n",
    "            track_name.append(t['name'])\n",
    "            genre_name.append([genre])"
   ]
  },
  {
   "cell_type": "code",
   "execution_count": 10,
   "metadata": {},
   "outputs": [
    {
     "name": "stdout",
     "output_type": "stream",
     "text": [
      "(112000, 3)\n"
     ]
    }
   ],
   "source": [
    "# Dataframe\n",
    "import pandas as pd\n",
    "\n",
    "genre_dataframe = pd.DataFrame({'artist_name' : artist_name, 'track_name' : track_name, 'genre_name' : genre_name})\n",
    "print(genre_dataframe.shape)"
   ]
  },
  {
   "cell_type": "code",
   "execution_count": 11,
   "metadata": {},
   "outputs": [
    {
     "data": {
      "text/html": [
       "<div>\n",
       "<style scoped>\n",
       "    .dataframe tbody tr th:only-of-type {\n",
       "        vertical-align: middle;\n",
       "    }\n",
       "\n",
       "    .dataframe tbody tr th {\n",
       "        vertical-align: top;\n",
       "    }\n",
       "\n",
       "    .dataframe thead th {\n",
       "        text-align: right;\n",
       "    }\n",
       "</style>\n",
       "<table border=\"1\" class=\"dataframe\">\n",
       "  <thead>\n",
       "    <tr style=\"text-align: right;\">\n",
       "      <th></th>\n",
       "      <th>artist_name</th>\n",
       "      <th>track_name</th>\n",
       "      <th>genre_name</th>\n",
       "    </tr>\n",
       "  </thead>\n",
       "  <tbody>\n",
       "    <tr>\n",
       "      <th>0</th>\n",
       "      <td>Jason Mraz</td>\n",
       "      <td>I'm Yours</td>\n",
       "      <td>[acoustic]</td>\n",
       "    </tr>\n",
       "    <tr>\n",
       "      <th>1</th>\n",
       "      <td>Chord Overstreet</td>\n",
       "      <td>Hold On</td>\n",
       "      <td>[acoustic]</td>\n",
       "    </tr>\n",
       "    <tr>\n",
       "      <th>2</th>\n",
       "      <td>Matt Nathanson</td>\n",
       "      <td>Come On Get Higher</td>\n",
       "      <td>[acoustic]</td>\n",
       "    </tr>\n",
       "    <tr>\n",
       "      <th>3</th>\n",
       "      <td>Sara Bareilles</td>\n",
       "      <td>Love Song</td>\n",
       "      <td>[acoustic]</td>\n",
       "    </tr>\n",
       "    <tr>\n",
       "      <th>4</th>\n",
       "      <td>Colbie Caillat</td>\n",
       "      <td>Bubbly</td>\n",
       "      <td>[acoustic]</td>\n",
       "    </tr>\n",
       "    <tr>\n",
       "      <th>...</th>\n",
       "      <td>...</td>\n",
       "      <td>...</td>\n",
       "      <td>...</td>\n",
       "    </tr>\n",
       "    <tr>\n",
       "      <th>111995</th>\n",
       "      <td>Hillsong UNITED</td>\n",
       "      <td>Mighty To Save - Live</td>\n",
       "      <td>[world-music]</td>\n",
       "    </tr>\n",
       "    <tr>\n",
       "      <th>111996</th>\n",
       "      <td>Rend Collective</td>\n",
       "      <td>OUR PRAYER</td>\n",
       "      <td>[world-music]</td>\n",
       "    </tr>\n",
       "    <tr>\n",
       "      <th>111997</th>\n",
       "      <td>Chris Tomlin</td>\n",
       "      <td>Everlasting God</td>\n",
       "      <td>[world-music]</td>\n",
       "    </tr>\n",
       "    <tr>\n",
       "      <th>111998</th>\n",
       "      <td>Shane &amp; Shane</td>\n",
       "      <td>Tis So Sweet</td>\n",
       "      <td>[world-music]</td>\n",
       "    </tr>\n",
       "    <tr>\n",
       "      <th>111999</th>\n",
       "      <td>Housefires</td>\n",
       "      <td>Lift You High - Live</td>\n",
       "      <td>[world-music]</td>\n",
       "    </tr>\n",
       "  </tbody>\n",
       "</table>\n",
       "<p>112000 rows × 3 columns</p>\n",
       "</div>"
      ],
      "text/plain": [
       "             artist_name             track_name     genre_name\n",
       "0             Jason Mraz              I'm Yours     [acoustic]\n",
       "1       Chord Overstreet                Hold On     [acoustic]\n",
       "2         Matt Nathanson     Come On Get Higher     [acoustic]\n",
       "3         Sara Bareilles              Love Song     [acoustic]\n",
       "4         Colbie Caillat                 Bubbly     [acoustic]\n",
       "...                  ...                    ...            ...\n",
       "111995   Hillsong UNITED  Mighty To Save - Live  [world-music]\n",
       "111996   Rend Collective             OUR PRAYER  [world-music]\n",
       "111997      Chris Tomlin        Everlasting God  [world-music]\n",
       "111998     Shane & Shane           Tis So Sweet  [world-music]\n",
       "111999        Housefires   Lift You High - Live  [world-music]\n",
       "\n",
       "[112000 rows x 3 columns]"
      ]
     },
     "execution_count": 11,
     "metadata": {},
     "output_type": "execute_result"
    }
   ],
   "source": [
    "# Data Exploration\n",
    "\n",
    "len(genre_dataframe)\n",
    "\n",
    "genre_dataframe"
   ]
  },
  {
   "cell_type": "code",
   "execution_count": 17,
   "metadata": {},
   "outputs": [
    {
     "data": {
      "text/html": [
       "<div>\n",
       "<style scoped>\n",
       "    .dataframe tbody tr th:only-of-type {\n",
       "        vertical-align: middle;\n",
       "    }\n",
       "\n",
       "    .dataframe tbody tr th {\n",
       "        vertical-align: top;\n",
       "    }\n",
       "\n",
       "    .dataframe thead th {\n",
       "        text-align: right;\n",
       "    }\n",
       "</style>\n",
       "<table border=\"1\" class=\"dataframe\">\n",
       "  <thead>\n",
       "    <tr style=\"text-align: right;\">\n",
       "      <th></th>\n",
       "      <th>artist_name</th>\n",
       "      <th>track_name</th>\n",
       "      <th>genre_name</th>\n",
       "    </tr>\n",
       "  </thead>\n",
       "  <tbody>\n",
       "    <tr>\n",
       "      <th>0</th>\n",
       "      <td>jason mraz</td>\n",
       "      <td>i'm yours</td>\n",
       "      <td>acoustic</td>\n",
       "    </tr>\n",
       "    <tr>\n",
       "      <th>1</th>\n",
       "      <td>chord overstreet</td>\n",
       "      <td>hold on</td>\n",
       "      <td>acoustic</td>\n",
       "    </tr>\n",
       "    <tr>\n",
       "      <th>2</th>\n",
       "      <td>matt nathanson</td>\n",
       "      <td>come on get higher</td>\n",
       "      <td>acoustic</td>\n",
       "    </tr>\n",
       "    <tr>\n",
       "      <th>3</th>\n",
       "      <td>sara bareilles</td>\n",
       "      <td>love song</td>\n",
       "      <td>acoustic</td>\n",
       "    </tr>\n",
       "    <tr>\n",
       "      <th>4</th>\n",
       "      <td>colbie caillat</td>\n",
       "      <td>bubbly</td>\n",
       "      <td>acoustic</td>\n",
       "    </tr>\n",
       "    <tr>\n",
       "      <th>...</th>\n",
       "      <td>...</td>\n",
       "      <td>...</td>\n",
       "      <td>...</td>\n",
       "    </tr>\n",
       "    <tr>\n",
       "      <th>111995</th>\n",
       "      <td>hillsong united</td>\n",
       "      <td>mighty to save - live</td>\n",
       "      <td>world-music</td>\n",
       "    </tr>\n",
       "    <tr>\n",
       "      <th>111996</th>\n",
       "      <td>rend collective</td>\n",
       "      <td>our prayer</td>\n",
       "      <td>world-music</td>\n",
       "    </tr>\n",
       "    <tr>\n",
       "      <th>111997</th>\n",
       "      <td>chris tomlin</td>\n",
       "      <td>everlasting god</td>\n",
       "      <td>world-music</td>\n",
       "    </tr>\n",
       "    <tr>\n",
       "      <th>111998</th>\n",
       "      <td>shane &amp; shane</td>\n",
       "      <td>tis so sweet</td>\n",
       "      <td>world-music</td>\n",
       "    </tr>\n",
       "    <tr>\n",
       "      <th>111999</th>\n",
       "      <td>housefires</td>\n",
       "      <td>lift you high - live</td>\n",
       "      <td>world-music</td>\n",
       "    </tr>\n",
       "  </tbody>\n",
       "</table>\n",
       "<p>112000 rows × 3 columns</p>\n",
       "</div>"
      ],
      "text/plain": [
       "             artist_name             track_name   genre_name\n",
       "0             jason mraz              i'm yours     acoustic\n",
       "1       chord overstreet                hold on     acoustic\n",
       "2         matt nathanson     come on get higher     acoustic\n",
       "3         sara bareilles              love song     acoustic\n",
       "4         colbie caillat                 bubbly     acoustic\n",
       "...                  ...                    ...          ...\n",
       "111995   hillsong united  mighty to save - live  world-music\n",
       "111996   rend collective             our prayer  world-music\n",
       "111997      chris tomlin        everlasting god  world-music\n",
       "111998     shane & shane           tis so sweet  world-music\n",
       "111999        housefires   lift you high - live  world-music\n",
       "\n",
       "[112000 rows x 3 columns]"
      ]
     },
     "execution_count": 17,
     "metadata": {},
     "output_type": "execute_result"
    }
   ],
   "source": [
    "genre_dataframe['track_name'] = genre_dataframe['track_name'].apply(lambda row: row.lower())\n",
    "genre_dataframe['artist_name'] = genre_dataframe['artist_name'].apply(lambda row: row.lower())\n",
    "genre_dataframe['genre_name'] = genre_dataframe['genre_name'].str[0]\n"
   ]
  },
  {
   "cell_type": "code",
   "execution_count": 18,
   "metadata": {},
   "outputs": [],
   "source": [
    "# convert to csv\n",
    "\n",
    "genre_dataframe.to_csv ('genre_dataframe.csv', index = False, header=True)"
   ]
  },
  {
   "cell_type": "code",
   "execution_count": 47,
   "metadata": {},
   "outputs": [],
   "source": [
    "# Data Exploration\n",
    "# rap_results['tracks']['items'][0]"
   ]
  },
  {
   "cell_type": "code",
   "execution_count": 48,
   "metadata": {},
   "outputs": [],
   "source": [
    "# Data Exploration\n",
    "# artist_name"
   ]
  },
  {
   "cell_type": "code",
   "execution_count": 52,
   "metadata": {},
   "outputs": [],
   "source": [
    "# Data Exploration\n",
    "\n",
    "# artist_name = []\n",
    "# track_name = []\n",
    "\n",
    "\n",
    "# for i in range(0,100,50):\n",
    "#     pop_results = sp.search(q='genre:pop', type='track', limit=50,offset=i)\n",
    "#     for i, t in enumerate(track_results['tracks']['items']):\n",
    "#         artist_name.append(t['artists'][0]['name'])\n",
    "#         track_name.append(t['name'])"
   ]
  },
  {
   "cell_type": "code",
   "execution_count": 51,
   "metadata": {},
   "outputs": [],
   "source": [
    "# Data Exploration\n",
    "\n",
    "# import pprint\n",
    "# pp = pprint.PrettyPrinter(indent=1)\n",
    "# pp.pprint(pop_results)"
   ]
  },
  {
   "cell_type": "code",
   "execution_count": null,
   "metadata": {},
   "outputs": [],
   "source": []
  }
 ],
 "metadata": {
  "kernelspec": {
   "display_name": "Python 3",
   "language": "python",
   "name": "python3"
  },
  "language_info": {
   "codemirror_mode": {
    "name": "ipython",
    "version": 3
   },
   "file_extension": ".py",
   "mimetype": "text/x-python",
   "name": "python",
   "nbconvert_exporter": "python",
   "pygments_lexer": "ipython3",
   "version": "3.7.4"
  }
 },
 "nbformat": 4,
 "nbformat_minor": 2
}
