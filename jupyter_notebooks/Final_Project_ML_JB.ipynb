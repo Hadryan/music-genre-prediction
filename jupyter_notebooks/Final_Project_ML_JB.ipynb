{
  "nbformat": 4,
  "nbformat_minor": 0,
  "metadata": {
    "colab": {
      "name": "Final_Project_ML_JB.ipynb",
      "provenance": [],
      "collapsed_sections": [
        "CqRkshkNvhE4",
        "J0ueoe05xo-P",
        "IbKnl1RgwvMm",
        "mzmcXfxs-4Ah",
        "OHRl7wsFX8YS",
        "GHE4s-oTn0Nt",
        "thGPO-y8n5gK",
        "1mnP1kesx1ht"
      ],
      "toc_visible": true
    },
    "kernelspec": {
      "name": "python3",
      "display_name": "Python 3"
    }
  },
  "cells": [
    {
      "cell_type": "markdown",
      "metadata": {
        "id": "VTVD7-Z_zdPG",
        "colab_type": "text"
      },
      "source": [
        "# Genre Dataframe - Original"
      ]
    },
    {
      "cell_type": "markdown",
      "metadata": {
        "id": "awoBnMPrzXqH",
        "colab_type": "text"
      },
      "source": [
        "## Now trying KNN\n"
      ]
    },
    {
      "cell_type": "code",
      "metadata": {
        "id": "yvYb_ue2QGMf",
        "colab_type": "code",
        "colab": {}
      },
      "source": [
        "import matplotlib.pyplot as plt\n",
        "from sklearn.neighbors import KNeighborsClassifier\n",
        "import pandas as pd\n",
        "import os"
      ],
      "execution_count": 2,
      "outputs": []
    },
    {
      "cell_type": "code",
      "metadata": {
        "id": "B8f91u0BRKo-",
        "colab_type": "code",
        "colab": {
          "base_uri": "https://localhost:8080/",
          "height": 267
        },
        "outputId": "38ea5ae0-618e-4a5d-fc1b-567e432617fe"
      },
      "source": [
        "df = pd.read_csv(os.path.join(\"spotify_df.csv\"))\n",
        "df.head()"
      ],
      "execution_count": null,
      "outputs": [
        {
          "output_type": "execute_result",
          "data": {
            "text/html": [
              "<div>\n",
              "<style scoped>\n",
              "    .dataframe tbody tr th:only-of-type {\n",
              "        vertical-align: middle;\n",
              "    }\n",
              "\n",
              "    .dataframe tbody tr th {\n",
              "        vertical-align: top;\n",
              "    }\n",
              "\n",
              "    .dataframe thead th {\n",
              "        text-align: right;\n",
              "    }\n",
              "</style>\n",
              "<table border=\"1\" class=\"dataframe\">\n",
              "  <thead>\n",
              "    <tr style=\"text-align: right;\">\n",
              "      <th></th>\n",
              "      <th>artist_name</th>\n",
              "      <th>track_name</th>\n",
              "      <th>track_id</th>\n",
              "      <th>artist_href</th>\n",
              "      <th>track_href</th>\n",
              "      <th>genre_name</th>\n",
              "      <th>danceability</th>\n",
              "      <th>energy</th>\n",
              "      <th>key</th>\n",
              "      <th>loudness</th>\n",
              "      <th>mode</th>\n",
              "      <th>speechiness</th>\n",
              "      <th>acousticness</th>\n",
              "      <th>instrumentalness</th>\n",
              "      <th>liveness</th>\n",
              "      <th>valence</th>\n",
              "      <th>tempo</th>\n",
              "      <th>duration_ms</th>\n",
              "    </tr>\n",
              "  </thead>\n",
              "  <tbody>\n",
              "    <tr>\n",
              "      <th>0</th>\n",
              "      <td>jason mraz</td>\n",
              "      <td>i'm yours</td>\n",
              "      <td>1EzrEOXmMH3G43AXT1y7pA</td>\n",
              "      <td>https://open.spotify.com/artist/4phGZZrJZRo4El...</td>\n",
              "      <td>https://open.spotify.com/track/1EzrEOXmMH3G43A...</td>\n",
              "      <td>acoustic</td>\n",
              "      <td>0.686</td>\n",
              "      <td>0.457</td>\n",
              "      <td>11</td>\n",
              "      <td>-8.322</td>\n",
              "      <td>1</td>\n",
              "      <td>0.0468</td>\n",
              "      <td>0.5950</td>\n",
              "      <td>0.0</td>\n",
              "      <td>0.1050</td>\n",
              "      <td>0.718</td>\n",
              "      <td>150.953</td>\n",
              "      <td>242187</td>\n",
              "    </tr>\n",
              "    <tr>\n",
              "      <th>1</th>\n",
              "      <td>chord overstreet</td>\n",
              "      <td>hold on</td>\n",
              "      <td>5vjLSffimiIP26QG5WcN2K</td>\n",
              "      <td>https://open.spotify.com/artist/5D3muNJhYYunbR...</td>\n",
              "      <td>https://open.spotify.com/track/5vjLSffimiIP26Q...</td>\n",
              "      <td>acoustic</td>\n",
              "      <td>0.618</td>\n",
              "      <td>0.443</td>\n",
              "      <td>2</td>\n",
              "      <td>-9.681</td>\n",
              "      <td>1</td>\n",
              "      <td>0.0526</td>\n",
              "      <td>0.4690</td>\n",
              "      <td>0.0</td>\n",
              "      <td>0.0829</td>\n",
              "      <td>0.167</td>\n",
              "      <td>119.949</td>\n",
              "      <td>198853</td>\n",
              "    </tr>\n",
              "    <tr>\n",
              "      <th>2</th>\n",
              "      <td>matt nathanson</td>\n",
              "      <td>come on get higher</td>\n",
              "      <td>38YgZVHPWOWsKrsCXz6JyP</td>\n",
              "      <td>https://open.spotify.com/artist/4NGiEU3Pkd8ASR...</td>\n",
              "      <td>https://open.spotify.com/track/38YgZVHPWOWsKrs...</td>\n",
              "      <td>acoustic</td>\n",
              "      <td>0.672</td>\n",
              "      <td>0.623</td>\n",
              "      <td>9</td>\n",
              "      <td>-5.699</td>\n",
              "      <td>1</td>\n",
              "      <td>0.0297</td>\n",
              "      <td>0.2410</td>\n",
              "      <td>0.0</td>\n",
              "      <td>0.0848</td>\n",
              "      <td>0.617</td>\n",
              "      <td>92.018</td>\n",
              "      <td>215173</td>\n",
              "    </tr>\n",
              "    <tr>\n",
              "      <th>3</th>\n",
              "      <td>sara bareilles</td>\n",
              "      <td>love song</td>\n",
              "      <td>4E6cwWJWZw2zWf7VFbH7wf</td>\n",
              "      <td>https://open.spotify.com/artist/2Sqr0DXoaYABbj...</td>\n",
              "      <td>https://open.spotify.com/track/4E6cwWJWZw2zWf7...</td>\n",
              "      <td>acoustic</td>\n",
              "      <td>0.583</td>\n",
              "      <td>0.786</td>\n",
              "      <td>2</td>\n",
              "      <td>-3.142</td>\n",
              "      <td>0</td>\n",
              "      <td>0.0301</td>\n",
              "      <td>0.0208</td>\n",
              "      <td>0.0</td>\n",
              "      <td>0.1880</td>\n",
              "      <td>0.573</td>\n",
              "      <td>123.052</td>\n",
              "      <td>258827</td>\n",
              "    </tr>\n",
              "    <tr>\n",
              "      <th>4</th>\n",
              "      <td>jason mraz</td>\n",
              "      <td>i won't give up</td>\n",
              "      <td>53QF56cjZA9RTuuMZDrSA6</td>\n",
              "      <td>https://open.spotify.com/artist/4phGZZrJZRo4El...</td>\n",
              "      <td>https://open.spotify.com/track/53QF56cjZA9RTuu...</td>\n",
              "      <td>acoustic</td>\n",
              "      <td>0.585</td>\n",
              "      <td>0.303</td>\n",
              "      <td>4</td>\n",
              "      <td>-10.058</td>\n",
              "      <td>1</td>\n",
              "      <td>0.0398</td>\n",
              "      <td>0.6940</td>\n",
              "      <td>0.0</td>\n",
              "      <td>0.1150</td>\n",
              "      <td>0.142</td>\n",
              "      <td>136.703</td>\n",
              "      <td>240166</td>\n",
              "    </tr>\n",
              "  </tbody>\n",
              "</table>\n",
              "</div>"
            ],
            "text/plain": [
              "        artist_name          track_name  ...    tempo duration_ms\n",
              "0        jason mraz           i'm yours  ...  150.953      242187\n",
              "1  chord overstreet             hold on  ...  119.949      198853\n",
              "2    matt nathanson  come on get higher  ...   92.018      215173\n",
              "3    sara bareilles           love song  ...  123.052      258827\n",
              "4        jason mraz     i won't give up  ...  136.703      240166\n",
              "\n",
              "[5 rows x 18 columns]"
            ]
          },
          "metadata": {
            "tags": []
          },
          "execution_count": 20
        }
      ]
    },
    {
      "cell_type": "code",
      "metadata": {
        "id": "yG2jQ6o6R13l",
        "colab_type": "code",
        "colab": {
          "base_uri": "https://localhost:8080/",
          "height": 197
        },
        "outputId": "fe92c3ff-77c8-432a-8acc-a17c33520dcb"
      },
      "source": [
        "ML_df = df.drop(['artist_name', 'track_name', 'track_id', 'artist_href', 'track_href'], axis=1)\n",
        "ML_df.head()"
      ],
      "execution_count": null,
      "outputs": [
        {
          "output_type": "execute_result",
          "data": {
            "text/html": [
              "<div>\n",
              "<style scoped>\n",
              "    .dataframe tbody tr th:only-of-type {\n",
              "        vertical-align: middle;\n",
              "    }\n",
              "\n",
              "    .dataframe tbody tr th {\n",
              "        vertical-align: top;\n",
              "    }\n",
              "\n",
              "    .dataframe thead th {\n",
              "        text-align: right;\n",
              "    }\n",
              "</style>\n",
              "<table border=\"1\" class=\"dataframe\">\n",
              "  <thead>\n",
              "    <tr style=\"text-align: right;\">\n",
              "      <th></th>\n",
              "      <th>genre_name</th>\n",
              "      <th>danceability</th>\n",
              "      <th>energy</th>\n",
              "      <th>key</th>\n",
              "      <th>loudness</th>\n",
              "      <th>mode</th>\n",
              "      <th>speechiness</th>\n",
              "      <th>acousticness</th>\n",
              "      <th>instrumentalness</th>\n",
              "      <th>liveness</th>\n",
              "      <th>valence</th>\n",
              "      <th>tempo</th>\n",
              "      <th>duration_ms</th>\n",
              "    </tr>\n",
              "  </thead>\n",
              "  <tbody>\n",
              "    <tr>\n",
              "      <th>0</th>\n",
              "      <td>acoustic</td>\n",
              "      <td>0.686</td>\n",
              "      <td>0.457</td>\n",
              "      <td>11</td>\n",
              "      <td>-8.322</td>\n",
              "      <td>1</td>\n",
              "      <td>0.0468</td>\n",
              "      <td>0.5950</td>\n",
              "      <td>0.0</td>\n",
              "      <td>0.1050</td>\n",
              "      <td>0.718</td>\n",
              "      <td>150.953</td>\n",
              "      <td>242187</td>\n",
              "    </tr>\n",
              "    <tr>\n",
              "      <th>1</th>\n",
              "      <td>acoustic</td>\n",
              "      <td>0.618</td>\n",
              "      <td>0.443</td>\n",
              "      <td>2</td>\n",
              "      <td>-9.681</td>\n",
              "      <td>1</td>\n",
              "      <td>0.0526</td>\n",
              "      <td>0.4690</td>\n",
              "      <td>0.0</td>\n",
              "      <td>0.0829</td>\n",
              "      <td>0.167</td>\n",
              "      <td>119.949</td>\n",
              "      <td>198853</td>\n",
              "    </tr>\n",
              "    <tr>\n",
              "      <th>2</th>\n",
              "      <td>acoustic</td>\n",
              "      <td>0.672</td>\n",
              "      <td>0.623</td>\n",
              "      <td>9</td>\n",
              "      <td>-5.699</td>\n",
              "      <td>1</td>\n",
              "      <td>0.0297</td>\n",
              "      <td>0.2410</td>\n",
              "      <td>0.0</td>\n",
              "      <td>0.0848</td>\n",
              "      <td>0.617</td>\n",
              "      <td>92.018</td>\n",
              "      <td>215173</td>\n",
              "    </tr>\n",
              "    <tr>\n",
              "      <th>3</th>\n",
              "      <td>acoustic</td>\n",
              "      <td>0.583</td>\n",
              "      <td>0.786</td>\n",
              "      <td>2</td>\n",
              "      <td>-3.142</td>\n",
              "      <td>0</td>\n",
              "      <td>0.0301</td>\n",
              "      <td>0.0208</td>\n",
              "      <td>0.0</td>\n",
              "      <td>0.1880</td>\n",
              "      <td>0.573</td>\n",
              "      <td>123.052</td>\n",
              "      <td>258827</td>\n",
              "    </tr>\n",
              "    <tr>\n",
              "      <th>4</th>\n",
              "      <td>acoustic</td>\n",
              "      <td>0.585</td>\n",
              "      <td>0.303</td>\n",
              "      <td>4</td>\n",
              "      <td>-10.058</td>\n",
              "      <td>1</td>\n",
              "      <td>0.0398</td>\n",
              "      <td>0.6940</td>\n",
              "      <td>0.0</td>\n",
              "      <td>0.1150</td>\n",
              "      <td>0.142</td>\n",
              "      <td>136.703</td>\n",
              "      <td>240166</td>\n",
              "    </tr>\n",
              "  </tbody>\n",
              "</table>\n",
              "</div>"
            ],
            "text/plain": [
              "  genre_name  danceability  energy  ...  valence    tempo  duration_ms\n",
              "0   acoustic         0.686   0.457  ...    0.718  150.953       242187\n",
              "1   acoustic         0.618   0.443  ...    0.167  119.949       198853\n",
              "2   acoustic         0.672   0.623  ...    0.617   92.018       215173\n",
              "3   acoustic         0.583   0.786  ...    0.573  123.052       258827\n",
              "4   acoustic         0.585   0.303  ...    0.142  136.703       240166\n",
              "\n",
              "[5 rows x 13 columns]"
            ]
          },
          "metadata": {
            "tags": []
          },
          "execution_count": 21
        }
      ]
    },
    {
      "cell_type": "code",
      "metadata": {
        "id": "c-hNmZBTRR9k",
        "colab_type": "code",
        "colab": {}
      },
      "source": [
        "y = ML_df[\"genre_name\"]"
      ],
      "execution_count": null,
      "outputs": []
    },
    {
      "cell_type": "code",
      "metadata": {
        "id": "EEYOI4IxRrQm",
        "colab_type": "code",
        "colab": {
          "base_uri": "https://localhost:8080/",
          "height": 197
        },
        "outputId": "56529fd8-8304-47e3-d479-684bc9c5f813"
      },
      "source": [
        "X = ML_df.drop(\"genre_name\", axis=1)\n",
        "X.head()"
      ],
      "execution_count": null,
      "outputs": [
        {
          "output_type": "execute_result",
          "data": {
            "text/html": [
              "<div>\n",
              "<style scoped>\n",
              "    .dataframe tbody tr th:only-of-type {\n",
              "        vertical-align: middle;\n",
              "    }\n",
              "\n",
              "    .dataframe tbody tr th {\n",
              "        vertical-align: top;\n",
              "    }\n",
              "\n",
              "    .dataframe thead th {\n",
              "        text-align: right;\n",
              "    }\n",
              "</style>\n",
              "<table border=\"1\" class=\"dataframe\">\n",
              "  <thead>\n",
              "    <tr style=\"text-align: right;\">\n",
              "      <th></th>\n",
              "      <th>danceability</th>\n",
              "      <th>energy</th>\n",
              "      <th>key</th>\n",
              "      <th>loudness</th>\n",
              "      <th>mode</th>\n",
              "      <th>speechiness</th>\n",
              "      <th>acousticness</th>\n",
              "      <th>instrumentalness</th>\n",
              "      <th>liveness</th>\n",
              "      <th>valence</th>\n",
              "      <th>tempo</th>\n",
              "      <th>duration_ms</th>\n",
              "    </tr>\n",
              "  </thead>\n",
              "  <tbody>\n",
              "    <tr>\n",
              "      <th>0</th>\n",
              "      <td>0.686</td>\n",
              "      <td>0.457</td>\n",
              "      <td>11</td>\n",
              "      <td>-8.322</td>\n",
              "      <td>1</td>\n",
              "      <td>0.0468</td>\n",
              "      <td>0.5950</td>\n",
              "      <td>0.0</td>\n",
              "      <td>0.1050</td>\n",
              "      <td>0.718</td>\n",
              "      <td>150.953</td>\n",
              "      <td>242187</td>\n",
              "    </tr>\n",
              "    <tr>\n",
              "      <th>1</th>\n",
              "      <td>0.618</td>\n",
              "      <td>0.443</td>\n",
              "      <td>2</td>\n",
              "      <td>-9.681</td>\n",
              "      <td>1</td>\n",
              "      <td>0.0526</td>\n",
              "      <td>0.4690</td>\n",
              "      <td>0.0</td>\n",
              "      <td>0.0829</td>\n",
              "      <td>0.167</td>\n",
              "      <td>119.949</td>\n",
              "      <td>198853</td>\n",
              "    </tr>\n",
              "    <tr>\n",
              "      <th>2</th>\n",
              "      <td>0.672</td>\n",
              "      <td>0.623</td>\n",
              "      <td>9</td>\n",
              "      <td>-5.699</td>\n",
              "      <td>1</td>\n",
              "      <td>0.0297</td>\n",
              "      <td>0.2410</td>\n",
              "      <td>0.0</td>\n",
              "      <td>0.0848</td>\n",
              "      <td>0.617</td>\n",
              "      <td>92.018</td>\n",
              "      <td>215173</td>\n",
              "    </tr>\n",
              "    <tr>\n",
              "      <th>3</th>\n",
              "      <td>0.583</td>\n",
              "      <td>0.786</td>\n",
              "      <td>2</td>\n",
              "      <td>-3.142</td>\n",
              "      <td>0</td>\n",
              "      <td>0.0301</td>\n",
              "      <td>0.0208</td>\n",
              "      <td>0.0</td>\n",
              "      <td>0.1880</td>\n",
              "      <td>0.573</td>\n",
              "      <td>123.052</td>\n",
              "      <td>258827</td>\n",
              "    </tr>\n",
              "    <tr>\n",
              "      <th>4</th>\n",
              "      <td>0.585</td>\n",
              "      <td>0.303</td>\n",
              "      <td>4</td>\n",
              "      <td>-10.058</td>\n",
              "      <td>1</td>\n",
              "      <td>0.0398</td>\n",
              "      <td>0.6940</td>\n",
              "      <td>0.0</td>\n",
              "      <td>0.1150</td>\n",
              "      <td>0.142</td>\n",
              "      <td>136.703</td>\n",
              "      <td>240166</td>\n",
              "    </tr>\n",
              "  </tbody>\n",
              "</table>\n",
              "</div>"
            ],
            "text/plain": [
              "   danceability  energy  key  loudness  ...  liveness  valence    tempo  duration_ms\n",
              "0         0.686   0.457   11    -8.322  ...    0.1050    0.718  150.953       242187\n",
              "1         0.618   0.443    2    -9.681  ...    0.0829    0.167  119.949       198853\n",
              "2         0.672   0.623    9    -5.699  ...    0.0848    0.617   92.018       215173\n",
              "3         0.583   0.786    2    -3.142  ...    0.1880    0.573  123.052       258827\n",
              "4         0.585   0.303    4   -10.058  ...    0.1150    0.142  136.703       240166\n",
              "\n",
              "[5 rows x 12 columns]"
            ]
          },
          "metadata": {
            "tags": []
          },
          "execution_count": 23
        }
      ]
    },
    {
      "cell_type": "code",
      "metadata": {
        "id": "mZnGHyseR1CX",
        "colab_type": "code",
        "colab": {}
      },
      "source": [
        "from sklearn.model_selection import train_test_split\n",
        "X_train, X_test, y_train, y_test = train_test_split(X, y)"
      ],
      "execution_count": null,
      "outputs": []
    },
    {
      "cell_type": "markdown",
      "metadata": {
        "id": "-adDp5hvdlbw",
        "colab_type": "text"
      },
      "source": [
        "### Baseline Accuracy"
      ]
    },
    {
      "cell_type": "code",
      "metadata": {
        "id": "cJ3DI-erc_8O",
        "colab_type": "code",
        "colab": {
          "base_uri": "https://localhost:8080/",
          "height": 70
        },
        "outputId": "3b6a7412-57a5-4748-f1ed-fce8a4a53f19"
      },
      "source": [
        "dummy_clf = DummyClassifier()\n",
        "dummy_clf.fit(X_train, y_train)"
      ],
      "execution_count": null,
      "outputs": [
        {
          "output_type": "stream",
          "text": [
            "/usr/local/lib/python3.6/dist-packages/sklearn/dummy.py:132: FutureWarning: The default value of strategy will change from stratified to prior in 0.24.\n",
            "  \"stratified to prior in 0.24.\", FutureWarning)\n"
          ],
          "name": "stderr"
        },
        {
          "output_type": "execute_result",
          "data": {
            "text/plain": [
              "DummyClassifier(constant=None, random_state=None, strategy='warn')"
            ]
          },
          "metadata": {
            "tags": []
          },
          "execution_count": 26
        }
      ]
    },
    {
      "cell_type": "code",
      "metadata": {
        "id": "QMUUEppsdAO9",
        "colab_type": "code",
        "colab": {
          "base_uri": "https://localhost:8080/",
          "height": 34
        },
        "outputId": "1ad16da1-7c3c-4768-c380-19dc471c9155"
      },
      "source": [
        "y_pred = dummy_clf.predict(X_test)\n",
        "print(y_pred)"
      ],
      "execution_count": null,
      "outputs": [
        {
          "output_type": "stream",
          "text": [
            "['synth-pop' 'folk' 'comedy' ... 'spanish' 'drum-and-bass' 'afrobeat']\n"
          ],
          "name": "stdout"
        }
      ]
    },
    {
      "cell_type": "code",
      "metadata": {
        "id": "588bctWlc_zr",
        "colab_type": "code",
        "colab": {
          "base_uri": "https://localhost:8080/",
          "height": 34
        },
        "outputId": "6784b5b6-0034-49ff-87e8-9426740dd3e0"
      },
      "source": [
        "dummy_score = dummy_clf.score(X_test, y_test)\n",
        "print(dummy_score)"
      ],
      "execution_count": null,
      "outputs": [
        {
          "output_type": "stream",
          "text": [
            "0.010833217221680368\n"
          ],
          "name": "stdout"
        }
      ]
    },
    {
      "cell_type": "code",
      "metadata": {
        "id": "nEV-ftNYSqGS",
        "colab_type": "code",
        "colab": {
          "base_uri": "https://localhost:8080/",
          "height": 449
        },
        "outputId": "44ddce97-0997-437f-f93d-cedc7edf908e"
      },
      "source": [
        "train_scores = []\n",
        "test_scores = []\n",
        "for k in range(1, 20, 2):\n",
        "    knn = KNeighborsClassifier(n_neighbors=k)\n",
        "    knn.fit(X_train, y_train)\n",
        "    train_score = knn.score(X_train, y_train)\n",
        "    test_score = knn.score(X_test, y_test)\n",
        "    all_score = train_score + test_score\n",
        "    train_scores.append(train_score)\n",
        "    test_scores.append(test_score)\n",
        "    print(f\"k: {k}, Train/Test Score: {train_score:.3f}/{test_score:.3f}, {all_score:.3f}\")\n",
        "    \n",
        "    \n",
        "plt.plot(range(1, 20, 2), train_scores, marker='o')\n",
        "plt.plot(range(1, 20, 2), test_scores, marker=\"x\")\n",
        "plt.xlabel(\"k neighbors\")\n",
        "plt.ylabel(\"Testing accuracy Score\")\n",
        "plt.show()"
      ],
      "execution_count": null,
      "outputs": [
        {
          "output_type": "stream",
          "text": [
            "k: 1, Train/Test Score: 1.000/0.108, 1.107\n",
            "k: 3, Train/Test Score: 0.421/0.099, 0.520\n",
            "k: 5, Train/Test Score: 0.329/0.105, 0.434\n",
            "k: 7, Train/Test Score: 0.291/0.110, 0.401\n",
            "k: 9, Train/Test Score: 0.269/0.114, 0.383\n",
            "k: 11, Train/Test Score: 0.255/0.115, 0.370\n",
            "k: 13, Train/Test Score: 0.243/0.116, 0.358\n",
            "k: 15, Train/Test Score: 0.232/0.115, 0.347\n",
            "k: 17, Train/Test Score: 0.223/0.115, 0.338\n",
            "k: 19, Train/Test Score: 0.217/0.114, 0.331\n"
          ],
          "name": "stdout"
        },
        {
          "output_type": "display_data",
          "data": {
            "image/png": "[encoded data removed]",
            "text/plain": [
              "<Figure size 432x288 with 1 Axes>"
            ]
          },
          "metadata": {
            "tags": [],
            "needs_background": "light"
          }
        }
      ]
    },
    {
      "cell_type": "markdown",
      "metadata": {
        "id": "0-AWLZcJzsr3",
        "colab_type": "text"
      },
      "source": [
        "## Now trying SGD - Classifier"
      ]
    },
    {
      "cell_type": "code",
      "metadata": {
        "id": "klr70cyLSzr9",
        "colab_type": "code",
        "colab": {}
      },
      "source": [
        "import matplotlib.pyplot as plt\n",
        "from sklearn.neighbors import KNeighborsClassifier\n",
        "import pandas as pd\n",
        "import numpy as np\n",
        "import os"
      ],
      "execution_count": null,
      "outputs": []
    },
    {
      "cell_type": "code",
      "metadata": {
        "id": "L9ItQG-DVLsR",
        "colab_type": "code",
        "colab": {}
      },
      "source": [
        "X = ML_df[\"genre_name\"]"
      ],
      "execution_count": null,
      "outputs": []
    },
    {
      "cell_type": "code",
      "metadata": {
        "id": "r1Iw7tqXVoOG",
        "colab_type": "code",
        "colab": {}
      },
      "source": [
        "y = ML_df.drop(\"genre_name\", axis=1)"
      ],
      "execution_count": null,
      "outputs": []
    },
    {
      "cell_type": "code",
      "metadata": {
        "id": "VWjaTgSSuUvu",
        "colab_type": "code",
        "colab": {}
      },
      "source": [
        "import numpy as np\n",
        "from sklearn.linear_model import SGDClassifier\n",
        "from sklearn.preprocessing import StandardScaler\n",
        "from sklearn.pipeline import make_pipeline"
      ],
      "execution_count": null,
      "outputs": []
    },
    {
      "cell_type": "code",
      "metadata": {
        "id": "I7xgcdDuuj1S",
        "colab_type": "code",
        "colab": {}
      },
      "source": [
        "from sklearn.model_selection import train_test_split\n",
        "X_train, X_test, y_train, y_test = train_test_split(X, y)"
      ],
      "execution_count": null,
      "outputs": []
    },
    {
      "cell_type": "code",
      "metadata": {
        "id": "vQcus92nup5N",
        "colab_type": "code",
        "colab": {}
      },
      "source": [
        "# Always scale the input. The most convenient way is to use a pipeline.\n",
        "# clf = make_pipeline(StandardScaler(), SGDClassifier(max_iter=1000, tol=1e-3))\n",
        "# clf.fit(X, y)\n",
        "# Pipeline(steps=[('standardscaler', StandardScaler()),\n",
        "#                 ('sgdclassifier', SGDClassifier())])\n",
        "# print(clf.predict([[-0.8, -1]]))"
      ],
      "execution_count": null,
      "outputs": []
    },
    {
      "cell_type": "code",
      "metadata": {
        "id": "EyOCh5fgz6ll",
        "colab_type": "code",
        "colab": {}
      },
      "source": [
        "%matplotlib inline\n",
        "import matplotlib.pyplot as plt\n",
        "import numpy as np\n",
        "import pandas as pd"
      ],
      "execution_count": null,
      "outputs": []
    },
    {
      "cell_type": "code",
      "metadata": {
        "id": "07Q7gFNx0y9q",
        "colab_type": "code",
        "colab": {
          "base_uri": "https://localhost:8080/",
          "height": 450
        },
        "outputId": "654c154a-64f0-4915-bd51-ea7ececb5e0f"
      },
      "source": [
        "by_genre = df.groupby(\"genre_name\")[\"track_name\"].count()\n",
        "by_genre = pd.DataFrame(by_genre)\n",
        "by_genre"
      ],
      "execution_count": null,
      "outputs": [
        {
          "output_type": "execute_result",
          "data": {
            "text/html": [
              "<div>\n",
              "<style scoped>\n",
              "    .dataframe tbody tr th:only-of-type {\n",
              "        vertical-align: middle;\n",
              "    }\n",
              "\n",
              "    .dataframe tbody tr th {\n",
              "        vertical-align: top;\n",
              "    }\n",
              "\n",
              "    .dataframe thead th {\n",
              "        text-align: right;\n",
              "    }\n",
              "</style>\n",
              "<table border=\"1\" class=\"dataframe\">\n",
              "  <thead>\n",
              "    <tr style=\"text-align: right;\">\n",
              "      <th></th>\n",
              "      <th>track_name</th>\n",
              "    </tr>\n",
              "    <tr>\n",
              "      <th>genre_name</th>\n",
              "      <th></th>\n",
              "    </tr>\n",
              "  </thead>\n",
              "  <tbody>\n",
              "    <tr>\n",
              "      <th>acoustic</th>\n",
              "      <td>1424</td>\n",
              "    </tr>\n",
              "    <tr>\n",
              "      <th>afrobeat</th>\n",
              "      <td>1448</td>\n",
              "    </tr>\n",
              "    <tr>\n",
              "      <th>alt-rock</th>\n",
              "      <td>1427</td>\n",
              "    </tr>\n",
              "    <tr>\n",
              "      <th>alternative</th>\n",
              "      <td>602</td>\n",
              "    </tr>\n",
              "    <tr>\n",
              "      <th>ambient</th>\n",
              "      <td>1423</td>\n",
              "    </tr>\n",
              "    <tr>\n",
              "      <th>...</th>\n",
              "      <td>...</td>\n",
              "    </tr>\n",
              "    <tr>\n",
              "      <th>techno</th>\n",
              "      <td>586</td>\n",
              "    </tr>\n",
              "    <tr>\n",
              "      <th>trance</th>\n",
              "      <td>782</td>\n",
              "    </tr>\n",
              "    <tr>\n",
              "      <th>trip-hop</th>\n",
              "      <td>1106</td>\n",
              "    </tr>\n",
              "    <tr>\n",
              "      <th>turkish</th>\n",
              "      <td>1463</td>\n",
              "    </tr>\n",
              "    <tr>\n",
              "      <th>world-music</th>\n",
              "      <td>1107</td>\n",
              "    </tr>\n",
              "  </tbody>\n",
              "</table>\n",
              "<p>111 rows × 1 columns</p>\n",
              "</div>"
            ],
            "text/plain": [
              "             track_name\n",
              "genre_name             \n",
              "acoustic           1424\n",
              "afrobeat           1448\n",
              "alt-rock           1427\n",
              "alternative         602\n",
              "ambient            1423\n",
              "...                 ...\n",
              "techno              586\n",
              "trance              782\n",
              "trip-hop           1106\n",
              "turkish            1463\n",
              "world-music        1107\n",
              "\n",
              "[111 rows x 1 columns]"
            ]
          },
          "metadata": {
            "tags": []
          },
          "execution_count": 32
        }
      ]
    },
    {
      "cell_type": "code",
      "metadata": {
        "id": "yCX25zbx0BFN",
        "colab_type": "code",
        "colab": {}
      },
      "source": [
        "# Assign the data to X and y\t\t\t\t\t\t\t\t\n",
        "# X = df[[\"danceability\", \"energy\", \"key\", \"loudness\", \"mode\", \"speechiness\", \"acousticness\", \"instrumentalness\", \"liveness\", \"valence\", \"tempo\", \"duration_ms\"]]\n",
        "# y = df[\"genre\"].values.reshape(-1, 1)\n",
        "# print(X.shape, y.shape)"
      ],
      "execution_count": null,
      "outputs": []
    },
    {
      "cell_type": "markdown",
      "metadata": {
        "id": "DUrqJaPT2twn",
        "colab_type": "text"
      },
      "source": [
        "## Now trying Several Linear Models"
      ]
    },
    {
      "cell_type": "code",
      "metadata": {
        "id": "8igKI2O92vEt",
        "colab_type": "code",
        "colab": {
          "base_uri": "https://localhost:8080/",
          "height": 241
        },
        "outputId": "a9c51acb-9cbe-402c-b4c9-b31efee64526"
      },
      "source": [
        "# Use Pandas get_dummies to convert categorical data\n",
        "\n",
        "### BEGIN SOLUTION\n",
        "genre = pd.get_dummies(ML_df)\n",
        "genre.head()\n",
        "### END SOLUTION"
      ],
      "execution_count": null,
      "outputs": [
        {
          "output_type": "execute_result",
          "data": {
            "text/html": [
              "<div>\n",
              "<style scoped>\n",
              "    .dataframe tbody tr th:only-of-type {\n",
              "        vertical-align: middle;\n",
              "    }\n",
              "\n",
              "    .dataframe tbody tr th {\n",
              "        vertical-align: top;\n",
              "    }\n",
              "\n",
              "    .dataframe thead th {\n",
              "        text-align: right;\n",
              "    }\n",
              "</style>\n",
              "<table border=\"1\" class=\"dataframe\">\n",
              "  <thead>\n",
              "    <tr style=\"text-align: right;\">\n",
              "      <th></th>\n",
              "      <th>danceability</th>\n",
              "      <th>energy</th>\n",
              "      <th>key</th>\n",
              "      <th>loudness</th>\n",
              "      <th>mode</th>\n",
              "      <th>speechiness</th>\n",
              "      <th>acousticness</th>\n",
              "      <th>instrumentalness</th>\n",
              "      <th>liveness</th>\n",
              "      <th>valence</th>\n",
              "      <th>tempo</th>\n",
              "      <th>duration_ms</th>\n",
              "      <th>genre_name_acoustic</th>\n",
              "      <th>genre_name_afrobeat</th>\n",
              "      <th>genre_name_alt-rock</th>\n",
              "      <th>genre_name_ambient</th>\n",
              "      <th>genre_name_anime</th>\n",
              "      <th>genre_name_black-metal</th>\n",
              "      <th>genre_name_bluegrass</th>\n",
              "      <th>genre_name_chicago-house</th>\n",
              "      <th>genre_name_chill</th>\n",
              "      <th>genre_name_comedy</th>\n",
              "      <th>genre_name_dancehall</th>\n",
              "      <th>genre_name_deep-house</th>\n",
              "      <th>genre_name_emo</th>\n",
              "      <th>genre_name_forro</th>\n",
              "      <th>genre_name_grindcore</th>\n",
              "      <th>genre_name_heavy-metal</th>\n",
              "      <th>genre_name_idm</th>\n",
              "      <th>genre_name_indian</th>\n",
              "      <th>genre_name_malay</th>\n",
              "      <th>genre_name_turkish</th>\n",
              "    </tr>\n",
              "  </thead>\n",
              "  <tbody>\n",
              "    <tr>\n",
              "      <th>0</th>\n",
              "      <td>0.755</td>\n",
              "      <td>0.599</td>\n",
              "      <td>8</td>\n",
              "      <td>-5.042</td>\n",
              "      <td>1</td>\n",
              "      <td>0.2240</td>\n",
              "      <td>0.147</td>\n",
              "      <td>0.000000</td>\n",
              "      <td>0.109</td>\n",
              "      <td>0.755</td>\n",
              "      <td>133.123</td>\n",
              "      <td>216632</td>\n",
              "      <td>0</td>\n",
              "      <td>0</td>\n",
              "      <td>0</td>\n",
              "      <td>0</td>\n",
              "      <td>0</td>\n",
              "      <td>0</td>\n",
              "      <td>0</td>\n",
              "      <td>0</td>\n",
              "      <td>0</td>\n",
              "      <td>1</td>\n",
              "      <td>0</td>\n",
              "      <td>0</td>\n",
              "      <td>0</td>\n",
              "      <td>0</td>\n",
              "      <td>0</td>\n",
              "      <td>0</td>\n",
              "      <td>0</td>\n",
              "      <td>0</td>\n",
              "      <td>0</td>\n",
              "      <td>0</td>\n",
              "    </tr>\n",
              "    <tr>\n",
              "      <th>1</th>\n",
              "      <td>0.927</td>\n",
              "      <td>0.367</td>\n",
              "      <td>9</td>\n",
              "      <td>-7.797</td>\n",
              "      <td>1</td>\n",
              "      <td>0.3820</td>\n",
              "      <td>0.325</td>\n",
              "      <td>0.000000</td>\n",
              "      <td>0.132</td>\n",
              "      <td>0.576</td>\n",
              "      <td>99.053</td>\n",
              "      <td>328667</td>\n",
              "      <td>0</td>\n",
              "      <td>0</td>\n",
              "      <td>0</td>\n",
              "      <td>0</td>\n",
              "      <td>0</td>\n",
              "      <td>0</td>\n",
              "      <td>0</td>\n",
              "      <td>0</td>\n",
              "      <td>0</td>\n",
              "      <td>1</td>\n",
              "      <td>0</td>\n",
              "      <td>0</td>\n",
              "      <td>0</td>\n",
              "      <td>0</td>\n",
              "      <td>0</td>\n",
              "      <td>0</td>\n",
              "      <td>0</td>\n",
              "      <td>0</td>\n",
              "      <td>0</td>\n",
              "      <td>0</td>\n",
              "    </tr>\n",
              "    <tr>\n",
              "      <th>2</th>\n",
              "      <td>0.831</td>\n",
              "      <td>0.514</td>\n",
              "      <td>7</td>\n",
              "      <td>-6.695</td>\n",
              "      <td>1</td>\n",
              "      <td>0.0368</td>\n",
              "      <td>0.203</td>\n",
              "      <td>0.000156</td>\n",
              "      <td>0.115</td>\n",
              "      <td>0.397</td>\n",
              "      <td>114.940</td>\n",
              "      <td>244340</td>\n",
              "      <td>0</td>\n",
              "      <td>0</td>\n",
              "      <td>0</td>\n",
              "      <td>0</td>\n",
              "      <td>0</td>\n",
              "      <td>0</td>\n",
              "      <td>0</td>\n",
              "      <td>0</td>\n",
              "      <td>0</td>\n",
              "      <td>1</td>\n",
              "      <td>0</td>\n",
              "      <td>0</td>\n",
              "      <td>0</td>\n",
              "      <td>0</td>\n",
              "      <td>0</td>\n",
              "      <td>0</td>\n",
              "      <td>0</td>\n",
              "      <td>0</td>\n",
              "      <td>0</td>\n",
              "      <td>0</td>\n",
              "    </tr>\n",
              "    <tr>\n",
              "      <th>3</th>\n",
              "      <td>0.858</td>\n",
              "      <td>0.697</td>\n",
              "      <td>2</td>\n",
              "      <td>-5.361</td>\n",
              "      <td>1</td>\n",
              "      <td>0.2300</td>\n",
              "      <td>0.114</td>\n",
              "      <td>0.000000</td>\n",
              "      <td>0.224</td>\n",
              "      <td>0.364</td>\n",
              "      <td>98.012</td>\n",
              "      <td>290836</td>\n",
              "      <td>0</td>\n",
              "      <td>0</td>\n",
              "      <td>0</td>\n",
              "      <td>0</td>\n",
              "      <td>0</td>\n",
              "      <td>0</td>\n",
              "      <td>0</td>\n",
              "      <td>0</td>\n",
              "      <td>0</td>\n",
              "      <td>1</td>\n",
              "      <td>0</td>\n",
              "      <td>0</td>\n",
              "      <td>0</td>\n",
              "      <td>0</td>\n",
              "      <td>0</td>\n",
              "      <td>0</td>\n",
              "      <td>0</td>\n",
              "      <td>0</td>\n",
              "      <td>0</td>\n",
              "      <td>0</td>\n",
              "    </tr>\n",
              "    <tr>\n",
              "      <th>4</th>\n",
              "      <td>0.685</td>\n",
              "      <td>0.621</td>\n",
              "      <td>11</td>\n",
              "      <td>-8.442</td>\n",
              "      <td>0</td>\n",
              "      <td>0.3610</td>\n",
              "      <td>0.433</td>\n",
              "      <td>0.000000</td>\n",
              "      <td>0.607</td>\n",
              "      <td>0.538</td>\n",
              "      <td>128.906</td>\n",
              "      <td>353960</td>\n",
              "      <td>0</td>\n",
              "      <td>0</td>\n",
              "      <td>0</td>\n",
              "      <td>0</td>\n",
              "      <td>0</td>\n",
              "      <td>0</td>\n",
              "      <td>0</td>\n",
              "      <td>0</td>\n",
              "      <td>0</td>\n",
              "      <td>1</td>\n",
              "      <td>0</td>\n",
              "      <td>0</td>\n",
              "      <td>0</td>\n",
              "      <td>0</td>\n",
              "      <td>0</td>\n",
              "      <td>0</td>\n",
              "      <td>0</td>\n",
              "      <td>0</td>\n",
              "      <td>0</td>\n",
              "      <td>0</td>\n",
              "    </tr>\n",
              "  </tbody>\n",
              "</table>\n",
              "</div>"
            ],
            "text/plain": [
              "   danceability  energy  ...  genre_name_malay  genre_name_turkish\n",
              "0         0.755   0.599  ...                 0                   0\n",
              "1         0.927   0.367  ...                 0                   0\n",
              "2         0.831   0.514  ...                 0                   0\n",
              "3         0.858   0.697  ...                 0                   0\n",
              "4         0.685   0.621  ...                 0                   0\n",
              "\n",
              "[5 rows x 32 columns]"
            ]
          },
          "metadata": {
            "tags": []
          },
          "execution_count": 525
        }
      ]
    },
    {
      "cell_type": "code",
      "metadata": {
        "id": "dkw9IR1r3LRk",
        "colab_type": "code",
        "colab": {
          "base_uri": "https://localhost:8080/",
          "height": 698
        },
        "outputId": "2e9f910f-fc9a-4ab2-ef60-f2f64acd8a6b"
      },
      "source": [
        "X = genre[[\"danceability\"]]\n",
        "y = y = genre[\"genre_name_dance\"].values.reshape(-1, 1)\n",
        "print(X.shape, y.shape)"
      ],
      "execution_count": null,
      "outputs": [
        {
          "output_type": "error",
          "ename": "KeyError",
          "evalue": "ignored",
          "traceback": [
            "\u001b[0;31m---------------------------------------------------------------------------\u001b[0m",
            "\u001b[0;31mKeyError\u001b[0m                                  Traceback (most recent call last)",
            "\u001b[0;32m/usr/local/lib/python3.6/dist-packages/pandas/core/indexes/base.py\u001b[0m in \u001b[0;36mget_loc\u001b[0;34m(self, key, method, tolerance)\u001b[0m\n\u001b[1;32m   2645\u001b[0m             \u001b[0;32mtry\u001b[0m\u001b[0;34m:\u001b[0m\u001b[0;34m\u001b[0m\u001b[0;34m\u001b[0m\u001b[0m\n\u001b[0;32m-> 2646\u001b[0;31m                 \u001b[0;32mreturn\u001b[0m \u001b[0mself\u001b[0m\u001b[0;34m.\u001b[0m\u001b[0m_engine\u001b[0m\u001b[0;34m.\u001b[0m\u001b[0mget_loc\u001b[0m\u001b[0;34m(\u001b[0m\u001b[0mkey\u001b[0m\u001b[0;34m)\u001b[0m\u001b[0;34m\u001b[0m\u001b[0;34m\u001b[0m\u001b[0m\n\u001b[0m\u001b[1;32m   2647\u001b[0m             \u001b[0;32mexcept\u001b[0m \u001b[0mKeyError\u001b[0m\u001b[0;34m:\u001b[0m\u001b[0;34m\u001b[0m\u001b[0;34m\u001b[0m\u001b[0m\n",
            "\u001b[0;32mpandas/_libs/index.pyx\u001b[0m in \u001b[0;36mpandas._libs.index.IndexEngine.get_loc\u001b[0;34m()\u001b[0m\n",
            "\u001b[0;32mpandas/_libs/index.pyx\u001b[0m in \u001b[0;36mpandas._libs.index.IndexEngine.get_loc\u001b[0;34m()\u001b[0m\n",
            "\u001b[0;32mpandas/_libs/hashtable_class_helper.pxi\u001b[0m in \u001b[0;36mpandas._libs.hashtable.PyObjectHashTable.get_item\u001b[0;34m()\u001b[0m\n",
            "\u001b[0;32mpandas/_libs/hashtable_class_helper.pxi\u001b[0m in \u001b[0;36mpandas._libs.hashtable.PyObjectHashTable.get_item\u001b[0;34m()\u001b[0m\n",
            "\u001b[0;31mKeyError\u001b[0m: 'genre_name_dance'",
            "\nDuring handling of the above exception, another exception occurred:\n",
            "\u001b[0;31mKeyError\u001b[0m                                  Traceback (most recent call last)",
            "\u001b[0;32m<ipython-input-526-e6f53c45d531>\u001b[0m in \u001b[0;36m<module>\u001b[0;34m()\u001b[0m\n\u001b[1;32m      1\u001b[0m \u001b[0mX\u001b[0m \u001b[0;34m=\u001b[0m \u001b[0mgenre\u001b[0m\u001b[0;34m[\u001b[0m\u001b[0;34m[\u001b[0m\u001b[0;34m\"danceability\"\u001b[0m\u001b[0;34m]\u001b[0m\u001b[0;34m]\u001b[0m\u001b[0;34m\u001b[0m\u001b[0;34m\u001b[0m\u001b[0m\n\u001b[0;32m----> 2\u001b[0;31m \u001b[0my\u001b[0m \u001b[0;34m=\u001b[0m \u001b[0my\u001b[0m \u001b[0;34m=\u001b[0m \u001b[0mgenre\u001b[0m\u001b[0;34m[\u001b[0m\u001b[0;34m\"genre_name_dance\"\u001b[0m\u001b[0;34m]\u001b[0m\u001b[0;34m.\u001b[0m\u001b[0mvalues\u001b[0m\u001b[0;34m.\u001b[0m\u001b[0mreshape\u001b[0m\u001b[0;34m(\u001b[0m\u001b[0;34m-\u001b[0m\u001b[0;36m1\u001b[0m\u001b[0;34m,\u001b[0m \u001b[0;36m1\u001b[0m\u001b[0;34m)\u001b[0m\u001b[0;34m\u001b[0m\u001b[0;34m\u001b[0m\u001b[0m\n\u001b[0m\u001b[1;32m      3\u001b[0m \u001b[0mprint\u001b[0m\u001b[0;34m(\u001b[0m\u001b[0mX\u001b[0m\u001b[0;34m.\u001b[0m\u001b[0mshape\u001b[0m\u001b[0;34m,\u001b[0m \u001b[0my\u001b[0m\u001b[0;34m.\u001b[0m\u001b[0mshape\u001b[0m\u001b[0;34m)\u001b[0m\u001b[0;34m\u001b[0m\u001b[0;34m\u001b[0m\u001b[0m\n",
            "\u001b[0;32m/usr/local/lib/python3.6/dist-packages/pandas/core/frame.py\u001b[0m in \u001b[0;36m__getitem__\u001b[0;34m(self, key)\u001b[0m\n\u001b[1;32m   2798\u001b[0m             \u001b[0;32mif\u001b[0m \u001b[0mself\u001b[0m\u001b[0;34m.\u001b[0m\u001b[0mcolumns\u001b[0m\u001b[0;34m.\u001b[0m\u001b[0mnlevels\u001b[0m \u001b[0;34m>\u001b[0m \u001b[0;36m1\u001b[0m\u001b[0;34m:\u001b[0m\u001b[0;34m\u001b[0m\u001b[0;34m\u001b[0m\u001b[0m\n\u001b[1;32m   2799\u001b[0m                 \u001b[0;32mreturn\u001b[0m \u001b[0mself\u001b[0m\u001b[0;34m.\u001b[0m\u001b[0m_getitem_multilevel\u001b[0m\u001b[0;34m(\u001b[0m\u001b[0mkey\u001b[0m\u001b[0;34m)\u001b[0m\u001b[0;34m\u001b[0m\u001b[0;34m\u001b[0m\u001b[0m\n\u001b[0;32m-> 2800\u001b[0;31m             \u001b[0mindexer\u001b[0m \u001b[0;34m=\u001b[0m \u001b[0mself\u001b[0m\u001b[0;34m.\u001b[0m\u001b[0mcolumns\u001b[0m\u001b[0;34m.\u001b[0m\u001b[0mget_loc\u001b[0m\u001b[0;34m(\u001b[0m\u001b[0mkey\u001b[0m\u001b[0;34m)\u001b[0m\u001b[0;34m\u001b[0m\u001b[0;34m\u001b[0m\u001b[0m\n\u001b[0m\u001b[1;32m   2801\u001b[0m             \u001b[0;32mif\u001b[0m \u001b[0mis_integer\u001b[0m\u001b[0;34m(\u001b[0m\u001b[0mindexer\u001b[0m\u001b[0;34m)\u001b[0m\u001b[0;34m:\u001b[0m\u001b[0;34m\u001b[0m\u001b[0;34m\u001b[0m\u001b[0m\n\u001b[1;32m   2802\u001b[0m                 \u001b[0mindexer\u001b[0m \u001b[0;34m=\u001b[0m \u001b[0;34m[\u001b[0m\u001b[0mindexer\u001b[0m\u001b[0;34m]\u001b[0m\u001b[0;34m\u001b[0m\u001b[0;34m\u001b[0m\u001b[0m\n",
            "\u001b[0;32m/usr/local/lib/python3.6/dist-packages/pandas/core/indexes/base.py\u001b[0m in \u001b[0;36mget_loc\u001b[0;34m(self, key, method, tolerance)\u001b[0m\n\u001b[1;32m   2646\u001b[0m                 \u001b[0;32mreturn\u001b[0m \u001b[0mself\u001b[0m\u001b[0;34m.\u001b[0m\u001b[0m_engine\u001b[0m\u001b[0;34m.\u001b[0m\u001b[0mget_loc\u001b[0m\u001b[0;34m(\u001b[0m\u001b[0mkey\u001b[0m\u001b[0;34m)\u001b[0m\u001b[0;34m\u001b[0m\u001b[0;34m\u001b[0m\u001b[0m\n\u001b[1;32m   2647\u001b[0m             \u001b[0;32mexcept\u001b[0m \u001b[0mKeyError\u001b[0m\u001b[0;34m:\u001b[0m\u001b[0;34m\u001b[0m\u001b[0;34m\u001b[0m\u001b[0m\n\u001b[0;32m-> 2648\u001b[0;31m                 \u001b[0;32mreturn\u001b[0m \u001b[0mself\u001b[0m\u001b[0;34m.\u001b[0m\u001b[0m_engine\u001b[0m\u001b[0;34m.\u001b[0m\u001b[0mget_loc\u001b[0m\u001b[0;34m(\u001b[0m\u001b[0mself\u001b[0m\u001b[0;34m.\u001b[0m\u001b[0m_maybe_cast_indexer\u001b[0m\u001b[0;34m(\u001b[0m\u001b[0mkey\u001b[0m\u001b[0;34m)\u001b[0m\u001b[0;34m)\u001b[0m\u001b[0;34m\u001b[0m\u001b[0;34m\u001b[0m\u001b[0m\n\u001b[0m\u001b[1;32m   2649\u001b[0m         \u001b[0mindexer\u001b[0m \u001b[0;34m=\u001b[0m \u001b[0mself\u001b[0m\u001b[0;34m.\u001b[0m\u001b[0mget_indexer\u001b[0m\u001b[0;34m(\u001b[0m\u001b[0;34m[\u001b[0m\u001b[0mkey\u001b[0m\u001b[0;34m]\u001b[0m\u001b[0;34m,\u001b[0m \u001b[0mmethod\u001b[0m\u001b[0;34m=\u001b[0m\u001b[0mmethod\u001b[0m\u001b[0;34m,\u001b[0m \u001b[0mtolerance\u001b[0m\u001b[0;34m=\u001b[0m\u001b[0mtolerance\u001b[0m\u001b[0;34m)\u001b[0m\u001b[0;34m\u001b[0m\u001b[0;34m\u001b[0m\u001b[0m\n\u001b[1;32m   2650\u001b[0m         \u001b[0;32mif\u001b[0m \u001b[0mindexer\u001b[0m\u001b[0;34m.\u001b[0m\u001b[0mndim\u001b[0m \u001b[0;34m>\u001b[0m \u001b[0;36m1\u001b[0m \u001b[0;32mor\u001b[0m \u001b[0mindexer\u001b[0m\u001b[0;34m.\u001b[0m\u001b[0msize\u001b[0m \u001b[0;34m>\u001b[0m \u001b[0;36m1\u001b[0m\u001b[0;34m:\u001b[0m\u001b[0;34m\u001b[0m\u001b[0;34m\u001b[0m\u001b[0m\n",
            "\u001b[0;32mpandas/_libs/index.pyx\u001b[0m in \u001b[0;36mpandas._libs.index.IndexEngine.get_loc\u001b[0;34m()\u001b[0m\n",
            "\u001b[0;32mpandas/_libs/index.pyx\u001b[0m in \u001b[0;36mpandas._libs.index.IndexEngine.get_loc\u001b[0;34m()\u001b[0m\n",
            "\u001b[0;32mpandas/_libs/hashtable_class_helper.pxi\u001b[0m in \u001b[0;36mpandas._libs.hashtable.PyObjectHashTable.get_item\u001b[0;34m()\u001b[0m\n",
            "\u001b[0;32mpandas/_libs/hashtable_class_helper.pxi\u001b[0m in \u001b[0;36mpandas._libs.hashtable.PyObjectHashTable.get_item\u001b[0;34m()\u001b[0m\n",
            "\u001b[0;31mKeyError\u001b[0m: 'genre_name_dance'"
          ]
        }
      ]
    },
    {
      "cell_type": "code",
      "metadata": {
        "id": "DFQJk-wz9dns",
        "colab_type": "code",
        "colab": {}
      },
      "source": [
        "# Split the data into training and testing\n",
        "\n",
        "### BEGIN SOLUTION\n",
        "from sklearn.model_selection import train_test_split\n",
        "\n",
        "X_train, X_test, y_train, y_test = train_test_split(X, y, random_state=42)\n",
        "### END SOLUTION"
      ],
      "execution_count": null,
      "outputs": []
    },
    {
      "cell_type": "code",
      "metadata": {
        "id": "QxNXFwLz-Djs",
        "colab_type": "code",
        "colab": {}
      },
      "source": [
        "from sklearn.preprocessing import StandardScaler\n",
        "\n",
        "# Create a StandardScater model and fit it to the training data\n",
        "\n",
        "### BEGIN SOLUTION\n",
        "X_scaler = StandardScaler().fit(X_train)\n",
        "y_scaler = StandardScaler().fit(y_train)\n",
        "### END SOLUTION"
      ],
      "execution_count": null,
      "outputs": []
    },
    {
      "cell_type": "code",
      "metadata": {
        "id": "dltwFrxS-FhV",
        "colab_type": "code",
        "colab": {}
      },
      "source": [
        "# Transform the training and testing data using the X_scaler and y_scaler models\n",
        "\n",
        "### BEGIN SOLUTION\n",
        "X_train_scaled = X_scaler.transform(X_train)\n",
        "X_test_scaled = X_scaler.transform(X_test)\n",
        "y_train_scaled = y_scaler.transform(y_train)\n",
        "y_test_scaled = y_scaler.transform(y_test)\n",
        "### END SOLUTION"
      ],
      "execution_count": null,
      "outputs": []
    },
    {
      "cell_type": "code",
      "metadata": {
        "id": "Rpurwnfq-HDY",
        "colab_type": "code",
        "colab": {
          "base_uri": "https://localhost:8080/",
          "height": 34
        },
        "outputId": "4a13f001-c818-43d6-e262-43308cd7b9b3"
      },
      "source": [
        "# Create a LinearRegression model and fit it to the scaled training data\n",
        "\n",
        "### BEGIN SOLUTION\n",
        "from sklearn.linear_model import LinearRegression\n",
        "\n",
        "models = []\n",
        "\n",
        "model = LinearRegression()\n",
        "model.fit(X_train_scaled, y_train_scaled)\n",
        "### END SOLUTION"
      ],
      "execution_count": null,
      "outputs": [
        {
          "output_type": "execute_result",
          "data": {
            "text/plain": [
              "LinearRegression(copy_X=True, fit_intercept=True, n_jobs=None, normalize=False)"
            ]
          },
          "metadata": {
            "tags": []
          },
          "execution_count": 97
        }
      ]
    },
    {
      "cell_type": "code",
      "metadata": {
        "id": "bBdsJ91r-KzX",
        "colab_type": "code",
        "colab": {
          "base_uri": "https://localhost:8080/",
          "height": 34
        },
        "outputId": "48a716ef-6635-4f86-9859-281c8c454260"
      },
      "source": [
        "# Used X_test_scaled, y_test_scaled, and model.predict(X_test_scaled) to calculate MSE and R2\n",
        "\n",
        "### BEGIN SOLUTION\n",
        "from sklearn.metrics import mean_squared_error\n",
        "\n",
        "MSE = mean_squared_error(y_test_scaled, predictions)\n",
        "r2 = model.score(X_test_scaled, y_test_scaled)\n",
        "### END SOLUTION\n",
        "\n",
        "print(f\"MSE: {MSE}, R2: {r2}\")\n",
        "models.append({\"model\": \"LinearRegression\",\n",
        "            \"MSE\": MSE,\n",
        "            \"R2\":r2})"
      ],
      "execution_count": null,
      "outputs": [
        {
          "output_type": "stream",
          "text": [
            "MSE: 0.9326425534807025, R2: 0.0035547422324515576\n"
          ],
          "name": "stdout"
        }
      ]
    },
    {
      "cell_type": "code",
      "metadata": {
        "id": "DO9LIokm-Ogx",
        "colab_type": "code",
        "colab": {
          "base_uri": "https://localhost:8080/",
          "height": 34
        },
        "outputId": "cdb38d14-c212-43da-80d9-34bd6b6dfcd0"
      },
      "source": [
        "# LASSO model\n",
        "# Note: Use an alpha of .01 when creating the model for this activity\n",
        "from sklearn.linear_model import Lasso\n",
        "\n",
        "### BEGIN SOLUTION\n",
        "lasso = Lasso(alpha=.01)\n",
        "lasso.fit(X_train_scaled, y_train_scaled)\n",
        "\n",
        "predictions = lasso.predict(X_test_scaled)\n",
        "\n",
        "MSE = mean_squared_error(y_test_scaled, predictions)\n",
        "r2 = lasso.score(X_test_scaled, y_test_scaled)\n",
        "### END SOLUTION\n",
        "\n",
        "print(f\"MSE: {MSE}, R2: {r2}\")\n",
        "models.append({\"model\": \"Lasso\",\n",
        "            \"MSE\": MSE,\n",
        "            \"R2\":r2})"
      ],
      "execution_count": null,
      "outputs": [
        {
          "output_type": "stream",
          "text": [
            "MSE: 0.9369062364507903, R2: 0.0037003917017792705\n"
          ],
          "name": "stdout"
        }
      ]
    },
    {
      "cell_type": "code",
      "metadata": {
        "id": "ponyikm9-t8N",
        "colab_type": "code",
        "colab": {
          "base_uri": "https://localhost:8080/",
          "height": 34
        },
        "outputId": "9ccccc78-6a58-4ec6-f07f-043aa9d0059c"
      },
      "source": [
        "# Ridge model\n",
        "# Note: Use an alpha of .01 when creating the model for this activity\n",
        "from sklearn.linear_model import Ridge\n",
        "\n",
        "### BEGIN SOLUTION\n",
        "ridge = Ridge(alpha=.01)\n",
        "ridge.fit(X_train_scaled, y_train_scaled)\n",
        "\n",
        "predictions = ridge.predict(X_test_scaled)\n",
        "\n",
        "MSE = mean_squared_error(y_test_scaled, predictions)\n",
        "r2 = ridge.score(X_test_scaled, y_test_scaled)\n",
        "### END SOLUTION\n",
        "\n",
        "print(f\"MSE: {MSE}, R2: {r2}\")\n",
        "models.append({\"model\": \"Ridge\",\n",
        "            \"MSE\": MSE,\n",
        "            \"R2\":r2})"
      ],
      "execution_count": null,
      "outputs": [
        {
          "output_type": "stream",
          "text": [
            "MSE: 0.9370432029813619, R2: 0.0035547424409999584\n"
          ],
          "name": "stdout"
        }
      ]
    },
    {
      "cell_type": "code",
      "metadata": {
        "id": "9-DW7_AQ-wEd",
        "colab_type": "code",
        "colab": {
          "base_uri": "https://localhost:8080/",
          "height": 34
        },
        "outputId": "61bd82da-17d8-4870-a218-a06c87aff5a7"
      },
      "source": [
        "# ElasticNet model\n",
        "# Note: Use an alpha of .01 when creating the model for this activity\n",
        "from sklearn.linear_model import ElasticNet\n",
        "\n",
        "### BEGIN SOLUTION\n",
        "elasticnet = ElasticNet(alpha=.01)\n",
        "elasticnet.fit(X_train_scaled, y_train_scaled)\n",
        "\n",
        "predictions = elasticnet.predict(X_test_scaled)\n",
        "\n",
        "MSE = mean_squared_error(y_test_scaled, predictions)\n",
        "r2 = elasticnet.score(X_test_scaled, y_test_scaled)\n",
        "### END SOLUTION\n",
        "\n",
        "print(f\"MSE: {MSE}, R2: {r2}\")\n",
        "models.append({\"model\": \"ElasticNet\",\n",
        "            \"MSE\": MSE,\n",
        "            \"R2\":r2})"
      ],
      "execution_count": null,
      "outputs": [
        {
          "output_type": "stream",
          "text": [
            "MSE: 0.936945462213467, R2: 0.0036586792971975424\n"
          ],
          "name": "stdout"
        }
      ]
    },
    {
      "cell_type": "code",
      "metadata": {
        "id": "Sg9Y-GcX-x1C",
        "colab_type": "code",
        "colab": {
          "base_uri": "https://localhost:8080/",
          "height": 80
        },
        "outputId": "6eb9c1c4-e855-4302-c5c8-caf91fd4a93a"
      },
      "source": [
        "a = pd.DataFrame(models)\n",
        "a[a[\"R2\"]==a[\"R2\"].max()]"
      ],
      "execution_count": null,
      "outputs": [
        {
          "output_type": "execute_result",
          "data": {
            "text/html": [
              "<div>\n",
              "<style scoped>\n",
              "    .dataframe tbody tr th:only-of-type {\n",
              "        vertical-align: middle;\n",
              "    }\n",
              "\n",
              "    .dataframe tbody tr th {\n",
              "        vertical-align: top;\n",
              "    }\n",
              "\n",
              "    .dataframe thead th {\n",
              "        text-align: right;\n",
              "    }\n",
              "</style>\n",
              "<table border=\"1\" class=\"dataframe\">\n",
              "  <thead>\n",
              "    <tr style=\"text-align: right;\">\n",
              "      <th></th>\n",
              "      <th>model</th>\n",
              "      <th>MSE</th>\n",
              "      <th>R2</th>\n",
              "    </tr>\n",
              "  </thead>\n",
              "  <tbody>\n",
              "    <tr>\n",
              "      <th>1</th>\n",
              "      <td>Lasso</td>\n",
              "      <td>0.936906</td>\n",
              "      <td>0.0037</td>\n",
              "    </tr>\n",
              "  </tbody>\n",
              "</table>\n",
              "</div>"
            ],
            "text/plain": [
              "   model       MSE      R2\n",
              "1  Lasso  0.936906  0.0037"
            ]
          },
          "metadata": {
            "tags": []
          },
          "execution_count": 102
        }
      ]
    },
    {
      "cell_type": "code",
      "metadata": {
        "id": "maH_rVle-zwb",
        "colab_type": "code",
        "colab": {
          "base_uri": "https://localhost:8080/",
          "height": 173
        },
        "outputId": "1e70ff53-73b9-49a4-a111-f59844b9b41e"
      },
      "source": [
        "a"
      ],
      "execution_count": null,
      "outputs": [
        {
          "output_type": "execute_result",
          "data": {
            "text/html": [
              "<div>\n",
              "<style scoped>\n",
              "    .dataframe tbody tr th:only-of-type {\n",
              "        vertical-align: middle;\n",
              "    }\n",
              "\n",
              "    .dataframe tbody tr th {\n",
              "        vertical-align: top;\n",
              "    }\n",
              "\n",
              "    .dataframe thead th {\n",
              "        text-align: right;\n",
              "    }\n",
              "</style>\n",
              "<table border=\"1\" class=\"dataframe\">\n",
              "  <thead>\n",
              "    <tr style=\"text-align: right;\">\n",
              "      <th></th>\n",
              "      <th>model</th>\n",
              "      <th>MSE</th>\n",
              "      <th>R2</th>\n",
              "    </tr>\n",
              "  </thead>\n",
              "  <tbody>\n",
              "    <tr>\n",
              "      <th>0</th>\n",
              "      <td>LinearRegression</td>\n",
              "      <td>1.021679</td>\n",
              "      <td>0.008130</td>\n",
              "    </tr>\n",
              "    <tr>\n",
              "      <th>1</th>\n",
              "      <td>Lasso</td>\n",
              "      <td>0.933261</td>\n",
              "      <td>0.007577</td>\n",
              "    </tr>\n",
              "    <tr>\n",
              "      <th>2</th>\n",
              "      <td>Ridge</td>\n",
              "      <td>0.932740</td>\n",
              "      <td>0.008130</td>\n",
              "    </tr>\n",
              "    <tr>\n",
              "      <th>3</th>\n",
              "      <td>ElasticNet</td>\n",
              "      <td>0.932643</td>\n",
              "      <td>0.008234</td>\n",
              "    </tr>\n",
              "  </tbody>\n",
              "</table>\n",
              "</div>"
            ],
            "text/plain": [
              "              model       MSE        R2\n",
              "0  LinearRegression  1.021679  0.008130\n",
              "1             Lasso  0.933261  0.007577\n",
              "2             Ridge  0.932740  0.008130\n",
              "3        ElasticNet  0.932643  0.008234"
            ]
          },
          "metadata": {
            "tags": []
          },
          "execution_count": 92
        }
      ]
    },
    {
      "cell_type": "code",
      "metadata": {
        "id": "NH-iOEqq-1hj",
        "colab_type": "code",
        "colab": {}
      },
      "source": [
        ""
      ],
      "execution_count": null,
      "outputs": []
    },
    {
      "cell_type": "markdown",
      "metadata": {
        "id": "6UWVBurR_o3h",
        "colab_type": "text"
      },
      "source": [
        "## Now trying Logistic Regression"
      ]
    },
    {
      "cell_type": "code",
      "metadata": {
        "id": "fop-RhEG_8PP",
        "colab_type": "code",
        "colab": {}
      },
      "source": [
        "%matplotlib inline\n",
        "import matplotlib.pyplot as plt\n",
        "import pandas as pd\n",
        "import os"
      ],
      "execution_count": null,
      "outputs": []
    },
    {
      "cell_type": "code",
      "metadata": {
        "id": "QrGVNRaOAqu9",
        "colab_type": "code",
        "colab": {
          "base_uri": "https://localhost:8080/",
          "height": 419
        },
        "outputId": "ded10524-e26e-4760-c9e9-739a03f66fd8"
      },
      "source": [
        "ML_df"
      ],
      "execution_count": null,
      "outputs": [
        {
          "output_type": "execute_result",
          "data": {
            "text/html": [
              "<div>\n",
              "<style scoped>\n",
              "    .dataframe tbody tr th:only-of-type {\n",
              "        vertical-align: middle;\n",
              "    }\n",
              "\n",
              "    .dataframe tbody tr th {\n",
              "        vertical-align: top;\n",
              "    }\n",
              "\n",
              "    .dataframe thead th {\n",
              "        text-align: right;\n",
              "    }\n",
              "</style>\n",
              "<table border=\"1\" class=\"dataframe\">\n",
              "  <thead>\n",
              "    <tr style=\"text-align: right;\">\n",
              "      <th></th>\n",
              "      <th>genre_name</th>\n",
              "      <th>danceability</th>\n",
              "      <th>energy</th>\n",
              "      <th>key</th>\n",
              "      <th>loudness</th>\n",
              "      <th>mode</th>\n",
              "      <th>speechiness</th>\n",
              "      <th>acousticness</th>\n",
              "      <th>instrumentalness</th>\n",
              "      <th>liveness</th>\n",
              "      <th>valence</th>\n",
              "      <th>tempo</th>\n",
              "      <th>duration_ms</th>\n",
              "    </tr>\n",
              "  </thead>\n",
              "  <tbody>\n",
              "    <tr>\n",
              "      <th>0</th>\n",
              "      <td>acoustic</td>\n",
              "      <td>0.686</td>\n",
              "      <td>0.457</td>\n",
              "      <td>11</td>\n",
              "      <td>-8.322</td>\n",
              "      <td>1</td>\n",
              "      <td>0.0468</td>\n",
              "      <td>0.59500</td>\n",
              "      <td>0.000000</td>\n",
              "      <td>0.1050</td>\n",
              "      <td>0.718</td>\n",
              "      <td>150.953</td>\n",
              "      <td>242187</td>\n",
              "    </tr>\n",
              "    <tr>\n",
              "      <th>1</th>\n",
              "      <td>acoustic</td>\n",
              "      <td>0.618</td>\n",
              "      <td>0.443</td>\n",
              "      <td>2</td>\n",
              "      <td>-9.681</td>\n",
              "      <td>1</td>\n",
              "      <td>0.0526</td>\n",
              "      <td>0.46900</td>\n",
              "      <td>0.000000</td>\n",
              "      <td>0.0829</td>\n",
              "      <td>0.167</td>\n",
              "      <td>119.949</td>\n",
              "      <td>198853</td>\n",
              "    </tr>\n",
              "    <tr>\n",
              "      <th>2</th>\n",
              "      <td>acoustic</td>\n",
              "      <td>0.672</td>\n",
              "      <td>0.623</td>\n",
              "      <td>9</td>\n",
              "      <td>-5.699</td>\n",
              "      <td>1</td>\n",
              "      <td>0.0297</td>\n",
              "      <td>0.24100</td>\n",
              "      <td>0.000000</td>\n",
              "      <td>0.0848</td>\n",
              "      <td>0.617</td>\n",
              "      <td>92.018</td>\n",
              "      <td>215173</td>\n",
              "    </tr>\n",
              "    <tr>\n",
              "      <th>3</th>\n",
              "      <td>acoustic</td>\n",
              "      <td>0.583</td>\n",
              "      <td>0.786</td>\n",
              "      <td>2</td>\n",
              "      <td>-3.142</td>\n",
              "      <td>0</td>\n",
              "      <td>0.0301</td>\n",
              "      <td>0.02080</td>\n",
              "      <td>0.000000</td>\n",
              "      <td>0.1880</td>\n",
              "      <td>0.573</td>\n",
              "      <td>123.052</td>\n",
              "      <td>258827</td>\n",
              "    </tr>\n",
              "    <tr>\n",
              "      <th>4</th>\n",
              "      <td>acoustic</td>\n",
              "      <td>0.585</td>\n",
              "      <td>0.303</td>\n",
              "      <td>4</td>\n",
              "      <td>-10.058</td>\n",
              "      <td>1</td>\n",
              "      <td>0.0398</td>\n",
              "      <td>0.69400</td>\n",
              "      <td>0.000000</td>\n",
              "      <td>0.1150</td>\n",
              "      <td>0.142</td>\n",
              "      <td>136.703</td>\n",
              "      <td>240166</td>\n",
              "    </tr>\n",
              "    <tr>\n",
              "      <th>...</th>\n",
              "      <td>...</td>\n",
              "      <td>...</td>\n",
              "      <td>...</td>\n",
              "      <td>...</td>\n",
              "      <td>...</td>\n",
              "      <td>...</td>\n",
              "      <td>...</td>\n",
              "      <td>...</td>\n",
              "      <td>...</td>\n",
              "      <td>...</td>\n",
              "      <td>...</td>\n",
              "      <td>...</td>\n",
              "      <td>...</td>\n",
              "    </tr>\n",
              "    <tr>\n",
              "      <th>114826</th>\n",
              "      <td>world-music</td>\n",
              "      <td>0.669</td>\n",
              "      <td>0.729</td>\n",
              "      <td>6</td>\n",
              "      <td>-5.236</td>\n",
              "      <td>1</td>\n",
              "      <td>0.0347</td>\n",
              "      <td>0.01390</td>\n",
              "      <td>0.000000</td>\n",
              "      <td>0.0990</td>\n",
              "      <td>0.400</td>\n",
              "      <td>128.983</td>\n",
              "      <td>232680</td>\n",
              "    </tr>\n",
              "    <tr>\n",
              "      <th>114827</th>\n",
              "      <td>world-music</td>\n",
              "      <td>0.428</td>\n",
              "      <td>0.493</td>\n",
              "      <td>7</td>\n",
              "      <td>-7.387</td>\n",
              "      <td>1</td>\n",
              "      <td>0.0287</td>\n",
              "      <td>0.17000</td>\n",
              "      <td>0.000000</td>\n",
              "      <td>0.2540</td>\n",
              "      <td>0.220</td>\n",
              "      <td>76.854</td>\n",
              "      <td>313387</td>\n",
              "    </tr>\n",
              "    <tr>\n",
              "      <th>114828</th>\n",
              "      <td>world-music</td>\n",
              "      <td>0.442</td>\n",
              "      <td>0.388</td>\n",
              "      <td>2</td>\n",
              "      <td>-10.186</td>\n",
              "      <td>1</td>\n",
              "      <td>0.0286</td>\n",
              "      <td>0.68300</td>\n",
              "      <td>0.000010</td>\n",
              "      <td>0.1390</td>\n",
              "      <td>0.215</td>\n",
              "      <td>101.990</td>\n",
              "      <td>379348</td>\n",
              "    </tr>\n",
              "    <tr>\n",
              "      <th>114829</th>\n",
              "      <td>world-music</td>\n",
              "      <td>0.402</td>\n",
              "      <td>0.856</td>\n",
              "      <td>11</td>\n",
              "      <td>-6.410</td>\n",
              "      <td>1</td>\n",
              "      <td>0.0414</td>\n",
              "      <td>0.00119</td>\n",
              "      <td>0.000005</td>\n",
              "      <td>0.0892</td>\n",
              "      <td>0.155</td>\n",
              "      <td>156.008</td>\n",
              "      <td>382027</td>\n",
              "    </tr>\n",
              "    <tr>\n",
              "      <th>114830</th>\n",
              "      <td>world-music</td>\n",
              "      <td>0.632</td>\n",
              "      <td>0.806</td>\n",
              "      <td>7</td>\n",
              "      <td>-3.711</td>\n",
              "      <td>1</td>\n",
              "      <td>0.0294</td>\n",
              "      <td>0.00185</td>\n",
              "      <td>0.000018</td>\n",
              "      <td>0.1730</td>\n",
              "      <td>0.475</td>\n",
              "      <td>105.032</td>\n",
              "      <td>209147</td>\n",
              "    </tr>\n",
              "  </tbody>\n",
              "</table>\n",
              "<p>114831 rows × 13 columns</p>\n",
              "</div>"
            ],
            "text/plain": [
              "         genre_name  danceability  energy  ...  valence    tempo  duration_ms\n",
              "0          acoustic         0.686   0.457  ...    0.718  150.953       242187\n",
              "1          acoustic         0.618   0.443  ...    0.167  119.949       198853\n",
              "2          acoustic         0.672   0.623  ...    0.617   92.018       215173\n",
              "3          acoustic         0.583   0.786  ...    0.573  123.052       258827\n",
              "4          acoustic         0.585   0.303  ...    0.142  136.703       240166\n",
              "...             ...           ...     ...  ...      ...      ...          ...\n",
              "114826  world-music         0.669   0.729  ...    0.400  128.983       232680\n",
              "114827  world-music         0.428   0.493  ...    0.220   76.854       313387\n",
              "114828  world-music         0.442   0.388  ...    0.215  101.990       379348\n",
              "114829  world-music         0.402   0.856  ...    0.155  156.008       382027\n",
              "114830  world-music         0.632   0.806  ...    0.475  105.032       209147\n",
              "\n",
              "[114831 rows x 13 columns]"
            ]
          },
          "metadata": {
            "tags": []
          },
          "execution_count": 107
        }
      ]
    },
    {
      "cell_type": "code",
      "metadata": {
        "id": "0LGW8cHUAEEG",
        "colab_type": "code",
        "colab": {
          "base_uri": "https://localhost:8080/",
          "height": 34
        },
        "outputId": "7eec8b8a-4ffc-4639-9e46-eb200348d714"
      },
      "source": [
        "# Assign X (data) and y (target)\n",
        "X = ML_df.drop(\"genre_name\", axis=1)\n",
        "y = ML_df[\"genre_name\"]\n",
        "print(X.shape, y.shape)"
      ],
      "execution_count": null,
      "outputs": [
        {
          "output_type": "stream",
          "text": [
            "(114831, 12) (114831,)\n"
          ],
          "name": "stdout"
        }
      ]
    },
    {
      "cell_type": "code",
      "metadata": {
        "id": "SGkwfVNpAnwj",
        "colab_type": "code",
        "colab": {}
      },
      "source": [
        "from sklearn.model_selection import train_test_split\n",
        "\n",
        "X_train, X_test, y_train, y_test = train_test_split(X, y, random_state=1, stratify=y)"
      ],
      "execution_count": null,
      "outputs": []
    },
    {
      "cell_type": "code",
      "metadata": {
        "id": "iXGsnBX3Ax0n",
        "colab_type": "code",
        "colab": {
          "base_uri": "https://localhost:8080/",
          "height": 102
        },
        "outputId": "9f23e4f6-2ce2-4eff-cbbd-e1b85ea81cbb"
      },
      "source": [
        "from sklearn.linear_model import LogisticRegression\n",
        "classifier = LogisticRegression()\n",
        "classifier"
      ],
      "execution_count": null,
      "outputs": [
        {
          "output_type": "execute_result",
          "data": {
            "text/plain": [
              "LogisticRegression(C=1.0, class_weight=None, dual=False, fit_intercept=True,\n",
              "                   intercept_scaling=1, l1_ratio=None, max_iter=100,\n",
              "                   multi_class='auto', n_jobs=None, penalty='l2',\n",
              "                   random_state=None, solver='lbfgs', tol=0.0001, verbose=0,\n",
              "                   warm_start=False)"
            ]
          },
          "metadata": {
            "tags": []
          },
          "execution_count": 110
        }
      ]
    },
    {
      "cell_type": "code",
      "metadata": {
        "id": "p238xVSIAznc",
        "colab_type": "code",
        "colab": {
          "base_uri": "https://localhost:8080/",
          "height": 221
        },
        "outputId": "e9bad55f-79cd-4688-f212-63eca8a4d724"
      },
      "source": [
        "y_train"
      ],
      "execution_count": null,
      "outputs": [
        {
          "output_type": "execute_result",
          "data": {
            "text/plain": [
              "76625           latin\n",
              "104413          sleep\n",
              "39722         electro\n",
              "59311       hardstyle\n",
              "46659            funk\n",
              "             ...     \n",
              "68424         iranian\n",
              "37364             dub\n",
              "42926            folk\n",
              "85597           opera\n",
              "29393     death-metal\n",
              "Name: genre_name, Length: 86123, dtype: object"
            ]
          },
          "metadata": {
            "tags": []
          },
          "execution_count": 111
        }
      ]
    },
    {
      "cell_type": "code",
      "metadata": {
        "id": "8XcuM1BFA1Ss",
        "colab_type": "code",
        "colab": {
          "base_uri": "https://localhost:8080/",
          "height": 238
        },
        "outputId": "64d7a561-b9f3-45c8-e32d-7c99f8e63639"
      },
      "source": [
        "classifier.fit(X_train, y_train)"
      ],
      "execution_count": null,
      "outputs": [
        {
          "output_type": "stream",
          "text": [
            "/usr/local/lib/python3.6/dist-packages/sklearn/linear_model/_logistic.py:940: ConvergenceWarning: lbfgs failed to converge (status=1):\n",
            "STOP: TOTAL NO. of ITERATIONS REACHED LIMIT.\n",
            "\n",
            "Increase the number of iterations (max_iter) or scale the data as shown in:\n",
            "    https://scikit-learn.org/stable/modules/preprocessing.html\n",
            "Please also refer to the documentation for alternative solver options:\n",
            "    https://scikit-learn.org/stable/modules/linear_model.html#logistic-regression\n",
            "  extra_warning_msg=_LOGISTIC_SOLVER_CONVERGENCE_MSG)\n"
          ],
          "name": "stderr"
        },
        {
          "output_type": "execute_result",
          "data": {
            "text/plain": [
              "LogisticRegression(C=1.0, class_weight=None, dual=False, fit_intercept=True,\n",
              "                   intercept_scaling=1, l1_ratio=None, max_iter=100,\n",
              "                   multi_class='auto', n_jobs=None, penalty='l2',\n",
              "                   random_state=None, solver='lbfgs', tol=0.0001, verbose=0,\n",
              "                   warm_start=False)"
            ]
          },
          "metadata": {
            "tags": []
          },
          "execution_count": 112
        }
      ]
    },
    {
      "cell_type": "code",
      "metadata": {
        "id": "HGLc4W3RA3sa",
        "colab_type": "code",
        "colab": {
          "base_uri": "https://localhost:8080/",
          "height": 51
        },
        "outputId": "1140c176-8095-4187-8840-817b77e400fb"
      },
      "source": [
        "print(f\"Training Data Score: {classifier.score(X_train, y_train)}\")\n",
        "print(f\"Testing Data Score: {classifier.score(X_test, y_test)}\")"
      ],
      "execution_count": null,
      "outputs": [
        {
          "output_type": "stream",
          "text": [
            "Training Data Score: 0.023083264633140973\n",
            "Testing Data Score: 0.02386094468440853\n"
          ],
          "name": "stdout"
        }
      ]
    },
    {
      "cell_type": "code",
      "metadata": {
        "id": "rIM1YnKLBS8D",
        "colab_type": "code",
        "colab": {
          "base_uri": "https://localhost:8080/",
          "height": 68
        },
        "outputId": "c24594ac-b192-4635-d8f6-1fa3ac97c65f"
      },
      "source": [
        "predictions = classifier.predict(X_test)\n",
        "print(f\"First 10 Predictions:   {predictions[:10]}\")\n",
        "print(f\"First 10 Actual labels: {y_test[:10].tolist()}\")"
      ],
      "execution_count": null,
      "outputs": [
        {
          "output_type": "stream",
          "text": [
            "First 10 Predictions:   ['black-metal' 'drum-and-bass' 'happy' 'forro' 'happy' 'drum-and-bass'\n",
            " 'happy' 'forro' 'drum-and-bass' 'forro']\n",
            "First 10 Actual labels: ['hardcore', 'gospel', 'happy', 'rock-n-roll', 'hardcore', 'spanish', 'comedy', 'club', 'garage', 'comedy']\n"
          ],
          "name": "stdout"
        }
      ]
    },
    {
      "cell_type": "code",
      "metadata": {
        "id": "Te9gjW-pBYF7",
        "colab_type": "code",
        "colab": {
          "base_uri": "https://localhost:8080/",
          "height": 419
        },
        "outputId": "d69ced4b-cfa0-425c-a7f7-be3a0c11601f"
      },
      "source": [
        "pd.DataFrame({\"Prediction\": predictions, \"Actual\": y_test}).reset_index(drop=True)"
      ],
      "execution_count": null,
      "outputs": [
        {
          "output_type": "execute_result",
          "data": {
            "text/html": [
              "<div>\n",
              "<style scoped>\n",
              "    .dataframe tbody tr th:only-of-type {\n",
              "        vertical-align: middle;\n",
              "    }\n",
              "\n",
              "    .dataframe tbody tr th {\n",
              "        vertical-align: top;\n",
              "    }\n",
              "\n",
              "    .dataframe thead th {\n",
              "        text-align: right;\n",
              "    }\n",
              "</style>\n",
              "<table border=\"1\" class=\"dataframe\">\n",
              "  <thead>\n",
              "    <tr style=\"text-align: right;\">\n",
              "      <th></th>\n",
              "      <th>Prediction</th>\n",
              "      <th>Actual</th>\n",
              "    </tr>\n",
              "  </thead>\n",
              "  <tbody>\n",
              "    <tr>\n",
              "      <th>0</th>\n",
              "      <td>black-metal</td>\n",
              "      <td>hardcore</td>\n",
              "    </tr>\n",
              "    <tr>\n",
              "      <th>1</th>\n",
              "      <td>drum-and-bass</td>\n",
              "      <td>gospel</td>\n",
              "    </tr>\n",
              "    <tr>\n",
              "      <th>2</th>\n",
              "      <td>happy</td>\n",
              "      <td>happy</td>\n",
              "    </tr>\n",
              "    <tr>\n",
              "      <th>3</th>\n",
              "      <td>forro</td>\n",
              "      <td>rock-n-roll</td>\n",
              "    </tr>\n",
              "    <tr>\n",
              "      <th>4</th>\n",
              "      <td>happy</td>\n",
              "      <td>hardcore</td>\n",
              "    </tr>\n",
              "    <tr>\n",
              "      <th>...</th>\n",
              "      <td>...</td>\n",
              "      <td>...</td>\n",
              "    </tr>\n",
              "    <tr>\n",
              "      <th>28703</th>\n",
              "      <td>drum-and-bass</td>\n",
              "      <td>electronic</td>\n",
              "    </tr>\n",
              "    <tr>\n",
              "      <th>28704</th>\n",
              "      <td>black-metal</td>\n",
              "      <td>hardcore</td>\n",
              "    </tr>\n",
              "    <tr>\n",
              "      <th>28705</th>\n",
              "      <td>happy</td>\n",
              "      <td>goth</td>\n",
              "    </tr>\n",
              "    <tr>\n",
              "      <th>28706</th>\n",
              "      <td>idm</td>\n",
              "      <td>dancehall</td>\n",
              "    </tr>\n",
              "    <tr>\n",
              "      <th>28707</th>\n",
              "      <td>happy</td>\n",
              "      <td>dance</td>\n",
              "    </tr>\n",
              "  </tbody>\n",
              "</table>\n",
              "<p>28708 rows × 2 columns</p>\n",
              "</div>"
            ],
            "text/plain": [
              "          Prediction       Actual\n",
              "0        black-metal     hardcore\n",
              "1      drum-and-bass       gospel\n",
              "2              happy        happy\n",
              "3              forro  rock-n-roll\n",
              "4              happy     hardcore\n",
              "...              ...          ...\n",
              "28703  drum-and-bass   electronic\n",
              "28704    black-metal     hardcore\n",
              "28705          happy         goth\n",
              "28706            idm    dancehall\n",
              "28707          happy        dance\n",
              "\n",
              "[28708 rows x 2 columns]"
            ]
          },
          "metadata": {
            "tags": []
          },
          "execution_count": 116
        }
      ]
    },
    {
      "cell_type": "markdown",
      "metadata": {
        "id": "rfQdA7p1Ftf0",
        "colab_type": "text"
      },
      "source": [
        "## Now trying with Neural Network Deep Learning\n"
      ]
    },
    {
      "cell_type": "code",
      "metadata": {
        "id": "SrWTPqMfF17I",
        "colab_type": "code",
        "colab": {
          "base_uri": "https://localhost:8080/",
          "height": 34
        },
        "outputId": "3e9e3c2b-c322-4773-faf5-2215e482e839"
      },
      "source": [
        "# Assign X (data) and y (target)\n",
        "X = ML_df.drop(\"genre_name\", axis=1)\n",
        "y = ML_df[\"genre_name\"]\n",
        "print(X.shape, y.shape)"
      ],
      "execution_count": null,
      "outputs": [
        {
          "output_type": "stream",
          "text": [
            "(114831, 12) (114831,)\n"
          ],
          "name": "stdout"
        }
      ]
    },
    {
      "cell_type": "code",
      "metadata": {
        "id": "ltHyZdvpF8B8",
        "colab_type": "code",
        "colab": {}
      },
      "source": [
        "from sklearn.model_selection import train_test_split\n",
        "from sklearn.preprocessing import LabelEncoder, MinMaxScaler\n",
        "from tensorflow.keras.utils import to_categorical"
      ],
      "execution_count": null,
      "outputs": []
    },
    {
      "cell_type": "code",
      "metadata": {
        "id": "niKGMmGsF9u9",
        "colab_type": "code",
        "colab": {}
      },
      "source": [
        "X_train, X_test, y_train, y_test = train_test_split(\n",
        "    X, y, stratify=y)"
      ],
      "execution_count": null,
      "outputs": []
    },
    {
      "cell_type": "code",
      "metadata": {
        "id": "xnLoTwoBGABc",
        "colab_type": "code",
        "colab": {}
      },
      "source": [
        "X_scaler = MinMaxScaler().fit(X_train)\n",
        "X_train_scaled = X_scaler.transform(X_train)\n",
        "X_test_scaled = X_scaler.transform(X_test)"
      ],
      "execution_count": null,
      "outputs": []
    },
    {
      "cell_type": "code",
      "metadata": {
        "id": "jUN3MoEYGDUV",
        "colab_type": "code",
        "colab": {}
      },
      "source": [
        "# Step 1: Label-encode data set\n",
        "label_encoder = LabelEncoder()\n",
        "label_encoder.fit(y_train)\n",
        "encoded_y_train = label_encoder.transform(y_train)\n",
        "encoded_y_test = label_encoder.transform(y_test)"
      ],
      "execution_count": null,
      "outputs": []
    },
    {
      "cell_type": "code",
      "metadata": {
        "id": "AQfXLbPLGE7o",
        "colab_type": "code",
        "colab": {}
      },
      "source": [
        "# Step 2: Convert encoded labels to one-hot-encoding\n",
        "y_train_categorical = to_categorical(encoded_y_train)\n",
        "y_test_categorical = to_categorical(encoded_y_test)"
      ],
      "execution_count": null,
      "outputs": []
    },
    {
      "cell_type": "code",
      "metadata": {
        "id": "J5nTitbMGGWb",
        "colab_type": "code",
        "colab": {}
      },
      "source": [
        "from tensorflow.keras.models import Sequential\n",
        "from tensorflow.keras.layers import Dense"
      ],
      "execution_count": null,
      "outputs": []
    },
    {
      "cell_type": "code",
      "metadata": {
        "id": "ayQk0qIlGH0y",
        "colab_type": "code",
        "colab": {}
      },
      "source": [
        "# Create model and add layers\n",
        "model = Sequential()\n",
        "model.add(Dense(units=111, activation='relu', input_dim=12))\n",
        "# model.add(Dense(units=111, activation='sigmoid'))\n",
        "# model.add(Dense(units=111, activation='sigmoid'))\n",
        "# model.add(Dense(units=111, activation='sigmoid'))\n",
        "# model.add(Dense(units=111, activation='relu'))\n",
        "model.add(Dense(units=111, activation='relu'))\n",
        "model.add(Dense(units=111, activation='relu'))\n",
        "model.add(Dense(units=111, activation='softmax'))"
      ],
      "execution_count": null,
      "outputs": []
    },
    {
      "cell_type": "code",
      "metadata": {
        "id": "dStjnWMSGJrH",
        "colab_type": "code",
        "colab": {}
      },
      "source": [
        "# Compile and fit the model\n",
        "model.compile(optimizer='adam',\n",
        "              loss='categorical_crossentropy',\n",
        "              metrics=['accuracy'])"
      ],
      "execution_count": null,
      "outputs": []
    },
    {
      "cell_type": "code",
      "metadata": {
        "id": "JCe13BDbGLmW",
        "colab_type": "code",
        "colab": {
          "base_uri": "https://localhost:8080/",
          "height": 289
        },
        "outputId": "29293215-a115-4540-a3a6-b9b0b1bdded5"
      },
      "source": [
        "model.summary()"
      ],
      "execution_count": null,
      "outputs": [
        {
          "output_type": "stream",
          "text": [
            "Model: \"sequential_1\"\n",
            "_________________________________________________________________\n",
            "Layer (type)                 Output Shape              Param #   \n",
            "=================================================================\n",
            "dense_5 (Dense)              (None, 111)               1443      \n",
            "_________________________________________________________________\n",
            "dense_6 (Dense)              (None, 111)               12432     \n",
            "_________________________________________________________________\n",
            "dense_7 (Dense)              (None, 111)               12432     \n",
            "_________________________________________________________________\n",
            "dense_8 (Dense)              (None, 111)               12432     \n",
            "=================================================================\n",
            "Total params: 38,739\n",
            "Trainable params: 38,739\n",
            "Non-trainable params: 0\n",
            "_________________________________________________________________\n"
          ],
          "name": "stdout"
        }
      ]
    },
    {
      "cell_type": "code",
      "metadata": {
        "id": "YylEIRSgGM-I",
        "colab_type": "code",
        "colab": {
          "base_uri": "https://localhost:8080/",
          "height": 374
        },
        "outputId": "8d876036-b12d-44c8-efff-11cc59024067"
      },
      "source": [
        "model.fit(\n",
        "    X_train_scaled,\n",
        "    y_train_categorical,\n",
        "    epochs=10,\n",
        "    shuffle=True,\n",
        "    verbose=2\n",
        ")"
      ],
      "execution_count": null,
      "outputs": [
        {
          "output_type": "stream",
          "text": [
            "Epoch 1/10\n",
            "2692/2692 - 4s - loss: 2.8401 - accuracy: 0.2816\n",
            "Epoch 2/10\n",
            "2692/2692 - 4s - loss: 2.8357 - accuracy: 0.2827\n",
            "Epoch 3/10\n",
            "2692/2692 - 4s - loss: 2.8327 - accuracy: 0.2832\n",
            "Epoch 4/10\n",
            "2692/2692 - 4s - loss: 2.8276 - accuracy: 0.2830\n",
            "Epoch 5/10\n",
            "2692/2692 - 4s - loss: 2.8233 - accuracy: 0.2851\n",
            "Epoch 6/10\n",
            "2692/2692 - 4s - loss: 2.8196 - accuracy: 0.2860\n",
            "Epoch 7/10\n",
            "2692/2692 - 5s - loss: 2.8159 - accuracy: 0.2844\n",
            "Epoch 8/10\n",
            "2692/2692 - 5s - loss: 2.8128 - accuracy: 0.2880\n",
            "Epoch 9/10\n",
            "2692/2692 - 4s - loss: 2.8098 - accuracy: 0.2873\n",
            "Epoch 10/10\n",
            "2692/2692 - 4s - loss: 2.8051 - accuracy: 0.2865\n"
          ],
          "name": "stdout"
        },
        {
          "output_type": "execute_result",
          "data": {
            "text/plain": [
              "<tensorflow.python.keras.callbacks.History at 0x7ff582b1e780>"
            ]
          },
          "metadata": {
            "tags": []
          },
          "execution_count": 68
        }
      ]
    },
    {
      "cell_type": "code",
      "metadata": {
        "id": "BOZi5OzpGQSY",
        "colab_type": "code",
        "colab": {
          "base_uri": "https://localhost:8080/",
          "height": 51
        },
        "outputId": "59eb9070-3418-4f53-efee-915fcc232e72"
      },
      "source": [
        "model_loss, model_accuracy = model.evaluate(\n",
        "    X_test_scaled, y_test_categorical, verbose=2)\n",
        "print(\n",
        "    f\"Normal Neural Network - Loss: {model_loss}, Accuracy: {model_accuracy}\")"
      ],
      "execution_count": null,
      "outputs": [
        {
          "output_type": "stream",
          "text": [
            "898/898 - 1s - loss: 3.0079 - accuracy: 0.2631\n",
            "Normal Neural Network - Loss: 3.007857084274292, Accuracy: 0.26306256651878357\n"
          ],
          "name": "stdout"
        }
      ]
    },
    {
      "cell_type": "code",
      "metadata": {
        "id": "zrX_gPNVP39d",
        "colab_type": "code",
        "colab": {}
      },
      "source": [
        "# Create model and add layers\n",
        "model = Sequential()\n",
        "model.add(Dense(units=111, activation='relu', input_dim=12))\n",
        "# model.add(Dense(units=111, activation='sigmoid'))\n",
        "# model.add(Dense(units=111, activation='sigmoid'))\n",
        "# model.add(Dense(units=111, activation='sigmoid'))\n",
        "model.add(Dense(units=111, activation='relu'))\n",
        "# model.add(Dense(units=111, activation='relu'))\n",
        "# model.add(Dense(units=111, activation='relu'))\n",
        "model.add(Dense(units=111, activation='sigmoid'))\n",
        "# model.add(Dense(units=111, activation='softmax'))\n",
        "model.add(Dense(units=111, activation='softmax'))"
      ],
      "execution_count": null,
      "outputs": []
    },
    {
      "cell_type": "code",
      "metadata": {
        "id": "7pdbsu5bpLxK",
        "colab_type": "code",
        "colab": {}
      },
      "source": [
        "# Compile and fit the model\n",
        "model.compile(optimizer='adam',\n",
        "              loss='categorical_crossentropy',\n",
        "              metrics=['accuracy'])"
      ],
      "execution_count": null,
      "outputs": []
    },
    {
      "cell_type": "code",
      "metadata": {
        "id": "Z882fMm9pRT5",
        "colab_type": "code",
        "colab": {
          "base_uri": "https://localhost:8080/",
          "height": 289
        },
        "outputId": "a01f61f2-4a1f-4d51-81a7-e45f48a5f6d3"
      },
      "source": [
        "model.summary()"
      ],
      "execution_count": null,
      "outputs": [
        {
          "output_type": "stream",
          "text": [
            "Model: \"sequential_31\"\n",
            "_________________________________________________________________\n",
            "Layer (type)                 Output Shape              Param #   \n",
            "=================================================================\n",
            "dense_102 (Dense)            (None, 111)               1443      \n",
            "_________________________________________________________________\n",
            "dense_103 (Dense)            (None, 111)               12432     \n",
            "_________________________________________________________________\n",
            "dense_104 (Dense)            (None, 111)               12432     \n",
            "_________________________________________________________________\n",
            "dense_105 (Dense)            (None, 111)               12432     \n",
            "=================================================================\n",
            "Total params: 38,739\n",
            "Trainable params: 38,739\n",
            "Non-trainable params: 0\n",
            "_________________________________________________________________\n"
          ],
          "name": "stdout"
        }
      ]
    },
    {
      "cell_type": "code",
      "metadata": {
        "id": "ZnNqGxE4pUwH",
        "colab_type": "code",
        "colab": {
          "base_uri": "https://localhost:8080/",
          "height": 374
        },
        "outputId": "f3dfcab1-4b85-455f-e191-8fc0d5bada5c"
      },
      "source": [
        "model.fit(\n",
        "    X_train_scaled,\n",
        "    y_train_categorical,\n",
        "    epochs=10,\n",
        "    shuffle=True,\n",
        "    verbose=2\n",
        ")"
      ],
      "execution_count": null,
      "outputs": [
        {
          "output_type": "stream",
          "text": [
            "Epoch 1/10\n",
            "2692/2692 - 5s - loss: 3.8083 - accuracy: 0.1086\n",
            "Epoch 2/10\n",
            "2692/2692 - 5s - loss: 3.4794 - accuracy: 0.1552\n",
            "Epoch 3/10\n",
            "2692/2692 - 5s - loss: 3.4002 - accuracy: 0.1696\n",
            "Epoch 4/10\n",
            "2692/2692 - 5s - loss: 3.3448 - accuracy: 0.1817\n",
            "Epoch 5/10\n",
            "2692/2692 - 5s - loss: 3.3002 - accuracy: 0.1895\n",
            "Epoch 6/10\n",
            "2692/2692 - 5s - loss: 3.2599 - accuracy: 0.1982\n",
            "Epoch 7/10\n",
            "2692/2692 - 5s - loss: 3.2228 - accuracy: 0.2045\n",
            "Epoch 8/10\n",
            "2692/2692 - 5s - loss: 3.1887 - accuracy: 0.2128\n",
            "Epoch 9/10\n",
            "2692/2692 - 7s - loss: 3.1549 - accuracy: 0.2199\n",
            "Epoch 10/10\n",
            "2692/2692 - 7s - loss: 3.1269 - accuracy: 0.2262\n"
          ],
          "name": "stdout"
        },
        {
          "output_type": "execute_result",
          "data": {
            "text/plain": [
              "<tensorflow.python.keras.callbacks.History at 0x7f514297c9b0>"
            ]
          },
          "metadata": {
            "tags": []
          },
          "execution_count": 290
        }
      ]
    },
    {
      "cell_type": "code",
      "metadata": {
        "id": "BOdr8eSipYTj",
        "colab_type": "code",
        "colab": {
          "base_uri": "https://localhost:8080/",
          "height": 51
        },
        "outputId": "d00cdf92-47e3-40e4-9de3-448f51741815"
      },
      "source": [
        "model_loss, model_accuracy = model.evaluate(\n",
        "    X_test_scaled, y_test_categorical, verbose=2)\n",
        "print(\n",
        "    f\"Normal Neural Network - Loss: {model_loss}, Accuracy: {model_accuracy}\")"
      ],
      "execution_count": null,
      "outputs": [
        {
          "output_type": "stream",
          "text": [
            "898/898 - 1s - loss: 3.1718 - accuracy: 0.2196\n",
            "Normal Neural Network - Loss: 3.171797513961792, Accuracy: 0.21959035098552704\n"
          ],
          "name": "stdout"
        }
      ]
    },
    {
      "cell_type": "code",
      "metadata": {
        "id": "tzI_azQX7lzR",
        "colab_type": "code",
        "colab": {
          "base_uri": "https://localhost:8080/",
          "height": 88
        },
        "outputId": "8b3e7f00-c001-44e4-a9cf-3a85bb226fab"
      },
      "source": [
        "encoded_predictions = model.predict_classes(X_test_scaled[:5])\n",
        "prediction_labels = label_encoder.inverse_transform(encoded_predictions)"
      ],
      "execution_count": null,
      "outputs": [
        {
          "output_type": "stream",
          "text": [
            "WARNING:tensorflow:From <ipython-input-71-4db8b0f5c0b2>:1: Sequential.predict_classes (from tensorflow.python.keras.engine.sequential) is deprecated and will be removed after 2021-01-01.\n",
            "Instructions for updating:\n",
            "Please use instead:* `np.argmax(model.predict(x), axis=-1)`,   if your model does multi-class classification   (e.g. if it uses a `softmax` last-layer activation).* `(model.predict(x) > 0.5).astype(\"int32\")`,   if your model does binary classification   (e.g. if it uses a `sigmoid` last-layer activation).\n"
          ],
          "name": "stdout"
        }
      ]
    },
    {
      "cell_type": "code",
      "metadata": {
        "id": "IuWQoQJc7ltb",
        "colab_type": "code",
        "colab": {
          "base_uri": "https://localhost:8080/",
          "height": 51
        },
        "outputId": "e4cd945c-c756-440e-f24b-c2aac905a779"
      },
      "source": [
        "print(f\"Predicted classes: {prediction_labels}\")\n",
        "print(f\"Actual Labels: {list(y_test[:5])}\")"
      ],
      "execution_count": null,
      "outputs": [
        {
          "output_type": "stream",
          "text": [
            "Predicted classes: ['pagode' 'minimal-techno' 'rock-n-roll' 'guitar' 'indian']\n",
            "Actual Labels: ['rock-n-roll', 'minimal-techno', 'rock-n-roll', 'dub', 'forro']\n"
          ],
          "name": "stdout"
        }
      ]
    },
    {
      "cell_type": "code",
      "metadata": {
        "id": "2YqzhcXo7lqr",
        "colab_type": "code",
        "colab": {}
      },
      "source": [
        ""
      ],
      "execution_count": null,
      "outputs": []
    },
    {
      "cell_type": "markdown",
      "metadata": {
        "id": "CqRkshkNvhE4",
        "colab_type": "text"
      },
      "source": [
        "## Now trying it with less features"
      ]
    },
    {
      "cell_type": "code",
      "metadata": {
        "id": "LtQsdWk5vsm3",
        "colab_type": "code",
        "colab": {
          "base_uri": "https://localhost:8080/",
          "height": 419
        },
        "outputId": "c7b54a87-8cb8-4e45-ea04-ef3323da3e6e"
      },
      "source": [
        "ML_df"
      ],
      "execution_count": null,
      "outputs": [
        {
          "output_type": "execute_result",
          "data": {
            "text/html": [
              "<div>\n",
              "<style scoped>\n",
              "    .dataframe tbody tr th:only-of-type {\n",
              "        vertical-align: middle;\n",
              "    }\n",
              "\n",
              "    .dataframe tbody tr th {\n",
              "        vertical-align: top;\n",
              "    }\n",
              "\n",
              "    .dataframe thead th {\n",
              "        text-align: right;\n",
              "    }\n",
              "</style>\n",
              "<table border=\"1\" class=\"dataframe\">\n",
              "  <thead>\n",
              "    <tr style=\"text-align: right;\">\n",
              "      <th></th>\n",
              "      <th>genre_name</th>\n",
              "      <th>danceability</th>\n",
              "      <th>energy</th>\n",
              "      <th>key</th>\n",
              "      <th>loudness</th>\n",
              "      <th>mode</th>\n",
              "      <th>speechiness</th>\n",
              "      <th>acousticness</th>\n",
              "      <th>instrumentalness</th>\n",
              "      <th>liveness</th>\n",
              "      <th>valence</th>\n",
              "      <th>tempo</th>\n",
              "      <th>duration_ms</th>\n",
              "    </tr>\n",
              "  </thead>\n",
              "  <tbody>\n",
              "    <tr>\n",
              "      <th>0</th>\n",
              "      <td>acoustic</td>\n",
              "      <td>0.686</td>\n",
              "      <td>0.457</td>\n",
              "      <td>11</td>\n",
              "      <td>-8.322</td>\n",
              "      <td>1</td>\n",
              "      <td>0.0468</td>\n",
              "      <td>0.59500</td>\n",
              "      <td>0.000000</td>\n",
              "      <td>0.1050</td>\n",
              "      <td>0.718</td>\n",
              "      <td>150.953</td>\n",
              "      <td>242187</td>\n",
              "    </tr>\n",
              "    <tr>\n",
              "      <th>1</th>\n",
              "      <td>acoustic</td>\n",
              "      <td>0.618</td>\n",
              "      <td>0.443</td>\n",
              "      <td>2</td>\n",
              "      <td>-9.681</td>\n",
              "      <td>1</td>\n",
              "      <td>0.0526</td>\n",
              "      <td>0.46900</td>\n",
              "      <td>0.000000</td>\n",
              "      <td>0.0829</td>\n",
              "      <td>0.167</td>\n",
              "      <td>119.949</td>\n",
              "      <td>198853</td>\n",
              "    </tr>\n",
              "    <tr>\n",
              "      <th>2</th>\n",
              "      <td>acoustic</td>\n",
              "      <td>0.672</td>\n",
              "      <td>0.623</td>\n",
              "      <td>9</td>\n",
              "      <td>-5.699</td>\n",
              "      <td>1</td>\n",
              "      <td>0.0297</td>\n",
              "      <td>0.24100</td>\n",
              "      <td>0.000000</td>\n",
              "      <td>0.0848</td>\n",
              "      <td>0.617</td>\n",
              "      <td>92.018</td>\n",
              "      <td>215173</td>\n",
              "    </tr>\n",
              "    <tr>\n",
              "      <th>3</th>\n",
              "      <td>acoustic</td>\n",
              "      <td>0.583</td>\n",
              "      <td>0.786</td>\n",
              "      <td>2</td>\n",
              "      <td>-3.142</td>\n",
              "      <td>0</td>\n",
              "      <td>0.0301</td>\n",
              "      <td>0.02080</td>\n",
              "      <td>0.000000</td>\n",
              "      <td>0.1880</td>\n",
              "      <td>0.573</td>\n",
              "      <td>123.052</td>\n",
              "      <td>258827</td>\n",
              "    </tr>\n",
              "    <tr>\n",
              "      <th>4</th>\n",
              "      <td>acoustic</td>\n",
              "      <td>0.585</td>\n",
              "      <td>0.303</td>\n",
              "      <td>4</td>\n",
              "      <td>-10.058</td>\n",
              "      <td>1</td>\n",
              "      <td>0.0398</td>\n",
              "      <td>0.69400</td>\n",
              "      <td>0.000000</td>\n",
              "      <td>0.1150</td>\n",
              "      <td>0.142</td>\n",
              "      <td>136.703</td>\n",
              "      <td>240166</td>\n",
              "    </tr>\n",
              "    <tr>\n",
              "      <th>...</th>\n",
              "      <td>...</td>\n",
              "      <td>...</td>\n",
              "      <td>...</td>\n",
              "      <td>...</td>\n",
              "      <td>...</td>\n",
              "      <td>...</td>\n",
              "      <td>...</td>\n",
              "      <td>...</td>\n",
              "      <td>...</td>\n",
              "      <td>...</td>\n",
              "      <td>...</td>\n",
              "      <td>...</td>\n",
              "      <td>...</td>\n",
              "    </tr>\n",
              "    <tr>\n",
              "      <th>114826</th>\n",
              "      <td>world-music</td>\n",
              "      <td>0.669</td>\n",
              "      <td>0.729</td>\n",
              "      <td>6</td>\n",
              "      <td>-5.236</td>\n",
              "      <td>1</td>\n",
              "      <td>0.0347</td>\n",
              "      <td>0.01390</td>\n",
              "      <td>0.000000</td>\n",
              "      <td>0.0990</td>\n",
              "      <td>0.400</td>\n",
              "      <td>128.983</td>\n",
              "      <td>232680</td>\n",
              "    </tr>\n",
              "    <tr>\n",
              "      <th>114827</th>\n",
              "      <td>world-music</td>\n",
              "      <td>0.428</td>\n",
              "      <td>0.493</td>\n",
              "      <td>7</td>\n",
              "      <td>-7.387</td>\n",
              "      <td>1</td>\n",
              "      <td>0.0287</td>\n",
              "      <td>0.17000</td>\n",
              "      <td>0.000000</td>\n",
              "      <td>0.2540</td>\n",
              "      <td>0.220</td>\n",
              "      <td>76.854</td>\n",
              "      <td>313387</td>\n",
              "    </tr>\n",
              "    <tr>\n",
              "      <th>114828</th>\n",
              "      <td>world-music</td>\n",
              "      <td>0.442</td>\n",
              "      <td>0.388</td>\n",
              "      <td>2</td>\n",
              "      <td>-10.186</td>\n",
              "      <td>1</td>\n",
              "      <td>0.0286</td>\n",
              "      <td>0.68300</td>\n",
              "      <td>0.000010</td>\n",
              "      <td>0.1390</td>\n",
              "      <td>0.215</td>\n",
              "      <td>101.990</td>\n",
              "      <td>379348</td>\n",
              "    </tr>\n",
              "    <tr>\n",
              "      <th>114829</th>\n",
              "      <td>world-music</td>\n",
              "      <td>0.402</td>\n",
              "      <td>0.856</td>\n",
              "      <td>11</td>\n",
              "      <td>-6.410</td>\n",
              "      <td>1</td>\n",
              "      <td>0.0414</td>\n",
              "      <td>0.00119</td>\n",
              "      <td>0.000005</td>\n",
              "      <td>0.0892</td>\n",
              "      <td>0.155</td>\n",
              "      <td>156.008</td>\n",
              "      <td>382027</td>\n",
              "    </tr>\n",
              "    <tr>\n",
              "      <th>114830</th>\n",
              "      <td>world-music</td>\n",
              "      <td>0.632</td>\n",
              "      <td>0.806</td>\n",
              "      <td>7</td>\n",
              "      <td>-3.711</td>\n",
              "      <td>1</td>\n",
              "      <td>0.0294</td>\n",
              "      <td>0.00185</td>\n",
              "      <td>0.000018</td>\n",
              "      <td>0.1730</td>\n",
              "      <td>0.475</td>\n",
              "      <td>105.032</td>\n",
              "      <td>209147</td>\n",
              "    </tr>\n",
              "  </tbody>\n",
              "</table>\n",
              "<p>114831 rows × 13 columns</p>\n",
              "</div>"
            ],
            "text/plain": [
              "         genre_name  danceability  energy  ...  valence    tempo  duration_ms\n",
              "0          acoustic         0.686   0.457  ...    0.718  150.953       242187\n",
              "1          acoustic         0.618   0.443  ...    0.167  119.949       198853\n",
              "2          acoustic         0.672   0.623  ...    0.617   92.018       215173\n",
              "3          acoustic         0.583   0.786  ...    0.573  123.052       258827\n",
              "4          acoustic         0.585   0.303  ...    0.142  136.703       240166\n",
              "...             ...           ...     ...  ...      ...      ...          ...\n",
              "114826  world-music         0.669   0.729  ...    0.400  128.983       232680\n",
              "114827  world-music         0.428   0.493  ...    0.220   76.854       313387\n",
              "114828  world-music         0.442   0.388  ...    0.215  101.990       379348\n",
              "114829  world-music         0.402   0.856  ...    0.155  156.008       382027\n",
              "114830  world-music         0.632   0.806  ...    0.475  105.032       209147\n",
              "\n",
              "[114831 rows x 13 columns]"
            ]
          },
          "metadata": {
            "tags": []
          },
          "execution_count": 294
        }
      ]
    },
    {
      "cell_type": "code",
      "metadata": {
        "id": "Nx5mgOjUvnl9",
        "colab_type": "code",
        "colab": {
          "base_uri": "https://localhost:8080/",
          "height": 204
        },
        "outputId": "0dd31bb5-181c-4891-e294-446d0c3b2038"
      },
      "source": [
        "ML_df_2 = ML_df.drop(['mode'], axis=1)\n",
        "ML_df_2.head()"
      ],
      "execution_count": null,
      "outputs": [
        {
          "output_type": "execute_result",
          "data": {
            "text/html": [
              "<div>\n",
              "<style scoped>\n",
              "    .dataframe tbody tr th:only-of-type {\n",
              "        vertical-align: middle;\n",
              "    }\n",
              "\n",
              "    .dataframe tbody tr th {\n",
              "        vertical-align: top;\n",
              "    }\n",
              "\n",
              "    .dataframe thead th {\n",
              "        text-align: right;\n",
              "    }\n",
              "</style>\n",
              "<table border=\"1\" class=\"dataframe\">\n",
              "  <thead>\n",
              "    <tr style=\"text-align: right;\">\n",
              "      <th></th>\n",
              "      <th>genre_name</th>\n",
              "      <th>danceability</th>\n",
              "      <th>energy</th>\n",
              "      <th>key</th>\n",
              "      <th>loudness</th>\n",
              "      <th>speechiness</th>\n",
              "      <th>acousticness</th>\n",
              "      <th>instrumentalness</th>\n",
              "      <th>liveness</th>\n",
              "      <th>valence</th>\n",
              "      <th>tempo</th>\n",
              "      <th>duration_ms</th>\n",
              "    </tr>\n",
              "  </thead>\n",
              "  <tbody>\n",
              "    <tr>\n",
              "      <th>0</th>\n",
              "      <td>acoustic</td>\n",
              "      <td>0.686</td>\n",
              "      <td>0.457</td>\n",
              "      <td>11</td>\n",
              "      <td>-8.322</td>\n",
              "      <td>0.0468</td>\n",
              "      <td>0.5950</td>\n",
              "      <td>0.0</td>\n",
              "      <td>0.1050</td>\n",
              "      <td>0.718</td>\n",
              "      <td>150.953</td>\n",
              "      <td>242187</td>\n",
              "    </tr>\n",
              "    <tr>\n",
              "      <th>1</th>\n",
              "      <td>acoustic</td>\n",
              "      <td>0.618</td>\n",
              "      <td>0.443</td>\n",
              "      <td>2</td>\n",
              "      <td>-9.681</td>\n",
              "      <td>0.0526</td>\n",
              "      <td>0.4690</td>\n",
              "      <td>0.0</td>\n",
              "      <td>0.0829</td>\n",
              "      <td>0.167</td>\n",
              "      <td>119.949</td>\n",
              "      <td>198853</td>\n",
              "    </tr>\n",
              "    <tr>\n",
              "      <th>2</th>\n",
              "      <td>acoustic</td>\n",
              "      <td>0.672</td>\n",
              "      <td>0.623</td>\n",
              "      <td>9</td>\n",
              "      <td>-5.699</td>\n",
              "      <td>0.0297</td>\n",
              "      <td>0.2410</td>\n",
              "      <td>0.0</td>\n",
              "      <td>0.0848</td>\n",
              "      <td>0.617</td>\n",
              "      <td>92.018</td>\n",
              "      <td>215173</td>\n",
              "    </tr>\n",
              "    <tr>\n",
              "      <th>3</th>\n",
              "      <td>acoustic</td>\n",
              "      <td>0.583</td>\n",
              "      <td>0.786</td>\n",
              "      <td>2</td>\n",
              "      <td>-3.142</td>\n",
              "      <td>0.0301</td>\n",
              "      <td>0.0208</td>\n",
              "      <td>0.0</td>\n",
              "      <td>0.1880</td>\n",
              "      <td>0.573</td>\n",
              "      <td>123.052</td>\n",
              "      <td>258827</td>\n",
              "    </tr>\n",
              "    <tr>\n",
              "      <th>4</th>\n",
              "      <td>acoustic</td>\n",
              "      <td>0.585</td>\n",
              "      <td>0.303</td>\n",
              "      <td>4</td>\n",
              "      <td>-10.058</td>\n",
              "      <td>0.0398</td>\n",
              "      <td>0.6940</td>\n",
              "      <td>0.0</td>\n",
              "      <td>0.1150</td>\n",
              "      <td>0.142</td>\n",
              "      <td>136.703</td>\n",
              "      <td>240166</td>\n",
              "    </tr>\n",
              "  </tbody>\n",
              "</table>\n",
              "</div>"
            ],
            "text/plain": [
              "  genre_name  danceability  energy  ...  valence    tempo  duration_ms\n",
              "0   acoustic         0.686   0.457  ...    0.718  150.953       242187\n",
              "1   acoustic         0.618   0.443  ...    0.167  119.949       198853\n",
              "2   acoustic         0.672   0.623  ...    0.617   92.018       215173\n",
              "3   acoustic         0.583   0.786  ...    0.573  123.052       258827\n",
              "4   acoustic         0.585   0.303  ...    0.142  136.703       240166\n",
              "\n",
              "[5 rows x 12 columns]"
            ]
          },
          "metadata": {
            "tags": []
          },
          "execution_count": 370
        }
      ]
    },
    {
      "cell_type": "code",
      "metadata": {
        "id": "0j_44yN4vlt3",
        "colab_type": "code",
        "colab": {
          "base_uri": "https://localhost:8080/",
          "height": 34
        },
        "outputId": "d509ec04-d092-4313-8a28-e880368da012"
      },
      "source": [
        "# Assign X (data) and y (target)\n",
        "X = ML_df_2.drop(\"genre_name\", axis=1)\n",
        "y = ML_df_2[\"genre_name\"]\n",
        "print(X.shape, y.shape)"
      ],
      "execution_count": null,
      "outputs": [
        {
          "output_type": "stream",
          "text": [
            "(114831, 11) (114831,)\n"
          ],
          "name": "stdout"
        }
      ]
    },
    {
      "cell_type": "code",
      "metadata": {
        "id": "QwzficeSwFT_",
        "colab_type": "code",
        "colab": {}
      },
      "source": [
        "from sklearn.model_selection import train_test_split\n",
        "from sklearn.preprocessing import LabelEncoder, MinMaxScaler\n",
        "from tensorflow.keras.utils import to_categorical"
      ],
      "execution_count": null,
      "outputs": []
    },
    {
      "cell_type": "code",
      "metadata": {
        "id": "EUlB4hJ4wM5H",
        "colab_type": "code",
        "colab": {}
      },
      "source": [
        "X_train, X_test, y_train, y_test = train_test_split(\n",
        "    X, y, stratify=y)"
      ],
      "execution_count": null,
      "outputs": []
    },
    {
      "cell_type": "code",
      "metadata": {
        "id": "mnVfOplfwNdm",
        "colab_type": "code",
        "colab": {}
      },
      "source": [
        "X_scaler = MinMaxScaler().fit(X_train)\n",
        "X_train_scaled = X_scaler.transform(X_train)\n",
        "X_test_scaled = X_scaler.transform(X_test)"
      ],
      "execution_count": null,
      "outputs": []
    },
    {
      "cell_type": "code",
      "metadata": {
        "id": "DTEh3VUSwNqw",
        "colab_type": "code",
        "colab": {}
      },
      "source": [
        "# Step 1: Label-encode data set\n",
        "label_encoder = LabelEncoder()\n",
        "label_encoder.fit(y_train)\n",
        "encoded_y_train = label_encoder.transform(y_train)\n",
        "encoded_y_test = label_encoder.transform(y_test)"
      ],
      "execution_count": null,
      "outputs": []
    },
    {
      "cell_type": "code",
      "metadata": {
        "id": "afbt3aWUwNSp",
        "colab_type": "code",
        "colab": {}
      },
      "source": [
        "# Step 2: Convert encoded labels to one-hot-encoding\n",
        "y_train_categorical = to_categorical(encoded_y_train)\n",
        "y_test_categorical = to_categorical(encoded_y_test)"
      ],
      "execution_count": null,
      "outputs": []
    },
    {
      "cell_type": "code",
      "metadata": {
        "id": "0ps9n71uwMvI",
        "colab_type": "code",
        "colab": {}
      },
      "source": [
        "from tensorflow.keras.models import Sequential\n",
        "from tensorflow.keras.layers import Dense"
      ],
      "execution_count": null,
      "outputs": []
    },
    {
      "cell_type": "code",
      "metadata": {
        "id": "DqtG55X1wiIb",
        "colab_type": "code",
        "colab": {}
      },
      "source": [
        "# Create model and add layers\n",
        "model = Sequential()\n",
        "model.add(Dense(units=111, activation='relu', input_dim=11))\n",
        "# model.add(Dense(units=111, activation='sigmoid'))\n",
        "# model.add(Dense(units=111, activation='sigmoid'))\n",
        "# model.add(Dense(units=111, activation='sigmoid'))\n",
        "model.add(Dense(units=111, activation='relu'))\n",
        "model.add(Dense(units=111, activation='relu'))\n",
        "model.add(Dense(units=111, activation='relu'))\n",
        "# model.add(Dense(units=111, activation='softmax'))\n",
        "model.add(Dense(units=111, activation='softplus'))\n",
        "# model.add(Dense(units=111, activation='softsign'))\n"
      ],
      "execution_count": null,
      "outputs": []
    },
    {
      "cell_type": "code",
      "metadata": {
        "id": "ucmlrhH3wiZl",
        "colab_type": "code",
        "colab": {}
      },
      "source": [
        "# Compile and fit the model\n",
        "model.compile(optimizer='adam',\n",
        "              loss='categorical_crossentropy',\n",
        "              metrics=['accuracy'])"
      ],
      "execution_count": null,
      "outputs": []
    },
    {
      "cell_type": "code",
      "metadata": {
        "id": "jFIxfxO8wh7K",
        "colab_type": "code",
        "colab": {
          "base_uri": "https://localhost:8080/",
          "height": 323
        },
        "outputId": "de2883f4-e4bc-4fc1-ecaf-bcf6aad76e9a"
      },
      "source": [
        "model.summary()"
      ],
      "execution_count": null,
      "outputs": [
        {
          "output_type": "stream",
          "text": [
            "Model: \"sequential_45\"\n",
            "_________________________________________________________________\n",
            "Layer (type)                 Output Shape              Param #   \n",
            "=================================================================\n",
            "dense_148 (Dense)            (None, 111)               1332      \n",
            "_________________________________________________________________\n",
            "dense_149 (Dense)            (None, 111)               12432     \n",
            "_________________________________________________________________\n",
            "dense_150 (Dense)            (None, 111)               12432     \n",
            "_________________________________________________________________\n",
            "dense_151 (Dense)            (None, 111)               12432     \n",
            "_________________________________________________________________\n",
            "dense_152 (Dense)            (None, 111)               12432     \n",
            "=================================================================\n",
            "Total params: 51,060\n",
            "Trainable params: 51,060\n",
            "Non-trainable params: 0\n",
            "_________________________________________________________________\n"
          ],
          "name": "stdout"
        }
      ]
    },
    {
      "cell_type": "code",
      "metadata": {
        "id": "fzxKcfWvwno4",
        "colab_type": "code",
        "colab": {
          "base_uri": "https://localhost:8080/",
          "height": 1000
        },
        "outputId": "dc65919a-a60a-4290-fc69-5134636adad6"
      },
      "source": [
        "model.fit(\n",
        "    X_train_scaled,\n",
        "    y_train_categorical,\n",
        "    epochs=100,\n",
        "    shuffle=True,\n",
        "    verbose=2\n",
        ")"
      ],
      "execution_count": null,
      "outputs": [
        {
          "output_type": "stream",
          "text": [
            "Epoch 1/100\n",
            "2692/2692 - 6s - loss: 3.0092 - accuracy: 0.2479\n",
            "Epoch 2/100\n",
            "2692/2692 - 6s - loss: 2.9912 - accuracy: 0.2512\n",
            "Epoch 3/100\n",
            "2692/2692 - 6s - loss: 2.9734 - accuracy: 0.2545\n",
            "Epoch 4/100\n",
            "2692/2692 - 6s - loss: 2.9595 - accuracy: 0.2574\n",
            "Epoch 5/100\n",
            "2692/2692 - 6s - loss: 2.9485 - accuracy: 0.2591\n",
            "Epoch 6/100\n",
            "2692/2692 - 6s - loss: 2.9384 - accuracy: 0.2595\n",
            "Epoch 7/100\n",
            "2692/2692 - 6s - loss: 2.9237 - accuracy: 0.2642\n",
            "Epoch 8/100\n",
            "2692/2692 - 6s - loss: 2.9150 - accuracy: 0.2649\n",
            "Epoch 9/100\n",
            "2692/2692 - 6s - loss: 2.9083 - accuracy: 0.2679\n",
            "Epoch 10/100\n",
            "2692/2692 - 6s - loss: 2.8975 - accuracy: 0.2682\n",
            "Epoch 11/100\n",
            "2692/2692 - 6s - loss: 2.8881 - accuracy: 0.2706\n",
            "Epoch 12/100\n",
            "2692/2692 - 6s - loss: 2.8821 - accuracy: 0.2704\n",
            "Epoch 13/100\n",
            "2692/2692 - 6s - loss: 2.8730 - accuracy: 0.2725\n",
            "Epoch 14/100\n",
            "2692/2692 - 6s - loss: 2.8676 - accuracy: 0.2748\n",
            "Epoch 15/100\n",
            "2692/2692 - 6s - loss: 2.8583 - accuracy: 0.2755\n",
            "Epoch 16/100\n",
            "2692/2692 - 6s - loss: 2.8543 - accuracy: 0.2758\n",
            "Epoch 17/100\n",
            "2692/2692 - 6s - loss: 2.8458 - accuracy: 0.2782\n",
            "Epoch 18/100\n",
            "2692/2692 - 6s - loss: 2.8406 - accuracy: 0.2793\n",
            "Epoch 19/100\n",
            "2692/2692 - 6s - loss: 2.8309 - accuracy: 0.2804\n",
            "Epoch 20/100\n",
            "2692/2692 - 6s - loss: 2.8289 - accuracy: 0.2821\n",
            "Epoch 21/100\n",
            "2692/2692 - 6s - loss: 2.8233 - accuracy: 0.2818\n",
            "Epoch 22/100\n",
            "2692/2692 - 6s - loss: 2.8173 - accuracy: 0.2828\n",
            "Epoch 23/100\n",
            "2692/2692 - 6s - loss: 2.8114 - accuracy: 0.2850\n",
            "Epoch 24/100\n",
            "2692/2692 - 6s - loss: 2.8038 - accuracy: 0.2856\n",
            "Epoch 25/100\n",
            "2692/2692 - 6s - loss: 2.8005 - accuracy: 0.2859\n",
            "Epoch 26/100\n",
            "2692/2692 - 6s - loss: 2.7956 - accuracy: 0.2866\n",
            "Epoch 27/100\n",
            "2692/2692 - 6s - loss: 2.7904 - accuracy: 0.2884\n",
            "Epoch 28/100\n",
            "2692/2692 - 6s - loss: 2.7887 - accuracy: 0.2890\n",
            "Epoch 29/100\n",
            "2692/2692 - 6s - loss: 2.7808 - accuracy: 0.2908\n",
            "Epoch 30/100\n",
            "2692/2692 - 6s - loss: 2.7774 - accuracy: 0.2914\n",
            "Epoch 31/100\n",
            "2692/2692 - 6s - loss: 2.7717 - accuracy: 0.2920\n",
            "Epoch 32/100\n",
            "2692/2692 - 6s - loss: 2.7687 - accuracy: 0.2930\n",
            "Epoch 33/100\n",
            "2692/2692 - 6s - loss: 2.7637 - accuracy: 0.2945\n",
            "Epoch 34/100\n",
            "2692/2692 - 6s - loss: 2.7611 - accuracy: 0.2941\n",
            "Epoch 35/100\n",
            "2692/2692 - 6s - loss: 2.7558 - accuracy: 0.2941\n",
            "Epoch 36/100\n",
            "2692/2692 - 6s - loss: 2.7506 - accuracy: 0.2964\n",
            "Epoch 37/100\n",
            "2692/2692 - 6s - loss: 2.7470 - accuracy: 0.2952\n",
            "Epoch 38/100\n",
            "2692/2692 - 6s - loss: 2.7438 - accuracy: 0.2958\n",
            "Epoch 39/100\n",
            "2692/2692 - 6s - loss: 2.7404 - accuracy: 0.2972\n",
            "Epoch 40/100\n",
            "2692/2692 - 6s - loss: 2.7363 - accuracy: 0.2982\n",
            "Epoch 41/100\n",
            "2692/2692 - 6s - loss: 2.7338 - accuracy: 0.2979\n",
            "Epoch 42/100\n",
            "2692/2692 - 6s - loss: 2.7307 - accuracy: 0.2993\n",
            "Epoch 43/100\n",
            "2692/2692 - 6s - loss: 2.7265 - accuracy: 0.2983\n",
            "Epoch 44/100\n",
            "2692/2692 - 6s - loss: 2.7242 - accuracy: 0.3007\n",
            "Epoch 45/100\n",
            "2692/2692 - 6s - loss: 2.7202 - accuracy: 0.3010\n",
            "Epoch 46/100\n",
            "2692/2692 - 6s - loss: 2.7159 - accuracy: 0.3008\n",
            "Epoch 47/100\n",
            "2692/2692 - 6s - loss: 2.7141 - accuracy: 0.3016\n",
            "Epoch 48/100\n",
            "2692/2692 - 6s - loss: 2.7111 - accuracy: 0.3026\n",
            "Epoch 49/100\n",
            "2692/2692 - 6s - loss: 2.7059 - accuracy: 0.3043\n",
            "Epoch 50/100\n",
            "2692/2692 - 6s - loss: 2.7057 - accuracy: 0.3051\n",
            "Epoch 51/100\n",
            "2692/2692 - 6s - loss: 2.7004 - accuracy: 0.3049\n",
            "Epoch 52/100\n",
            "2692/2692 - 6s - loss: 2.6984 - accuracy: 0.3056\n",
            "Epoch 53/100\n",
            "2692/2692 - 6s - loss: 2.6942 - accuracy: 0.3059\n",
            "Epoch 54/100\n",
            "2692/2692 - 6s - loss: 2.6924 - accuracy: 0.3063\n",
            "Epoch 55/100\n",
            "2692/2692 - 6s - loss: 2.6901 - accuracy: 0.3080\n",
            "Epoch 56/100\n",
            "2692/2692 - 6s - loss: 2.6860 - accuracy: 0.3071\n",
            "Epoch 57/100\n",
            "2692/2692 - 6s - loss: 2.6852 - accuracy: 0.3068\n",
            "Epoch 58/100\n",
            "2692/2692 - 6s - loss: 2.6822 - accuracy: 0.3072\n",
            "Epoch 59/100\n",
            "2692/2692 - 6s - loss: 2.6794 - accuracy: 0.3083\n",
            "Epoch 60/100\n",
            "2692/2692 - 6s - loss: 2.6755 - accuracy: 0.3096\n",
            "Epoch 61/100\n",
            "2692/2692 - 6s - loss: 2.6705 - accuracy: 0.3101\n",
            "Epoch 62/100\n",
            "2692/2692 - 6s - loss: 2.6704 - accuracy: 0.3087\n",
            "Epoch 63/100\n",
            "2692/2692 - 6s - loss: 2.6676 - accuracy: 0.3110\n",
            "Epoch 64/100\n",
            "2692/2692 - 6s - loss: 2.6639 - accuracy: 0.3101\n",
            "Epoch 65/100\n",
            "2692/2692 - 6s - loss: 2.6675 - accuracy: 0.3108\n",
            "Epoch 66/100\n",
            "2692/2692 - 6s - loss: 2.6603 - accuracy: 0.3129\n",
            "Epoch 67/100\n",
            "2692/2692 - 6s - loss: 2.6590 - accuracy: 0.3119\n",
            "Epoch 68/100\n",
            "2692/2692 - 6s - loss: 2.6560 - accuracy: 0.3140\n",
            "Epoch 69/100\n",
            "2692/2692 - 6s - loss: 2.6536 - accuracy: 0.3152\n",
            "Epoch 70/100\n",
            "2692/2692 - 6s - loss: 2.6520 - accuracy: 0.3138\n",
            "Epoch 71/100\n",
            "2692/2692 - 6s - loss: 2.6503 - accuracy: 0.3133\n",
            "Epoch 72/100\n",
            "2692/2692 - 6s - loss: 2.6472 - accuracy: 0.3158\n",
            "Epoch 73/100\n",
            "2692/2692 - 6s - loss: 2.6445 - accuracy: 0.3165\n",
            "Epoch 74/100\n",
            "2692/2692 - 5s - loss: 2.6419 - accuracy: 0.3163\n",
            "Epoch 75/100\n",
            "2692/2692 - 6s - loss: 2.6399 - accuracy: 0.3163\n",
            "Epoch 76/100\n",
            "2692/2692 - 6s - loss: 2.6376 - accuracy: 0.3158\n",
            "Epoch 77/100\n",
            "2692/2692 - 5s - loss: 2.6337 - accuracy: 0.3184\n",
            "Epoch 78/100\n",
            "2692/2692 - 6s - loss: 2.6317 - accuracy: 0.3180\n",
            "Epoch 79/100\n",
            "2692/2692 - 5s - loss: 2.6304 - accuracy: 0.3182\n",
            "Epoch 80/100\n",
            "2692/2692 - 5s - loss: 2.6297 - accuracy: 0.3188\n",
            "Epoch 81/100\n",
            "2692/2692 - 6s - loss: 2.6271 - accuracy: 0.3198\n",
            "Epoch 82/100\n",
            "2692/2692 - 5s - loss: 2.6229 - accuracy: 0.3194\n",
            "Epoch 83/100\n",
            "2692/2692 - 6s - loss: 2.6246 - accuracy: 0.3196\n",
            "Epoch 84/100\n",
            "2692/2692 - 6s - loss: 2.6211 - accuracy: 0.3198\n",
            "Epoch 85/100\n",
            "2692/2692 - 6s - loss: 2.6204 - accuracy: 0.3210\n",
            "Epoch 86/100\n",
            "2692/2692 - 6s - loss: 2.6188 - accuracy: 0.3207\n",
            "Epoch 87/100\n",
            "2692/2692 - 5s - loss: 2.6158 - accuracy: 0.3218\n",
            "Epoch 88/100\n",
            "2692/2692 - 5s - loss: 2.6176 - accuracy: 0.3215\n",
            "Epoch 89/100\n",
            "2692/2692 - 6s - loss: 2.6123 - accuracy: 0.3212\n",
            "Epoch 90/100\n",
            "2692/2692 - 5s - loss: 2.6123 - accuracy: 0.3216\n",
            "Epoch 91/100\n",
            "2692/2692 - 5s - loss: nan - accuracy: 0.0133\n",
            "Epoch 92/100\n",
            "2692/2692 - 6s - loss: nan - accuracy: 0.0124\n",
            "Epoch 93/100\n",
            "2692/2692 - 5s - loss: nan - accuracy: 0.0124\n",
            "Epoch 94/100\n",
            "2692/2692 - 6s - loss: nan - accuracy: 0.0124\n",
            "Epoch 95/100\n",
            "2692/2692 - 5s - loss: nan - accuracy: 0.0124\n",
            "Epoch 96/100\n",
            "2692/2692 - 6s - loss: nan - accuracy: 0.0124\n",
            "Epoch 97/100\n",
            "2692/2692 - 6s - loss: nan - accuracy: 0.0124\n",
            "Epoch 98/100\n",
            "2692/2692 - 6s - loss: nan - accuracy: 0.0124\n",
            "Epoch 99/100\n",
            "2692/2692 - 5s - loss: nan - accuracy: 0.0124\n",
            "Epoch 100/100\n",
            "2692/2692 - 6s - loss: nan - accuracy: 0.0124\n"
          ],
          "name": "stdout"
        },
        {
          "output_type": "execute_result",
          "data": {
            "text/plain": [
              "<tensorflow.python.keras.callbacks.History at 0x7f512c8deef0>"
            ]
          },
          "metadata": {
            "tags": []
          },
          "execution_count": 407
        }
      ]
    },
    {
      "cell_type": "code",
      "metadata": {
        "id": "tNwCatGkwvZ6",
        "colab_type": "code",
        "colab": {
          "base_uri": "https://localhost:8080/",
          "height": 51
        },
        "outputId": "ad7635cd-d377-41df-e9b3-76c364b6e560"
      },
      "source": [
        "model_loss, model_accuracy = model.evaluate(\n",
        "    X_test_scaled, y_test_categorical, verbose=2)\n",
        "print(\n",
        "    f\"Normal Neural Network - Loss: {model_loss}, Accuracy: {model_accuracy}\")"
      ],
      "execution_count": null,
      "outputs": [
        {
          "output_type": "stream",
          "text": [
            "898/898 - 1s - loss: 3.0647 - accuracy: 0.2429\n",
            "Normal Neural Network - Loss: 3.064708948135376, Accuracy: 0.24292880296707153\n"
          ],
          "name": "stdout"
        }
      ]
    },
    {
      "cell_type": "markdown",
      "metadata": {
        "id": "MpwBPknpbcHO",
        "colab_type": "text"
      },
      "source": [
        "# Genre Dataframe Changed - Top 50 Genres"
      ]
    },
    {
      "cell_type": "code",
      "metadata": {
        "id": "QHNgZ73bbihU",
        "colab_type": "code",
        "colab": {
          "base_uri": "https://localhost:8080/",
          "height": 445
        },
        "outputId": "a17bf9bb-8cae-41c0-d19b-0217704bd0c7"
      },
      "source": [
        "df = pd.read_csv(os.path.join(\"spotify_df_2.csv\"))\n",
        "df.head()"
      ],
      "execution_count": null,
      "outputs": [
        {
          "output_type": "execute_result",
          "data": {
            "text/html": [
              "<div>\n",
              "<style scoped>\n",
              "    .dataframe tbody tr th:only-of-type {\n",
              "        vertical-align: middle;\n",
              "    }\n",
              "\n",
              "    .dataframe tbody tr th {\n",
              "        vertical-align: top;\n",
              "    }\n",
              "\n",
              "    .dataframe thead th {\n",
              "        text-align: right;\n",
              "    }\n",
              "</style>\n",
              "<table border=\"1\" class=\"dataframe\">\n",
              "  <thead>\n",
              "    <tr style=\"text-align: right;\">\n",
              "      <th></th>\n",
              "      <th>artist_name</th>\n",
              "      <th>track_name</th>\n",
              "      <th>track_id</th>\n",
              "      <th>artist_href</th>\n",
              "      <th>track_href</th>\n",
              "      <th>genre_name</th>\n",
              "      <th>danceability</th>\n",
              "      <th>energy</th>\n",
              "      <th>key</th>\n",
              "      <th>loudness</th>\n",
              "      <th>mode</th>\n",
              "      <th>speechiness</th>\n",
              "      <th>acousticness</th>\n",
              "      <th>instrumentalness</th>\n",
              "      <th>liveness</th>\n",
              "      <th>valence</th>\n",
              "      <th>tempo</th>\n",
              "      <th>duration_ms</th>\n",
              "    </tr>\n",
              "  </thead>\n",
              "  <tbody>\n",
              "    <tr>\n",
              "      <th>0</th>\n",
              "      <td>lil dicky</td>\n",
              "      <td>freaky friday (feat. chris brown)</td>\n",
              "      <td>10Igtw8bSDyyFs7KIsKngZ</td>\n",
              "      <td>https://open.spotify.com/artist/1tqhsYv8yBBdwA...</td>\n",
              "      <td>https://open.spotify.com/track/10Igtw8bSDyyFs7...</td>\n",
              "      <td>comedy</td>\n",
              "      <td>0.755</td>\n",
              "      <td>0.599</td>\n",
              "      <td>8</td>\n",
              "      <td>-5.042</td>\n",
              "      <td>1</td>\n",
              "      <td>0.2240</td>\n",
              "      <td>0.147</td>\n",
              "      <td>0.000000</td>\n",
              "      <td>0.109</td>\n",
              "      <td>0.755</td>\n",
              "      <td>133.123</td>\n",
              "      <td>216632</td>\n",
              "    </tr>\n",
              "    <tr>\n",
              "      <th>1</th>\n",
              "      <td>afroman</td>\n",
              "      <td>crazy rap (colt 45 &amp; 2 zig zags)</td>\n",
              "      <td>1ACZpHI5vZ5Ea4xGlkdGWM</td>\n",
              "      <td>https://open.spotify.com/artist/4Icvbp9RDt5aY2...</td>\n",
              "      <td>https://open.spotify.com/track/1ACZpHI5vZ5Ea4x...</td>\n",
              "      <td>comedy</td>\n",
              "      <td>0.927</td>\n",
              "      <td>0.367</td>\n",
              "      <td>9</td>\n",
              "      <td>-7.797</td>\n",
              "      <td>1</td>\n",
              "      <td>0.3820</td>\n",
              "      <td>0.325</td>\n",
              "      <td>0.000000</td>\n",
              "      <td>0.132</td>\n",
              "      <td>0.576</td>\n",
              "      <td>99.053</td>\n",
              "      <td>328667</td>\n",
              "    </tr>\n",
              "    <tr>\n",
              "      <th>2</th>\n",
              "      <td>lil dicky</td>\n",
              "      <td>molly (feat. brendon urie of panic at the disco)</td>\n",
              "      <td>0NBiC3zLXoBQXBjsbnbwJq</td>\n",
              "      <td>https://open.spotify.com/artist/1tqhsYv8yBBdwA...</td>\n",
              "      <td>https://open.spotify.com/track/0NBiC3zLXoBQXBj...</td>\n",
              "      <td>comedy</td>\n",
              "      <td>0.831</td>\n",
              "      <td>0.514</td>\n",
              "      <td>7</td>\n",
              "      <td>-6.695</td>\n",
              "      <td>1</td>\n",
              "      <td>0.0368</td>\n",
              "      <td>0.203</td>\n",
              "      <td>0.000156</td>\n",
              "      <td>0.115</td>\n",
              "      <td>0.397</td>\n",
              "      <td>114.940</td>\n",
              "      <td>244340</td>\n",
              "    </tr>\n",
              "    <tr>\n",
              "      <th>3</th>\n",
              "      <td>lil dicky</td>\n",
              "      <td>$ave dat money (feat. fetty wap &amp; rich homie q...</td>\n",
              "      <td>6AoYWCzsDls6c61Zp5qTuU</td>\n",
              "      <td>https://open.spotify.com/artist/1tqhsYv8yBBdwA...</td>\n",
              "      <td>https://open.spotify.com/track/6AoYWCzsDls6c61...</td>\n",
              "      <td>comedy</td>\n",
              "      <td>0.858</td>\n",
              "      <td>0.697</td>\n",
              "      <td>2</td>\n",
              "      <td>-5.361</td>\n",
              "      <td>1</td>\n",
              "      <td>0.2300</td>\n",
              "      <td>0.114</td>\n",
              "      <td>0.000000</td>\n",
              "      <td>0.224</td>\n",
              "      <td>0.364</td>\n",
              "      <td>98.012</td>\n",
              "      <td>290836</td>\n",
              "    </tr>\n",
              "    <tr>\n",
              "      <th>4</th>\n",
              "      <td>lil dicky</td>\n",
              "      <td>professional rapper (feat. snoop dogg)</td>\n",
              "      <td>1Ysc1uDZtf430TGavoS1j4</td>\n",
              "      <td>https://open.spotify.com/artist/1tqhsYv8yBBdwA...</td>\n",
              "      <td>https://open.spotify.com/track/1Ysc1uDZtf430TG...</td>\n",
              "      <td>comedy</td>\n",
              "      <td>0.685</td>\n",
              "      <td>0.621</td>\n",
              "      <td>11</td>\n",
              "      <td>-8.442</td>\n",
              "      <td>0</td>\n",
              "      <td>0.3610</td>\n",
              "      <td>0.433</td>\n",
              "      <td>0.000000</td>\n",
              "      <td>0.607</td>\n",
              "      <td>0.538</td>\n",
              "      <td>128.906</td>\n",
              "      <td>353960</td>\n",
              "    </tr>\n",
              "  </tbody>\n",
              "</table>\n",
              "</div>"
            ],
            "text/plain": [
              "  artist_name  ... duration_ms\n",
              "0   lil dicky  ...      216632\n",
              "1     afroman  ...      328667\n",
              "2   lil dicky  ...      244340\n",
              "3   lil dicky  ...      290836\n",
              "4   lil dicky  ...      353960\n",
              "\n",
              "[5 rows x 18 columns]"
            ]
          },
          "metadata": {
            "tags": []
          },
          "execution_count": 597
        }
      ]
    },
    {
      "cell_type": "code",
      "metadata": {
        "id": "O8MIAlAcb8xy",
        "colab_type": "code",
        "colab": {
          "base_uri": "https://localhost:8080/",
          "height": 357
        },
        "outputId": "929788aa-a1a1-4d88-cdbf-c32694b17465"
      },
      "source": [
        "ML_df = df.drop(['artist_name', 'track_name', 'track_id', 'artist_href', 'track_href'], axis=1)\n",
        "ML_df.info()"
      ],
      "execution_count": null,
      "outputs": [
        {
          "output_type": "stream",
          "text": [
            "<class 'pandas.core.frame.DataFrame'>\n",
            "RangeIndex: 89640 entries, 0 to 89639\n",
            "Data columns (total 13 columns):\n",
            " #   Column            Non-Null Count  Dtype  \n",
            "---  ------            --------------  -----  \n",
            " 0   genre_name        89640 non-null  object \n",
            " 1   danceability      89640 non-null  float64\n",
            " 2   energy            89640 non-null  float64\n",
            " 3   key               89640 non-null  int64  \n",
            " 4   loudness          89640 non-null  float64\n",
            " 5   mode              89640 non-null  int64  \n",
            " 6   speechiness       89640 non-null  float64\n",
            " 7   acousticness      89640 non-null  float64\n",
            " 8   instrumentalness  89640 non-null  float64\n",
            " 9   liveness          89640 non-null  float64\n",
            " 10  valence           89640 non-null  float64\n",
            " 11  tempo             89640 non-null  float64\n",
            " 12  duration_ms       89640 non-null  int64  \n",
            "dtypes: float64(9), int64(3), object(1)\n",
            "memory usage: 8.9+ MB\n"
          ],
          "name": "stdout"
        }
      ]
    },
    {
      "cell_type": "code",
      "metadata": {
        "id": "cwAcnxJicFSM",
        "colab_type": "code",
        "colab": {
          "base_uri": "https://localhost:8080/",
          "height": 34
        },
        "outputId": "c4399b7e-5629-4519-e013-ac5e9a8e6da7"
      },
      "source": [
        "X = ML_df.drop(\"genre_name\", axis=1)\n",
        "y = ML_df[\"genre_name\"]\n",
        "print(X.shape, y.shape)"
      ],
      "execution_count": null,
      "outputs": [
        {
          "output_type": "stream",
          "text": [
            "(89640, 12) (89640,)\n"
          ],
          "name": "stdout"
        }
      ]
    },
    {
      "cell_type": "code",
      "metadata": {
        "id": "Ou7U1j2RcLTK",
        "colab_type": "code",
        "colab": {}
      },
      "source": [
        "X_train, X_test, y_train, y_test = train_test_split(\n",
        "    X, y, stratify=y)"
      ],
      "execution_count": null,
      "outputs": []
    },
    {
      "cell_type": "code",
      "metadata": {
        "id": "6UCbFEWHcLcO",
        "colab_type": "code",
        "colab": {}
      },
      "source": [
        "X_scaler = MinMaxScaler().fit(X_train)\n",
        "X_train_scaled = X_scaler.transform(X_train)\n",
        "X_test_scaled = X_scaler.transform(X_test)"
      ],
      "execution_count": null,
      "outputs": []
    },
    {
      "cell_type": "code",
      "metadata": {
        "id": "XakC0tFVcLh2",
        "colab_type": "code",
        "colab": {}
      },
      "source": [
        "# Step 1: Label-encode data set\n",
        "label_encoder = LabelEncoder()\n",
        "label_encoder.fit(y_train)\n",
        "encoded_y_train = label_encoder.transform(y_train)\n",
        "encoded_y_test = label_encoder.transform(y_test)"
      ],
      "execution_count": null,
      "outputs": []
    },
    {
      "cell_type": "code",
      "metadata": {
        "id": "kS6xEXL4cLpj",
        "colab_type": "code",
        "colab": {}
      },
      "source": [
        "# Step 2: Convert encoded labels to one-hot-encoding\n",
        "y_train_categorical = to_categorical(encoded_y_train)\n",
        "y_test_categorical = to_categorical(encoded_y_test)"
      ],
      "execution_count": null,
      "outputs": []
    },
    {
      "cell_type": "code",
      "metadata": {
        "id": "XgiFB6gvcLsi",
        "colab_type": "code",
        "colab": {}
      },
      "source": [
        "from tensorflow.keras.models import Sequential\n",
        "from tensorflow.keras.layers import Dense"
      ],
      "execution_count": null,
      "outputs": []
    },
    {
      "cell_type": "code",
      "metadata": {
        "id": "RP2dxBhXcLwm",
        "colab_type": "code",
        "colab": {}
      },
      "source": [
        "# Create model and add layers\n",
        "model = Sequential()\n",
        "model.add(Dense(units=50, activation='relu', input_dim=12))\n",
        "# model.add(Dense(units=50, activation='sigmoid'))\n",
        "# model.add(Dense(units=50, activation='sigmoid'))\n",
        "# model.add(Dense(units=50, activation='sigmoid'))\n",
        "model.add(Dense(units=50, activation='relu'))\n",
        "model.add(Dense(units=50, activation='relu'))\n",
        "model.add(Dense(units=50, activation='relu'))\n",
        "model.add(Dense(units=50, activation='relu'))\n",
        "# model.add(Dense(units=50, activation='relu'))\n",
        "model.add(Dense(units=50, activation='softmax'))"
      ],
      "execution_count": null,
      "outputs": []
    },
    {
      "cell_type": "code",
      "metadata": {
        "id": "K94hVcQqcL19",
        "colab_type": "code",
        "colab": {}
      },
      "source": [
        "# Compile and fit the model\n",
        "model.compile(optimizer='adam',\n",
        "              loss='categorical_crossentropy',\n",
        "              metrics=['accuracy'])"
      ],
      "execution_count": null,
      "outputs": []
    },
    {
      "cell_type": "code",
      "metadata": {
        "id": "iUUJUoKUcL7h",
        "colab_type": "code",
        "colab": {
          "base_uri": "https://localhost:8080/",
          "height": 357
        },
        "outputId": "fd32c6f4-ea61-42fd-8c27-dde5fc99583b"
      },
      "source": [
        "model.summary()"
      ],
      "execution_count": null,
      "outputs": [
        {
          "output_type": "stream",
          "text": [
            "Model: \"sequential_59\"\n",
            "_________________________________________________________________\n",
            "Layer (type)                 Output Shape              Param #   \n",
            "=================================================================\n",
            "dense_221 (Dense)            (None, 50)                650       \n",
            "_________________________________________________________________\n",
            "dense_222 (Dense)            (None, 50)                2550      \n",
            "_________________________________________________________________\n",
            "dense_223 (Dense)            (None, 50)                2550      \n",
            "_________________________________________________________________\n",
            "dense_224 (Dense)            (None, 50)                2550      \n",
            "_________________________________________________________________\n",
            "dense_225 (Dense)            (None, 50)                2550      \n",
            "_________________________________________________________________\n",
            "dense_226 (Dense)            (None, 50)                2550      \n",
            "=================================================================\n",
            "Total params: 13,400\n",
            "Trainable params: 13,400\n",
            "Non-trainable params: 0\n",
            "_________________________________________________________________\n"
          ],
          "name": "stdout"
        }
      ]
    },
    {
      "cell_type": "code",
      "metadata": {
        "id": "hUYd8K0McL5s",
        "colab_type": "code",
        "colab": {
          "base_uri": "https://localhost:8080/",
          "height": 1000
        },
        "outputId": "1ceef148-7a43-491f-985d-945e01bde6db"
      },
      "source": [
        "model.fit(\n",
        "    X_train_scaled,\n",
        "    y_train_categorical,\n",
        "    epochs=200,\n",
        "    shuffle=True,\n",
        "    verbose=2\n",
        ")"
      ],
      "execution_count": null,
      "outputs": [
        {
          "output_type": "stream",
          "text": [
            "Epoch 1/200\n",
            "2101/2101 - 3s - loss: 2.9766 - accuracy: 0.1734\n",
            "Epoch 2/200\n",
            "2101/2101 - 3s - loss: 2.7482 - accuracy: 0.2187\n",
            "Epoch 3/200\n",
            "2101/2101 - 3s - loss: 2.6701 - accuracy: 0.2413\n",
            "Epoch 4/200\n",
            "2101/2101 - 3s - loss: 2.6084 - accuracy: 0.2592\n",
            "Epoch 5/200\n",
            "2101/2101 - 3s - loss: 2.5560 - accuracy: 0.2746\n",
            "Epoch 6/200\n",
            "2101/2101 - 3s - loss: 2.5172 - accuracy: 0.2839\n",
            "Epoch 7/200\n",
            "2101/2101 - 3s - loss: 2.4835 - accuracy: 0.2935\n",
            "Epoch 8/200\n",
            "2101/2101 - 3s - loss: 2.4520 - accuracy: 0.2997\n",
            "Epoch 9/200\n",
            "2101/2101 - 3s - loss: 2.4233 - accuracy: 0.3095\n",
            "Epoch 10/200\n",
            "2101/2101 - 3s - loss: 2.3993 - accuracy: 0.3161\n",
            "Epoch 11/200\n",
            "2101/2101 - 3s - loss: 2.3830 - accuracy: 0.3181\n",
            "Epoch 12/200\n",
            "2101/2101 - 3s - loss: 2.3624 - accuracy: 0.3217\n",
            "Epoch 13/200\n",
            "2101/2101 - 3s - loss: 2.3520 - accuracy: 0.3283\n",
            "Epoch 14/200\n",
            "2101/2101 - 3s - loss: 2.3389 - accuracy: 0.3304\n",
            "Epoch 15/200\n",
            "2101/2101 - 3s - loss: 2.3260 - accuracy: 0.3320\n",
            "Epoch 16/200\n",
            "2101/2101 - 3s - loss: 2.3169 - accuracy: 0.3347\n",
            "Epoch 17/200\n",
            "2101/2101 - 3s - loss: 2.3036 - accuracy: 0.3376\n",
            "Epoch 18/200\n",
            "2101/2101 - 3s - loss: 2.2917 - accuracy: 0.3439\n",
            "Epoch 19/200\n",
            "2101/2101 - 3s - loss: 2.2840 - accuracy: 0.3447\n",
            "Epoch 20/200\n",
            "2101/2101 - 3s - loss: 2.2721 - accuracy: 0.3455\n",
            "Epoch 21/200\n",
            "2101/2101 - 3s - loss: 2.2618 - accuracy: 0.3492\n",
            "Epoch 22/200\n",
            "2101/2101 - 3s - loss: 2.2526 - accuracy: 0.3515\n",
            "Epoch 23/200\n",
            "2101/2101 - 3s - loss: 2.2438 - accuracy: 0.3543\n",
            "Epoch 24/200\n",
            "2101/2101 - 3s - loss: 2.2363 - accuracy: 0.3566\n",
            "Epoch 25/200\n",
            "2101/2101 - 3s - loss: 2.2256 - accuracy: 0.3626\n",
            "Epoch 26/200\n",
            "2101/2101 - 3s - loss: 2.2251 - accuracy: 0.3601\n",
            "Epoch 27/200\n",
            "2101/2101 - 3s - loss: 2.2137 - accuracy: 0.3647\n",
            "Epoch 28/200\n",
            "2101/2101 - 3s - loss: 2.2084 - accuracy: 0.3651\n",
            "Epoch 29/200\n",
            "2101/2101 - 3s - loss: 2.2063 - accuracy: 0.3672\n",
            "Epoch 30/200\n",
            "2101/2101 - 3s - loss: 2.1988 - accuracy: 0.3680\n",
            "Epoch 31/200\n",
            "2101/2101 - 3s - loss: 2.1973 - accuracy: 0.3682\n",
            "Epoch 32/200\n",
            "2101/2101 - 3s - loss: 2.1914 - accuracy: 0.3708\n",
            "Epoch 33/200\n",
            "2101/2101 - 3s - loss: 2.1860 - accuracy: 0.3720\n",
            "Epoch 34/200\n",
            "2101/2101 - 3s - loss: 2.1825 - accuracy: 0.3708\n",
            "Epoch 35/200\n",
            "2101/2101 - 3s - loss: 2.1760 - accuracy: 0.3740\n",
            "Epoch 36/200\n",
            "2101/2101 - 3s - loss: 2.1785 - accuracy: 0.3732\n",
            "Epoch 37/200\n",
            "2101/2101 - 3s - loss: 2.1705 - accuracy: 0.3763\n",
            "Epoch 38/200\n",
            "2101/2101 - 3s - loss: 2.1673 - accuracy: 0.3762\n",
            "Epoch 39/200\n",
            "2101/2101 - 3s - loss: 2.1636 - accuracy: 0.3776\n",
            "Epoch 40/200\n",
            "2101/2101 - 3s - loss: 2.1607 - accuracy: 0.3785\n",
            "Epoch 41/200\n",
            "2101/2101 - 3s - loss: 2.1625 - accuracy: 0.3772\n",
            "Epoch 42/200\n",
            "2101/2101 - 3s - loss: 2.1580 - accuracy: 0.3788\n",
            "Epoch 43/200\n",
            "2101/2101 - 3s - loss: 2.1530 - accuracy: 0.3786\n",
            "Epoch 44/200\n",
            "2101/2101 - 3s - loss: 2.1518 - accuracy: 0.3794\n",
            "Epoch 45/200\n",
            "2101/2101 - 3s - loss: 2.1475 - accuracy: 0.3807\n",
            "Epoch 46/200\n",
            "2101/2101 - 3s - loss: 2.1452 - accuracy: 0.3828\n",
            "Epoch 47/200\n",
            "2101/2101 - 3s - loss: 2.1434 - accuracy: 0.3838\n",
            "Epoch 48/200\n",
            "2101/2101 - 3s - loss: 2.1400 - accuracy: 0.3819\n",
            "Epoch 49/200\n",
            "2101/2101 - 3s - loss: 2.1350 - accuracy: 0.3843\n",
            "Epoch 50/200\n",
            "2101/2101 - 3s - loss: 2.1373 - accuracy: 0.3832\n",
            "Epoch 51/200\n",
            "2101/2101 - 3s - loss: 2.1331 - accuracy: 0.3848\n",
            "Epoch 52/200\n",
            "2101/2101 - 3s - loss: 2.1294 - accuracy: 0.3841\n",
            "Epoch 53/200\n",
            "2101/2101 - 3s - loss: 2.1286 - accuracy: 0.3867\n",
            "Epoch 54/200\n",
            "2101/2101 - 3s - loss: 2.1260 - accuracy: 0.3873\n",
            "Epoch 55/200\n",
            "2101/2101 - 3s - loss: 2.1264 - accuracy: 0.3869\n",
            "Epoch 56/200\n",
            "2101/2101 - 3s - loss: 2.1229 - accuracy: 0.3871\n",
            "Epoch 57/200\n",
            "2101/2101 - 3s - loss: 2.1199 - accuracy: 0.3860\n",
            "Epoch 58/200\n",
            "2101/2101 - 3s - loss: 2.1180 - accuracy: 0.3876\n",
            "Epoch 59/200\n",
            "2101/2101 - 3s - loss: 2.1176 - accuracy: 0.3880\n",
            "Epoch 60/200\n",
            "2101/2101 - 3s - loss: 2.1161 - accuracy: 0.3892\n",
            "Epoch 61/200\n",
            "2101/2101 - 3s - loss: 2.1123 - accuracy: 0.3894\n",
            "Epoch 62/200\n",
            "2101/2101 - 3s - loss: 2.1112 - accuracy: 0.3912\n",
            "Epoch 63/200\n",
            "2101/2101 - 3s - loss: 2.1118 - accuracy: 0.3899\n",
            "Epoch 64/200\n",
            "2101/2101 - 3s - loss: 2.1066 - accuracy: 0.3902\n",
            "Epoch 65/200\n",
            "2101/2101 - 3s - loss: 2.1083 - accuracy: 0.3906\n",
            "Epoch 66/200\n",
            "2101/2101 - 3s - loss: 2.1054 - accuracy: 0.3900\n",
            "Epoch 67/200\n",
            "2101/2101 - 3s - loss: 2.1038 - accuracy: 0.3905\n",
            "Epoch 68/200\n",
            "2101/2101 - 3s - loss: 2.1035 - accuracy: 0.3908\n",
            "Epoch 69/200\n",
            "2101/2101 - 3s - loss: 2.1017 - accuracy: 0.3926\n",
            "Epoch 70/200\n",
            "2101/2101 - 3s - loss: 2.1025 - accuracy: 0.3920\n",
            "Epoch 71/200\n",
            "2101/2101 - 3s - loss: 2.0985 - accuracy: 0.3927\n",
            "Epoch 72/200\n",
            "2101/2101 - 3s - loss: 2.0971 - accuracy: 0.3931\n",
            "Epoch 73/200\n",
            "2101/2101 - 3s - loss: 2.0982 - accuracy: 0.3948\n",
            "Epoch 74/200\n",
            "2101/2101 - 3s - loss: 2.0956 - accuracy: 0.3946\n",
            "Epoch 75/200\n",
            "2101/2101 - 3s - loss: 2.0943 - accuracy: 0.3951\n",
            "Epoch 76/200\n",
            "2101/2101 - 3s - loss: 2.0937 - accuracy: 0.3945\n",
            "Epoch 77/200\n",
            "2101/2101 - 3s - loss: 2.0931 - accuracy: 0.3943\n",
            "Epoch 78/200\n",
            "2101/2101 - 3s - loss: 2.0906 - accuracy: 0.3964\n",
            "Epoch 79/200\n",
            "2101/2101 - 3s - loss: 2.0900 - accuracy: 0.3951\n",
            "Epoch 80/200\n",
            "2101/2101 - 3s - loss: 2.0903 - accuracy: 0.3964\n",
            "Epoch 81/200\n",
            "2101/2101 - 3s - loss: 2.0893 - accuracy: 0.3945\n",
            "Epoch 82/200\n",
            "2101/2101 - 3s - loss: 2.0879 - accuracy: 0.3955\n",
            "Epoch 83/200\n",
            "2101/2101 - 3s - loss: 2.0837 - accuracy: 0.3967\n",
            "Epoch 84/200\n",
            "2101/2101 - 3s - loss: 2.0849 - accuracy: 0.3974\n",
            "Epoch 85/200\n",
            "2101/2101 - 3s - loss: 2.0837 - accuracy: 0.3985\n",
            "Epoch 86/200\n",
            "2101/2101 - 3s - loss: 2.0829 - accuracy: 0.3962\n",
            "Epoch 87/200\n",
            "2101/2101 - 3s - loss: 2.0827 - accuracy: 0.3977\n",
            "Epoch 88/200\n",
            "2101/2101 - 3s - loss: 2.0807 - accuracy: 0.3963\n",
            "Epoch 89/200\n",
            "2101/2101 - 3s - loss: 2.0799 - accuracy: 0.3973\n",
            "Epoch 90/200\n",
            "2101/2101 - 3s - loss: 2.0797 - accuracy: 0.3963\n",
            "Epoch 91/200\n",
            "2101/2101 - 3s - loss: 2.0780 - accuracy: 0.3985\n",
            "Epoch 92/200\n",
            "2101/2101 - 3s - loss: 2.0788 - accuracy: 0.3969\n",
            "Epoch 93/200\n",
            "2101/2101 - 3s - loss: 2.0755 - accuracy: 0.3993\n",
            "Epoch 94/200\n",
            "2101/2101 - 3s - loss: 2.0760 - accuracy: 0.3978\n",
            "Epoch 95/200\n",
            "2101/2101 - 3s - loss: 2.0745 - accuracy: 0.4010\n",
            "Epoch 96/200\n",
            "2101/2101 - 3s - loss: 2.0756 - accuracy: 0.3981\n",
            "Epoch 97/200\n",
            "2101/2101 - 3s - loss: 2.0758 - accuracy: 0.3994\n",
            "Epoch 98/200\n",
            "2101/2101 - 3s - loss: 2.0712 - accuracy: 0.4001\n",
            "Epoch 99/200\n",
            "2101/2101 - 3s - loss: 2.0723 - accuracy: 0.3988\n",
            "Epoch 100/200\n",
            "2101/2101 - 3s - loss: 2.0715 - accuracy: 0.3990\n",
            "Epoch 101/200\n",
            "2101/2101 - 3s - loss: 2.0692 - accuracy: 0.4007\n",
            "Epoch 102/200\n",
            "2101/2101 - 3s - loss: 2.0685 - accuracy: 0.4003\n",
            "Epoch 103/200\n",
            "2101/2101 - 3s - loss: 2.0706 - accuracy: 0.3986\n",
            "Epoch 104/200\n",
            "2101/2101 - 3s - loss: 2.0665 - accuracy: 0.4005\n",
            "Epoch 105/200\n",
            "2101/2101 - 3s - loss: 2.0688 - accuracy: 0.4007\n",
            "Epoch 106/200\n",
            "2101/2101 - 3s - loss: 2.0677 - accuracy: 0.4002\n",
            "Epoch 107/200\n",
            "2101/2101 - 3s - loss: 2.0669 - accuracy: 0.4007\n",
            "Epoch 108/200\n",
            "2101/2101 - 3s - loss: 2.0679 - accuracy: 0.4000\n",
            "Epoch 109/200\n",
            "2101/2101 - 3s - loss: 2.0638 - accuracy: 0.4028\n",
            "Epoch 110/200\n",
            "2101/2101 - 3s - loss: 2.0658 - accuracy: 0.4015\n",
            "Epoch 111/200\n",
            "2101/2101 - 3s - loss: 2.0648 - accuracy: 0.4016\n",
            "Epoch 112/200\n",
            "2101/2101 - 3s - loss: 2.0630 - accuracy: 0.4018\n",
            "Epoch 113/200\n",
            "2101/2101 - 3s - loss: 2.0630 - accuracy: 0.4015\n",
            "Epoch 114/200\n",
            "2101/2101 - 3s - loss: 2.0604 - accuracy: 0.4024\n",
            "Epoch 115/200\n",
            "2101/2101 - 3s - loss: 2.0629 - accuracy: 0.4016\n",
            "Epoch 116/200\n",
            "2101/2101 - 3s - loss: 2.0605 - accuracy: 0.4016\n",
            "Epoch 117/200\n",
            "2101/2101 - 3s - loss: 2.0621 - accuracy: 0.4018\n",
            "Epoch 118/200\n",
            "2101/2101 - 3s - loss: 2.0610 - accuracy: 0.4026\n",
            "Epoch 119/200\n",
            "2101/2101 - 3s - loss: 2.0586 - accuracy: 0.4043\n",
            "Epoch 120/200\n",
            "2101/2101 - 3s - loss: 2.0599 - accuracy: 0.4026\n",
            "Epoch 121/200\n",
            "2101/2101 - 3s - loss: 2.0567 - accuracy: 0.4025\n",
            "Epoch 122/200\n",
            "2101/2101 - 3s - loss: 2.0587 - accuracy: 0.4025\n",
            "Epoch 123/200\n",
            "2101/2101 - 3s - loss: 2.0566 - accuracy: 0.4028\n",
            "Epoch 124/200\n",
            "2101/2101 - 3s - loss: 2.0559 - accuracy: 0.4026\n",
            "Epoch 125/200\n",
            "2101/2101 - 3s - loss: 2.0546 - accuracy: 0.4042\n",
            "Epoch 126/200\n",
            "2101/2101 - 3s - loss: 2.0555 - accuracy: 0.4038\n",
            "Epoch 127/200\n",
            "2101/2101 - 3s - loss: 2.0546 - accuracy: 0.4042\n",
            "Epoch 128/200\n",
            "2101/2101 - 3s - loss: 2.0539 - accuracy: 0.4028\n",
            "Epoch 129/200\n",
            "2101/2101 - 3s - loss: 2.0539 - accuracy: 0.4046\n",
            "Epoch 130/200\n",
            "2101/2101 - 3s - loss: 2.0513 - accuracy: 0.4049\n",
            "Epoch 131/200\n",
            "2101/2101 - 3s - loss: 2.0516 - accuracy: 0.4044\n",
            "Epoch 132/200\n",
            "2101/2101 - 3s - loss: 2.0522 - accuracy: 0.4042\n",
            "Epoch 133/200\n",
            "2101/2101 - 3s - loss: 2.0509 - accuracy: 0.4046\n",
            "Epoch 134/200\n",
            "2101/2101 - 3s - loss: 2.0510 - accuracy: 0.4048\n",
            "Epoch 135/200\n",
            "2101/2101 - 3s - loss: 2.0496 - accuracy: 0.4053\n",
            "Epoch 136/200\n",
            "2101/2101 - 4s - loss: 2.0510 - accuracy: 0.4047\n",
            "Epoch 137/200\n",
            "2101/2101 - 4s - loss: 2.0535 - accuracy: 0.4044\n",
            "Epoch 138/200\n",
            "2101/2101 - 3s - loss: 2.0492 - accuracy: 0.4049\n",
            "Epoch 139/200\n",
            "2101/2101 - 3s - loss: 2.0485 - accuracy: 0.4035\n",
            "Epoch 140/200\n",
            "2101/2101 - 3s - loss: 2.0486 - accuracy: 0.4052\n",
            "Epoch 141/200\n",
            "2101/2101 - 3s - loss: 2.0489 - accuracy: 0.4060\n",
            "Epoch 142/200\n",
            "2101/2101 - 3s - loss: 2.0474 - accuracy: 0.4055\n",
            "Epoch 143/200\n",
            "2101/2101 - 3s - loss: 2.0471 - accuracy: 0.4048\n",
            "Epoch 144/200\n",
            "2101/2101 - 3s - loss: 2.0468 - accuracy: 0.4043\n",
            "Epoch 145/200\n",
            "2101/2101 - 3s - loss: 2.0449 - accuracy: 0.4080\n",
            "Epoch 146/200\n",
            "2101/2101 - 3s - loss: 2.0445 - accuracy: 0.4070\n",
            "Epoch 147/200\n",
            "2101/2101 - 3s - loss: 2.0454 - accuracy: 0.4052\n",
            "Epoch 148/200\n",
            "2101/2101 - 3s - loss: 2.0464 - accuracy: 0.4057\n",
            "Epoch 149/200\n",
            "2101/2101 - 3s - loss: 2.0446 - accuracy: 0.4055\n",
            "Epoch 150/200\n",
            "2101/2101 - 3s - loss: 2.0443 - accuracy: 0.4047\n",
            "Epoch 151/200\n",
            "2101/2101 - 3s - loss: 2.0432 - accuracy: 0.4057\n",
            "Epoch 152/200\n",
            "2101/2101 - 3s - loss: 2.0453 - accuracy: 0.4067\n",
            "Epoch 153/200\n",
            "2101/2101 - 3s - loss: 2.0440 - accuracy: 0.4066\n",
            "Epoch 154/200\n",
            "2101/2101 - 3s - loss: 2.0442 - accuracy: 0.4075\n",
            "Epoch 155/200\n",
            "2101/2101 - 3s - loss: 2.0415 - accuracy: 0.4055\n",
            "Epoch 156/200\n",
            "2101/2101 - 3s - loss: 2.0419 - accuracy: 0.4053\n",
            "Epoch 157/200\n",
            "2101/2101 - 3s - loss: 2.0422 - accuracy: 0.4063\n",
            "Epoch 158/200\n",
            "2101/2101 - 3s - loss: 2.0420 - accuracy: 0.4067\n",
            "Epoch 159/200\n",
            "2101/2101 - 3s - loss: 2.0387 - accuracy: 0.4087\n",
            "Epoch 160/200\n",
            "2101/2101 - 3s - loss: 2.0393 - accuracy: 0.4074\n",
            "Epoch 161/200\n",
            "2101/2101 - 3s - loss: 2.0407 - accuracy: 0.4080\n",
            "Epoch 162/200\n",
            "2101/2101 - 3s - loss: 2.0387 - accuracy: 0.4073\n",
            "Epoch 163/200\n",
            "2101/2101 - 3s - loss: 2.0392 - accuracy: 0.4085\n",
            "Epoch 164/200\n",
            "2101/2101 - 3s - loss: 2.0375 - accuracy: 0.4081\n",
            "Epoch 165/200\n",
            "2101/2101 - 3s - loss: 2.0372 - accuracy: 0.4073\n",
            "Epoch 166/200\n",
            "2101/2101 - 3s - loss: 2.0381 - accuracy: 0.4078\n",
            "Epoch 167/200\n",
            "2101/2101 - 3s - loss: 2.0352 - accuracy: 0.4092\n",
            "Epoch 168/200\n",
            "2101/2101 - 3s - loss: 2.0377 - accuracy: 0.4070\n",
            "Epoch 169/200\n",
            "2101/2101 - 3s - loss: 2.0377 - accuracy: 0.4092\n",
            "Epoch 170/200\n",
            "2101/2101 - 3s - loss: 2.0377 - accuracy: 0.4079\n",
            "Epoch 171/200\n",
            "2101/2101 - 3s - loss: 2.0348 - accuracy: 0.4083\n",
            "Epoch 172/200\n",
            "2101/2101 - 3s - loss: 2.0349 - accuracy: 0.4082\n",
            "Epoch 173/200\n",
            "2101/2101 - 3s - loss: 2.0341 - accuracy: 0.4084\n",
            "Epoch 174/200\n",
            "2101/2101 - 3s - loss: 2.0349 - accuracy: 0.4084\n",
            "Epoch 175/200\n",
            "2101/2101 - 3s - loss: 2.0320 - accuracy: 0.4094\n",
            "Epoch 176/200\n",
            "2101/2101 - 3s - loss: 2.0323 - accuracy: 0.4093\n",
            "Epoch 177/200\n",
            "2101/2101 - 3s - loss: 2.0328 - accuracy: 0.4118\n",
            "Epoch 178/200\n",
            "2101/2101 - 3s - loss: 2.0315 - accuracy: 0.4104\n",
            "Epoch 179/200\n",
            "2101/2101 - 3s - loss: 2.0329 - accuracy: 0.4101\n",
            "Epoch 180/200\n",
            "2101/2101 - 3s - loss: 2.0308 - accuracy: 0.4084\n",
            "Epoch 181/200\n",
            "2101/2101 - 3s - loss: 2.0324 - accuracy: 0.4101\n",
            "Epoch 182/200\n",
            "2101/2101 - 3s - loss: 2.0327 - accuracy: 0.4083\n",
            "Epoch 183/200\n",
            "2101/2101 - 3s - loss: 2.0299 - accuracy: 0.4098\n",
            "Epoch 184/200\n",
            "2101/2101 - 3s - loss: 2.0308 - accuracy: 0.4115\n",
            "Epoch 185/200\n",
            "2101/2101 - 3s - loss: 2.0300 - accuracy: 0.4096\n",
            "Epoch 186/200\n",
            "2101/2101 - 3s - loss: 2.0278 - accuracy: 0.4113\n",
            "Epoch 187/200\n",
            "2101/2101 - 3s - loss: 2.0302 - accuracy: 0.4094\n",
            "Epoch 188/200\n",
            "2101/2101 - 3s - loss: 2.0295 - accuracy: 0.4111\n",
            "Epoch 189/200\n",
            "2101/2101 - 3s - loss: 2.0287 - accuracy: 0.4104\n",
            "Epoch 190/200\n",
            "2101/2101 - 3s - loss: 2.0277 - accuracy: 0.4105\n",
            "Epoch 191/200\n",
            "2101/2101 - 3s - loss: 2.0269 - accuracy: 0.4082\n",
            "Epoch 192/200\n",
            "2101/2101 - 3s - loss: 2.0253 - accuracy: 0.4124\n",
            "Epoch 193/200\n",
            "2101/2101 - 3s - loss: 2.0259 - accuracy: 0.4109\n",
            "Epoch 194/200\n",
            "2101/2101 - 3s - loss: 2.0245 - accuracy: 0.4115\n",
            "Epoch 195/200\n",
            "2101/2101 - 3s - loss: 2.0234 - accuracy: 0.4115\n",
            "Epoch 196/200\n",
            "2101/2101 - 3s - loss: 2.0239 - accuracy: 0.4129\n",
            "Epoch 197/200\n",
            "2101/2101 - 3s - loss: 2.0259 - accuracy: 0.4102\n",
            "Epoch 198/200\n",
            "2101/2101 - 3s - loss: 2.0256 - accuracy: 0.4117\n",
            "Epoch 199/200\n",
            "2101/2101 - 3s - loss: 2.0253 - accuracy: 0.4117\n",
            "Epoch 200/200\n",
            "2101/2101 - 3s - loss: 2.0253 - accuracy: 0.4115\n"
          ],
          "name": "stdout"
        },
        {
          "output_type": "execute_result",
          "data": {
            "text/plain": [
              "<tensorflow.python.keras.callbacks.History at 0x7f512029dfd0>"
            ]
          },
          "metadata": {
            "tags": []
          },
          "execution_count": 488
        }
      ]
    },
    {
      "cell_type": "code",
      "metadata": {
        "id": "8JsLb7hYcL0P",
        "colab_type": "code",
        "colab": {
          "base_uri": "https://localhost:8080/",
          "height": 51
        },
        "outputId": "d7c5c2a3-d350-4981-afdc-8b22c85668dd"
      },
      "source": [
        "model_loss, model_accuracy = model.evaluate(\n",
        "    X_test_scaled, y_test_categorical, verbose=2)\n",
        "print(\n",
        "    f\"Normal Neural Network - Loss: {model_loss}, Accuracy: {model_accuracy}\")"
      ],
      "execution_count": null,
      "outputs": [
        {
          "output_type": "stream",
          "text": [
            "701/701 - 1s - loss: 2.2628 - accuracy: 0.3678\n",
            "Normal Neural Network - Loss: 2.2627718448638916, Accuracy: 0.36778223514556885\n"
          ],
          "name": "stdout"
        }
      ]
    },
    {
      "cell_type": "markdown",
      "metadata": {
        "id": "J0ueoe05xo-P",
        "colab_type": "text"
      },
      "source": [
        "## Now trying KNN"
      ]
    },
    {
      "cell_type": "code",
      "metadata": {
        "id": "ytJOBkBwGDZk",
        "colab_type": "code",
        "colab": {}
      },
      "source": [
        ""
      ],
      "execution_count": null,
      "outputs": []
    },
    {
      "cell_type": "code",
      "metadata": {
        "id": "-VeJP3qGGDlc",
        "colab_type": "code",
        "colab": {}
      },
      "source": [
        ""
      ],
      "execution_count": null,
      "outputs": []
    },
    {
      "cell_type": "code",
      "metadata": {
        "id": "FzyPOm9wGDvT",
        "colab_type": "code",
        "colab": {}
      },
      "source": [
        ""
      ],
      "execution_count": null,
      "outputs": []
    },
    {
      "cell_type": "code",
      "metadata": {
        "id": "aYV24RCyGEH2",
        "colab_type": "code",
        "colab": {}
      },
      "source": [
        ""
      ],
      "execution_count": null,
      "outputs": []
    },
    {
      "cell_type": "code",
      "metadata": {
        "id": "sm7zH1ZvGERk",
        "colab_type": "code",
        "colab": {}
      },
      "source": [
        ""
      ],
      "execution_count": null,
      "outputs": []
    },
    {
      "cell_type": "code",
      "metadata": {
        "id": "qFRIPdr1GEZC",
        "colab_type": "code",
        "colab": {}
      },
      "source": [
        ""
      ],
      "execution_count": null,
      "outputs": []
    },
    {
      "cell_type": "markdown",
      "metadata": {
        "id": "EdBy-ImYGJHu",
        "colab_type": "text"
      },
      "source": [
        "## Now trying it with less features"
      ]
    },
    {
      "cell_type": "code",
      "metadata": {
        "id": "E7IU8-23GLhO",
        "colab_type": "code",
        "colab": {
          "base_uri": "https://localhost:8080/",
          "height": 224
        },
        "outputId": "d2a45f2a-c7f3-4a2a-9c00-09a40de4d379"
      },
      "source": [
        "ML_df.head()"
      ],
      "execution_count": null,
      "outputs": [
        {
          "output_type": "execute_result",
          "data": {
            "text/html": [
              "<div>\n",
              "<style scoped>\n",
              "    .dataframe tbody tr th:only-of-type {\n",
              "        vertical-align: middle;\n",
              "    }\n",
              "\n",
              "    .dataframe tbody tr th {\n",
              "        vertical-align: top;\n",
              "    }\n",
              "\n",
              "    .dataframe thead th {\n",
              "        text-align: right;\n",
              "    }\n",
              "</style>\n",
              "<table border=\"1\" class=\"dataframe\">\n",
              "  <thead>\n",
              "    <tr style=\"text-align: right;\">\n",
              "      <th></th>\n",
              "      <th>genre_name</th>\n",
              "      <th>danceability</th>\n",
              "      <th>energy</th>\n",
              "      <th>key</th>\n",
              "      <th>loudness</th>\n",
              "      <th>mode</th>\n",
              "      <th>speechiness</th>\n",
              "      <th>acousticness</th>\n",
              "      <th>instrumentalness</th>\n",
              "      <th>liveness</th>\n",
              "      <th>valence</th>\n",
              "      <th>tempo</th>\n",
              "      <th>duration_ms</th>\n",
              "    </tr>\n",
              "  </thead>\n",
              "  <tbody>\n",
              "    <tr>\n",
              "      <th>0</th>\n",
              "      <td>comedy</td>\n",
              "      <td>0.755</td>\n",
              "      <td>0.599</td>\n",
              "      <td>8</td>\n",
              "      <td>-5.042</td>\n",
              "      <td>1</td>\n",
              "      <td>0.2240</td>\n",
              "      <td>0.147</td>\n",
              "      <td>0.000000</td>\n",
              "      <td>0.109</td>\n",
              "      <td>0.755</td>\n",
              "      <td>133.123</td>\n",
              "      <td>216632</td>\n",
              "    </tr>\n",
              "    <tr>\n",
              "      <th>1</th>\n",
              "      <td>comedy</td>\n",
              "      <td>0.927</td>\n",
              "      <td>0.367</td>\n",
              "      <td>9</td>\n",
              "      <td>-7.797</td>\n",
              "      <td>1</td>\n",
              "      <td>0.3820</td>\n",
              "      <td>0.325</td>\n",
              "      <td>0.000000</td>\n",
              "      <td>0.132</td>\n",
              "      <td>0.576</td>\n",
              "      <td>99.053</td>\n",
              "      <td>328667</td>\n",
              "    </tr>\n",
              "    <tr>\n",
              "      <th>2</th>\n",
              "      <td>comedy</td>\n",
              "      <td>0.831</td>\n",
              "      <td>0.514</td>\n",
              "      <td>7</td>\n",
              "      <td>-6.695</td>\n",
              "      <td>1</td>\n",
              "      <td>0.0368</td>\n",
              "      <td>0.203</td>\n",
              "      <td>0.000156</td>\n",
              "      <td>0.115</td>\n",
              "      <td>0.397</td>\n",
              "      <td>114.940</td>\n",
              "      <td>244340</td>\n",
              "    </tr>\n",
              "    <tr>\n",
              "      <th>3</th>\n",
              "      <td>comedy</td>\n",
              "      <td>0.858</td>\n",
              "      <td>0.697</td>\n",
              "      <td>2</td>\n",
              "      <td>-5.361</td>\n",
              "      <td>1</td>\n",
              "      <td>0.2300</td>\n",
              "      <td>0.114</td>\n",
              "      <td>0.000000</td>\n",
              "      <td>0.224</td>\n",
              "      <td>0.364</td>\n",
              "      <td>98.012</td>\n",
              "      <td>290836</td>\n",
              "    </tr>\n",
              "    <tr>\n",
              "      <th>4</th>\n",
              "      <td>comedy</td>\n",
              "      <td>0.685</td>\n",
              "      <td>0.621</td>\n",
              "      <td>11</td>\n",
              "      <td>-8.442</td>\n",
              "      <td>0</td>\n",
              "      <td>0.3610</td>\n",
              "      <td>0.433</td>\n",
              "      <td>0.000000</td>\n",
              "      <td>0.607</td>\n",
              "      <td>0.538</td>\n",
              "      <td>128.906</td>\n",
              "      <td>353960</td>\n",
              "    </tr>\n",
              "  </tbody>\n",
              "</table>\n",
              "</div>"
            ],
            "text/plain": [
              "  genre_name  danceability  energy  ...  valence    tempo  duration_ms\n",
              "0     comedy         0.755   0.599  ...    0.755  133.123       216632\n",
              "1     comedy         0.927   0.367  ...    0.576   99.053       328667\n",
              "2     comedy         0.831   0.514  ...    0.397  114.940       244340\n",
              "3     comedy         0.858   0.697  ...    0.364   98.012       290836\n",
              "4     comedy         0.685   0.621  ...    0.538  128.906       353960\n",
              "\n",
              "[5 rows x 13 columns]"
            ]
          },
          "metadata": {
            "tags": []
          },
          "execution_count": 557
        }
      ]
    },
    {
      "cell_type": "code",
      "metadata": {
        "id": "wCM36LlpGL-u",
        "colab_type": "code",
        "colab": {
          "base_uri": "https://localhost:8080/",
          "height": 204
        },
        "outputId": "63142c3a-cc97-42e1-823b-50cdf88d60e6"
      },
      "source": [
        "# ['danceability',\n",
        "#                             'energy',\n",
        "#                             'key',\n",
        "#                             'loudness',\n",
        "#                             'mode', \n",
        "#                             'speechiness', \n",
        "#                             'acousticness', \n",
        "#                             'instrumentalness', \n",
        "#                             'liveness', \n",
        "#                             'valence', \n",
        "#                             'tempo', \n",
        "#                             'duration_ms'],\n",
        "\n",
        "dropped_ML_df = ML_df.drop(['danceability',\n",
        "                            'energy',\n",
        "                            'key',\n",
        "                            'loudness',\n",
        "                            'mode', \n",
        "                            'speechiness', \n",
        "                            'acousticness', \n",
        "                            'instrumentalness', \n",
        "                            'liveness', \n",
        "                            'valence', \n",
        "                            'tempo'],\n",
        "                           axis=1)\n",
        "\n",
        "# dropped_ML_df()\n",
        "# print(dropped_ML_df)\n",
        "dropped_ML_df.iloc[30000:30005]"
      ],
      "execution_count": null,
      "outputs": [
        {
          "output_type": "execute_result",
          "data": {
            "text/html": [
              "<div>\n",
              "<style scoped>\n",
              "    .dataframe tbody tr th:only-of-type {\n",
              "        vertical-align: middle;\n",
              "    }\n",
              "\n",
              "    .dataframe tbody tr th {\n",
              "        vertical-align: top;\n",
              "    }\n",
              "\n",
              "    .dataframe thead th {\n",
              "        text-align: right;\n",
              "    }\n",
              "</style>\n",
              "<table border=\"1\" class=\"dataframe\">\n",
              "  <thead>\n",
              "    <tr style=\"text-align: right;\">\n",
              "      <th></th>\n",
              "      <th>genre_name</th>\n",
              "      <th>duration_ms</th>\n",
              "    </tr>\n",
              "  </thead>\n",
              "  <tbody>\n",
              "    <tr>\n",
              "      <th>30000</th>\n",
              "      <td>forro</td>\n",
              "      <td>200295</td>\n",
              "    </tr>\n",
              "    <tr>\n",
              "      <th>30001</th>\n",
              "      <td>forro</td>\n",
              "      <td>219193</td>\n",
              "    </tr>\n",
              "    <tr>\n",
              "      <th>30002</th>\n",
              "      <td>forro</td>\n",
              "      <td>281533</td>\n",
              "    </tr>\n",
              "    <tr>\n",
              "      <th>30003</th>\n",
              "      <td>forro</td>\n",
              "      <td>267925</td>\n",
              "    </tr>\n",
              "    <tr>\n",
              "      <th>30004</th>\n",
              "      <td>forro</td>\n",
              "      <td>251912</td>\n",
              "    </tr>\n",
              "  </tbody>\n",
              "</table>\n",
              "</div>"
            ],
            "text/plain": [
              "      genre_name  duration_ms\n",
              "30000      forro       200295\n",
              "30001      forro       219193\n",
              "30002      forro       281533\n",
              "30003      forro       267925\n",
              "30004      forro       251912"
            ]
          },
          "metadata": {
            "tags": []
          },
          "execution_count": 682
        }
      ]
    },
    {
      "cell_type": "code",
      "metadata": {
        "id": "rrF0GEXnGMTF",
        "colab_type": "code",
        "colab": {
          "base_uri": "https://localhost:8080/",
          "height": 34
        },
        "outputId": "54bc9d31-a6b2-45f7-eca2-16e9774a6a56"
      },
      "source": [
        "X = dropped_ML_df.drop(\"genre_name\", axis=1)\n",
        "y = dropped_ML_df[\"genre_name\"]\n",
        "print(X.shape, y.shape)"
      ],
      "execution_count": null,
      "outputs": [
        {
          "output_type": "stream",
          "text": [
            "(89640, 1) (89640,)\n"
          ],
          "name": "stdout"
        }
      ]
    },
    {
      "cell_type": "code",
      "metadata": {
        "id": "FgkggRa0GL0C",
        "colab_type": "code",
        "colab": {}
      },
      "source": [
        "X_train, X_test, y_train, y_test = train_test_split(\n",
        "    X, y, stratify=y)"
      ],
      "execution_count": null,
      "outputs": []
    },
    {
      "cell_type": "code",
      "metadata": {
        "id": "ea1j7i2sGLYy",
        "colab_type": "code",
        "colab": {}
      },
      "source": [
        "X_scaler = MinMaxScaler().fit(X_train)\n",
        "X_train_scaled = X_scaler.transform(X_train)\n",
        "X_test_scaled = X_scaler.transform(X_test)"
      ],
      "execution_count": null,
      "outputs": []
    },
    {
      "cell_type": "code",
      "metadata": {
        "id": "xLj1GR3PHUYD",
        "colab_type": "code",
        "colab": {}
      },
      "source": [
        "# Step 1: Label-encode data set\n",
        "label_encoder = LabelEncoder()\n",
        "label_encoder.fit(y_train)\n",
        "encoded_y_train = label_encoder.transform(y_train)\n",
        "encoded_y_test = label_encoder.transform(y_test)"
      ],
      "execution_count": null,
      "outputs": []
    },
    {
      "cell_type": "code",
      "metadata": {
        "id": "6ggQIqyoHUzx",
        "colab_type": "code",
        "colab": {}
      },
      "source": [
        "# Step 2: Convert encoded labels to one-hot-encoding\n",
        "y_train_categorical = to_categorical(encoded_y_train)\n",
        "y_test_categorical = to_categorical(encoded_y_test)"
      ],
      "execution_count": null,
      "outputs": []
    },
    {
      "cell_type": "code",
      "metadata": {
        "id": "0d8KgukbHUqt",
        "colab_type": "code",
        "colab": {}
      },
      "source": [
        "from tensorflow.keras.models import Sequential\n",
        "from tensorflow.keras.layers import Dense"
      ],
      "execution_count": null,
      "outputs": []
    },
    {
      "cell_type": "code",
      "metadata": {
        "id": "ujTXwaI2HUKa",
        "colab_type": "code",
        "colab": {}
      },
      "source": [
        "# Create model and add layers\n",
        "model = Sequential()\n",
        "model.add(Dense(units=50, activation='relu', input_dim =1))\n",
        "# model.add(Dense(units=50, activation='sigmoid'))\n",
        "# model.add(Dense(units=50, activation='sigmoid'))\n",
        "# model.add(Dense(units=50, activation='sigmoid'))\n",
        "# model.add(Dense(units=50, activation='relu'))\n",
        "# model.add(Dense(units=50, activation='relu'))\n",
        "# model.add(Dense(units=50, activation='relu'))\n",
        "# model.add(Dense(units=50, activation='relu'))\n",
        "# model.add(Dense(units=50, activation='relu'))\n",
        "model.add(Dense(units=50, activation='softmax'))"
      ],
      "execution_count": null,
      "outputs": []
    },
    {
      "cell_type": "code",
      "metadata": {
        "id": "ddZWc7YaHewO",
        "colab_type": "code",
        "colab": {}
      },
      "source": [
        "# Compile and fit the model\n",
        "model.compile(optimizer='adam',\n",
        "              loss='categorical_crossentropy',\n",
        "              metrics=['accuracy'])"
      ],
      "execution_count": null,
      "outputs": []
    },
    {
      "cell_type": "code",
      "metadata": {
        "id": "4Q9n56xRHeoL",
        "colab_type": "code",
        "colab": {
          "base_uri": "https://localhost:8080/",
          "height": 374
        },
        "outputId": "a40a13ab-2d35-41f9-ecf5-52757af6abaa"
      },
      "source": [
        "model.fit(\n",
        "    X_train_scaled,\n",
        "    y_train_categorical,\n",
        "    epochs=10,\n",
        "    shuffle=True,\n",
        "    verbose=2\n",
        ")"
      ],
      "execution_count": null,
      "outputs": [
        {
          "output_type": "stream",
          "text": [
            "Epoch 1/10\n",
            "2101/2101 - 2s - loss: 3.8962 - accuracy: 0.0293\n",
            "Epoch 2/10\n",
            "2101/2101 - 2s - loss: 3.8419 - accuracy: 0.0408\n",
            "Epoch 3/10\n",
            "2101/2101 - 2s - loss: 3.8122 - accuracy: 0.0386\n",
            "Epoch 4/10\n",
            "2101/2101 - 2s - loss: 3.8022 - accuracy: 0.0412\n",
            "Epoch 5/10\n",
            "2101/2101 - 2s - loss: 3.7978 - accuracy: 0.0404\n",
            "Epoch 6/10\n",
            "2101/2101 - 2s - loss: 3.7952 - accuracy: 0.0408\n",
            "Epoch 7/10\n",
            "2101/2101 - 2s - loss: 3.7926 - accuracy: 0.0414\n",
            "Epoch 8/10\n",
            "2101/2101 - 2s - loss: 3.7902 - accuracy: 0.0450\n",
            "Epoch 9/10\n",
            "2101/2101 - 2s - loss: 3.7877 - accuracy: 0.0447\n",
            "Epoch 10/10\n",
            "2101/2101 - 2s - loss: 3.7849 - accuracy: 0.0447\n"
          ],
          "name": "stdout"
        },
        {
          "output_type": "execute_result",
          "data": {
            "text/plain": [
              "<tensorflow.python.keras.callbacks.History at 0x7f5102ce77b8>"
            ]
          },
          "metadata": {
            "tags": []
          },
          "execution_count": 691
        }
      ]
    },
    {
      "cell_type": "code",
      "metadata": {
        "id": "KKre1xqKHrZD",
        "colab_type": "code",
        "colab": {}
      },
      "source": [
        "model_loss, model_accuracy = model.evaluate(\n",
        "    X_test_scaled, y_test_categorical, verbose=2)\n",
        "print(\n",
        "    f\"Normal Neural Network - Loss: {model_loss}, Accuracy: {model_accuracy}\")"
      ],
      "execution_count": null,
      "outputs": []
    },
    {
      "cell_type": "markdown",
      "metadata": {
        "id": "IbKnl1RgwvMm",
        "colab_type": "text"
      },
      "source": [
        "# Genre Dataframe Changed - Top 20 Genres"
      ]
    },
    {
      "cell_type": "code",
      "metadata": {
        "id": "4cA9IMIJcLlq",
        "colab_type": "code",
        "colab": {
          "base_uri": "https://localhost:8080/",
          "height": 445
        },
        "outputId": "1fc765e6-ddcc-4469-bdaa-dd767ff1e013"
      },
      "source": [
        "df = pd.read_csv(os.path.join(\"spotify_df_3.csv\"))\n",
        "df.head()"
      ],
      "execution_count": null,
      "outputs": [
        {
          "output_type": "execute_result",
          "data": {
            "text/html": [
              "<div>\n",
              "<style scoped>\n",
              "    .dataframe tbody tr th:only-of-type {\n",
              "        vertical-align: middle;\n",
              "    }\n",
              "\n",
              "    .dataframe tbody tr th {\n",
              "        vertical-align: top;\n",
              "    }\n",
              "\n",
              "    .dataframe thead th {\n",
              "        text-align: right;\n",
              "    }\n",
              "</style>\n",
              "<table border=\"1\" class=\"dataframe\">\n",
              "  <thead>\n",
              "    <tr style=\"text-align: right;\">\n",
              "      <th></th>\n",
              "      <th>artist_name</th>\n",
              "      <th>track_name</th>\n",
              "      <th>track_id</th>\n",
              "      <th>artist_href</th>\n",
              "      <th>track_href</th>\n",
              "      <th>genre_name</th>\n",
              "      <th>danceability</th>\n",
              "      <th>energy</th>\n",
              "      <th>key</th>\n",
              "      <th>loudness</th>\n",
              "      <th>mode</th>\n",
              "      <th>speechiness</th>\n",
              "      <th>acousticness</th>\n",
              "      <th>instrumentalness</th>\n",
              "      <th>liveness</th>\n",
              "      <th>valence</th>\n",
              "      <th>tempo</th>\n",
              "      <th>duration_ms</th>\n",
              "    </tr>\n",
              "  </thead>\n",
              "  <tbody>\n",
              "    <tr>\n",
              "      <th>0</th>\n",
              "      <td>lil dicky</td>\n",
              "      <td>freaky friday (feat. chris brown)</td>\n",
              "      <td>10Igtw8bSDyyFs7KIsKngZ</td>\n",
              "      <td>https://open.spotify.com/artist/1tqhsYv8yBBdwA...</td>\n",
              "      <td>https://open.spotify.com/track/10Igtw8bSDyyFs7...</td>\n",
              "      <td>comedy</td>\n",
              "      <td>0.755</td>\n",
              "      <td>0.599</td>\n",
              "      <td>8</td>\n",
              "      <td>-5.042</td>\n",
              "      <td>1</td>\n",
              "      <td>0.2240</td>\n",
              "      <td>0.147</td>\n",
              "      <td>0.000000</td>\n",
              "      <td>0.109</td>\n",
              "      <td>0.755</td>\n",
              "      <td>133.123</td>\n",
              "      <td>216632</td>\n",
              "    </tr>\n",
              "    <tr>\n",
              "      <th>1</th>\n",
              "      <td>afroman</td>\n",
              "      <td>crazy rap (colt 45 &amp; 2 zig zags)</td>\n",
              "      <td>1ACZpHI5vZ5Ea4xGlkdGWM</td>\n",
              "      <td>https://open.spotify.com/artist/4Icvbp9RDt5aY2...</td>\n",
              "      <td>https://open.spotify.com/track/1ACZpHI5vZ5Ea4x...</td>\n",
              "      <td>comedy</td>\n",
              "      <td>0.927</td>\n",
              "      <td>0.367</td>\n",
              "      <td>9</td>\n",
              "      <td>-7.797</td>\n",
              "      <td>1</td>\n",
              "      <td>0.3820</td>\n",
              "      <td>0.325</td>\n",
              "      <td>0.000000</td>\n",
              "      <td>0.132</td>\n",
              "      <td>0.576</td>\n",
              "      <td>99.053</td>\n",
              "      <td>328667</td>\n",
              "    </tr>\n",
              "    <tr>\n",
              "      <th>2</th>\n",
              "      <td>lil dicky</td>\n",
              "      <td>molly (feat. brendon urie of panic at the disco)</td>\n",
              "      <td>0NBiC3zLXoBQXBjsbnbwJq</td>\n",
              "      <td>https://open.spotify.com/artist/1tqhsYv8yBBdwA...</td>\n",
              "      <td>https://open.spotify.com/track/0NBiC3zLXoBQXBj...</td>\n",
              "      <td>comedy</td>\n",
              "      <td>0.831</td>\n",
              "      <td>0.514</td>\n",
              "      <td>7</td>\n",
              "      <td>-6.695</td>\n",
              "      <td>1</td>\n",
              "      <td>0.0368</td>\n",
              "      <td>0.203</td>\n",
              "      <td>0.000156</td>\n",
              "      <td>0.115</td>\n",
              "      <td>0.397</td>\n",
              "      <td>114.940</td>\n",
              "      <td>244340</td>\n",
              "    </tr>\n",
              "    <tr>\n",
              "      <th>3</th>\n",
              "      <td>lil dicky</td>\n",
              "      <td>$ave dat money (feat. fetty wap &amp; rich homie q...</td>\n",
              "      <td>6AoYWCzsDls6c61Zp5qTuU</td>\n",
              "      <td>https://open.spotify.com/artist/1tqhsYv8yBBdwA...</td>\n",
              "      <td>https://open.spotify.com/track/6AoYWCzsDls6c61...</td>\n",
              "      <td>comedy</td>\n",
              "      <td>0.858</td>\n",
              "      <td>0.697</td>\n",
              "      <td>2</td>\n",
              "      <td>-5.361</td>\n",
              "      <td>1</td>\n",
              "      <td>0.2300</td>\n",
              "      <td>0.114</td>\n",
              "      <td>0.000000</td>\n",
              "      <td>0.224</td>\n",
              "      <td>0.364</td>\n",
              "      <td>98.012</td>\n",
              "      <td>290836</td>\n",
              "    </tr>\n",
              "    <tr>\n",
              "      <th>4</th>\n",
              "      <td>lil dicky</td>\n",
              "      <td>professional rapper (feat. snoop dogg)</td>\n",
              "      <td>1Ysc1uDZtf430TGavoS1j4</td>\n",
              "      <td>https://open.spotify.com/artist/1tqhsYv8yBBdwA...</td>\n",
              "      <td>https://open.spotify.com/track/1Ysc1uDZtf430TG...</td>\n",
              "      <td>comedy</td>\n",
              "      <td>0.685</td>\n",
              "      <td>0.621</td>\n",
              "      <td>11</td>\n",
              "      <td>-8.442</td>\n",
              "      <td>0</td>\n",
              "      <td>0.3610</td>\n",
              "      <td>0.433</td>\n",
              "      <td>0.000000</td>\n",
              "      <td>0.607</td>\n",
              "      <td>0.538</td>\n",
              "      <td>128.906</td>\n",
              "      <td>353960</td>\n",
              "    </tr>\n",
              "  </tbody>\n",
              "</table>\n",
              "</div>"
            ],
            "text/plain": [
              "  artist_name  ... duration_ms\n",
              "0   lil dicky  ...      216632\n",
              "1     afroman  ...      328667\n",
              "2   lil dicky  ...      244340\n",
              "3   lil dicky  ...      290836\n",
              "4   lil dicky  ...      353960\n",
              "\n",
              "[5 rows x 18 columns]"
            ]
          },
          "metadata": {
            "tags": []
          },
          "execution_count": 490
        }
      ]
    },
    {
      "cell_type": "code",
      "metadata": {
        "id": "vW5yNpQpcLf_",
        "colab_type": "code",
        "colab": {
          "base_uri": "https://localhost:8080/",
          "height": 357
        },
        "outputId": "bf73d5d9-a068-4c67-e9ee-19393fbbf3b2"
      },
      "source": [
        "ML_df = df.drop(['artist_name', 'track_name', 'track_id', 'artist_href', 'track_href'], axis=1)\n",
        "ML_df.info()"
      ],
      "execution_count": null,
      "outputs": [
        {
          "output_type": "stream",
          "text": [
            "<class 'pandas.core.frame.DataFrame'>\n",
            "RangeIndex: 37955 entries, 0 to 37954\n",
            "Data columns (total 13 columns):\n",
            " #   Column            Non-Null Count  Dtype  \n",
            "---  ------            --------------  -----  \n",
            " 0   genre_name        37955 non-null  object \n",
            " 1   danceability      37955 non-null  float64\n",
            " 2   energy            37955 non-null  float64\n",
            " 3   key               37955 non-null  int64  \n",
            " 4   loudness          37955 non-null  float64\n",
            " 5   mode              37955 non-null  int64  \n",
            " 6   speechiness       37955 non-null  float64\n",
            " 7   acousticness      37955 non-null  float64\n",
            " 8   instrumentalness  37955 non-null  float64\n",
            " 9   liveness          37955 non-null  float64\n",
            " 10  valence           37955 non-null  float64\n",
            " 11  tempo             37955 non-null  float64\n",
            " 12  duration_ms       37955 non-null  int64  \n",
            "dtypes: float64(9), int64(3), object(1)\n",
            "memory usage: 3.8+ MB\n"
          ],
          "name": "stdout"
        }
      ]
    },
    {
      "cell_type": "code",
      "metadata": {
        "id": "YAmohxhKw7B8",
        "colab_type": "code",
        "colab": {
          "base_uri": "https://localhost:8080/",
          "height": 34
        },
        "outputId": "55835a77-89c6-4e21-ede7-88a508461839"
      },
      "source": [
        "X = ML_df.drop(\"genre_name\", axis=1)\n",
        "y = ML_df[\"genre_name\"]\n",
        "print(X.shape, y.shape)"
      ],
      "execution_count": null,
      "outputs": [
        {
          "output_type": "stream",
          "text": [
            "(37955, 12) (37955,)\n"
          ],
          "name": "stdout"
        }
      ]
    },
    {
      "cell_type": "code",
      "metadata": {
        "id": "5cE2sUj4w9zB",
        "colab_type": "code",
        "colab": {}
      },
      "source": [
        "X_train, X_test, y_train, y_test = train_test_split(\n",
        "    X, y, stratify=y)"
      ],
      "execution_count": null,
      "outputs": []
    },
    {
      "cell_type": "code",
      "metadata": {
        "id": "ya22OeKExAmA",
        "colab_type": "code",
        "colab": {}
      },
      "source": [
        "X_scaler = MinMaxScaler().fit(X_train)\n",
        "X_train_scaled = X_scaler.transform(X_train)\n",
        "X_test_scaled = X_scaler.transform(X_test)"
      ],
      "execution_count": null,
      "outputs": []
    },
    {
      "cell_type": "code",
      "metadata": {
        "id": "EOO2oVAbxC2T",
        "colab_type": "code",
        "colab": {}
      },
      "source": [
        "# Step 1: Label-encode data set\n",
        "label_encoder = LabelEncoder()\n",
        "label_encoder.fit(y_train)\n",
        "encoded_y_train = label_encoder.transform(y_train)\n",
        "encoded_y_test = label_encoder.transform(y_test)"
      ],
      "execution_count": null,
      "outputs": []
    },
    {
      "cell_type": "code",
      "metadata": {
        "id": "klo9XChvxFIr",
        "colab_type": "code",
        "colab": {}
      },
      "source": [
        "# Step 2: Convert encoded labels to one-hot-encoding\n",
        "y_train_categorical = to_categorical(encoded_y_train)\n",
        "y_test_categorical = to_categorical(encoded_y_test)"
      ],
      "execution_count": null,
      "outputs": []
    },
    {
      "cell_type": "code",
      "metadata": {
        "id": "3N2g0Y8LxHWh",
        "colab_type": "code",
        "colab": {}
      },
      "source": [
        "from tensorflow.keras.models import Sequential\n",
        "from tensorflow.keras.layers import Dense"
      ],
      "execution_count": null,
      "outputs": []
    },
    {
      "cell_type": "code",
      "metadata": {
        "id": "GB3hSdT8xJ2l",
        "colab_type": "code",
        "colab": {}
      },
      "source": [
        "# Create model and add layers\n",
        "model = Sequential()\n",
        "model.add(Dense(units=20, activation='relu', input_dim=12))\n",
        "# model.add(Dense(units=20, activation='sigmoid'))\n",
        "# model.add(Dense(units=20, activation='sigmoid'))\n",
        "# model.add(Dense(units=20, activation='sigmoid'))\n",
        "model.add(Dense(units=20, activation='relu'))\n",
        "model.add(Dense(units=20, activation='relu'))\n",
        "model.add(Dense(units=20, activation='relu'))\n",
        "model.add(Dense(units=20, activation='relu'))\n",
        "# model.add(Dense(units=20, activation='relu'))\n",
        "model.add(Dense(units=20, activation='softmax'))"
      ],
      "execution_count": null,
      "outputs": []
    },
    {
      "cell_type": "code",
      "metadata": {
        "id": "rLcd9rP6xMRf",
        "colab_type": "code",
        "colab": {}
      },
      "source": [
        "# Compile and fit the model\n",
        "model.compile(optimizer='adam',\n",
        "              loss='categorical_crossentropy',\n",
        "              metrics=['accuracy'])"
      ],
      "execution_count": null,
      "outputs": []
    },
    {
      "cell_type": "code",
      "metadata": {
        "id": "Um5JNc_ZxOna",
        "colab_type": "code",
        "colab": {
          "base_uri": "https://localhost:8080/",
          "height": 357
        },
        "outputId": "6b19c727-e15f-4784-c239-492b0f34fb2e"
      },
      "source": [
        "model.summary()"
      ],
      "execution_count": null,
      "outputs": [
        {
          "output_type": "stream",
          "text": [
            "Model: \"sequential_58\"\n",
            "_________________________________________________________________\n",
            "Layer (type)                 Output Shape              Param #   \n",
            "=================================================================\n",
            "dense_215 (Dense)            (None, 20)                260       \n",
            "_________________________________________________________________\n",
            "dense_216 (Dense)            (None, 20)                420       \n",
            "_________________________________________________________________\n",
            "dense_217 (Dense)            (None, 20)                420       \n",
            "_________________________________________________________________\n",
            "dense_218 (Dense)            (None, 20)                420       \n",
            "_________________________________________________________________\n",
            "dense_219 (Dense)            (None, 20)                420       \n",
            "_________________________________________________________________\n",
            "dense_220 (Dense)            (None, 20)                420       \n",
            "=================================================================\n",
            "Total params: 2,360\n",
            "Trainable params: 2,360\n",
            "Non-trainable params: 0\n",
            "_________________________________________________________________\n"
          ],
          "name": "stdout"
        }
      ]
    },
    {
      "cell_type": "code",
      "metadata": {
        "id": "2zxXQSXkxQ2z",
        "colab_type": "code",
        "colab": {
          "base_uri": "https://localhost:8080/",
          "height": 374
        },
        "outputId": "689538a6-c6b1-4e3d-d6d0-9c2b9b9e48ea"
      },
      "source": [
        "model.fit(\n",
        "    X_train_scaled,\n",
        "    y_train_categorical,\n",
        "    epochs=10,\n",
        "    shuffle=True,\n",
        "    verbose=2\n",
        ")"
      ],
      "execution_count": null,
      "outputs": [
        {
          "output_type": "stream",
          "text": [
            "Epoch 1/10\n",
            "890/890 - 1s - loss: 1.6937 - accuracy: 0.4415\n",
            "Epoch 2/10\n",
            "890/890 - 1s - loss: 1.6843 - accuracy: 0.4441\n",
            "Epoch 3/10\n",
            "890/890 - 1s - loss: 1.6725 - accuracy: 0.4513\n",
            "Epoch 4/10\n",
            "890/890 - 1s - loss: 1.6643 - accuracy: 0.4515\n",
            "Epoch 5/10\n",
            "890/890 - 1s - loss: 1.6593 - accuracy: 0.4551\n",
            "Epoch 6/10\n",
            "890/890 - 1s - loss: 1.6534 - accuracy: 0.4554\n",
            "Epoch 7/10\n",
            "890/890 - 1s - loss: 1.6479 - accuracy: 0.4564\n",
            "Epoch 8/10\n",
            "890/890 - 1s - loss: 1.6442 - accuracy: 0.4585\n",
            "Epoch 9/10\n",
            "890/890 - 1s - loss: 1.6396 - accuracy: 0.4581\n",
            "Epoch 10/10\n",
            "890/890 - 1s - loss: 1.6346 - accuracy: 0.4643\n"
          ],
          "name": "stdout"
        },
        {
          "output_type": "execute_result",
          "data": {
            "text/plain": [
              "<tensorflow.python.keras.callbacks.History at 0x7f511cd58d68>"
            ]
          },
          "metadata": {
            "tags": []
          },
          "execution_count": 506
        }
      ]
    },
    {
      "cell_type": "code",
      "metadata": {
        "id": "INbEZF3zxTy8",
        "colab_type": "code",
        "colab": {}
      },
      "source": [
        "import matplotlib.pyplot as plt\n",
        "from sklearn.neighbors import KNeighborsClassifier\n",
        "import pandas as pd\n",
        "import os"
      ],
      "execution_count": null,
      "outputs": []
    },
    {
      "cell_type": "code",
      "metadata": {
        "id": "CQ0jcpYIynJ9",
        "colab_type": "code",
        "colab": {}
      },
      "source": [
        ""
      ],
      "execution_count": null,
      "outputs": []
    },
    {
      "cell_type": "markdown",
      "metadata": {
        "id": "mzmcXfxs-4Ah",
        "colab_type": "text"
      },
      "source": [
        "### Now trying with KNN"
      ]
    },
    {
      "cell_type": "code",
      "metadata": {
        "id": "4Z8685-VyHPc",
        "colab_type": "code",
        "colab": {
          "base_uri": "https://localhost:8080/",
          "height": 275
        },
        "outputId": "d5085586-3a68-4bea-84b2-cab71cbffd67"
      },
      "source": [
        "df = pd.read_csv(os.path.join(\"spotify_df_3.csv\"))\n",
        "df.head()"
      ],
      "execution_count": null,
      "outputs": [
        {
          "output_type": "execute_result",
          "data": {
            "text/html": [
              "<div>\n",
              "<style scoped>\n",
              "    .dataframe tbody tr th:only-of-type {\n",
              "        vertical-align: middle;\n",
              "    }\n",
              "\n",
              "    .dataframe tbody tr th {\n",
              "        vertical-align: top;\n",
              "    }\n",
              "\n",
              "    .dataframe thead th {\n",
              "        text-align: right;\n",
              "    }\n",
              "</style>\n",
              "<table border=\"1\" class=\"dataframe\">\n",
              "  <thead>\n",
              "    <tr style=\"text-align: right;\">\n",
              "      <th></th>\n",
              "      <th>artist_name</th>\n",
              "      <th>track_name</th>\n",
              "      <th>track_id</th>\n",
              "      <th>artist_href</th>\n",
              "      <th>track_href</th>\n",
              "      <th>genre_name</th>\n",
              "      <th>danceability</th>\n",
              "      <th>energy</th>\n",
              "      <th>key</th>\n",
              "      <th>loudness</th>\n",
              "      <th>mode</th>\n",
              "      <th>speechiness</th>\n",
              "      <th>acousticness</th>\n",
              "      <th>instrumentalness</th>\n",
              "      <th>liveness</th>\n",
              "      <th>valence</th>\n",
              "      <th>tempo</th>\n",
              "      <th>duration_ms</th>\n",
              "    </tr>\n",
              "  </thead>\n",
              "  <tbody>\n",
              "    <tr>\n",
              "      <th>0</th>\n",
              "      <td>jason mraz</td>\n",
              "      <td>i'm yours</td>\n",
              "      <td>1EzrEOXmMH3G43AXT1y7pA</td>\n",
              "      <td>https://open.spotify.com/artist/4phGZZrJZRo4El...</td>\n",
              "      <td>https://open.spotify.com/track/1EzrEOXmMH3G43A...</td>\n",
              "      <td>acoustic</td>\n",
              "      <td>0.686</td>\n",
              "      <td>0.457</td>\n",
              "      <td>11</td>\n",
              "      <td>-8.322</td>\n",
              "      <td>1</td>\n",
              "      <td>0.0468</td>\n",
              "      <td>0.5950</td>\n",
              "      <td>0.0</td>\n",
              "      <td>0.1050</td>\n",
              "      <td>0.718</td>\n",
              "      <td>150.953</td>\n",
              "      <td>242187</td>\n",
              "    </tr>\n",
              "    <tr>\n",
              "      <th>1</th>\n",
              "      <td>chord overstreet</td>\n",
              "      <td>hold on</td>\n",
              "      <td>5vjLSffimiIP26QG5WcN2K</td>\n",
              "      <td>https://open.spotify.com/artist/5D3muNJhYYunbR...</td>\n",
              "      <td>https://open.spotify.com/track/5vjLSffimiIP26Q...</td>\n",
              "      <td>acoustic</td>\n",
              "      <td>0.618</td>\n",
              "      <td>0.443</td>\n",
              "      <td>2</td>\n",
              "      <td>-9.681</td>\n",
              "      <td>1</td>\n",
              "      <td>0.0526</td>\n",
              "      <td>0.4690</td>\n",
              "      <td>0.0</td>\n",
              "      <td>0.0829</td>\n",
              "      <td>0.167</td>\n",
              "      <td>119.949</td>\n",
              "      <td>198853</td>\n",
              "    </tr>\n",
              "    <tr>\n",
              "      <th>2</th>\n",
              "      <td>matt nathanson</td>\n",
              "      <td>come on get higher</td>\n",
              "      <td>38YgZVHPWOWsKrsCXz6JyP</td>\n",
              "      <td>https://open.spotify.com/artist/4NGiEU3Pkd8ASR...</td>\n",
              "      <td>https://open.spotify.com/track/38YgZVHPWOWsKrs...</td>\n",
              "      <td>acoustic</td>\n",
              "      <td>0.672</td>\n",
              "      <td>0.623</td>\n",
              "      <td>9</td>\n",
              "      <td>-5.699</td>\n",
              "      <td>1</td>\n",
              "      <td>0.0297</td>\n",
              "      <td>0.2410</td>\n",
              "      <td>0.0</td>\n",
              "      <td>0.0848</td>\n",
              "      <td>0.617</td>\n",
              "      <td>92.018</td>\n",
              "      <td>215173</td>\n",
              "    </tr>\n",
              "    <tr>\n",
              "      <th>3</th>\n",
              "      <td>sara bareilles</td>\n",
              "      <td>love song</td>\n",
              "      <td>4E6cwWJWZw2zWf7VFbH7wf</td>\n",
              "      <td>https://open.spotify.com/artist/2Sqr0DXoaYABbj...</td>\n",
              "      <td>https://open.spotify.com/track/4E6cwWJWZw2zWf7...</td>\n",
              "      <td>acoustic</td>\n",
              "      <td>0.583</td>\n",
              "      <td>0.786</td>\n",
              "      <td>2</td>\n",
              "      <td>-3.142</td>\n",
              "      <td>0</td>\n",
              "      <td>0.0301</td>\n",
              "      <td>0.0208</td>\n",
              "      <td>0.0</td>\n",
              "      <td>0.1880</td>\n",
              "      <td>0.573</td>\n",
              "      <td>123.052</td>\n",
              "      <td>258827</td>\n",
              "    </tr>\n",
              "    <tr>\n",
              "      <th>4</th>\n",
              "      <td>jason mraz</td>\n",
              "      <td>i won't give up</td>\n",
              "      <td>53QF56cjZA9RTuuMZDrSA6</td>\n",
              "      <td>https://open.spotify.com/artist/4phGZZrJZRo4El...</td>\n",
              "      <td>https://open.spotify.com/track/53QF56cjZA9RTuu...</td>\n",
              "      <td>acoustic</td>\n",
              "      <td>0.585</td>\n",
              "      <td>0.303</td>\n",
              "      <td>4</td>\n",
              "      <td>-10.058</td>\n",
              "      <td>1</td>\n",
              "      <td>0.0398</td>\n",
              "      <td>0.6940</td>\n",
              "      <td>0.0</td>\n",
              "      <td>0.1150</td>\n",
              "      <td>0.142</td>\n",
              "      <td>136.703</td>\n",
              "      <td>240166</td>\n",
              "    </tr>\n",
              "  </tbody>\n",
              "</table>\n",
              "</div>"
            ],
            "text/plain": [
              "        artist_name          track_name  ...    tempo duration_ms\n",
              "0        jason mraz           i'm yours  ...  150.953      242187\n",
              "1  chord overstreet             hold on  ...  119.949      198853\n",
              "2    matt nathanson  come on get higher  ...   92.018      215173\n",
              "3    sara bareilles           love song  ...  123.052      258827\n",
              "4        jason mraz     i won't give up  ...  136.703      240166\n",
              "\n",
              "[5 rows x 18 columns]"
            ]
          },
          "metadata": {
            "tags": []
          },
          "execution_count": 6
        }
      ]
    },
    {
      "cell_type": "code",
      "metadata": {
        "id": "bWLBYAqlyt0Q",
        "colab_type": "code",
        "colab": {
          "base_uri": "https://localhost:8080/",
          "height": 204
        },
        "outputId": "107a2c07-2ec3-4cd3-91c2-0acee0eec9ad"
      },
      "source": [
        "ML_df = df.drop(['artist_name', 'track_name', 'track_id', 'artist_href', 'track_href'], axis=1)\n",
        "ML_df.head()"
      ],
      "execution_count": null,
      "outputs": [
        {
          "output_type": "execute_result",
          "data": {
            "text/html": [
              "<div>\n",
              "<style scoped>\n",
              "    .dataframe tbody tr th:only-of-type {\n",
              "        vertical-align: middle;\n",
              "    }\n",
              "\n",
              "    .dataframe tbody tr th {\n",
              "        vertical-align: top;\n",
              "    }\n",
              "\n",
              "    .dataframe thead th {\n",
              "        text-align: right;\n",
              "    }\n",
              "</style>\n",
              "<table border=\"1\" class=\"dataframe\">\n",
              "  <thead>\n",
              "    <tr style=\"text-align: right;\">\n",
              "      <th></th>\n",
              "      <th>genre_name</th>\n",
              "      <th>danceability</th>\n",
              "      <th>energy</th>\n",
              "      <th>key</th>\n",
              "      <th>loudness</th>\n",
              "      <th>mode</th>\n",
              "      <th>speechiness</th>\n",
              "      <th>acousticness</th>\n",
              "      <th>instrumentalness</th>\n",
              "      <th>liveness</th>\n",
              "      <th>valence</th>\n",
              "      <th>tempo</th>\n",
              "      <th>duration_ms</th>\n",
              "    </tr>\n",
              "  </thead>\n",
              "  <tbody>\n",
              "    <tr>\n",
              "      <th>0</th>\n",
              "      <td>acoustic</td>\n",
              "      <td>0.686</td>\n",
              "      <td>0.457</td>\n",
              "      <td>11</td>\n",
              "      <td>-8.322</td>\n",
              "      <td>1</td>\n",
              "      <td>0.0468</td>\n",
              "      <td>0.5950</td>\n",
              "      <td>0.0</td>\n",
              "      <td>0.1050</td>\n",
              "      <td>0.718</td>\n",
              "      <td>150.953</td>\n",
              "      <td>242187</td>\n",
              "    </tr>\n",
              "    <tr>\n",
              "      <th>1</th>\n",
              "      <td>acoustic</td>\n",
              "      <td>0.618</td>\n",
              "      <td>0.443</td>\n",
              "      <td>2</td>\n",
              "      <td>-9.681</td>\n",
              "      <td>1</td>\n",
              "      <td>0.0526</td>\n",
              "      <td>0.4690</td>\n",
              "      <td>0.0</td>\n",
              "      <td>0.0829</td>\n",
              "      <td>0.167</td>\n",
              "      <td>119.949</td>\n",
              "      <td>198853</td>\n",
              "    </tr>\n",
              "    <tr>\n",
              "      <th>2</th>\n",
              "      <td>acoustic</td>\n",
              "      <td>0.672</td>\n",
              "      <td>0.623</td>\n",
              "      <td>9</td>\n",
              "      <td>-5.699</td>\n",
              "      <td>1</td>\n",
              "      <td>0.0297</td>\n",
              "      <td>0.2410</td>\n",
              "      <td>0.0</td>\n",
              "      <td>0.0848</td>\n",
              "      <td>0.617</td>\n",
              "      <td>92.018</td>\n",
              "      <td>215173</td>\n",
              "    </tr>\n",
              "    <tr>\n",
              "      <th>3</th>\n",
              "      <td>acoustic</td>\n",
              "      <td>0.583</td>\n",
              "      <td>0.786</td>\n",
              "      <td>2</td>\n",
              "      <td>-3.142</td>\n",
              "      <td>0</td>\n",
              "      <td>0.0301</td>\n",
              "      <td>0.0208</td>\n",
              "      <td>0.0</td>\n",
              "      <td>0.1880</td>\n",
              "      <td>0.573</td>\n",
              "      <td>123.052</td>\n",
              "      <td>258827</td>\n",
              "    </tr>\n",
              "    <tr>\n",
              "      <th>4</th>\n",
              "      <td>acoustic</td>\n",
              "      <td>0.585</td>\n",
              "      <td>0.303</td>\n",
              "      <td>4</td>\n",
              "      <td>-10.058</td>\n",
              "      <td>1</td>\n",
              "      <td>0.0398</td>\n",
              "      <td>0.6940</td>\n",
              "      <td>0.0</td>\n",
              "      <td>0.1150</td>\n",
              "      <td>0.142</td>\n",
              "      <td>136.703</td>\n",
              "      <td>240166</td>\n",
              "    </tr>\n",
              "  </tbody>\n",
              "</table>\n",
              "</div>"
            ],
            "text/plain": [
              "  genre_name  danceability  energy  ...  valence    tempo  duration_ms\n",
              "0   acoustic         0.686   0.457  ...    0.718  150.953       242187\n",
              "1   acoustic         0.618   0.443  ...    0.167  119.949       198853\n",
              "2   acoustic         0.672   0.623  ...    0.617   92.018       215173\n",
              "3   acoustic         0.583   0.786  ...    0.573  123.052       258827\n",
              "4   acoustic         0.585   0.303  ...    0.142  136.703       240166\n",
              "\n",
              "[5 rows x 13 columns]"
            ]
          },
          "metadata": {
            "tags": []
          },
          "execution_count": 7
        }
      ]
    },
    {
      "cell_type": "code",
      "metadata": {
        "id": "zfrGYG8TytnE",
        "colab_type": "code",
        "colab": {
          "base_uri": "https://localhost:8080/",
          "height": 204
        },
        "outputId": "a59bc635-c715-4689-9c63-3d8d0e03754d"
      },
      "source": [
        "y = ML_df[\"genre_name\"]\n",
        "X = ML_df.drop(\"genre_name\", axis=1)\n",
        "X.head()"
      ],
      "execution_count": null,
      "outputs": [
        {
          "output_type": "execute_result",
          "data": {
            "text/html": [
              "<div>\n",
              "<style scoped>\n",
              "    .dataframe tbody tr th:only-of-type {\n",
              "        vertical-align: middle;\n",
              "    }\n",
              "\n",
              "    .dataframe tbody tr th {\n",
              "        vertical-align: top;\n",
              "    }\n",
              "\n",
              "    .dataframe thead th {\n",
              "        text-align: right;\n",
              "    }\n",
              "</style>\n",
              "<table border=\"1\" class=\"dataframe\">\n",
              "  <thead>\n",
              "    <tr style=\"text-align: right;\">\n",
              "      <th></th>\n",
              "      <th>danceability</th>\n",
              "      <th>energy</th>\n",
              "      <th>key</th>\n",
              "      <th>loudness</th>\n",
              "      <th>mode</th>\n",
              "      <th>speechiness</th>\n",
              "      <th>acousticness</th>\n",
              "      <th>instrumentalness</th>\n",
              "      <th>liveness</th>\n",
              "      <th>valence</th>\n",
              "      <th>tempo</th>\n",
              "      <th>duration_ms</th>\n",
              "    </tr>\n",
              "  </thead>\n",
              "  <tbody>\n",
              "    <tr>\n",
              "      <th>0</th>\n",
              "      <td>0.755</td>\n",
              "      <td>0.599</td>\n",
              "      <td>8</td>\n",
              "      <td>-5.042</td>\n",
              "      <td>1</td>\n",
              "      <td>0.2240</td>\n",
              "      <td>0.147</td>\n",
              "      <td>0.000000</td>\n",
              "      <td>0.109</td>\n",
              "      <td>0.755</td>\n",
              "      <td>133.123</td>\n",
              "      <td>216632</td>\n",
              "    </tr>\n",
              "    <tr>\n",
              "      <th>1</th>\n",
              "      <td>0.927</td>\n",
              "      <td>0.367</td>\n",
              "      <td>9</td>\n",
              "      <td>-7.797</td>\n",
              "      <td>1</td>\n",
              "      <td>0.3820</td>\n",
              "      <td>0.325</td>\n",
              "      <td>0.000000</td>\n",
              "      <td>0.132</td>\n",
              "      <td>0.576</td>\n",
              "      <td>99.053</td>\n",
              "      <td>328667</td>\n",
              "    </tr>\n",
              "    <tr>\n",
              "      <th>2</th>\n",
              "      <td>0.831</td>\n",
              "      <td>0.514</td>\n",
              "      <td>7</td>\n",
              "      <td>-6.695</td>\n",
              "      <td>1</td>\n",
              "      <td>0.0368</td>\n",
              "      <td>0.203</td>\n",
              "      <td>0.000156</td>\n",
              "      <td>0.115</td>\n",
              "      <td>0.397</td>\n",
              "      <td>114.940</td>\n",
              "      <td>244340</td>\n",
              "    </tr>\n",
              "    <tr>\n",
              "      <th>3</th>\n",
              "      <td>0.858</td>\n",
              "      <td>0.697</td>\n",
              "      <td>2</td>\n",
              "      <td>-5.361</td>\n",
              "      <td>1</td>\n",
              "      <td>0.2300</td>\n",
              "      <td>0.114</td>\n",
              "      <td>0.000000</td>\n",
              "      <td>0.224</td>\n",
              "      <td>0.364</td>\n",
              "      <td>98.012</td>\n",
              "      <td>290836</td>\n",
              "    </tr>\n",
              "    <tr>\n",
              "      <th>4</th>\n",
              "      <td>0.685</td>\n",
              "      <td>0.621</td>\n",
              "      <td>11</td>\n",
              "      <td>-8.442</td>\n",
              "      <td>0</td>\n",
              "      <td>0.3610</td>\n",
              "      <td>0.433</td>\n",
              "      <td>0.000000</td>\n",
              "      <td>0.607</td>\n",
              "      <td>0.538</td>\n",
              "      <td>128.906</td>\n",
              "      <td>353960</td>\n",
              "    </tr>\n",
              "  </tbody>\n",
              "</table>\n",
              "</div>"
            ],
            "text/plain": [
              "   danceability  energy  key  loudness  ...  liveness  valence    tempo  duration_ms\n",
              "0         0.755   0.599    8    -5.042  ...     0.109    0.755  133.123       216632\n",
              "1         0.927   0.367    9    -7.797  ...     0.132    0.576   99.053       328667\n",
              "2         0.831   0.514    7    -6.695  ...     0.115    0.397  114.940       244340\n",
              "3         0.858   0.697    2    -5.361  ...     0.224    0.364   98.012       290836\n",
              "4         0.685   0.621   11    -8.442  ...     0.607    0.538  128.906       353960\n",
              "\n",
              "[5 rows x 12 columns]"
            ]
          },
          "metadata": {
            "tags": []
          },
          "execution_count": 515
        }
      ]
    },
    {
      "cell_type": "code",
      "metadata": {
        "id": "xUbWi7N2yyAK",
        "colab_type": "code",
        "colab": {}
      },
      "source": [
        "from sklearn.model_selection import train_test_split\n",
        "X_train, X_test, y_train, y_test = train_test_split(X, y)"
      ],
      "execution_count": null,
      "outputs": []
    },
    {
      "cell_type": "code",
      "metadata": {
        "id": "I-1f2r7tyzfU",
        "colab_type": "code",
        "colab": {
          "base_uri": "https://localhost:8080/",
          "height": 449
        },
        "outputId": "79e63f19-78da-4611-f94b-64817e78ca3d"
      },
      "source": [
        "train_scores = []\n",
        "test_scores = []\n",
        "for k in range(1, 20, 2):\n",
        "    knn = KNeighborsClassifier(n_neighbors=k)\n",
        "    knn.fit(X_train, y_train)\n",
        "    train_score = knn.score(X_train, y_train)\n",
        "    test_score = knn.score(X_test, y_test)\n",
        "    all_score = train_score + test_score\n",
        "    train_scores.append(train_score)\n",
        "    test_scores.append(test_score)\n",
        "    print(f\"k: {k}, Train/Test Score: {train_score:.3f}/{test_score:.3f}, {all_score:.3f}\")\n",
        "    \n",
        "plt.plot(range(1, 20, 2), train_scores, marker='o')\n",
        "plt.plot(range(1, 20, 2), test_scores, marker=\"x\")\n",
        "plt.xlabel(\"k neighbors\")\n",
        "plt.ylabel(\"Testing accuracy Score\")\n",
        "plt.show()"
      ],
      "execution_count": null,
      "outputs": [
        {
          "output_type": "stream",
          "text": [
            "k: 1, Train/Test Score: 1.000/0.108, 1.108\n",
            "k: 3, Train/Test Score: 0.429/0.090, 0.520\n",
            "k: 5, Train/Test Score: 0.342/0.096, 0.438\n",
            "k: 7, Train/Test Score: 0.304/0.100, 0.404\n",
            "k: 9, Train/Test Score: 0.276/0.105, 0.382\n",
            "k: 11, Train/Test Score: 0.258/0.105, 0.363\n",
            "k: 13, Train/Test Score: 0.241/0.105, 0.346\n",
            "k: 15, Train/Test Score: 0.230/0.105, 0.335\n",
            "k: 17, Train/Test Score: 0.221/0.106, 0.327\n",
            "k: 19, Train/Test Score: 0.213/0.107, 0.320\n"
          ],
          "name": "stdout"
        },
        {
          "output_type": "display_data",
          "data": {
            "image/png": "[encoded data removed]",
            "text/plain": [
              "<Figure size 432x288 with 1 Axes>"
            ]
          },
          "metadata": {
            "tags": [],
            "needs_background": "light"
          }
        }
      ]
    },
    {
      "cell_type": "markdown",
      "metadata": {
        "id": "OHRl7wsFX8YS",
        "colab_type": "text"
      },
      "source": [
        "# Feature Selection Analysis\n"
      ]
    },
    {
      "cell_type": "code",
      "metadata": {
        "id": "UVFjuaiXZkEh",
        "colab_type": "code",
        "colab": {
          "base_uri": "https://localhost:8080/",
          "height": 71
        },
        "outputId": "992ed7d4-5c95-4040-c282-7e82299737c6"
      },
      "source": [
        "import matplotlib.pyplot as plt\n",
        "import numpy as np\n",
        "import scipy.stats as st\n",
        "import seaborn as sn\n",
        "\n",
        "from scipy.stats import linregress"
      ],
      "execution_count": null,
      "outputs": [
        {
          "output_type": "stream",
          "text": [
            "/usr/local/lib/python3.6/dist-packages/statsmodels/tools/_testing.py:19: FutureWarning: pandas.util.testing is deprecated. Use the functions in the public API at pandas.testing instead.\n",
            "  import pandas.util.testing as tm\n"
          ],
          "name": "stderr"
        }
      ]
    },
    {
      "cell_type": "code",
      "metadata": {
        "id": "bb5QK96wYAUL",
        "colab_type": "code",
        "colab": {
          "base_uri": "https://localhost:8080/",
          "height": 585
        },
        "outputId": "85e20376-11df-4a08-872b-61c535458101"
      },
      "source": [
        "all_features = pd.DataFrame(ML_df, columns=['danceability',\n",
        "                            'energy',\n",
        "                            'key',\n",
        "                            'loudness',\n",
        "                            'mode', \n",
        "                            'speechiness', \n",
        "                            'acousticness', \n",
        "                            'instrumentalness', \n",
        "                            'liveness', \n",
        "                            'valence', \n",
        "                            'tempo'],)\n",
        "corrMatrix = all_features.corr()\n",
        "plt.figure(figsize=(10,8))\n",
        "sn.heatmap(corrMatrix, cmap='seismic', annot=True)\n",
        "fig_name = \"all_features\"\n",
        "plt.tight_layout()\n",
        "plt.show()"
      ],
      "execution_count": null,
      "outputs": [
        {
          "output_type": "display_data",
          "data": {
            "image/png": "[encoded data removed]",
            "text/plain": [
              "<Figure size 720x576 with 2 Axes>"
            ]
          },
          "metadata": {
            "tags": [],
            "needs_background": "light"
          }
        }
      ]
    },
    {
      "cell_type": "code",
      "metadata": {
        "id": "g4w67X2kZV2f",
        "colab_type": "code",
        "colab": {
          "base_uri": "https://localhost:8080/",
          "height": 585
        },
        "outputId": "5f04e1f2-c943-4ff7-88e3-5a9db4b12561"
      },
      "source": [
        "features_set_1 = pd.DataFrame(ML_df, columns=['danceability',\n",
        "                            'energy',\n",
        "                            'loudness', \n",
        "                            'valence', \n",
        "                            ],)\n",
        "corrMatrix = features_set_1.corr()\n",
        "plt.figure(figsize=(10,8))\n",
        "sn.heatmap(corrMatrix, cmap='seismic', annot=True)\n",
        "plt.tight_layout()\n",
        "plt.show()"
      ],
      "execution_count": null,
      "outputs": [
        {
          "output_type": "display_data",
          "data": {
            "image/png": "[encoded data removed]",
            "text/plain": [
              "<Figure size 720x576 with 2 Axes>"
            ]
          },
          "metadata": {
            "tags": [],
            "needs_background": "light"
          }
        }
      ]
    },
    {
      "cell_type": "code",
      "metadata": {
        "id": "LsQfuCAgaSdl",
        "colab_type": "code",
        "colab": {
          "base_uri": "https://localhost:8080/",
          "height": 585
        },
        "outputId": "a80f0cac-5b3f-4d77-ae00-c539cc8cf603"
      },
      "source": [
        "features_set_2 = pd.DataFrame(ML_df, columns=['danceability',\n",
        "                            'energy'\n",
        "                            ],)\n",
        "corrMatrix = features_set_2.corr()\n",
        "plt.figure(figsize=(10,8))\n",
        "sn.heatmap(corrMatrix, cmap='seismic', annot=True)\n",
        "plt.tight_layout()\n",
        "plt.show()"
      ],
      "execution_count": null,
      "outputs": [
        {
          "output_type": "display_data",
          "data": {
            "image/png": "[encoded data removed]",
            "text/plain": [
              "<Figure size 720x576 with 2 Axes>"
            ]
          },
          "metadata": {
            "tags": [],
            "needs_background": "light"
          }
        }
      ]
    },
    {
      "cell_type": "code",
      "metadata": {
        "id": "oFHJF8BFbENy",
        "colab_type": "code",
        "colab": {}
      },
      "source": [
        ""
      ],
      "execution_count": null,
      "outputs": []
    },
    {
      "cell_type": "markdown",
      "metadata": {
        "id": "F6vhryxTekFZ",
        "colab_type": "text"
      },
      "source": [
        "# Genre Dataframe Changed - Grammy Genres (9)"
      ]
    },
    {
      "cell_type": "code",
      "metadata": {
        "id": "OMclXYQ5nBAG",
        "colab_type": "code",
        "colab": {
          "base_uri": "https://localhost:8080/",
          "height": 445
        },
        "outputId": "52c7f83b-873f-4445-913a-06172e999e98"
      },
      "source": [
        "df = pd.read_csv(os.path.join(\"spotify_df_4.csv\"))\n",
        "df.head()"
      ],
      "execution_count": null,
      "outputs": [
        {
          "output_type": "execute_result",
          "data": {
            "text/html": [
              "<div>\n",
              "<style scoped>\n",
              "    .dataframe tbody tr th:only-of-type {\n",
              "        vertical-align: middle;\n",
              "    }\n",
              "\n",
              "    .dataframe tbody tr th {\n",
              "        vertical-align: top;\n",
              "    }\n",
              "\n",
              "    .dataframe thead th {\n",
              "        text-align: right;\n",
              "    }\n",
              "</style>\n",
              "<table border=\"1\" class=\"dataframe\">\n",
              "  <thead>\n",
              "    <tr style=\"text-align: right;\">\n",
              "      <th></th>\n",
              "      <th>artist_name</th>\n",
              "      <th>track_name</th>\n",
              "      <th>track_id</th>\n",
              "      <th>artist_href</th>\n",
              "      <th>track_href</th>\n",
              "      <th>genre_name</th>\n",
              "      <th>danceability</th>\n",
              "      <th>energy</th>\n",
              "      <th>key</th>\n",
              "      <th>loudness</th>\n",
              "      <th>mode</th>\n",
              "      <th>speechiness</th>\n",
              "      <th>acousticness</th>\n",
              "      <th>instrumentalness</th>\n",
              "      <th>liveness</th>\n",
              "      <th>valence</th>\n",
              "      <th>tempo</th>\n",
              "      <th>duration_ms</th>\n",
              "    </tr>\n",
              "  </thead>\n",
              "  <tbody>\n",
              "    <tr>\n",
              "      <th>0</th>\n",
              "      <td>yiruma</td>\n",
              "      <td>river flows in you</td>\n",
              "      <td>64rL48E6xWMIXdpcFDEiB8</td>\n",
              "      <td>https://open.spotify.com/artist/0fauHpmSHwodVY...</td>\n",
              "      <td>https://open.spotify.com/track/64rL48E6xWMIXdp...</td>\n",
              "      <td>classical</td>\n",
              "      <td>0.314</td>\n",
              "      <td>0.22000</td>\n",
              "      <td>9</td>\n",
              "      <td>-21.343</td>\n",
              "      <td>1</td>\n",
              "      <td>0.0514</td>\n",
              "      <td>0.98700</td>\n",
              "      <td>0.94300</td>\n",
              "      <td>0.0802</td>\n",
              "      <td>0.1160</td>\n",
              "      <td>145.277</td>\n",
              "      <td>188787</td>\n",
              "    </tr>\n",
              "    <tr>\n",
              "      <th>1</th>\n",
              "      <td>dragonforce</td>\n",
              "      <td>through the fire and flames</td>\n",
              "      <td>6nnacTL5on2aVsRhVDNUSo</td>\n",
              "      <td>https://open.spotify.com/artist/2pH3wEn4eYlMMI...</td>\n",
              "      <td>https://open.spotify.com/track/6nnacTL5on2aVsR...</td>\n",
              "      <td>classical</td>\n",
              "      <td>0.113</td>\n",
              "      <td>0.95100</td>\n",
              "      <td>0</td>\n",
              "      <td>-4.743</td>\n",
              "      <td>0</td>\n",
              "      <td>0.1290</td>\n",
              "      <td>0.00176</td>\n",
              "      <td>0.00718</td>\n",
              "      <td>0.3340</td>\n",
              "      <td>0.1390</td>\n",
              "      <td>200.024</td>\n",
              "      <td>441560</td>\n",
              "    </tr>\n",
              "    <tr>\n",
              "      <th>2</th>\n",
              "      <td>johann sebastian bach</td>\n",
              "      <td>cello suite no. 1 in g major, bwv 1007: i. pré...</td>\n",
              "      <td>61dYvvfIRtIDFuqZypPAta</td>\n",
              "      <td>https://open.spotify.com/artist/5aIqB5nVVvmFsv...</td>\n",
              "      <td>https://open.spotify.com/track/61dYvvfIRtIDFuq...</td>\n",
              "      <td>classical</td>\n",
              "      <td>0.257</td>\n",
              "      <td>0.10900</td>\n",
              "      <td>7</td>\n",
              "      <td>-21.356</td>\n",
              "      <td>1</td>\n",
              "      <td>0.0597</td>\n",
              "      <td>0.90000</td>\n",
              "      <td>0.86700</td>\n",
              "      <td>0.0762</td>\n",
              "      <td>0.3070</td>\n",
              "      <td>75.020</td>\n",
              "      <td>151480</td>\n",
              "    </tr>\n",
              "    <tr>\n",
              "      <th>3</th>\n",
              "      <td>camille saint-saëns</td>\n",
              "      <td>the carnival of the animals, r. 125: xiii. the...</td>\n",
              "      <td>0jOnZhF75V68VsBObWx2XO</td>\n",
              "      <td>https://open.spotify.com/artist/436sYg6CZhNefQ...</td>\n",
              "      <td>https://open.spotify.com/track/0jOnZhF75V68VsB...</td>\n",
              "      <td>classical</td>\n",
              "      <td>0.169</td>\n",
              "      <td>0.01610</td>\n",
              "      <td>9</td>\n",
              "      <td>-31.034</td>\n",
              "      <td>0</td>\n",
              "      <td>0.0442</td>\n",
              "      <td>0.98600</td>\n",
              "      <td>0.86000</td>\n",
              "      <td>0.0805</td>\n",
              "      <td>0.0573</td>\n",
              "      <td>128.143</td>\n",
              "      <td>174267</td>\n",
              "    </tr>\n",
              "    <tr>\n",
              "      <th>4</th>\n",
              "      <td>ludwig van beethoven</td>\n",
              "      <td>sonata no. 14 \"moonlight\" in c-sharp minor\", o...</td>\n",
              "      <td>3DNRdudZ2SstnDCVKFdXxG</td>\n",
              "      <td>https://open.spotify.com/artist/2wOqMjp9TyABvt...</td>\n",
              "      <td>https://open.spotify.com/track/3DNRdudZ2SstnDC...</td>\n",
              "      <td>classical</td>\n",
              "      <td>0.184</td>\n",
              "      <td>0.00527</td>\n",
              "      <td>1</td>\n",
              "      <td>-37.264</td>\n",
              "      <td>0</td>\n",
              "      <td>0.0432</td>\n",
              "      <td>0.99500</td>\n",
              "      <td>0.88700</td>\n",
              "      <td>0.1730</td>\n",
              "      <td>0.1510</td>\n",
              "      <td>170.612</td>\n",
              "      <td>315427</td>\n",
              "    </tr>\n",
              "  </tbody>\n",
              "</table>\n",
              "</div>"
            ],
            "text/plain": [
              "             artist_name  ... duration_ms\n",
              "0                 yiruma  ...      188787\n",
              "1            dragonforce  ...      441560\n",
              "2  johann sebastian bach  ...      151480\n",
              "3    camille saint-saëns  ...      174267\n",
              "4   ludwig van beethoven  ...      315427\n",
              "\n",
              "[5 rows x 18 columns]"
            ]
          },
          "metadata": {
            "tags": []
          },
          "execution_count": 22
        }
      ]
    },
    {
      "cell_type": "code",
      "metadata": {
        "id": "07mxPjI_nF0A",
        "colab_type": "code",
        "colab": {
          "base_uri": "https://localhost:8080/",
          "height": 204
        },
        "outputId": "2e5890aa-2be7-460d-a2af-15afdf26c7ca"
      },
      "source": [
        "ML_df = df.drop(['artist_name', 'track_name', 'track_id', 'artist_href', 'track_href'], axis=1)\n",
        "ML_df.head()"
      ],
      "execution_count": null,
      "outputs": [
        {
          "output_type": "execute_result",
          "data": {
            "text/html": [
              "<div>\n",
              "<style scoped>\n",
              "    .dataframe tbody tr th:only-of-type {\n",
              "        vertical-align: middle;\n",
              "    }\n",
              "\n",
              "    .dataframe tbody tr th {\n",
              "        vertical-align: top;\n",
              "    }\n",
              "\n",
              "    .dataframe thead th {\n",
              "        text-align: right;\n",
              "    }\n",
              "</style>\n",
              "<table border=\"1\" class=\"dataframe\">\n",
              "  <thead>\n",
              "    <tr style=\"text-align: right;\">\n",
              "      <th></th>\n",
              "      <th>genre_name</th>\n",
              "      <th>danceability</th>\n",
              "      <th>energy</th>\n",
              "      <th>key</th>\n",
              "      <th>loudness</th>\n",
              "      <th>mode</th>\n",
              "      <th>speechiness</th>\n",
              "      <th>acousticness</th>\n",
              "      <th>instrumentalness</th>\n",
              "      <th>liveness</th>\n",
              "      <th>valence</th>\n",
              "      <th>tempo</th>\n",
              "      <th>duration_ms</th>\n",
              "    </tr>\n",
              "  </thead>\n",
              "  <tbody>\n",
              "    <tr>\n",
              "      <th>0</th>\n",
              "      <td>classical</td>\n",
              "      <td>0.314</td>\n",
              "      <td>0.22000</td>\n",
              "      <td>9</td>\n",
              "      <td>-21.343</td>\n",
              "      <td>1</td>\n",
              "      <td>0.0514</td>\n",
              "      <td>0.98700</td>\n",
              "      <td>0.94300</td>\n",
              "      <td>0.0802</td>\n",
              "      <td>0.1160</td>\n",
              "      <td>145.277</td>\n",
              "      <td>188787</td>\n",
              "    </tr>\n",
              "    <tr>\n",
              "      <th>1</th>\n",
              "      <td>classical</td>\n",
              "      <td>0.113</td>\n",
              "      <td>0.95100</td>\n",
              "      <td>0</td>\n",
              "      <td>-4.743</td>\n",
              "      <td>0</td>\n",
              "      <td>0.1290</td>\n",
              "      <td>0.00176</td>\n",
              "      <td>0.00718</td>\n",
              "      <td>0.3340</td>\n",
              "      <td>0.1390</td>\n",
              "      <td>200.024</td>\n",
              "      <td>441560</td>\n",
              "    </tr>\n",
              "    <tr>\n",
              "      <th>2</th>\n",
              "      <td>classical</td>\n",
              "      <td>0.257</td>\n",
              "      <td>0.10900</td>\n",
              "      <td>7</td>\n",
              "      <td>-21.356</td>\n",
              "      <td>1</td>\n",
              "      <td>0.0597</td>\n",
              "      <td>0.90000</td>\n",
              "      <td>0.86700</td>\n",
              "      <td>0.0762</td>\n",
              "      <td>0.3070</td>\n",
              "      <td>75.020</td>\n",
              "      <td>151480</td>\n",
              "    </tr>\n",
              "    <tr>\n",
              "      <th>3</th>\n",
              "      <td>classical</td>\n",
              "      <td>0.169</td>\n",
              "      <td>0.01610</td>\n",
              "      <td>9</td>\n",
              "      <td>-31.034</td>\n",
              "      <td>0</td>\n",
              "      <td>0.0442</td>\n",
              "      <td>0.98600</td>\n",
              "      <td>0.86000</td>\n",
              "      <td>0.0805</td>\n",
              "      <td>0.0573</td>\n",
              "      <td>128.143</td>\n",
              "      <td>174267</td>\n",
              "    </tr>\n",
              "    <tr>\n",
              "      <th>4</th>\n",
              "      <td>classical</td>\n",
              "      <td>0.184</td>\n",
              "      <td>0.00527</td>\n",
              "      <td>1</td>\n",
              "      <td>-37.264</td>\n",
              "      <td>0</td>\n",
              "      <td>0.0432</td>\n",
              "      <td>0.99500</td>\n",
              "      <td>0.88700</td>\n",
              "      <td>0.1730</td>\n",
              "      <td>0.1510</td>\n",
              "      <td>170.612</td>\n",
              "      <td>315427</td>\n",
              "    </tr>\n",
              "  </tbody>\n",
              "</table>\n",
              "</div>"
            ],
            "text/plain": [
              "  genre_name  danceability   energy  ...  valence    tempo  duration_ms\n",
              "0  classical         0.314  0.22000  ...   0.1160  145.277       188787\n",
              "1  classical         0.113  0.95100  ...   0.1390  200.024       441560\n",
              "2  classical         0.257  0.10900  ...   0.3070   75.020       151480\n",
              "3  classical         0.169  0.01610  ...   0.0573  128.143       174267\n",
              "4  classical         0.184  0.00527  ...   0.1510  170.612       315427\n",
              "\n",
              "[5 rows x 13 columns]"
            ]
          },
          "metadata": {
            "tags": []
          },
          "execution_count": 23
        }
      ]
    },
    {
      "cell_type": "markdown",
      "metadata": {
        "id": "GHE4s-oTn0Nt",
        "colab_type": "text"
      },
      "source": [
        "## Now trying with KNN"
      ]
    },
    {
      "cell_type": "code",
      "metadata": {
        "id": "yWGy5YSLnKMY",
        "colab_type": "code",
        "colab": {
          "base_uri": "https://localhost:8080/",
          "height": 204
        },
        "outputId": "bdd70c27-888c-43dc-f7ae-91c68a928ec9"
      },
      "source": [
        "y = ML_df[\"genre_name\"]\n",
        "X = ML_df.drop(\"genre_name\", axis=1)\n",
        "X.head()"
      ],
      "execution_count": null,
      "outputs": [
        {
          "output_type": "execute_result",
          "data": {
            "text/html": [
              "<div>\n",
              "<style scoped>\n",
              "    .dataframe tbody tr th:only-of-type {\n",
              "        vertical-align: middle;\n",
              "    }\n",
              "\n",
              "    .dataframe tbody tr th {\n",
              "        vertical-align: top;\n",
              "    }\n",
              "\n",
              "    .dataframe thead th {\n",
              "        text-align: right;\n",
              "    }\n",
              "</style>\n",
              "<table border=\"1\" class=\"dataframe\">\n",
              "  <thead>\n",
              "    <tr style=\"text-align: right;\">\n",
              "      <th></th>\n",
              "      <th>danceability</th>\n",
              "      <th>energy</th>\n",
              "      <th>key</th>\n",
              "      <th>loudness</th>\n",
              "      <th>mode</th>\n",
              "      <th>speechiness</th>\n",
              "      <th>acousticness</th>\n",
              "      <th>instrumentalness</th>\n",
              "      <th>liveness</th>\n",
              "      <th>valence</th>\n",
              "      <th>tempo</th>\n",
              "      <th>duration_ms</th>\n",
              "    </tr>\n",
              "  </thead>\n",
              "  <tbody>\n",
              "    <tr>\n",
              "      <th>0</th>\n",
              "      <td>0.314</td>\n",
              "      <td>0.22000</td>\n",
              "      <td>9</td>\n",
              "      <td>-21.343</td>\n",
              "      <td>1</td>\n",
              "      <td>0.0514</td>\n",
              "      <td>0.98700</td>\n",
              "      <td>0.94300</td>\n",
              "      <td>0.0802</td>\n",
              "      <td>0.1160</td>\n",
              "      <td>145.277</td>\n",
              "      <td>188787</td>\n",
              "    </tr>\n",
              "    <tr>\n",
              "      <th>1</th>\n",
              "      <td>0.113</td>\n",
              "      <td>0.95100</td>\n",
              "      <td>0</td>\n",
              "      <td>-4.743</td>\n",
              "      <td>0</td>\n",
              "      <td>0.1290</td>\n",
              "      <td>0.00176</td>\n",
              "      <td>0.00718</td>\n",
              "      <td>0.3340</td>\n",
              "      <td>0.1390</td>\n",
              "      <td>200.024</td>\n",
              "      <td>441560</td>\n",
              "    </tr>\n",
              "    <tr>\n",
              "      <th>2</th>\n",
              "      <td>0.257</td>\n",
              "      <td>0.10900</td>\n",
              "      <td>7</td>\n",
              "      <td>-21.356</td>\n",
              "      <td>1</td>\n",
              "      <td>0.0597</td>\n",
              "      <td>0.90000</td>\n",
              "      <td>0.86700</td>\n",
              "      <td>0.0762</td>\n",
              "      <td>0.3070</td>\n",
              "      <td>75.020</td>\n",
              "      <td>151480</td>\n",
              "    </tr>\n",
              "    <tr>\n",
              "      <th>3</th>\n",
              "      <td>0.169</td>\n",
              "      <td>0.01610</td>\n",
              "      <td>9</td>\n",
              "      <td>-31.034</td>\n",
              "      <td>0</td>\n",
              "      <td>0.0442</td>\n",
              "      <td>0.98600</td>\n",
              "      <td>0.86000</td>\n",
              "      <td>0.0805</td>\n",
              "      <td>0.0573</td>\n",
              "      <td>128.143</td>\n",
              "      <td>174267</td>\n",
              "    </tr>\n",
              "    <tr>\n",
              "      <th>4</th>\n",
              "      <td>0.184</td>\n",
              "      <td>0.00527</td>\n",
              "      <td>1</td>\n",
              "      <td>-37.264</td>\n",
              "      <td>0</td>\n",
              "      <td>0.0432</td>\n",
              "      <td>0.99500</td>\n",
              "      <td>0.88700</td>\n",
              "      <td>0.1730</td>\n",
              "      <td>0.1510</td>\n",
              "      <td>170.612</td>\n",
              "      <td>315427</td>\n",
              "    </tr>\n",
              "  </tbody>\n",
              "</table>\n",
              "</div>"
            ],
            "text/plain": [
              "   danceability   energy  key  ...  valence    tempo  duration_ms\n",
              "0         0.314  0.22000    9  ...   0.1160  145.277       188787\n",
              "1         0.113  0.95100    0  ...   0.1390  200.024       441560\n",
              "2         0.257  0.10900    7  ...   0.3070   75.020       151480\n",
              "3         0.169  0.01610    9  ...   0.0573  128.143       174267\n",
              "4         0.184  0.00527    1  ...   0.1510  170.612       315427\n",
              "\n",
              "[5 rows x 12 columns]"
            ]
          },
          "metadata": {
            "tags": []
          },
          "execution_count": 17
        }
      ]
    },
    {
      "cell_type": "code",
      "metadata": {
        "id": "vm403IBhnKTB",
        "colab_type": "code",
        "colab": {}
      },
      "source": [
        "from sklearn.model_selection import train_test_split\n",
        "X_train, X_test, y_train, y_test = train_test_split(X, y)"
      ],
      "execution_count": null,
      "outputs": []
    },
    {
      "cell_type": "code",
      "metadata": {
        "id": "DVwljjKBnKCi",
        "colab_type": "code",
        "colab": {
          "base_uri": "https://localhost:8080/",
          "height": 449
        },
        "outputId": "6b95d72d-04f9-47fb-e992-f1e682f3faca"
      },
      "source": [
        "train_scores = []\n",
        "test_scores = []\n",
        "for k in range(1, 20, 2):\n",
        "    knn = KNeighborsClassifier(n_neighbors=k)\n",
        "    knn.fit(X_train, y_train)\n",
        "    train_score = knn.score(X_train, y_train)\n",
        "    test_score = knn.score(X_test, y_test)\n",
        "    all_score = train_score + test_score\n",
        "    train_scores.append(train_score)\n",
        "    test_scores.append(test_score)\n",
        "    print(f\"k: {k}, Train/Test Score: {train_score:.3f}/{test_score:.3f}, {all_score:.3f}\")\n",
        "    \n",
        "plt.plot(range(1, 20, 2), train_scores, marker='o')\n",
        "plt.plot(range(1, 20, 2), test_scores, marker=\"x\")\n",
        "plt.xlabel(\"k neighbors\")\n",
        "plt.ylabel(\"Testing accuracy Score\")\n",
        "plt.show()"
      ],
      "execution_count": null,
      "outputs": [
        {
          "output_type": "stream",
          "text": [
            "k: 1, Train/Test Score: 1.000/0.169, 1.169\n",
            "k: 3, Train/Test Score: 0.488/0.158, 0.647\n",
            "k: 5, Train/Test Score: 0.417/0.169, 0.586\n",
            "k: 7, Train/Test Score: 0.367/0.172, 0.539\n",
            "k: 9, Train/Test Score: 0.340/0.173, 0.514\n",
            "k: 11, Train/Test Score: 0.321/0.179, 0.500\n",
            "k: 13, Train/Test Score: 0.310/0.184, 0.494\n",
            "k: 15, Train/Test Score: 0.300/0.188, 0.488\n",
            "k: 17, Train/Test Score: 0.290/0.188, 0.478\n",
            "k: 19, Train/Test Score: 0.286/0.188, 0.475\n"
          ],
          "name": "stdout"
        },
        {
          "output_type": "display_data",
          "data": {
            "image/png": "[encoded data removed]",
            "text/plain": [
              "<Figure size 432x288 with 1 Axes>"
            ]
          },
          "metadata": {
            "tags": [],
            "needs_background": "light"
          }
        }
      ]
    },
    {
      "cell_type": "markdown",
      "metadata": {
        "id": "thGPO-y8n5gK",
        "colab_type": "text"
      },
      "source": [
        "## Now trying with neural networks"
      ]
    },
    {
      "cell_type": "code",
      "metadata": {
        "id": "pl4Kx59PpGHm",
        "colab_type": "code",
        "colab": {}
      },
      "source": [
        "from sklearn.model_selection import train_test_split\n",
        "from sklearn.preprocessing import LabelEncoder, MinMaxScaler\n",
        "from tensorflow.keras.utils import to_categorical"
      ],
      "execution_count": null,
      "outputs": []
    },
    {
      "cell_type": "code",
      "metadata": {
        "id": "djZlmHnoorUK",
        "colab_type": "code",
        "colab": {
          "base_uri": "https://localhost:8080/",
          "height": 34
        },
        "outputId": "cc5b6509-944d-42c4-c148-4c4c0d63ead8"
      },
      "source": [
        "X = ML_df.drop(\"genre_name\", axis=1)\n",
        "y = ML_df[\"genre_name\"]\n",
        "print(X.shape, y.shape)"
      ],
      "execution_count": null,
      "outputs": [
        {
          "output_type": "stream",
          "text": [
            "(14412, 12) (14412,)\n"
          ],
          "name": "stdout"
        }
      ]
    },
    {
      "cell_type": "code",
      "metadata": {
        "id": "Z3B1c53dn9B-",
        "colab_type": "code",
        "colab": {}
      },
      "source": [
        "X_train, X_test, y_train, y_test = train_test_split(\n",
        "    X, y, stratify=y)"
      ],
      "execution_count": null,
      "outputs": []
    },
    {
      "cell_type": "code",
      "metadata": {
        "id": "1sImtFVBoFHC",
        "colab_type": "code",
        "colab": {}
      },
      "source": [
        "X_scaler = MinMaxScaler().fit(X_train)\n",
        "X_train_scaled = X_scaler.transform(X_train)\n",
        "X_test_scaled = X_scaler.transform(X_test)"
      ],
      "execution_count": null,
      "outputs": []
    },
    {
      "cell_type": "code",
      "metadata": {
        "id": "gO5HIXcroFNI",
        "colab_type": "code",
        "colab": {}
      },
      "source": [
        "# Step 1: Label-encode data set\n",
        "label_encoder = LabelEncoder()\n",
        "label_encoder.fit(y_train)\n",
        "encoded_y_train = label_encoder.transform(y_train)\n",
        "encoded_y_test = label_encoder.transform(y_test)"
      ],
      "execution_count": null,
      "outputs": []
    },
    {
      "cell_type": "code",
      "metadata": {
        "id": "HmuXi8nDoFrD",
        "colab_type": "code",
        "colab": {}
      },
      "source": [
        "# Step 2: Convert encoded labels to one-hot-encoding\n",
        "y_train_categorical = to_categorical(encoded_y_train)\n",
        "y_test_categorical = to_categorical(encoded_y_test)"
      ],
      "execution_count": null,
      "outputs": []
    },
    {
      "cell_type": "code",
      "metadata": {
        "id": "iiq6zRygoFfG",
        "colab_type": "code",
        "colab": {}
      },
      "source": [
        "from tensorflow.keras.models import Sequential\n",
        "from tensorflow.keras.layers import Dense"
      ],
      "execution_count": null,
      "outputs": []
    },
    {
      "cell_type": "code",
      "metadata": {
        "id": "EfWnQgjeoFKE",
        "colab_type": "code",
        "colab": {}
      },
      "source": [
        "# Create model and add layers\n",
        "model = Sequential()\n",
        "model.add(Dense(units=9, activation='relu', input_dim=12))\n",
        "# model.add(Dense(units=9, activation='sigmoid'))\n",
        "# model.add(Dense(units=9, activation='sigmoid'))\n",
        "# model.add(Dense(units=9, activation='sigmoid'))\n",
        "model.add(Dense(units=9, activation='relu'))\n",
        "model.add(Dense(units=9, activation='relu'))\n",
        "model.add(Dense(units=9, activation='relu'))\n",
        "# model.add(Dense(units=9, activation='relu'))\n",
        "# model.add(Dense(units=9, activation='relu'))\n",
        "model.add(Dense(units=9, activation='softmax'))"
      ],
      "execution_count": null,
      "outputs": []
    },
    {
      "cell_type": "code",
      "metadata": {
        "id": "QtRppQARoFEP",
        "colab_type": "code",
        "colab": {}
      },
      "source": [
        "# Compile and fit the model\n",
        "model.compile(optimizer='adam',\n",
        "              loss='categorical_crossentropy',\n",
        "              metrics=['accuracy'])"
      ],
      "execution_count": null,
      "outputs": []
    },
    {
      "cell_type": "code",
      "metadata": {
        "id": "LEHYVTYeobvj",
        "colab_type": "code",
        "colab": {
          "base_uri": "https://localhost:8080/",
          "height": 323
        },
        "outputId": "022260d1-9912-4238-a672-34fbf28c9d78"
      },
      "source": [
        "model.summary()"
      ],
      "execution_count": null,
      "outputs": [
        {
          "output_type": "stream",
          "text": [
            "Model: \"sequential_10\"\n",
            "_________________________________________________________________\n",
            "Layer (type)                 Output Shape              Param #   \n",
            "=================================================================\n",
            "dense_43 (Dense)             (None, 9)                 117       \n",
            "_________________________________________________________________\n",
            "dense_44 (Dense)             (None, 9)                 90        \n",
            "_________________________________________________________________\n",
            "dense_45 (Dense)             (None, 9)                 90        \n",
            "_________________________________________________________________\n",
            "dense_46 (Dense)             (None, 9)                 90        \n",
            "_________________________________________________________________\n",
            "dense_47 (Dense)             (None, 9)                 90        \n",
            "=================================================================\n",
            "Total params: 477\n",
            "Trainable params: 477\n",
            "Non-trainable params: 0\n",
            "_________________________________________________________________\n"
          ],
          "name": "stdout"
        }
      ]
    },
    {
      "cell_type": "code",
      "metadata": {
        "id": "nAU-l4BsoblM",
        "colab_type": "code",
        "colab": {
          "base_uri": "https://localhost:8080/",
          "height": 374
        },
        "outputId": "cb082c72-4502-4729-912f-81b850bf6d8a"
      },
      "source": [
        "model.fit(\n",
        "    X_train_scaled,\n",
        "    y_train_categorical,\n",
        "    epochs=10,\n",
        "    shuffle=True,\n",
        "    verbose=2\n",
        ")"
      ],
      "execution_count": null,
      "outputs": [
        {
          "output_type": "stream",
          "text": [
            "Epoch 1/10\n",
            "338/338 - 0s - loss: 1.4095 - accuracy: 0.4769\n",
            "Epoch 2/10\n",
            "338/338 - 0s - loss: 1.4074 - accuracy: 0.4757\n",
            "Epoch 3/10\n",
            "338/338 - 0s - loss: 1.4065 - accuracy: 0.4729\n",
            "Epoch 4/10\n",
            "338/338 - 0s - loss: 1.4063 - accuracy: 0.4746\n",
            "Epoch 5/10\n",
            "338/338 - 0s - loss: 1.4049 - accuracy: 0.4776\n",
            "Epoch 6/10\n",
            "338/338 - 0s - loss: 1.4059 - accuracy: 0.4754\n",
            "Epoch 7/10\n",
            "338/338 - 0s - loss: 1.4048 - accuracy: 0.4776\n",
            "Epoch 8/10\n",
            "338/338 - 0s - loss: 1.4039 - accuracy: 0.4781\n",
            "Epoch 9/10\n",
            "338/338 - 0s - loss: 1.4027 - accuracy: 0.4760\n",
            "Epoch 10/10\n",
            "338/338 - 0s - loss: 1.4030 - accuracy: 0.4778\n"
          ],
          "name": "stdout"
        },
        {
          "output_type": "execute_result",
          "data": {
            "text/plain": [
              "<tensorflow.python.keras.callbacks.History at 0x7f9fc005feb8>"
            ]
          },
          "metadata": {
            "tags": []
          },
          "execution_count": 130
        }
      ]
    },
    {
      "cell_type": "code",
      "metadata": {
        "id": "p-ueuOYOon3F",
        "colab_type": "code",
        "colab": {
          "base_uri": "https://localhost:8080/",
          "height": 51
        },
        "outputId": "0f947f1b-c69b-4082-861f-d0456e1be1e8"
      },
      "source": [
        "model_loss, model_accuracy = model.evaluate(\n",
        "    X_test_scaled, y_test_categorical, verbose=2)\n",
        "print(\n",
        "    f\"Normal Neural Network - Loss: {model_loss}, Accuracy: {model_accuracy}\")"
      ],
      "execution_count": null,
      "outputs": [
        {
          "output_type": "stream",
          "text": [
            "113/113 - 0s - loss: 1.3472 - accuracy: 0.4963\n",
            "Normal Neural Network - Loss: 1.3471816778182983, Accuracy: 0.4962531328201294\n"
          ],
          "name": "stdout"
        }
      ]
    },
    {
      "cell_type": "markdown",
      "metadata": {
        "id": "AW_xUTylsMgC",
        "colab_type": "text"
      },
      "source": [
        "## Now trying it with less features"
      ]
    },
    {
      "cell_type": "code",
      "metadata": {
        "id": "5H9VCuUTqLd8",
        "colab_type": "code",
        "colab": {
          "base_uri": "https://localhost:8080/",
          "height": 359
        },
        "outputId": "36dc394b-7353-4501-b219-480030e8fdfc"
      },
      "source": [
        "# ['danceability',\n",
        "#                             'energy',\n",
        "#                             'key',\n",
        "#                             'loudness',\n",
        "#                             'mode', \n",
        "#                             'speechiness', \n",
        "#                             'acousticness', \n",
        "#                             'instrumentalness', \n",
        "#                             'liveness', \n",
        "#                             'valence', \n",
        "#                             'tempo', \n",
        "#                             'duration_ms'],\n",
        "\n",
        "dropped_ML_df = ML_df.drop([\n",
        "                            'key',\n",
        "                            \n",
        "                            'mode', \n",
        "                            'speechiness', \n",
        "                            'acousticness', \n",
        "                            'instrumentalness', \n",
        "                            'liveness', \n",
        "                            ],\n",
        "                           axis=1)\n",
        "\n",
        "# dropped_ML_df()\n",
        "# print(dropped_ML_df)\n",
        "dropped_ML_df.iloc[3:13]"
      ],
      "execution_count": null,
      "outputs": [
        {
          "output_type": "execute_result",
          "data": {
            "text/html": [
              "<div>\n",
              "<style scoped>\n",
              "    .dataframe tbody tr th:only-of-type {\n",
              "        vertical-align: middle;\n",
              "    }\n",
              "\n",
              "    .dataframe tbody tr th {\n",
              "        vertical-align: top;\n",
              "    }\n",
              "\n",
              "    .dataframe thead th {\n",
              "        text-align: right;\n",
              "    }\n",
              "</style>\n",
              "<table border=\"1\" class=\"dataframe\">\n",
              "  <thead>\n",
              "    <tr style=\"text-align: right;\">\n",
              "      <th></th>\n",
              "      <th>genre_name</th>\n",
              "      <th>danceability</th>\n",
              "      <th>energy</th>\n",
              "      <th>loudness</th>\n",
              "      <th>valence</th>\n",
              "      <th>tempo</th>\n",
              "      <th>duration_ms</th>\n",
              "    </tr>\n",
              "  </thead>\n",
              "  <tbody>\n",
              "    <tr>\n",
              "      <th>3</th>\n",
              "      <td>classical</td>\n",
              "      <td>0.169</td>\n",
              "      <td>0.01610</td>\n",
              "      <td>-31.034</td>\n",
              "      <td>0.0573</td>\n",
              "      <td>128.143</td>\n",
              "      <td>174267</td>\n",
              "    </tr>\n",
              "    <tr>\n",
              "      <th>4</th>\n",
              "      <td>classical</td>\n",
              "      <td>0.184</td>\n",
              "      <td>0.00527</td>\n",
              "      <td>-37.264</td>\n",
              "      <td>0.1510</td>\n",
              "      <td>170.612</td>\n",
              "      <td>315427</td>\n",
              "    </tr>\n",
              "    <tr>\n",
              "      <th>5</th>\n",
              "      <td>classical</td>\n",
              "      <td>0.335</td>\n",
              "      <td>0.00532</td>\n",
              "      <td>-31.646</td>\n",
              "      <td>0.0397</td>\n",
              "      <td>65.832</td>\n",
              "      <td>268000</td>\n",
              "    </tr>\n",
              "    <tr>\n",
              "      <th>6</th>\n",
              "      <td>classical</td>\n",
              "      <td>0.313</td>\n",
              "      <td>0.02290</td>\n",
              "      <td>-26.350</td>\n",
              "      <td>0.0650</td>\n",
              "      <td>64.387</td>\n",
              "      <td>138125</td>\n",
              "    </tr>\n",
              "    <tr>\n",
              "      <th>7</th>\n",
              "      <td>classical</td>\n",
              "      <td>0.444</td>\n",
              "      <td>0.05080</td>\n",
              "      <td>-28.789</td>\n",
              "      <td>0.2710</td>\n",
              "      <td>132.664</td>\n",
              "      <td>147315</td>\n",
              "    </tr>\n",
              "    <tr>\n",
              "      <th>8</th>\n",
              "      <td>classical</td>\n",
              "      <td>0.365</td>\n",
              "      <td>0.11600</td>\n",
              "      <td>-27.249</td>\n",
              "      <td>0.1930</td>\n",
              "      <td>126.305</td>\n",
              "      <td>130125</td>\n",
              "    </tr>\n",
              "    <tr>\n",
              "      <th>9</th>\n",
              "      <td>classical</td>\n",
              "      <td>0.469</td>\n",
              "      <td>0.01280</td>\n",
              "      <td>-36.856</td>\n",
              "      <td>0.3540</td>\n",
              "      <td>72.765</td>\n",
              "      <td>205867</td>\n",
              "    </tr>\n",
              "    <tr>\n",
              "      <th>10</th>\n",
              "      <td>classical</td>\n",
              "      <td>0.433</td>\n",
              "      <td>0.04370</td>\n",
              "      <td>-24.025</td>\n",
              "      <td>0.1960</td>\n",
              "      <td>68.152</td>\n",
              "      <td>126880</td>\n",
              "    </tr>\n",
              "    <tr>\n",
              "      <th>11</th>\n",
              "      <td>classical</td>\n",
              "      <td>0.266</td>\n",
              "      <td>0.07500</td>\n",
              "      <td>-21.207</td>\n",
              "      <td>0.1600</td>\n",
              "      <td>90.595</td>\n",
              "      <td>411093</td>\n",
              "    </tr>\n",
              "    <tr>\n",
              "      <th>12</th>\n",
              "      <td>classical</td>\n",
              "      <td>0.324</td>\n",
              "      <td>0.10000</td>\n",
              "      <td>-18.178</td>\n",
              "      <td>0.1950</td>\n",
              "      <td>110.153</td>\n",
              "      <td>353000</td>\n",
              "    </tr>\n",
              "  </tbody>\n",
              "</table>\n",
              "</div>"
            ],
            "text/plain": [
              "   genre_name  danceability   energy  loudness  valence    tempo  duration_ms\n",
              "3   classical         0.169  0.01610   -31.034   0.0573  128.143       174267\n",
              "4   classical         0.184  0.00527   -37.264   0.1510  170.612       315427\n",
              "5   classical         0.335  0.00532   -31.646   0.0397   65.832       268000\n",
              "6   classical         0.313  0.02290   -26.350   0.0650   64.387       138125\n",
              "7   classical         0.444  0.05080   -28.789   0.2710  132.664       147315\n",
              "8   classical         0.365  0.11600   -27.249   0.1930  126.305       130125\n",
              "9   classical         0.469  0.01280   -36.856   0.3540   72.765       205867\n",
              "10  classical         0.433  0.04370   -24.025   0.1960   68.152       126880\n",
              "11  classical         0.266  0.07500   -21.207   0.1600   90.595       411093\n",
              "12  classical         0.324  0.10000   -18.178   0.1950  110.153       353000"
            ]
          },
          "metadata": {
            "tags": []
          },
          "execution_count": 91
        }
      ]
    },
    {
      "cell_type": "code",
      "metadata": {
        "id": "A_U-erbmsnbh",
        "colab_type": "code",
        "colab": {
          "base_uri": "https://localhost:8080/",
          "height": 34
        },
        "outputId": "0abbfe02-810e-480b-9d83-7e9a5cc0f75e"
      },
      "source": [
        "X = dropped_ML_df.drop(\"genre_name\", axis=1)\n",
        "y = dropped_ML_df[\"genre_name\"]\n",
        "print(X.shape, y.shape)"
      ],
      "execution_count": null,
      "outputs": [
        {
          "output_type": "stream",
          "text": [
            "(14412, 6) (14412,)\n"
          ],
          "name": "stdout"
        }
      ]
    },
    {
      "cell_type": "code",
      "metadata": {
        "id": "DQKgxiFZtHgc",
        "colab_type": "code",
        "colab": {}
      },
      "source": [
        "X_train, X_test, y_train, y_test = train_test_split(\n",
        "    X, y, stratify=y)"
      ],
      "execution_count": null,
      "outputs": []
    },
    {
      "cell_type": "code",
      "metadata": {
        "id": "wq6w4fr3tK57",
        "colab_type": "code",
        "colab": {}
      },
      "source": [
        "X_scaler = MinMaxScaler().fit(X_train)\n",
        "X_train_scaled = X_scaler.transform(X_train)\n",
        "X_test_scaled = X_scaler.transform(X_test)"
      ],
      "execution_count": null,
      "outputs": []
    },
    {
      "cell_type": "code",
      "metadata": {
        "id": "_K88fvUctM_h",
        "colab_type": "code",
        "colab": {}
      },
      "source": [
        "# Step 1: Label-encode data set\n",
        "label_encoder = LabelEncoder()\n",
        "label_encoder.fit(y_train)\n",
        "encoded_y_train = label_encoder.transform(y_train)\n",
        "encoded_y_test = label_encoder.transform(y_test)"
      ],
      "execution_count": null,
      "outputs": []
    },
    {
      "cell_type": "code",
      "metadata": {
        "id": "CJsHPCJttP82",
        "colab_type": "code",
        "colab": {}
      },
      "source": [
        "# Step 2: Convert encoded labels to one-hot-encoding\n",
        "y_train_categorical = to_categorical(encoded_y_train)\n",
        "y_test_categorical = to_categorical(encoded_y_test)"
      ],
      "execution_count": null,
      "outputs": []
    },
    {
      "cell_type": "code",
      "metadata": {
        "id": "kE3rx_2Rta-p",
        "colab_type": "code",
        "colab": {}
      },
      "source": [
        "from tensorflow.keras.models import Sequential\n",
        "from tensorflow.keras.layers import Dense"
      ],
      "execution_count": null,
      "outputs": []
    },
    {
      "cell_type": "code",
      "metadata": {
        "id": "6TXtyHSitbt1",
        "colab_type": "code",
        "colab": {}
      },
      "source": [
        "# Create model and add layers\n",
        "model = Sequential()\n",
        "model.add(Dense(units=9, activation='relu', input_dim=6))\n",
        "# model.add(Dense(units=9, activation='sigmoid'))\n",
        "# model.add(Dense(units=9, activation='sigmoid'))\n",
        "# model.add(Dense(units=9, activation='sigmoid'))\n",
        "model.add(Dense(units=9, activation='relu'))\n",
        "# model.add(Dense(units=9, activation='relu'))\n",
        "# model.add(Dense(units=9, activation='relu'))\n",
        "# model.add(Dense(units=9, activation='relu'))\n",
        "# model.add(Dense(units=9, activation='relu'))\n",
        "model.add(Dense(units=9, activation='softmax'))"
      ],
      "execution_count": null,
      "outputs": []
    },
    {
      "cell_type": "code",
      "metadata": {
        "id": "1m0aP3wPtbmm",
        "colab_type": "code",
        "colab": {}
      },
      "source": [
        "# Compile and fit the model\n",
        "model.compile(optimizer='adam',\n",
        "              loss='categorical_crossentropy',\n",
        "              metrics=['accuracy'])"
      ],
      "execution_count": null,
      "outputs": []
    },
    {
      "cell_type": "code",
      "metadata": {
        "id": "RTDjDJ5puVLk",
        "colab_type": "code",
        "colab": {
          "base_uri": "https://localhost:8080/",
          "height": 255
        },
        "outputId": "b5fbfeed-091b-4839-83ab-1785ae8789bb"
      },
      "source": [
        "model.summary()"
      ],
      "execution_count": null,
      "outputs": [
        {
          "output_type": "stream",
          "text": [
            "Model: \"sequential_9\"\n",
            "_________________________________________________________________\n",
            "Layer (type)                 Output Shape              Param #   \n",
            "=================================================================\n",
            "dense_40 (Dense)             (None, 9)                 63        \n",
            "_________________________________________________________________\n",
            "dense_41 (Dense)             (None, 9)                 90        \n",
            "_________________________________________________________________\n",
            "dense_42 (Dense)             (None, 9)                 90        \n",
            "=================================================================\n",
            "Total params: 243\n",
            "Trainable params: 243\n",
            "Non-trainable params: 0\n",
            "_________________________________________________________________\n"
          ],
          "name": "stdout"
        }
      ]
    },
    {
      "cell_type": "code",
      "metadata": {
        "id": "cPSXJHltubXb",
        "colab_type": "code",
        "colab": {
          "base_uri": "https://localhost:8080/",
          "height": 374
        },
        "outputId": "5bfbcbb1-44f2-4fb3-eefb-f9c3af323e4c"
      },
      "source": [
        "model.fit(\n",
        "    X_train_scaled,\n",
        "    y_train_categorical,\n",
        "    epochs=10,\n",
        "    shuffle=True,\n",
        "    verbose=2\n",
        ")"
      ],
      "execution_count": null,
      "outputs": [
        {
          "output_type": "stream",
          "text": [
            "Epoch 1/10\n",
            "338/338 - 0s - loss: 2.1553 - accuracy: 0.1632\n",
            "Epoch 2/10\n",
            "338/338 - 0s - loss: 2.0350 - accuracy: 0.2197\n",
            "Epoch 3/10\n",
            "338/338 - 0s - loss: 1.9035 - accuracy: 0.2774\n",
            "Epoch 4/10\n",
            "338/338 - 0s - loss: 1.8390 - accuracy: 0.2910\n",
            "Epoch 5/10\n",
            "338/338 - 0s - loss: 1.8017 - accuracy: 0.3028\n",
            "Epoch 6/10\n",
            "338/338 - 0s - loss: 1.7782 - accuracy: 0.3124\n",
            "Epoch 7/10\n",
            "338/338 - 0s - loss: 1.7626 - accuracy: 0.3164\n",
            "Epoch 8/10\n",
            "338/338 - 0s - loss: 1.7502 - accuracy: 0.3188\n",
            "Epoch 9/10\n",
            "338/338 - 0s - loss: 1.7408 - accuracy: 0.3268\n",
            "Epoch 10/10\n",
            "338/338 - 0s - loss: 1.7341 - accuracy: 0.3301\n"
          ],
          "name": "stdout"
        },
        {
          "output_type": "execute_result",
          "data": {
            "text/plain": [
              "<tensorflow.python.keras.callbacks.History at 0x7f9fc2363f98>"
            ]
          },
          "metadata": {
            "tags": []
          },
          "execution_count": 113
        }
      ]
    },
    {
      "cell_type": "code",
      "metadata": {
        "id": "ZtxSc_jIuXWY",
        "colab_type": "code",
        "colab": {
          "base_uri": "https://localhost:8080/",
          "height": 51
        },
        "outputId": "1ca7d664-8744-430d-b402-8492f53e8fc2"
      },
      "source": [
        "model_loss, model_accuracy = model.evaluate(\n",
        "    X_test_scaled, y_test_categorical, verbose=2)\n",
        "print(\n",
        "    f\"Normal Neural Network - Loss: {model_loss}, Accuracy: {model_accuracy}\")"
      ],
      "execution_count": null,
      "outputs": [
        {
          "output_type": "stream",
          "text": [
            "113/113 - 0s - loss: 1.7238 - accuracy: 0.3453\n",
            "Normal Neural Network - Loss: 1.7237766981124878, Accuracy: 0.3452678322792053\n"
          ],
          "name": "stdout"
        }
      ]
    },
    {
      "cell_type": "markdown",
      "metadata": {
        "id": "G8mRbgI7xFoI",
        "colab_type": "text"
      },
      "source": [
        "# Genre Dataframe Changed - Grammy Genres (7)"
      ]
    },
    {
      "cell_type": "code",
      "metadata": {
        "id": "VO1b3B8VRBXI",
        "colab_type": "code",
        "colab": {
          "base_uri": "https://localhost:8080/",
          "height": 434
        },
        "outputId": "a3a7e43e-9051-411d-ef9e-182c68e40a25"
      },
      "source": [
        "df = pd.read_csv(os.path.join(\"spotify_df_5.csv\"))\n",
        "df.head()"
      ],
      "execution_count": 3,
      "outputs": [
        {
          "output_type": "execute_result",
          "data": {
            "text/html": [
              "<div>\n",
              "<style scoped>\n",
              "    .dataframe tbody tr th:only-of-type {\n",
              "        vertical-align: middle;\n",
              "    }\n",
              "\n",
              "    .dataframe tbody tr th {\n",
              "        vertical-align: top;\n",
              "    }\n",
              "\n",
              "    .dataframe thead th {\n",
              "        text-align: right;\n",
              "    }\n",
              "</style>\n",
              "<table border=\"1\" class=\"dataframe\">\n",
              "  <thead>\n",
              "    <tr style=\"text-align: right;\">\n",
              "      <th></th>\n",
              "      <th>artist_name</th>\n",
              "      <th>track_name</th>\n",
              "      <th>track_id</th>\n",
              "      <th>artist_href</th>\n",
              "      <th>track_href</th>\n",
              "      <th>genre_name</th>\n",
              "      <th>danceability</th>\n",
              "      <th>energy</th>\n",
              "      <th>key</th>\n",
              "      <th>loudness</th>\n",
              "      <th>mode</th>\n",
              "      <th>speechiness</th>\n",
              "      <th>acousticness</th>\n",
              "      <th>instrumentalness</th>\n",
              "      <th>liveness</th>\n",
              "      <th>valence</th>\n",
              "      <th>tempo</th>\n",
              "      <th>duration_ms</th>\n",
              "    </tr>\n",
              "  </thead>\n",
              "  <tbody>\n",
              "    <tr>\n",
              "      <th>0</th>\n",
              "      <td>yiruma</td>\n",
              "      <td>river flows in you</td>\n",
              "      <td>64rL48E6xWMIXdpcFDEiB8</td>\n",
              "      <td>https://open.spotify.com/artist/0fauHpmSHwodVY...</td>\n",
              "      <td>https://open.spotify.com/track/64rL48E6xWMIXdp...</td>\n",
              "      <td>classical</td>\n",
              "      <td>0.314</td>\n",
              "      <td>0.22000</td>\n",
              "      <td>9</td>\n",
              "      <td>-21.343</td>\n",
              "      <td>1</td>\n",
              "      <td>0.0514</td>\n",
              "      <td>0.98700</td>\n",
              "      <td>0.94300</td>\n",
              "      <td>0.0802</td>\n",
              "      <td>0.1160</td>\n",
              "      <td>145.277</td>\n",
              "      <td>188787</td>\n",
              "    </tr>\n",
              "    <tr>\n",
              "      <th>1</th>\n",
              "      <td>dragonforce</td>\n",
              "      <td>through the fire and flames</td>\n",
              "      <td>6nnacTL5on2aVsRhVDNUSo</td>\n",
              "      <td>https://open.spotify.com/artist/2pH3wEn4eYlMMI...</td>\n",
              "      <td>https://open.spotify.com/track/6nnacTL5on2aVsR...</td>\n",
              "      <td>classical</td>\n",
              "      <td>0.113</td>\n",
              "      <td>0.95100</td>\n",
              "      <td>0</td>\n",
              "      <td>-4.743</td>\n",
              "      <td>0</td>\n",
              "      <td>0.1290</td>\n",
              "      <td>0.00176</td>\n",
              "      <td>0.00718</td>\n",
              "      <td>0.3340</td>\n",
              "      <td>0.1390</td>\n",
              "      <td>200.024</td>\n",
              "      <td>441560</td>\n",
              "    </tr>\n",
              "    <tr>\n",
              "      <th>2</th>\n",
              "      <td>johann sebastian bach</td>\n",
              "      <td>cello suite no. 1 in g major, bwv 1007: i. pré...</td>\n",
              "      <td>61dYvvfIRtIDFuqZypPAta</td>\n",
              "      <td>https://open.spotify.com/artist/5aIqB5nVVvmFsv...</td>\n",
              "      <td>https://open.spotify.com/track/61dYvvfIRtIDFuq...</td>\n",
              "      <td>classical</td>\n",
              "      <td>0.257</td>\n",
              "      <td>0.10900</td>\n",
              "      <td>7</td>\n",
              "      <td>-21.356</td>\n",
              "      <td>1</td>\n",
              "      <td>0.0597</td>\n",
              "      <td>0.90000</td>\n",
              "      <td>0.86700</td>\n",
              "      <td>0.0762</td>\n",
              "      <td>0.3070</td>\n",
              "      <td>75.020</td>\n",
              "      <td>151480</td>\n",
              "    </tr>\n",
              "    <tr>\n",
              "      <th>3</th>\n",
              "      <td>camille saint-saëns</td>\n",
              "      <td>the carnival of the animals, r. 125: xiii. the...</td>\n",
              "      <td>0jOnZhF75V68VsBObWx2XO</td>\n",
              "      <td>https://open.spotify.com/artist/436sYg6CZhNefQ...</td>\n",
              "      <td>https://open.spotify.com/track/0jOnZhF75V68VsB...</td>\n",
              "      <td>classical</td>\n",
              "      <td>0.169</td>\n",
              "      <td>0.01610</td>\n",
              "      <td>9</td>\n",
              "      <td>-31.034</td>\n",
              "      <td>0</td>\n",
              "      <td>0.0442</td>\n",
              "      <td>0.98600</td>\n",
              "      <td>0.86000</td>\n",
              "      <td>0.0805</td>\n",
              "      <td>0.0573</td>\n",
              "      <td>128.143</td>\n",
              "      <td>174267</td>\n",
              "    </tr>\n",
              "    <tr>\n",
              "      <th>4</th>\n",
              "      <td>ludwig van beethoven</td>\n",
              "      <td>sonata no. 14 \"moonlight\" in c-sharp minor\", o...</td>\n",
              "      <td>3DNRdudZ2SstnDCVKFdXxG</td>\n",
              "      <td>https://open.spotify.com/artist/2wOqMjp9TyABvt...</td>\n",
              "      <td>https://open.spotify.com/track/3DNRdudZ2SstnDC...</td>\n",
              "      <td>classical</td>\n",
              "      <td>0.184</td>\n",
              "      <td>0.00527</td>\n",
              "      <td>1</td>\n",
              "      <td>-37.264</td>\n",
              "      <td>0</td>\n",
              "      <td>0.0432</td>\n",
              "      <td>0.99500</td>\n",
              "      <td>0.88700</td>\n",
              "      <td>0.1730</td>\n",
              "      <td>0.1510</td>\n",
              "      <td>170.612</td>\n",
              "      <td>315427</td>\n",
              "    </tr>\n",
              "  </tbody>\n",
              "</table>\n",
              "</div>"
            ],
            "text/plain": [
              "             artist_name  ... duration_ms\n",
              "0                 yiruma  ...      188787\n",
              "1            dragonforce  ...      441560\n",
              "2  johann sebastian bach  ...      151480\n",
              "3    camille saint-saëns  ...      174267\n",
              "4   ludwig van beethoven  ...      315427\n",
              "\n",
              "[5 rows x 18 columns]"
            ]
          },
          "metadata": {
            "tags": []
          },
          "execution_count": 3
        }
      ]
    },
    {
      "cell_type": "code",
      "metadata": {
        "id": "A2Zv2DETxOfa",
        "colab_type": "code",
        "colab": {
          "base_uri": "https://localhost:8080/",
          "height": 265
        },
        "outputId": "f0c580a7-e86e-4c4c-a851-b2e792487178"
      },
      "source": [
        "ML_df = df.drop(['artist_name', 'track_name', 'track_id', 'artist_href', 'track_href'], axis=1)\n",
        "ML_df.iloc[10000,1:13]\n",
        "ML_df.iloc[10000]"
      ],
      "execution_count": 4,
      "outputs": [
        {
          "output_type": "execute_result",
          "data": {
            "text/plain": [
              "genre_name              pop\n",
              "danceability          0.744\n",
              "energy                0.514\n",
              "key                       6\n",
              "loudness             -6.103\n",
              "mode                      1\n",
              "speechiness          0.0746\n",
              "acousticness          0.355\n",
              "instrumentalness          0\n",
              "liveness              0.184\n",
              "valence               0.449\n",
              "tempo               136.013\n",
              "duration_ms          228816\n",
              "Name: 10000, dtype: object"
            ]
          },
          "metadata": {
            "tags": []
          },
          "execution_count": 4
        }
      ]
    },
    {
      "cell_type": "code",
      "metadata": {
        "id": "Rsw2oCcJ1sdl",
        "colab_type": "code",
        "colab": {
          "base_uri": "https://localhost:8080/",
          "height": 372
        },
        "outputId": "7a7699e8-ffce-40fc-d8cb-f1e1b1e63cf2"
      },
      "source": [
        "ML_df.info()"
      ],
      "execution_count": 5,
      "outputs": [
        {
          "output_type": "stream",
          "text": [
            "<class 'pandas.core.frame.DataFrame'>\n",
            "RangeIndex: 11267 entries, 0 to 11266\n",
            "Data columns (total 13 columns):\n",
            " #   Column            Non-Null Count  Dtype  \n",
            "---  ------            --------------  -----  \n",
            " 0   genre_name        11267 non-null  object \n",
            " 1   danceability      11267 non-null  float64\n",
            " 2   energy            11267 non-null  float64\n",
            " 3   key               11267 non-null  int64  \n",
            " 4   loudness          11267 non-null  float64\n",
            " 5   mode              11267 non-null  int64  \n",
            " 6   speechiness       11267 non-null  float64\n",
            " 7   acousticness      11267 non-null  float64\n",
            " 8   instrumentalness  11267 non-null  float64\n",
            " 9   liveness          11267 non-null  float64\n",
            " 10  valence           11267 non-null  float64\n",
            " 11  tempo             11267 non-null  float64\n",
            " 12  duration_ms       11267 non-null  int64  \n",
            "dtypes: float64(9), int64(3), object(1)\n",
            "memory usage: 1.1+ MB\n"
          ],
          "name": "stdout"
        }
      ]
    },
    {
      "cell_type": "markdown",
      "metadata": {
        "id": "Db7nt_xpxfwQ",
        "colab_type": "text"
      },
      "source": [
        "## Now trying with KNN"
      ]
    },
    {
      "cell_type": "code",
      "metadata": {
        "id": "Q_PDTooPxhWf",
        "colab_type": "code",
        "colab": {
          "base_uri": "https://localhost:8080/",
          "height": 406
        },
        "outputId": "ca01437c-d851-4379-cde7-a4947a98e41e"
      },
      "source": [
        "y = ML_df[\"genre_name\"]\n",
        "X = ML_df.drop(\"genre_name\", axis=1)\n",
        "X.head(100)"
      ],
      "execution_count": 6,
      "outputs": [
        {
          "output_type": "execute_result",
          "data": {
            "text/html": [
              "<div>\n",
              "<style scoped>\n",
              "    .dataframe tbody tr th:only-of-type {\n",
              "        vertical-align: middle;\n",
              "    }\n",
              "\n",
              "    .dataframe tbody tr th {\n",
              "        vertical-align: top;\n",
              "    }\n",
              "\n",
              "    .dataframe thead th {\n",
              "        text-align: right;\n",
              "    }\n",
              "</style>\n",
              "<table border=\"1\" class=\"dataframe\">\n",
              "  <thead>\n",
              "    <tr style=\"text-align: right;\">\n",
              "      <th></th>\n",
              "      <th>danceability</th>\n",
              "      <th>energy</th>\n",
              "      <th>key</th>\n",
              "      <th>loudness</th>\n",
              "      <th>mode</th>\n",
              "      <th>speechiness</th>\n",
              "      <th>acousticness</th>\n",
              "      <th>instrumentalness</th>\n",
              "      <th>liveness</th>\n",
              "      <th>valence</th>\n",
              "      <th>tempo</th>\n",
              "      <th>duration_ms</th>\n",
              "    </tr>\n",
              "  </thead>\n",
              "  <tbody>\n",
              "    <tr>\n",
              "      <th>0</th>\n",
              "      <td>0.314</td>\n",
              "      <td>0.22000</td>\n",
              "      <td>9</td>\n",
              "      <td>-21.343</td>\n",
              "      <td>1</td>\n",
              "      <td>0.0514</td>\n",
              "      <td>0.98700</td>\n",
              "      <td>0.94300</td>\n",
              "      <td>0.0802</td>\n",
              "      <td>0.1160</td>\n",
              "      <td>145.277</td>\n",
              "      <td>188787</td>\n",
              "    </tr>\n",
              "    <tr>\n",
              "      <th>1</th>\n",
              "      <td>0.113</td>\n",
              "      <td>0.95100</td>\n",
              "      <td>0</td>\n",
              "      <td>-4.743</td>\n",
              "      <td>0</td>\n",
              "      <td>0.1290</td>\n",
              "      <td>0.00176</td>\n",
              "      <td>0.00718</td>\n",
              "      <td>0.3340</td>\n",
              "      <td>0.1390</td>\n",
              "      <td>200.024</td>\n",
              "      <td>441560</td>\n",
              "    </tr>\n",
              "    <tr>\n",
              "      <th>2</th>\n",
              "      <td>0.257</td>\n",
              "      <td>0.10900</td>\n",
              "      <td>7</td>\n",
              "      <td>-21.356</td>\n",
              "      <td>1</td>\n",
              "      <td>0.0597</td>\n",
              "      <td>0.90000</td>\n",
              "      <td>0.86700</td>\n",
              "      <td>0.0762</td>\n",
              "      <td>0.3070</td>\n",
              "      <td>75.020</td>\n",
              "      <td>151480</td>\n",
              "    </tr>\n",
              "    <tr>\n",
              "      <th>3</th>\n",
              "      <td>0.169</td>\n",
              "      <td>0.01610</td>\n",
              "      <td>9</td>\n",
              "      <td>-31.034</td>\n",
              "      <td>0</td>\n",
              "      <td>0.0442</td>\n",
              "      <td>0.98600</td>\n",
              "      <td>0.86000</td>\n",
              "      <td>0.0805</td>\n",
              "      <td>0.0573</td>\n",
              "      <td>128.143</td>\n",
              "      <td>174267</td>\n",
              "    </tr>\n",
              "    <tr>\n",
              "      <th>4</th>\n",
              "      <td>0.184</td>\n",
              "      <td>0.00527</td>\n",
              "      <td>1</td>\n",
              "      <td>-37.264</td>\n",
              "      <td>0</td>\n",
              "      <td>0.0432</td>\n",
              "      <td>0.99500</td>\n",
              "      <td>0.88700</td>\n",
              "      <td>0.1730</td>\n",
              "      <td>0.1510</td>\n",
              "      <td>170.612</td>\n",
              "      <td>315427</td>\n",
              "    </tr>\n",
              "    <tr>\n",
              "      <th>...</th>\n",
              "      <td>...</td>\n",
              "      <td>...</td>\n",
              "      <td>...</td>\n",
              "      <td>...</td>\n",
              "      <td>...</td>\n",
              "      <td>...</td>\n",
              "      <td>...</td>\n",
              "      <td>...</td>\n",
              "      <td>...</td>\n",
              "      <td>...</td>\n",
              "      <td>...</td>\n",
              "      <td>...</td>\n",
              "    </tr>\n",
              "    <tr>\n",
              "      <th>95</th>\n",
              "      <td>0.542</td>\n",
              "      <td>0.05360</td>\n",
              "      <td>2</td>\n",
              "      <td>-20.731</td>\n",
              "      <td>1</td>\n",
              "      <td>0.0464</td>\n",
              "      <td>0.99400</td>\n",
              "      <td>0.93500</td>\n",
              "      <td>0.0734</td>\n",
              "      <td>0.2350</td>\n",
              "      <td>116.554</td>\n",
              "      <td>144000</td>\n",
              "    </tr>\n",
              "    <tr>\n",
              "      <th>96</th>\n",
              "      <td>0.132</td>\n",
              "      <td>0.01950</td>\n",
              "      <td>0</td>\n",
              "      <td>-29.760</td>\n",
              "      <td>1</td>\n",
              "      <td>0.0445</td>\n",
              "      <td>0.99300</td>\n",
              "      <td>0.88800</td>\n",
              "      <td>0.0569</td>\n",
              "      <td>0.1400</td>\n",
              "      <td>81.616</td>\n",
              "      <td>163267</td>\n",
              "    </tr>\n",
              "    <tr>\n",
              "      <th>97</th>\n",
              "      <td>0.248</td>\n",
              "      <td>0.29800</td>\n",
              "      <td>0</td>\n",
              "      <td>-15.661</td>\n",
              "      <td>0</td>\n",
              "      <td>0.0395</td>\n",
              "      <td>0.95700</td>\n",
              "      <td>0.90000</td>\n",
              "      <td>0.0943</td>\n",
              "      <td>0.1570</td>\n",
              "      <td>97.853</td>\n",
              "      <td>442000</td>\n",
              "    </tr>\n",
              "    <tr>\n",
              "      <th>98</th>\n",
              "      <td>0.494</td>\n",
              "      <td>0.01600</td>\n",
              "      <td>10</td>\n",
              "      <td>-32.307</td>\n",
              "      <td>1</td>\n",
              "      <td>0.0426</td>\n",
              "      <td>0.99500</td>\n",
              "      <td>0.92200</td>\n",
              "      <td>0.1360</td>\n",
              "      <td>0.1180</td>\n",
              "      <td>98.224</td>\n",
              "      <td>295840</td>\n",
              "    </tr>\n",
              "    <tr>\n",
              "      <th>99</th>\n",
              "      <td>0.343</td>\n",
              "      <td>0.03420</td>\n",
              "      <td>8</td>\n",
              "      <td>-25.591</td>\n",
              "      <td>1</td>\n",
              "      <td>0.0406</td>\n",
              "      <td>0.99100</td>\n",
              "      <td>0.92000</td>\n",
              "      <td>0.1000</td>\n",
              "      <td>0.0378</td>\n",
              "      <td>60.228</td>\n",
              "      <td>270000</td>\n",
              "    </tr>\n",
              "  </tbody>\n",
              "</table>\n",
              "<p>100 rows × 12 columns</p>\n",
              "</div>"
            ],
            "text/plain": [
              "    danceability   energy  key  ...  valence    tempo  duration_ms\n",
              "0          0.314  0.22000    9  ...   0.1160  145.277       188787\n",
              "1          0.113  0.95100    0  ...   0.1390  200.024       441560\n",
              "2          0.257  0.10900    7  ...   0.3070   75.020       151480\n",
              "3          0.169  0.01610    9  ...   0.0573  128.143       174267\n",
              "4          0.184  0.00527    1  ...   0.1510  170.612       315427\n",
              "..           ...      ...  ...  ...      ...      ...          ...\n",
              "95         0.542  0.05360    2  ...   0.2350  116.554       144000\n",
              "96         0.132  0.01950    0  ...   0.1400   81.616       163267\n",
              "97         0.248  0.29800    0  ...   0.1570   97.853       442000\n",
              "98         0.494  0.01600   10  ...   0.1180   98.224       295840\n",
              "99         0.343  0.03420    8  ...   0.0378   60.228       270000\n",
              "\n",
              "[100 rows x 12 columns]"
            ]
          },
          "metadata": {
            "tags": []
          },
          "execution_count": 6
        }
      ]
    },
    {
      "cell_type": "code",
      "metadata": {
        "id": "hs54HyZuxjMG",
        "colab_type": "code",
        "colab": {
          "base_uri": "https://localhost:8080/",
          "height": 406
        },
        "outputId": "df9d0a3b-5881-4f71-a814-d040f14de21b"
      },
      "source": [
        "from sklearn.model_selection import train_test_split\n",
        "X_train, X_test, y_train, y_test = train_test_split(X, y)\n",
        "X_train"
      ],
      "execution_count": 8,
      "outputs": [
        {
          "output_type": "execute_result",
          "data": {
            "text/html": [
              "<div>\n",
              "<style scoped>\n",
              "    .dataframe tbody tr th:only-of-type {\n",
              "        vertical-align: middle;\n",
              "    }\n",
              "\n",
              "    .dataframe tbody tr th {\n",
              "        vertical-align: top;\n",
              "    }\n",
              "\n",
              "    .dataframe thead th {\n",
              "        text-align: right;\n",
              "    }\n",
              "</style>\n",
              "<table border=\"1\" class=\"dataframe\">\n",
              "  <thead>\n",
              "    <tr style=\"text-align: right;\">\n",
              "      <th></th>\n",
              "      <th>danceability</th>\n",
              "      <th>energy</th>\n",
              "      <th>key</th>\n",
              "      <th>loudness</th>\n",
              "      <th>mode</th>\n",
              "      <th>speechiness</th>\n",
              "      <th>acousticness</th>\n",
              "      <th>instrumentalness</th>\n",
              "      <th>liveness</th>\n",
              "      <th>valence</th>\n",
              "      <th>tempo</th>\n",
              "      <th>duration_ms</th>\n",
              "    </tr>\n",
              "  </thead>\n",
              "  <tbody>\n",
              "    <tr>\n",
              "      <th>1826</th>\n",
              "      <td>0.618</td>\n",
              "      <td>0.412</td>\n",
              "      <td>8</td>\n",
              "      <td>-12.075</td>\n",
              "      <td>1</td>\n",
              "      <td>0.0368</td>\n",
              "      <td>0.67500</td>\n",
              "      <td>0.000001</td>\n",
              "      <td>0.0886</td>\n",
              "      <td>0.740</td>\n",
              "      <td>203.933</td>\n",
              "      <td>251960</td>\n",
              "    </tr>\n",
              "    <tr>\n",
              "      <th>9735</th>\n",
              "      <td>0.458</td>\n",
              "      <td>0.452</td>\n",
              "      <td>9</td>\n",
              "      <td>-9.299</td>\n",
              "      <td>0</td>\n",
              "      <td>0.0470</td>\n",
              "      <td>0.34200</td>\n",
              "      <td>0.000019</td>\n",
              "      <td>0.0703</td>\n",
              "      <td>0.316</td>\n",
              "      <td>86.318</td>\n",
              "      <td>269680</td>\n",
              "    </tr>\n",
              "    <tr>\n",
              "      <th>7378</th>\n",
              "      <td>0.432</td>\n",
              "      <td>0.664</td>\n",
              "      <td>9</td>\n",
              "      <td>-7.281</td>\n",
              "      <td>0</td>\n",
              "      <td>0.0363</td>\n",
              "      <td>0.00296</td>\n",
              "      <td>0.758000</td>\n",
              "      <td>0.1170</td>\n",
              "      <td>0.277</td>\n",
              "      <td>196.083</td>\n",
              "      <td>172437</td>\n",
              "    </tr>\n",
              "    <tr>\n",
              "      <th>8415</th>\n",
              "      <td>0.517</td>\n",
              "      <td>0.273</td>\n",
              "      <td>10</td>\n",
              "      <td>-17.279</td>\n",
              "      <td>0</td>\n",
              "      <td>0.0627</td>\n",
              "      <td>0.86600</td>\n",
              "      <td>0.774000</td>\n",
              "      <td>0.9790</td>\n",
              "      <td>0.321</td>\n",
              "      <td>63.423</td>\n",
              "      <td>354573</td>\n",
              "    </tr>\n",
              "    <tr>\n",
              "      <th>4405</th>\n",
              "      <td>0.425</td>\n",
              "      <td>0.230</td>\n",
              "      <td>4</td>\n",
              "      <td>-10.844</td>\n",
              "      <td>1</td>\n",
              "      <td>0.0355</td>\n",
              "      <td>0.75700</td>\n",
              "      <td>0.000004</td>\n",
              "      <td>0.3340</td>\n",
              "      <td>0.223</td>\n",
              "      <td>118.826</td>\n",
              "      <td>219906</td>\n",
              "    </tr>\n",
              "    <tr>\n",
              "      <th>...</th>\n",
              "      <td>...</td>\n",
              "      <td>...</td>\n",
              "      <td>...</td>\n",
              "      <td>...</td>\n",
              "      <td>...</td>\n",
              "      <td>...</td>\n",
              "      <td>...</td>\n",
              "      <td>...</td>\n",
              "      <td>...</td>\n",
              "      <td>...</td>\n",
              "      <td>...</td>\n",
              "      <td>...</td>\n",
              "    </tr>\n",
              "    <tr>\n",
              "      <th>7970</th>\n",
              "      <td>0.589</td>\n",
              "      <td>0.478</td>\n",
              "      <td>9</td>\n",
              "      <td>-7.271</td>\n",
              "      <td>0</td>\n",
              "      <td>0.0241</td>\n",
              "      <td>0.79500</td>\n",
              "      <td>0.922000</td>\n",
              "      <td>0.1100</td>\n",
              "      <td>0.314</td>\n",
              "      <td>93.013</td>\n",
              "      <td>276080</td>\n",
              "    </tr>\n",
              "    <tr>\n",
              "      <th>7125</th>\n",
              "      <td>0.834</td>\n",
              "      <td>0.233</td>\n",
              "      <td>7</td>\n",
              "      <td>-13.418</td>\n",
              "      <td>1</td>\n",
              "      <td>0.0596</td>\n",
              "      <td>0.00224</td>\n",
              "      <td>0.729000</td>\n",
              "      <td>0.1200</td>\n",
              "      <td>0.762</td>\n",
              "      <td>86.094</td>\n",
              "      <td>173023</td>\n",
              "    </tr>\n",
              "    <tr>\n",
              "      <th>6761</th>\n",
              "      <td>0.691</td>\n",
              "      <td>0.873</td>\n",
              "      <td>5</td>\n",
              "      <td>-8.758</td>\n",
              "      <td>0</td>\n",
              "      <td>0.0382</td>\n",
              "      <td>0.33000</td>\n",
              "      <td>0.000002</td>\n",
              "      <td>0.0362</td>\n",
              "      <td>0.916</td>\n",
              "      <td>93.685</td>\n",
              "      <td>251253</td>\n",
              "    </tr>\n",
              "    <tr>\n",
              "      <th>9911</th>\n",
              "      <td>0.727</td>\n",
              "      <td>0.860</td>\n",
              "      <td>3</td>\n",
              "      <td>-2.712</td>\n",
              "      <td>1</td>\n",
              "      <td>0.0641</td>\n",
              "      <td>0.00443</td>\n",
              "      <td>0.000000</td>\n",
              "      <td>0.0718</td>\n",
              "      <td>0.747</td>\n",
              "      <td>133.995</td>\n",
              "      <td>154000</td>\n",
              "    </tr>\n",
              "    <tr>\n",
              "      <th>4410</th>\n",
              "      <td>0.567</td>\n",
              "      <td>0.865</td>\n",
              "      <td>1</td>\n",
              "      <td>-7.401</td>\n",
              "      <td>1</td>\n",
              "      <td>0.0289</td>\n",
              "      <td>0.47200</td>\n",
              "      <td>0.000437</td>\n",
              "      <td>0.0845</td>\n",
              "      <td>0.421</td>\n",
              "      <td>110.851</td>\n",
              "      <td>348440</td>\n",
              "    </tr>\n",
              "  </tbody>\n",
              "</table>\n",
              "<p>8450 rows × 12 columns</p>\n",
              "</div>"
            ],
            "text/plain": [
              "      danceability  energy  key  ...  valence    tempo  duration_ms\n",
              "1826         0.618   0.412    8  ...    0.740  203.933       251960\n",
              "9735         0.458   0.452    9  ...    0.316   86.318       269680\n",
              "7378         0.432   0.664    9  ...    0.277  196.083       172437\n",
              "8415         0.517   0.273   10  ...    0.321   63.423       354573\n",
              "4405         0.425   0.230    4  ...    0.223  118.826       219906\n",
              "...            ...     ...  ...  ...      ...      ...          ...\n",
              "7970         0.589   0.478    9  ...    0.314   93.013       276080\n",
              "7125         0.834   0.233    7  ...    0.762   86.094       173023\n",
              "6761         0.691   0.873    5  ...    0.916   93.685       251253\n",
              "9911         0.727   0.860    3  ...    0.747  133.995       154000\n",
              "4410         0.567   0.865    1  ...    0.421  110.851       348440\n",
              "\n",
              "[8450 rows x 12 columns]"
            ]
          },
          "metadata": {
            "tags": []
          },
          "execution_count": 8
        }
      ]
    },
    {
      "cell_type": "markdown",
      "metadata": {
        "id": "ELupJQM4d0DU",
        "colab_type": "text"
      },
      "source": [
        "### Baseline Accuracy\n"
      ]
    },
    {
      "cell_type": "code",
      "metadata": {
        "id": "PtdXpQfycXgK",
        "colab_type": "code",
        "colab": {}
      },
      "source": [
        "from sklearn.dummy import DummyClassifier\n",
        "\n",
        "dummy_clf = DummyClassifier()"
      ],
      "execution_count": 9,
      "outputs": []
    },
    {
      "cell_type": "code",
      "metadata": {
        "id": "DHG-P_4ycXpK",
        "colab_type": "code",
        "colab": {
          "base_uri": "https://localhost:8080/",
          "height": 90
        },
        "outputId": "e5124270-9a98-412e-9aa5-824c331cb0e9"
      },
      "source": [
        "dummy_clf.fit(X_train, y_train)"
      ],
      "execution_count": 10,
      "outputs": [
        {
          "output_type": "stream",
          "text": [
            "/usr/local/lib/python3.6/dist-packages/sklearn/dummy.py:132: FutureWarning: The default value of strategy will change from stratified to prior in 0.24.\n",
            "  \"stratified to prior in 0.24.\", FutureWarning)\n"
          ],
          "name": "stderr"
        },
        {
          "output_type": "execute_result",
          "data": {
            "text/plain": [
              "DummyClassifier(constant=None, random_state=None, strategy='warn')"
            ]
          },
          "metadata": {
            "tags": []
          },
          "execution_count": 10
        }
      ]
    },
    {
      "cell_type": "code",
      "metadata": {
        "id": "aSSVyvG4cXW5",
        "colab_type": "code",
        "colab": {
          "base_uri": "https://localhost:8080/",
          "height": 34
        },
        "outputId": "46dc6942-1be8-4d72-f44d-5ffd248a7c75"
      },
      "source": [
        "y_pred = dummy_clf.predict(X_test)\n",
        "print(y_pred)"
      ],
      "execution_count": 11,
      "outputs": [
        {
          "output_type": "stream",
          "text": [
            "['hip hop' 'folk' 'classical' ... 'classical' 'jazz' 'hip hop']\n"
          ],
          "name": "stdout"
        }
      ]
    },
    {
      "cell_type": "code",
      "metadata": {
        "id": "14zFL4tXciJ2",
        "colab_type": "code",
        "colab": {
          "base_uri": "https://localhost:8080/",
          "height": 34
        },
        "outputId": "61a3a31c-bc01-48ca-e55d-d3d9663f394a"
      },
      "source": [
        "dummy_score = dummy_clf.score(X_test, y_test)\n",
        "print(dummy_score)"
      ],
      "execution_count": 12,
      "outputs": [
        {
          "output_type": "stream",
          "text": [
            "0.14873979410720625\n"
          ],
          "name": "stdout"
        }
      ]
    },
    {
      "cell_type": "code",
      "metadata": {
        "id": "SZ82ExY5wTn1",
        "colab_type": "code",
        "colab": {
          "base_uri": "https://localhost:8080/",
          "height": 34
        },
        "outputId": "67f0d562-8fad-439b-e62f-8d5c8b4454c1"
      },
      "source": [
        "from sklearn.preprocessing import StandardScaler\n",
        "\n",
        "# Create a StandardScater model and fit it to the training data\n",
        "\n",
        "\n",
        "# X_scaler = StandardScaler().fit([[0.765, 0.307, 11, -10.472, 1, 0.0328, 0.727, .00000215,0.109,0.257,119.836, 206109]])\n",
        "X_scaler = StandardScaler().fit(X_train)\n",
        "X_scaler"
      ],
      "execution_count": 18,
      "outputs": [
        {
          "output_type": "execute_result",
          "data": {
            "text/plain": [
              "StandardScaler(copy=True, with_mean=True, with_std=True)"
            ]
          },
          "metadata": {
            "tags": []
          },
          "execution_count": 18
        }
      ]
    },
    {
      "cell_type": "code",
      "metadata": {
        "id": "ajL-L9qKXooa",
        "colab_type": "code",
        "colab": {
          "base_uri": "https://localhost:8080/",
          "height": 426
        },
        "outputId": "bf27a209-68c1-48f1-c1c7-008ac2a87e28"
      },
      "source": [
        "X_test\n"
      ],
      "execution_count": null,
      "outputs": [
        {
          "output_type": "execute_result",
          "data": {
            "text/html": [
              "<div>\n",
              "<style scoped>\n",
              "    .dataframe tbody tr th:only-of-type {\n",
              "        vertical-align: middle;\n",
              "    }\n",
              "\n",
              "    .dataframe tbody tr th {\n",
              "        vertical-align: top;\n",
              "    }\n",
              "\n",
              "    .dataframe thead th {\n",
              "        text-align: right;\n",
              "    }\n",
              "</style>\n",
              "<table border=\"1\" class=\"dataframe\">\n",
              "  <thead>\n",
              "    <tr style=\"text-align: right;\">\n",
              "      <th></th>\n",
              "      <th>danceability</th>\n",
              "      <th>energy</th>\n",
              "      <th>key</th>\n",
              "      <th>loudness</th>\n",
              "      <th>mode</th>\n",
              "      <th>speechiness</th>\n",
              "      <th>acousticness</th>\n",
              "      <th>instrumentalness</th>\n",
              "      <th>liveness</th>\n",
              "      <th>valence</th>\n",
              "      <th>tempo</th>\n",
              "      <th>duration_ms</th>\n",
              "    </tr>\n",
              "  </thead>\n",
              "  <tbody>\n",
              "    <tr>\n",
              "      <th>11262</th>\n",
              "      <td>0.578</td>\n",
              "      <td>0.4910</td>\n",
              "      <td>11</td>\n",
              "      <td>-8.544</td>\n",
              "      <td>0</td>\n",
              "      <td>0.2100</td>\n",
              "      <td>0.20300</td>\n",
              "      <td>0.000378</td>\n",
              "      <td>0.1820</td>\n",
              "      <td>0.640</td>\n",
              "      <td>98.273</td>\n",
              "      <td>184814</td>\n",
              "    </tr>\n",
              "    <tr>\n",
              "      <th>3622</th>\n",
              "      <td>0.548</td>\n",
              "      <td>0.7200</td>\n",
              "      <td>1</td>\n",
              "      <td>-9.777</td>\n",
              "      <td>0</td>\n",
              "      <td>0.0409</td>\n",
              "      <td>0.06860</td>\n",
              "      <td>0.000232</td>\n",
              "      <td>0.1070</td>\n",
              "      <td>0.458</td>\n",
              "      <td>140.966</td>\n",
              "      <td>229093</td>\n",
              "    </tr>\n",
              "    <tr>\n",
              "      <th>990</th>\n",
              "      <td>0.495</td>\n",
              "      <td>0.0585</td>\n",
              "      <td>9</td>\n",
              "      <td>-18.941</td>\n",
              "      <td>1</td>\n",
              "      <td>0.0447</td>\n",
              "      <td>0.99400</td>\n",
              "      <td>0.878000</td>\n",
              "      <td>0.1490</td>\n",
              "      <td>0.462</td>\n",
              "      <td>123.884</td>\n",
              "      <td>186000</td>\n",
              "    </tr>\n",
              "    <tr>\n",
              "      <th>10202</th>\n",
              "      <td>0.861</td>\n",
              "      <td>0.3300</td>\n",
              "      <td>6</td>\n",
              "      <td>-7.194</td>\n",
              "      <td>1</td>\n",
              "      <td>0.0526</td>\n",
              "      <td>0.62700</td>\n",
              "      <td>0.000002</td>\n",
              "      <td>0.1400</td>\n",
              "      <td>0.718</td>\n",
              "      <td>95.016</td>\n",
              "      <td>216000</td>\n",
              "    </tr>\n",
              "    <tr>\n",
              "      <th>8176</th>\n",
              "      <td>0.553</td>\n",
              "      <td>0.6590</td>\n",
              "      <td>9</td>\n",
              "      <td>-9.281</td>\n",
              "      <td>1</td>\n",
              "      <td>0.0613</td>\n",
              "      <td>0.50200</td>\n",
              "      <td>0.859000</td>\n",
              "      <td>0.1840</td>\n",
              "      <td>0.460</td>\n",
              "      <td>183.815</td>\n",
              "      <td>242800</td>\n",
              "    </tr>\n",
              "    <tr>\n",
              "      <th>...</th>\n",
              "      <td>...</td>\n",
              "      <td>...</td>\n",
              "      <td>...</td>\n",
              "      <td>...</td>\n",
              "      <td>...</td>\n",
              "      <td>...</td>\n",
              "      <td>...</td>\n",
              "      <td>...</td>\n",
              "      <td>...</td>\n",
              "      <td>...</td>\n",
              "      <td>...</td>\n",
              "      <td>...</td>\n",
              "    </tr>\n",
              "    <tr>\n",
              "      <th>1072</th>\n",
              "      <td>0.336</td>\n",
              "      <td>0.0900</td>\n",
              "      <td>2</td>\n",
              "      <td>-23.102</td>\n",
              "      <td>0</td>\n",
              "      <td>0.0365</td>\n",
              "      <td>0.98200</td>\n",
              "      <td>0.840000</td>\n",
              "      <td>0.0895</td>\n",
              "      <td>0.118</td>\n",
              "      <td>136.625</td>\n",
              "      <td>845107</td>\n",
              "    </tr>\n",
              "    <tr>\n",
              "      <th>8463</th>\n",
              "      <td>0.539</td>\n",
              "      <td>0.6440</td>\n",
              "      <td>5</td>\n",
              "      <td>-7.407</td>\n",
              "      <td>0</td>\n",
              "      <td>0.0399</td>\n",
              "      <td>0.23600</td>\n",
              "      <td>0.775000</td>\n",
              "      <td>0.1140</td>\n",
              "      <td>0.781</td>\n",
              "      <td>78.311</td>\n",
              "      <td>224267</td>\n",
              "    </tr>\n",
              "    <tr>\n",
              "      <th>1807</th>\n",
              "      <td>0.608</td>\n",
              "      <td>0.7680</td>\n",
              "      <td>1</td>\n",
              "      <td>-9.911</td>\n",
              "      <td>1</td>\n",
              "      <td>0.0364</td>\n",
              "      <td>0.10100</td>\n",
              "      <td>0.000001</td>\n",
              "      <td>0.0942</td>\n",
              "      <td>0.748</td>\n",
              "      <td>132.699</td>\n",
              "      <td>211160</td>\n",
              "    </tr>\n",
              "    <tr>\n",
              "      <th>5630</th>\n",
              "      <td>0.857</td>\n",
              "      <td>0.9380</td>\n",
              "      <td>11</td>\n",
              "      <td>-8.278</td>\n",
              "      <td>0</td>\n",
              "      <td>0.3520</td>\n",
              "      <td>0.10800</td>\n",
              "      <td>0.000000</td>\n",
              "      <td>0.5740</td>\n",
              "      <td>0.644</td>\n",
              "      <td>88.040</td>\n",
              "      <td>186267</td>\n",
              "    </tr>\n",
              "    <tr>\n",
              "      <th>4003</th>\n",
              "      <td>0.528</td>\n",
              "      <td>0.8600</td>\n",
              "      <td>11</td>\n",
              "      <td>-8.033</td>\n",
              "      <td>0</td>\n",
              "      <td>0.0397</td>\n",
              "      <td>0.00131</td>\n",
              "      <td>0.250000</td>\n",
              "      <td>0.2510</td>\n",
              "      <td>0.490</td>\n",
              "      <td>123.120</td>\n",
              "      <td>266053</td>\n",
              "    </tr>\n",
              "  </tbody>\n",
              "</table>\n",
              "<p>2817 rows × 12 columns</p>\n",
              "</div>"
            ],
            "text/plain": [
              "       danceability  energy  key  ...  valence    tempo  duration_ms\n",
              "11262         0.578  0.4910   11  ...    0.640   98.273       184814\n",
              "3622          0.548  0.7200    1  ...    0.458  140.966       229093\n",
              "990           0.495  0.0585    9  ...    0.462  123.884       186000\n",
              "10202         0.861  0.3300    6  ...    0.718   95.016       216000\n",
              "8176          0.553  0.6590    9  ...    0.460  183.815       242800\n",
              "...             ...     ...  ...  ...      ...      ...          ...\n",
              "1072          0.336  0.0900    2  ...    0.118  136.625       845107\n",
              "8463          0.539  0.6440    5  ...    0.781   78.311       224267\n",
              "1807          0.608  0.7680    1  ...    0.748  132.699       211160\n",
              "5630          0.857  0.9380   11  ...    0.644   88.040       186267\n",
              "4003          0.528  0.8600   11  ...    0.490  123.120       266053\n",
              "\n",
              "[2817 rows x 12 columns]"
            ]
          },
          "metadata": {
            "tags": []
          },
          "execution_count": 13
        }
      ]
    },
    {
      "cell_type": "code",
      "metadata": {
        "id": "p9D36CfmwSRf",
        "colab_type": "code",
        "colab": {
          "base_uri": "https://localhost:8080/",
          "height": 70
        },
        "outputId": "16f6c012-5905-49ea-e337-a83660db86d8"
      },
      "source": [
        "\n",
        "X_train_scaled = X_scaler.transform(X_train)\n",
        "X_test_scaled = X_scaler.transform(X_test)\n",
        "X_test_scaled[11]"
      ],
      "execution_count": null,
      "outputs": [
        {
          "output_type": "execute_result",
          "data": {
            "text/plain": [
              "array([ 0.98375516,  0.68522381, -1.49539308,  1.1605679 ,  0.66259543,\n",
              "        0.29159104, -0.96101184, -0.47258894, -0.65325508,  1.95854714,\n",
              "       -1.33556458,  0.33741828])"
            ]
          },
          "metadata": {
            "tags": []
          },
          "execution_count": 14
        }
      ]
    },
    {
      "cell_type": "code",
      "metadata": {
        "id": "lLaaHxlgxnZ6",
        "colab_type": "code",
        "colab": {
          "base_uri": "https://localhost:8080/",
          "height": 545
        },
        "outputId": "56280f7c-ef38-4d01-dc1c-4fd199c42662"
      },
      "source": [
        "train_scores = []\n",
        "test_scores = []\n",
        "for k in range(1, 30, 2):\n",
        "    knn = KNeighborsClassifier(n_neighbors=k)\n",
        "    knn.fit(X_train, y_train)\n",
        "    train_score = knn.score(X_train, y_train)\n",
        "    test_score = knn.score(X_test, y_test)\n",
        "    all_score = train_score + test_score\n",
        "    train_scores.append(train_score)\n",
        "    test_scores.append(test_score)\n",
        "    print(f\"k: {k}, Train/Test Score: {train_score:.3f}/{test_score:.3f}, {all_score:.3f}\")\n",
        "    \n",
        "plt.plot(range(1, 30, 2), train_scores, marker='o')\n",
        "plt.plot(range(1, 30, 2), test_scores, marker=\"x\")\n",
        "plt.xlabel(\"k neighbors\")\n",
        "plt.ylabel(\"Testing accuracy Score\")\n",
        "plt.show()"
      ],
      "execution_count": null,
      "outputs": [
        {
          "output_type": "stream",
          "text": [
            "k: 1, Train/Test Score: 1.000/0.222, 1.222\n",
            "k: 3, Train/Test Score: 0.531/0.213, 0.743\n",
            "k: 5, Train/Test Score: 0.465/0.214, 0.679\n",
            "k: 7, Train/Test Score: 0.418/0.234, 0.652\n",
            "k: 9, Train/Test Score: 0.395/0.238, 0.633\n",
            "k: 11, Train/Test Score: 0.383/0.241, 0.624\n",
            "k: 13, Train/Test Score: 0.371/0.239, 0.610\n",
            "k: 15, Train/Test Score: 0.360/0.241, 0.601\n",
            "k: 17, Train/Test Score: 0.350/0.247, 0.596\n",
            "k: 19, Train/Test Score: 0.343/0.244, 0.587\n",
            "k: 21, Train/Test Score: 0.338/0.248, 0.586\n",
            "k: 23, Train/Test Score: 0.338/0.248, 0.586\n",
            "k: 25, Train/Test Score: 0.337/0.242, 0.579\n",
            "k: 27, Train/Test Score: 0.335/0.246, 0.581\n",
            "k: 29, Train/Test Score: 0.336/0.241, 0.576\n"
          ],
          "name": "stdout"
        },
        {
          "output_type": "display_data",
          "data": {
            "image/png": "[encoded data removed]",
            "text/plain": [
              "<Figure size 432x288 with 1 Axes>"
            ]
          },
          "metadata": {
            "tags": [],
            "needs_background": "light"
          }
        }
      ]
    },
    {
      "cell_type": "code",
      "metadata": {
        "id": "hQ_f7hk2wK15",
        "colab_type": "code",
        "colab": {
          "base_uri": "https://localhost:8080/",
          "height": 34
        },
        "outputId": "4a9d83a9-b2f2-4e45-f351-005dc4b5e92a"
      },
      "source": [
        "knn = KNeighborsClassifier(n_neighbors=19)\n",
        "knn.fit(X_train_scaled, y_train)\n",
        "print('k=19 Test Acc: %.3f' % knn.score(X_test_scaled, y_test))"
      ],
      "execution_count": null,
      "outputs": [
        {
          "output_type": "stream",
          "text": [
            "k=19 Test Acc: 0.533\n"
          ],
          "name": "stdout"
        }
      ]
    },
    {
      "cell_type": "code",
      "metadata": {
        "id": "6rxEQR54XXm3",
        "colab_type": "code",
        "colab": {}
      },
      "source": [
        "snew_data = 0.2, 0.2, 10, -30, 1, 0.05, 0.8, 0.8, 0.5, 0.2, 0.1, 222222\n",
        "# new_data = new_data.transform(new_data)\n",
        "\n",
        "# [0.765, 0.307, 11, -10.472, 1, 0.0328, 0.727, .00000215,0.109,0.257,119.836]"
      ],
      "execution_count": null,
      "outputs": []
    },
    {
      "cell_type": "code",
      "metadata": {
        "id": "6IyaQn39KVto",
        "colab_type": "code",
        "colab": {
          "base_uri": "https://localhost:8080/",
          "height": 34
        },
        "outputId": "54cd6505-9b40-4c1f-ff02-6af908d75eef"
      },
      "source": [
        "\n",
        "new_data = [[0.765, 0.307, 11, -10.472, 1, 0.0328, 0.727, .00000215,0.109,0.257,119.836, 206109]]\n",
        "new_data_1 = [[0.111, 0.777, 2, -2, 0, 0.0111, 0.111, .00111, 0.9, 0.9, 50, 333333]]\n",
        "new_data_2 = [[0.2, 0.2, 10, -30, 1, 0.05, 0.8, 0.8, 0.5, 0.2, 0.1, 222222]]\n",
        "new_data_3 = [[0.79317033,0.91557169,1.06375534,0.73925307,0.67278438,2.26520775,-1.03279864,-0.48199241,-0.35157953,-1.57235678,-0.91074136,-0.63348198]]\n",
        "new_data_4 = [[-1.14087944,1.24642326,1.06375534,0.41127868,0.67278438,-0.47284276,-1.07621207,1.42227523,0.16892679,-0.22550447,-0.98815799,0.81730637]]\n",
        "new_data_5 = [[0.446,0.239,0,-13.945,1,0.0316,0.5510,0.000004,0.0697,0.298,189.507,336453]]\n",
        "predicted_class = knn.predict(X_test_scaled)\n",
        "print(predicted_class)"
      ],
      "execution_count": null,
      "outputs": [
        {
          "output_type": "stream",
          "text": [
            "['hip hop' 'folk' 'classical' ... 'country' 'hip hop' 'rock']\n"
          ],
          "name": "stdout"
        }
      ]
    },
    {
      "cell_type": "code",
      "metadata": {
        "id": "MDWqZGNKTWoC",
        "colab_type": "code",
        "colab": {
          "base_uri": "https://localhost:8080/",
          "height": 34
        },
        "outputId": "0149c68c-2f69-4c44-9be6-514c59d4fd68"
      },
      "source": [
        "import pickle\n",
        "# save the model to disk\n",
        "filename = 'audio_features_model.csv'\n",
        "pickle.dump(knn, open(filename, 'wb')) \n",
        "\n",
        "# save scalar\n",
        "pickle.dump(X_scaler, open(\"scaler.pickle\", \"wb\"))\n",
        "\n",
        "# load the model from disk\n",
        "loaded_model = pickle.load(open(filename, 'rb'))\n",
        "result = loaded_model.score(X_test_scaled, y_test)\n",
        "print(result)"
      ],
      "execution_count": null,
      "outputs": [
        {
          "output_type": "stream",
          "text": [
            "0.5328363507277245\n"
          ],
          "name": "stdout"
        }
      ]
    },
    {
      "cell_type": "markdown",
      "metadata": {
        "id": "1mnP1kesx1ht",
        "colab_type": "text"
      },
      "source": [
        "## Now trying with neural networks"
      ]
    },
    {
      "cell_type": "code",
      "metadata": {
        "id": "wIA9VOfOx52z",
        "colab_type": "code",
        "colab": {}
      },
      "source": [
        "from sklearn.model_selection import train_test_split\n",
        "from sklearn.preprocessing import LabelEncoder, MinMaxScaler\n",
        "from tensorflow.keras.utils import to_categorical"
      ],
      "execution_count": null,
      "outputs": []
    },
    {
      "cell_type": "code",
      "metadata": {
        "id": "M54bTWuux9F5",
        "colab_type": "code",
        "colab": {
          "base_uri": "https://localhost:8080/",
          "height": 34
        },
        "outputId": "fc99bc7c-e45b-4ee7-f123-353eb5ac1009"
      },
      "source": [
        "X = ML_df.drop(\"genre_name\", axis=1)\n",
        "y = ML_df[\"genre_name\"]\n",
        "print(X.shape, y.shape)"
      ],
      "execution_count": null,
      "outputs": [
        {
          "output_type": "stream",
          "text": [
            "(11267, 12) (11267,)\n"
          ],
          "name": "stdout"
        }
      ]
    },
    {
      "cell_type": "code",
      "metadata": {
        "id": "YyU3ozfqx9xW",
        "colab_type": "code",
        "colab": {}
      },
      "source": [
        "X_train, X_test, y_train, y_test = train_test_split(\n",
        "    X, y, stratify=y)"
      ],
      "execution_count": null,
      "outputs": []
    },
    {
      "cell_type": "code",
      "metadata": {
        "id": "QmZtnAHCnIK9",
        "colab_type": "code",
        "colab": {
          "base_uri": "https://localhost:8080/",
          "height": 439
        },
        "outputId": "05d5ea3c-13b6-463f-922d-6ac958a30f6e"
      },
      "source": [
        "X_train"
      ],
      "execution_count": null,
      "outputs": [
        {
          "output_type": "execute_result",
          "data": {
            "text/html": [
              "<div>\n",
              "<style scoped>\n",
              "    .dataframe tbody tr th:only-of-type {\n",
              "        vertical-align: middle;\n",
              "    }\n",
              "\n",
              "    .dataframe tbody tr th {\n",
              "        vertical-align: top;\n",
              "    }\n",
              "\n",
              "    .dataframe thead th {\n",
              "        text-align: right;\n",
              "    }\n",
              "</style>\n",
              "<table border=\"1\" class=\"dataframe\">\n",
              "  <thead>\n",
              "    <tr style=\"text-align: right;\">\n",
              "      <th></th>\n",
              "      <th>danceability</th>\n",
              "      <th>energy</th>\n",
              "      <th>key</th>\n",
              "      <th>loudness</th>\n",
              "      <th>mode</th>\n",
              "      <th>speechiness</th>\n",
              "      <th>acousticness</th>\n",
              "      <th>instrumentalness</th>\n",
              "      <th>liveness</th>\n",
              "      <th>valence</th>\n",
              "      <th>tempo</th>\n",
              "      <th>duration_ms</th>\n",
              "    </tr>\n",
              "  </thead>\n",
              "  <tbody>\n",
              "    <tr>\n",
              "      <th>9083</th>\n",
              "      <td>0.646</td>\n",
              "      <td>0.770</td>\n",
              "      <td>2</td>\n",
              "      <td>-6.596</td>\n",
              "      <td>0</td>\n",
              "      <td>0.2260</td>\n",
              "      <td>0.00249</td>\n",
              "      <td>0.000000</td>\n",
              "      <td>0.0715</td>\n",
              "      <td>0.681</td>\n",
              "      <td>99.165</td>\n",
              "      <td>236133</td>\n",
              "    </tr>\n",
              "    <tr>\n",
              "      <th>5907</th>\n",
              "      <td>0.793</td>\n",
              "      <td>0.676</td>\n",
              "      <td>4</td>\n",
              "      <td>-6.928</td>\n",
              "      <td>1</td>\n",
              "      <td>0.2290</td>\n",
              "      <td>0.07160</td>\n",
              "      <td>0.017400</td>\n",
              "      <td>0.0594</td>\n",
              "      <td>0.898</td>\n",
              "      <td>97.383</td>\n",
              "      <td>285640</td>\n",
              "    </tr>\n",
              "    <tr>\n",
              "      <th>3115</th>\n",
              "      <td>0.515</td>\n",
              "      <td>0.587</td>\n",
              "      <td>4</td>\n",
              "      <td>-7.136</td>\n",
              "      <td>1</td>\n",
              "      <td>0.0383</td>\n",
              "      <td>0.00662</td>\n",
              "      <td>0.000000</td>\n",
              "      <td>0.1400</td>\n",
              "      <td>0.361</td>\n",
              "      <td>148.044</td>\n",
              "      <td>195667</td>\n",
              "    </tr>\n",
              "    <tr>\n",
              "      <th>6116</th>\n",
              "      <td>0.836</td>\n",
              "      <td>0.916</td>\n",
              "      <td>1</td>\n",
              "      <td>-3.038</td>\n",
              "      <td>0</td>\n",
              "      <td>0.2220</td>\n",
              "      <td>0.14300</td>\n",
              "      <td>0.000000</td>\n",
              "      <td>0.3120</td>\n",
              "      <td>0.614</td>\n",
              "      <td>99.879</td>\n",
              "      <td>272706</td>\n",
              "    </tr>\n",
              "    <tr>\n",
              "      <th>570</th>\n",
              "      <td>0.488</td>\n",
              "      <td>0.289</td>\n",
              "      <td>9</td>\n",
              "      <td>-24.205</td>\n",
              "      <td>0</td>\n",
              "      <td>0.0349</td>\n",
              "      <td>0.95700</td>\n",
              "      <td>0.868000</td>\n",
              "      <td>0.1330</td>\n",
              "      <td>0.785</td>\n",
              "      <td>113.594</td>\n",
              "      <td>174973</td>\n",
              "    </tr>\n",
              "    <tr>\n",
              "      <th>...</th>\n",
              "      <td>...</td>\n",
              "      <td>...</td>\n",
              "      <td>...</td>\n",
              "      <td>...</td>\n",
              "      <td>...</td>\n",
              "      <td>...</td>\n",
              "      <td>...</td>\n",
              "      <td>...</td>\n",
              "      <td>...</td>\n",
              "      <td>...</td>\n",
              "      <td>...</td>\n",
              "      <td>...</td>\n",
              "    </tr>\n",
              "    <tr>\n",
              "      <th>1561</th>\n",
              "      <td>0.729</td>\n",
              "      <td>0.688</td>\n",
              "      <td>3</td>\n",
              "      <td>-7.468</td>\n",
              "      <td>1</td>\n",
              "      <td>0.0264</td>\n",
              "      <td>0.12700</td>\n",
              "      <td>0.000009</td>\n",
              "      <td>0.2950</td>\n",
              "      <td>0.671</td>\n",
              "      <td>123.867</td>\n",
              "      <td>219600</td>\n",
              "    </tr>\n",
              "    <tr>\n",
              "      <th>9657</th>\n",
              "      <td>0.731</td>\n",
              "      <td>0.794</td>\n",
              "      <td>0</td>\n",
              "      <td>-5.126</td>\n",
              "      <td>0</td>\n",
              "      <td>0.0522</td>\n",
              "      <td>0.03230</td>\n",
              "      <td>0.000026</td>\n",
              "      <td>0.1120</td>\n",
              "      <td>0.356</td>\n",
              "      <td>139.994</td>\n",
              "      <td>220454</td>\n",
              "    </tr>\n",
              "    <tr>\n",
              "      <th>1853</th>\n",
              "      <td>0.581</td>\n",
              "      <td>0.624</td>\n",
              "      <td>9</td>\n",
              "      <td>-8.346</td>\n",
              "      <td>1</td>\n",
              "      <td>0.0777</td>\n",
              "      <td>0.09870</td>\n",
              "      <td>0.000000</td>\n",
              "      <td>0.0411</td>\n",
              "      <td>0.637</td>\n",
              "      <td>139.714</td>\n",
              "      <td>151293</td>\n",
              "    </tr>\n",
              "    <tr>\n",
              "      <th>1675</th>\n",
              "      <td>0.677</td>\n",
              "      <td>0.776</td>\n",
              "      <td>5</td>\n",
              "      <td>-5.933</td>\n",
              "      <td>1</td>\n",
              "      <td>0.0386</td>\n",
              "      <td>0.42000</td>\n",
              "      <td>0.000689</td>\n",
              "      <td>0.0954</td>\n",
              "      <td>0.642</td>\n",
              "      <td>121.834</td>\n",
              "      <td>192800</td>\n",
              "    </tr>\n",
              "    <tr>\n",
              "      <th>378</th>\n",
              "      <td>0.262</td>\n",
              "      <td>0.303</td>\n",
              "      <td>4</td>\n",
              "      <td>-16.203</td>\n",
              "      <td>0</td>\n",
              "      <td>0.0338</td>\n",
              "      <td>0.99300</td>\n",
              "      <td>0.917000</td>\n",
              "      <td>0.1040</td>\n",
              "      <td>0.412</td>\n",
              "      <td>157.796</td>\n",
              "      <td>113933</td>\n",
              "    </tr>\n",
              "  </tbody>\n",
              "</table>\n",
              "<p>8450 rows × 12 columns</p>\n",
              "</div>"
            ],
            "text/plain": [
              "      danceability  energy  key  ...  valence    tempo  duration_ms\n",
              "9083         0.646   0.770    2  ...    0.681   99.165       236133\n",
              "5907         0.793   0.676    4  ...    0.898   97.383       285640\n",
              "3115         0.515   0.587    4  ...    0.361  148.044       195667\n",
              "6116         0.836   0.916    1  ...    0.614   99.879       272706\n",
              "570          0.488   0.289    9  ...    0.785  113.594       174973\n",
              "...            ...     ...  ...  ...      ...      ...          ...\n",
              "1561         0.729   0.688    3  ...    0.671  123.867       219600\n",
              "9657         0.731   0.794    0  ...    0.356  139.994       220454\n",
              "1853         0.581   0.624    9  ...    0.637  139.714       151293\n",
              "1675         0.677   0.776    5  ...    0.642  121.834       192800\n",
              "378          0.262   0.303    4  ...    0.412  157.796       113933\n",
              "\n",
              "[8450 rows x 12 columns]"
            ]
          },
          "metadata": {
            "tags": []
          },
          "execution_count": 10
        }
      ]
    },
    {
      "cell_type": "code",
      "metadata": {
        "id": "DnTDs2EKx9TS",
        "colab_type": "code",
        "colab": {}
      },
      "source": [
        "X_scaler = MinMaxScaler().fit(X_train)\n",
        "X_train_scaled = X_scaler.transform(X_train)\n",
        "X_test_scaled = X_scaler.transform(X_test)"
      ],
      "execution_count": null,
      "outputs": []
    },
    {
      "cell_type": "code",
      "metadata": {
        "id": "5LwgbDnUx8uZ",
        "colab_type": "code",
        "colab": {}
      },
      "source": [
        "# Step 1: Label-encode data set\n",
        "label_encoder = LabelEncoder()\n",
        "label_encoder.fit(y_train)\n",
        "encoded_y_train = label_encoder.transform(y_train)\n",
        "encoded_y_test = label_encoder.transform(y_test)"
      ],
      "execution_count": null,
      "outputs": []
    },
    {
      "cell_type": "code",
      "metadata": {
        "id": "efwmIlNeyL07",
        "colab_type": "code",
        "colab": {}
      },
      "source": [
        "# Step 2: Convert encoded labels to one-hot-encoding\n",
        "y_train_categorical = to_categorical(encoded_y_train)\n",
        "y_test_categorical = to_categorical(encoded_y_test)"
      ],
      "execution_count": null,
      "outputs": []
    },
    {
      "cell_type": "code",
      "metadata": {
        "id": "UFs37xCMyL53",
        "colab_type": "code",
        "colab": {}
      },
      "source": [
        "from tensorflow.keras.models import Sequential\n",
        "from tensorflow.keras.layers import Dense"
      ],
      "execution_count": null,
      "outputs": []
    },
    {
      "cell_type": "code",
      "metadata": {
        "id": "n1diB67pyLxn",
        "colab_type": "code",
        "colab": {}
      },
      "source": [
        "# Create model and add layers\n",
        "model = Sequential()\n",
        "model.add(Dense(units=7, activation='relu', input_dim=12))\n",
        "# model.add(Dense(units=7, activation='sigmoid'))\n",
        "# model.add(Dense(units=7, activation='sigmoid'))\n",
        "# model.add(Dense(units=, activation='sigmoid'))\n",
        "model.add(Dense(units=7, activation='relu'))\n",
        "# model.add(Dense(units=7, activation='relu'))\n",
        "# model.add(Dense(units=7, activation='relu'))\n",
        "# model.add(Dense(units=7, activation='relu'))\n",
        "# model.add(Dense(units=7, activation='relu'))\n",
        "model.add(Dense(units=7, activation='softmax'))"
      ],
      "execution_count": null,
      "outputs": []
    },
    {
      "cell_type": "code",
      "metadata": {
        "id": "p3unpbV6ySa7",
        "colab_type": "code",
        "colab": {}
      },
      "source": [
        "# Compile and fit the model\n",
        "model.compile(optimizer='adam',\n",
        "              loss='categorical_crossentropy',\n",
        "              metrics=['accuracy'])"
      ],
      "execution_count": null,
      "outputs": []
    },
    {
      "cell_type": "code",
      "metadata": {
        "id": "l5oXr3TIyVFf",
        "colab_type": "code",
        "colab": {
          "base_uri": "https://localhost:8080/",
          "height": 374
        },
        "outputId": "6175b5a2-bfcc-421e-ff57-43451a1855a2"
      },
      "source": [
        "model.fit(\n",
        "    X_train_scaled,\n",
        "    y_train_categorical,\n",
        "    epochs=10,\n",
        "    shuffle=True,\n",
        "    verbose=2\n",
        ")"
      ],
      "execution_count": null,
      "outputs": [
        {
          "output_type": "stream",
          "text": [
            "Epoch 1/10\n",
            "265/265 - 0s - loss: 1.1173 - accuracy: 0.5746\n",
            "Epoch 2/10\n",
            "265/265 - 0s - loss: 1.1167 - accuracy: 0.5751\n",
            "Epoch 3/10\n",
            "265/265 - 0s - loss: 1.1159 - accuracy: 0.5709\n",
            "Epoch 4/10\n",
            "265/265 - 0s - loss: 1.1161 - accuracy: 0.5735\n",
            "Epoch 5/10\n",
            "265/265 - 0s - loss: 1.1171 - accuracy: 0.5742\n",
            "Epoch 6/10\n",
            "265/265 - 0s - loss: 1.1157 - accuracy: 0.5733\n",
            "Epoch 7/10\n",
            "265/265 - 0s - loss: 1.1160 - accuracy: 0.5750\n",
            "Epoch 8/10\n",
            "265/265 - 0s - loss: 1.1165 - accuracy: 0.5730\n",
            "Epoch 9/10\n",
            "265/265 - 0s - loss: 1.1149 - accuracy: 0.5759\n",
            "Epoch 10/10\n",
            "265/265 - 0s - loss: 1.1143 - accuracy: 0.5724\n"
          ],
          "name": "stdout"
        },
        {
          "output_type": "execute_result",
          "data": {
            "text/plain": [
              "<tensorflow.python.keras.callbacks.History at 0x7f5897ee7588>"
            ]
          },
          "metadata": {
            "tags": []
          },
          "execution_count": 150
        }
      ]
    },
    {
      "cell_type": "code",
      "metadata": {
        "id": "V9KSU-5WyZpf",
        "colab_type": "code",
        "colab": {
          "base_uri": "https://localhost:8080/",
          "height": 51
        },
        "outputId": "8445c489-fd19-4e7f-9aa0-7c0d0ed5a7c5"
      },
      "source": [
        "model_loss, model_accuracy = model.evaluate(\n",
        "    X_test_scaled, y_test_categorical, verbose=2)\n",
        "print(\n",
        "    f\"Normal Neural Network - Loss: {model_loss}, Accuracy: {model_accuracy}\")"
      ],
      "execution_count": null,
      "outputs": [
        {
          "output_type": "stream",
          "text": [
            "89/89 - 0s - loss: 1.1216 - accuracy: 0.5694\n",
            "Normal Neural Network - Loss: 1.1215656995773315, Accuracy: 0.5694000720977783\n"
          ],
          "name": "stdout"
        }
      ]
    },
    {
      "cell_type": "code",
      "metadata": {
        "id": "7oc05bYy2ZS8",
        "colab_type": "code",
        "colab": {}
      },
      "source": [
        "encoded_predictions = model.predict_classes(X_test_scaled[:5])\n",
        "prediction_labels = label_encoder.inverse_transform(encoded_predictions)"
      ],
      "execution_count": null,
      "outputs": []
    },
    {
      "cell_type": "code",
      "metadata": {
        "id": "6rz_Nkv8_9ez",
        "colab_type": "code",
        "colab": {
          "base_uri": "https://localhost:8080/",
          "height": 51
        },
        "outputId": "0cb3478f-97be-456a-bb26-7073c333dd91"
      },
      "source": [
        "print(f\"Predicted classes: {prediction_labels}\")\n",
        "print(f\"Actual Labels: {list(y_test[:5])}\")"
      ],
      "execution_count": null,
      "outputs": [
        {
          "output_type": "stream",
          "text": [
            "Predicted classes: ['hip hop' 'country' 'country' 'country' 'folk']\n",
            "Actual Labels: ['hip hop', 'country', 'country', 'pop', 'jazz']\n"
          ],
          "name": "stdout"
        }
      ]
    },
    {
      "cell_type": "code",
      "metadata": {
        "id": "asSyj52MdND-",
        "colab_type": "code",
        "colab": {}
      },
      "source": [
        ""
      ],
      "execution_count": null,
      "outputs": []
    },
    {
      "cell_type": "code",
      "metadata": {
        "id": "FW8rTySHdNZJ",
        "colab_type": "code",
        "colab": {}
      },
      "source": [
        ""
      ],
      "execution_count": null,
      "outputs": []
    },
    {
      "cell_type": "code",
      "metadata": {
        "id": "tL95p8ScdNLP",
        "colab_type": "code",
        "colab": {}
      },
      "source": [
        ""
      ],
      "execution_count": null,
      "outputs": []
    },
    {
      "cell_type": "code",
      "metadata": {
        "id": "M6OBYPsYdMzf",
        "colab_type": "code",
        "colab": {}
      },
      "source": [
        ""
      ],
      "execution_count": null,
      "outputs": []
    },
    {
      "cell_type": "code",
      "metadata": {
        "id": "aTKNNDiRdOit",
        "colab_type": "code",
        "colab": {}
      },
      "source": [
        ""
      ],
      "execution_count": null,
      "outputs": []
    },
    {
      "cell_type": "code",
      "metadata": {
        "id": "fZ1icdd1AIbI",
        "colab_type": "code",
        "colab": {}
      },
      "source": [
        "model.save(\"audio_features_model.h5\")"
      ],
      "execution_count": null,
      "outputs": []
    },
    {
      "cell_type": "code",
      "metadata": {
        "id": "MIxu40MuAIQO",
        "colab_type": "code",
        "colab": {}
      },
      "source": [
        "from tensorflow.keras.models import load_model\n",
        "model = load_model(\"audio_features_model.h5\")"
      ],
      "execution_count": null,
      "outputs": []
    },
    {
      "cell_type": "markdown",
      "metadata": {
        "id": "GjngLz821shw",
        "colab_type": "text"
      },
      "source": [
        "## Now trying with logistic regression"
      ]
    },
    {
      "cell_type": "code",
      "metadata": {
        "id": "DOCxSUCh1upX",
        "colab_type": "code",
        "colab": {}
      },
      "source": [
        "%matplotlib inline\n",
        "import matplotlib.pyplot as plt\n",
        "import pandas as pd\n",
        "import os"
      ],
      "execution_count": null,
      "outputs": []
    },
    {
      "cell_type": "code",
      "metadata": {
        "id": "0jbDUHAi12Fx",
        "colab_type": "code",
        "colab": {
          "base_uri": "https://localhost:8080/",
          "height": 34
        },
        "outputId": "142509ae-90c8-4a0b-cc16-3a6508d2fc33"
      },
      "source": [
        "# Assign X (data) and y (target)\n",
        "X = ML_df.drop(\"genre_name\", axis=1)\n",
        "y = ML_df[\"genre_name\"]\n",
        "print(X.shape, y.shape)"
      ],
      "execution_count": null,
      "outputs": [
        {
          "output_type": "stream",
          "text": [
            "(11267, 12) (11267,)\n"
          ],
          "name": "stdout"
        }
      ]
    },
    {
      "cell_type": "code",
      "metadata": {
        "id": "R2rn7Dha2L5e",
        "colab_type": "code",
        "colab": {}
      },
      "source": [
        "from sklearn.model_selection import train_test_split\n",
        "X_train, X_test, y_train, y_test = train_test_split(X, y, stratify=y)"
      ],
      "execution_count": null,
      "outputs": []
    },
    {
      "cell_type": "code",
      "metadata": {
        "id": "6s5LJjS_2TPH",
        "colab_type": "code",
        "colab": {
          "base_uri": "https://localhost:8080/",
          "height": 102
        },
        "outputId": "c958fd78-5429-4ec9-cf54-ba1bfc50cd6b"
      },
      "source": [
        "from sklearn.linear_model import LogisticRegression\n",
        "classifier = LogisticRegression()\n",
        "classifier"
      ],
      "execution_count": null,
      "outputs": [
        {
          "output_type": "execute_result",
          "data": {
            "text/plain": [
              "LogisticRegression(C=1.0, class_weight=None, dual=False, fit_intercept=True,\n",
              "                   intercept_scaling=1, l1_ratio=None, max_iter=100,\n",
              "                   multi_class='auto', n_jobs=None, penalty='l2',\n",
              "                   random_state=None, solver='lbfgs', tol=0.0001, verbose=0,\n",
              "                   warm_start=False)"
            ]
          },
          "metadata": {
            "tags": []
          },
          "execution_count": 168
        }
      ]
    },
    {
      "cell_type": "code",
      "metadata": {
        "id": "SLKtgu322cUk",
        "colab_type": "code",
        "colab": {
          "base_uri": "https://localhost:8080/",
          "height": 102
        },
        "outputId": "15397ae9-0a72-4bd4-b346-201c41b4abe7"
      },
      "source": [
        "classifier.fit(X_train, y_train)"
      ],
      "execution_count": null,
      "outputs": [
        {
          "output_type": "execute_result",
          "data": {
            "text/plain": [
              "LogisticRegression(C=1.0, class_weight=None, dual=False, fit_intercept=True,\n",
              "                   intercept_scaling=1, l1_ratio=None, max_iter=100,\n",
              "                   multi_class='auto', n_jobs=None, penalty='l2',\n",
              "                   random_state=None, solver='lbfgs', tol=0.0001, verbose=0,\n",
              "                   warm_start=False)"
            ]
          },
          "metadata": {
            "tags": []
          },
          "execution_count": 169
        }
      ]
    },
    {
      "cell_type": "code",
      "metadata": {
        "id": "gYkR_y7J2cCV",
        "colab_type": "code",
        "colab": {
          "base_uri": "https://localhost:8080/",
          "height": 51
        },
        "outputId": "faaebd73-518f-4eb2-9e00-d4ea1d504852"
      },
      "source": [
        "print(f\"Training Data Score: {classifier.score(X_train, y_train)}\")\n",
        "print(f\"Testing Data Score: {classifier.score(X_test, y_test)}\")"
      ],
      "execution_count": null,
      "outputs": [
        {
          "output_type": "stream",
          "text": [
            "Training Data Score: 0.21597633136094674\n",
            "Testing Data Score: 0.21902733404330849\n"
          ],
          "name": "stdout"
        }
      ]
    },
    {
      "cell_type": "code",
      "metadata": {
        "id": "A_pwYpPV2ub6",
        "colab_type": "code",
        "colab": {
          "base_uri": "https://localhost:8080/",
          "height": 68
        },
        "outputId": "e214a8b6-96a6-41e1-f9aa-e20a980df258"
      },
      "source": [
        "predictions = classifier.predict(X_test)\n",
        "print(f\"First 10 Predictions:   {predictions[:10]}\")\n",
        "print(f\"First 10 Actual labels: {y_test[:10].tolist()}\")"
      ],
      "execution_count": null,
      "outputs": [
        {
          "output_type": "stream",
          "text": [
            "First 10 Predictions:   ['country' 'jazz' 'jazz' 'country' 'jazz' 'jazz' 'country' 'country'\n",
            " 'country' 'jazz']\n",
            "First 10 Actual labels: ['country', 'jazz', 'jazz', 'pop', 'jazz', 'country', 'classical', 'folk', 'rock', 'jazz']\n"
          ],
          "name": "stdout"
        }
      ]
    },
    {
      "cell_type": "code",
      "metadata": {
        "id": "cXyAslvi27Jr",
        "colab_type": "code",
        "colab": {
          "base_uri": "https://localhost:8080/",
          "height": 419
        },
        "outputId": "c954feba-5fc7-4ac2-b316-0bfd87112b5d"
      },
      "source": [
        "pd.DataFrame({\"Prediction\": predictions, \"Actual\": y_test}).reset_index(drop=True)"
      ],
      "execution_count": null,
      "outputs": [
        {
          "output_type": "execute_result",
          "data": {
            "text/html": [
              "<div>\n",
              "<style scoped>\n",
              "    .dataframe tbody tr th:only-of-type {\n",
              "        vertical-align: middle;\n",
              "    }\n",
              "\n",
              "    .dataframe tbody tr th {\n",
              "        vertical-align: top;\n",
              "    }\n",
              "\n",
              "    .dataframe thead th {\n",
              "        text-align: right;\n",
              "    }\n",
              "</style>\n",
              "<table border=\"1\" class=\"dataframe\">\n",
              "  <thead>\n",
              "    <tr style=\"text-align: right;\">\n",
              "      <th></th>\n",
              "      <th>Prediction</th>\n",
              "      <th>Actual</th>\n",
              "    </tr>\n",
              "  </thead>\n",
              "  <tbody>\n",
              "    <tr>\n",
              "      <th>0</th>\n",
              "      <td>country</td>\n",
              "      <td>country</td>\n",
              "    </tr>\n",
              "    <tr>\n",
              "      <th>1</th>\n",
              "      <td>jazz</td>\n",
              "      <td>jazz</td>\n",
              "    </tr>\n",
              "    <tr>\n",
              "      <th>2</th>\n",
              "      <td>jazz</td>\n",
              "      <td>jazz</td>\n",
              "    </tr>\n",
              "    <tr>\n",
              "      <th>3</th>\n",
              "      <td>country</td>\n",
              "      <td>pop</td>\n",
              "    </tr>\n",
              "    <tr>\n",
              "      <th>4</th>\n",
              "      <td>jazz</td>\n",
              "      <td>jazz</td>\n",
              "    </tr>\n",
              "    <tr>\n",
              "      <th>...</th>\n",
              "      <td>...</td>\n",
              "      <td>...</td>\n",
              "    </tr>\n",
              "    <tr>\n",
              "      <th>2812</th>\n",
              "      <td>jazz</td>\n",
              "      <td>hip hop</td>\n",
              "    </tr>\n",
              "    <tr>\n",
              "      <th>2813</th>\n",
              "      <td>jazz</td>\n",
              "      <td>jazz</td>\n",
              "    </tr>\n",
              "    <tr>\n",
              "      <th>2814</th>\n",
              "      <td>country</td>\n",
              "      <td>hip hop</td>\n",
              "    </tr>\n",
              "    <tr>\n",
              "      <th>2815</th>\n",
              "      <td>jazz</td>\n",
              "      <td>jazz</td>\n",
              "    </tr>\n",
              "    <tr>\n",
              "      <th>2816</th>\n",
              "      <td>jazz</td>\n",
              "      <td>pop</td>\n",
              "    </tr>\n",
              "  </tbody>\n",
              "</table>\n",
              "<p>2817 rows × 2 columns</p>\n",
              "</div>"
            ],
            "text/plain": [
              "     Prediction   Actual\n",
              "0       country  country\n",
              "1          jazz     jazz\n",
              "2          jazz     jazz\n",
              "3       country      pop\n",
              "4          jazz     jazz\n",
              "...         ...      ...\n",
              "2812       jazz  hip hop\n",
              "2813       jazz     jazz\n",
              "2814    country  hip hop\n",
              "2815       jazz     jazz\n",
              "2816       jazz      pop\n",
              "\n",
              "[2817 rows x 2 columns]"
            ]
          },
          "metadata": {
            "tags": []
          },
          "execution_count": 172
        }
      ]
    },
    {
      "cell_type": "markdown",
      "metadata": {
        "id": "y7J0z_kO0sw7",
        "colab_type": "text"
      },
      "source": [
        "## Now trying with multiple linear models"
      ]
    },
    {
      "cell_type": "code",
      "metadata": {
        "id": "tS5IhwXh0y2h",
        "colab_type": "code",
        "colab": {
          "base_uri": "https://localhost:8080/",
          "height": 241
        },
        "outputId": "31b99267-5eed-48fc-c703-4472514176e9"
      },
      "source": [
        "# Use Pandas get_dummies to convert categorical data\n",
        "\n",
        "### BEGIN SOLUTION\n",
        "ML_df = pd.get_dummies(ML_df)\n",
        "ML_df.head()\n",
        "### END SOLUTION"
      ],
      "execution_count": null,
      "outputs": [
        {
          "output_type": "execute_result",
          "data": {
            "text/html": [
              "<div>\n",
              "<style scoped>\n",
              "    .dataframe tbody tr th:only-of-type {\n",
              "        vertical-align: middle;\n",
              "    }\n",
              "\n",
              "    .dataframe tbody tr th {\n",
              "        vertical-align: top;\n",
              "    }\n",
              "\n",
              "    .dataframe thead th {\n",
              "        text-align: right;\n",
              "    }\n",
              "</style>\n",
              "<table border=\"1\" class=\"dataframe\">\n",
              "  <thead>\n",
              "    <tr style=\"text-align: right;\">\n",
              "      <th></th>\n",
              "      <th>danceability</th>\n",
              "      <th>energy</th>\n",
              "      <th>key</th>\n",
              "      <th>loudness</th>\n",
              "      <th>mode</th>\n",
              "      <th>speechiness</th>\n",
              "      <th>acousticness</th>\n",
              "      <th>instrumentalness</th>\n",
              "      <th>liveness</th>\n",
              "      <th>valence</th>\n",
              "      <th>tempo</th>\n",
              "      <th>duration_ms</th>\n",
              "      <th>genre_name_classical</th>\n",
              "      <th>genre_name_country</th>\n",
              "      <th>genre_name_folk</th>\n",
              "      <th>genre_name_hip hop</th>\n",
              "      <th>genre_name_jazz</th>\n",
              "      <th>genre_name_pop</th>\n",
              "      <th>genre_name_rock</th>\n",
              "    </tr>\n",
              "  </thead>\n",
              "  <tbody>\n",
              "    <tr>\n",
              "      <th>0</th>\n",
              "      <td>0.314</td>\n",
              "      <td>0.22000</td>\n",
              "      <td>9</td>\n",
              "      <td>-21.343</td>\n",
              "      <td>1</td>\n",
              "      <td>0.0514</td>\n",
              "      <td>0.98700</td>\n",
              "      <td>0.94300</td>\n",
              "      <td>0.0802</td>\n",
              "      <td>0.1160</td>\n",
              "      <td>145.277</td>\n",
              "      <td>188787</td>\n",
              "      <td>1</td>\n",
              "      <td>0</td>\n",
              "      <td>0</td>\n",
              "      <td>0</td>\n",
              "      <td>0</td>\n",
              "      <td>0</td>\n",
              "      <td>0</td>\n",
              "    </tr>\n",
              "    <tr>\n",
              "      <th>1</th>\n",
              "      <td>0.113</td>\n",
              "      <td>0.95100</td>\n",
              "      <td>0</td>\n",
              "      <td>-4.743</td>\n",
              "      <td>0</td>\n",
              "      <td>0.1290</td>\n",
              "      <td>0.00176</td>\n",
              "      <td>0.00718</td>\n",
              "      <td>0.3340</td>\n",
              "      <td>0.1390</td>\n",
              "      <td>200.024</td>\n",
              "      <td>441560</td>\n",
              "      <td>1</td>\n",
              "      <td>0</td>\n",
              "      <td>0</td>\n",
              "      <td>0</td>\n",
              "      <td>0</td>\n",
              "      <td>0</td>\n",
              "      <td>0</td>\n",
              "    </tr>\n",
              "    <tr>\n",
              "      <th>2</th>\n",
              "      <td>0.257</td>\n",
              "      <td>0.10900</td>\n",
              "      <td>7</td>\n",
              "      <td>-21.356</td>\n",
              "      <td>1</td>\n",
              "      <td>0.0597</td>\n",
              "      <td>0.90000</td>\n",
              "      <td>0.86700</td>\n",
              "      <td>0.0762</td>\n",
              "      <td>0.3070</td>\n",
              "      <td>75.020</td>\n",
              "      <td>151480</td>\n",
              "      <td>1</td>\n",
              "      <td>0</td>\n",
              "      <td>0</td>\n",
              "      <td>0</td>\n",
              "      <td>0</td>\n",
              "      <td>0</td>\n",
              "      <td>0</td>\n",
              "    </tr>\n",
              "    <tr>\n",
              "      <th>3</th>\n",
              "      <td>0.169</td>\n",
              "      <td>0.01610</td>\n",
              "      <td>9</td>\n",
              "      <td>-31.034</td>\n",
              "      <td>0</td>\n",
              "      <td>0.0442</td>\n",
              "      <td>0.98600</td>\n",
              "      <td>0.86000</td>\n",
              "      <td>0.0805</td>\n",
              "      <td>0.0573</td>\n",
              "      <td>128.143</td>\n",
              "      <td>174267</td>\n",
              "      <td>1</td>\n",
              "      <td>0</td>\n",
              "      <td>0</td>\n",
              "      <td>0</td>\n",
              "      <td>0</td>\n",
              "      <td>0</td>\n",
              "      <td>0</td>\n",
              "    </tr>\n",
              "    <tr>\n",
              "      <th>4</th>\n",
              "      <td>0.184</td>\n",
              "      <td>0.00527</td>\n",
              "      <td>1</td>\n",
              "      <td>-37.264</td>\n",
              "      <td>0</td>\n",
              "      <td>0.0432</td>\n",
              "      <td>0.99500</td>\n",
              "      <td>0.88700</td>\n",
              "      <td>0.1730</td>\n",
              "      <td>0.1510</td>\n",
              "      <td>170.612</td>\n",
              "      <td>315427</td>\n",
              "      <td>1</td>\n",
              "      <td>0</td>\n",
              "      <td>0</td>\n",
              "      <td>0</td>\n",
              "      <td>0</td>\n",
              "      <td>0</td>\n",
              "      <td>0</td>\n",
              "    </tr>\n",
              "  </tbody>\n",
              "</table>\n",
              "</div>"
            ],
            "text/plain": [
              "   danceability   energy  key  ...  genre_name_jazz  genre_name_pop  genre_name_rock\n",
              "0         0.314  0.22000    9  ...                0               0                0\n",
              "1         0.113  0.95100    0  ...                0               0                0\n",
              "2         0.257  0.10900    7  ...                0               0                0\n",
              "3         0.169  0.01610    9  ...                0               0                0\n",
              "4         0.184  0.00527    1  ...                0               0                0\n",
              "\n",
              "[5 rows x 19 columns]"
            ]
          },
          "metadata": {
            "tags": []
          },
          "execution_count": 119
        }
      ]
    },
    {
      "cell_type": "code",
      "metadata": {
        "id": "HAPXDqco1PsI",
        "colab_type": "code",
        "colab": {
          "base_uri": "https://localhost:8080/",
          "height": 34
        },
        "outputId": "0ce13bdc-3722-43b8-89da-9402e7d76b48"
      },
      "source": [
        "X = ML_df[['danceability',\n",
        "                            'energy',\n",
        "                            'key',\n",
        "                            'loudness',\n",
        "                            'mode', \n",
        "                            'speechiness', \n",
        "                            'acousticness', \n",
        "                            'instrumentalness', \n",
        "                            'liveness', \n",
        "                            'valence', \n",
        "                            'tempo', \n",
        "                            'duration_ms']]\n",
        "y = y = ML_df['genre_name_rock'].values.reshape(-1, 1)\n",
        "print(X.shape, y.shape)"
      ],
      "execution_count": null,
      "outputs": [
        {
          "output_type": "stream",
          "text": [
            "(11267, 12) (11267, 1)\n"
          ],
          "name": "stdout"
        }
      ]
    },
    {
      "cell_type": "code",
      "metadata": {
        "id": "vC__0rJ-4r4V",
        "colab_type": "code",
        "colab": {
          "base_uri": "https://localhost:8080/",
          "height": 204
        },
        "outputId": "f531a46c-3e80-4e13-a2c5-feee2dbb0dcb"
      },
      "source": [
        "# Drop extra dummy columns\n",
        "\n",
        "# ['genre_name_classical',\n",
        "#  'genre_name_country',\n",
        "#  'genre_name_folk', \n",
        "#  'genre_name_hip hop', \n",
        "#  'genre_name_jazz', \n",
        "#  'genre_name_pop', \n",
        "#  'genre_name_rock']\n",
        "\n",
        "### BEGIN SOLUTION\n",
        "ML_df = ML_df.drop(columns=['genre_name_classical',\n",
        "                            'genre_name_country', \n",
        "                            'genre_name_folk', \n",
        "                            'genre_name_hip hop', \n",
        "                            'genre_name_jazz', \n",
        "                            'genre_name_pop'])\n",
        "ML_df.head()\n",
        "### END SOLUTION"
      ],
      "execution_count": null,
      "outputs": [
        {
          "output_type": "execute_result",
          "data": {
            "text/html": [
              "<div>\n",
              "<style scoped>\n",
              "    .dataframe tbody tr th:only-of-type {\n",
              "        vertical-align: middle;\n",
              "    }\n",
              "\n",
              "    .dataframe tbody tr th {\n",
              "        vertical-align: top;\n",
              "    }\n",
              "\n",
              "    .dataframe thead th {\n",
              "        text-align: right;\n",
              "    }\n",
              "</style>\n",
              "<table border=\"1\" class=\"dataframe\">\n",
              "  <thead>\n",
              "    <tr style=\"text-align: right;\">\n",
              "      <th></th>\n",
              "      <th>danceability</th>\n",
              "      <th>energy</th>\n",
              "      <th>key</th>\n",
              "      <th>loudness</th>\n",
              "      <th>mode</th>\n",
              "      <th>speechiness</th>\n",
              "      <th>acousticness</th>\n",
              "      <th>instrumentalness</th>\n",
              "      <th>liveness</th>\n",
              "      <th>valence</th>\n",
              "      <th>tempo</th>\n",
              "      <th>duration_ms</th>\n",
              "      <th>genre_name_rock</th>\n",
              "    </tr>\n",
              "  </thead>\n",
              "  <tbody>\n",
              "    <tr>\n",
              "      <th>0</th>\n",
              "      <td>0.314</td>\n",
              "      <td>0.22000</td>\n",
              "      <td>9</td>\n",
              "      <td>-21.343</td>\n",
              "      <td>1</td>\n",
              "      <td>0.0514</td>\n",
              "      <td>0.98700</td>\n",
              "      <td>0.94300</td>\n",
              "      <td>0.0802</td>\n",
              "      <td>0.1160</td>\n",
              "      <td>145.277</td>\n",
              "      <td>188787</td>\n",
              "      <td>0</td>\n",
              "    </tr>\n",
              "    <tr>\n",
              "      <th>1</th>\n",
              "      <td>0.113</td>\n",
              "      <td>0.95100</td>\n",
              "      <td>0</td>\n",
              "      <td>-4.743</td>\n",
              "      <td>0</td>\n",
              "      <td>0.1290</td>\n",
              "      <td>0.00176</td>\n",
              "      <td>0.00718</td>\n",
              "      <td>0.3340</td>\n",
              "      <td>0.1390</td>\n",
              "      <td>200.024</td>\n",
              "      <td>441560</td>\n",
              "      <td>0</td>\n",
              "    </tr>\n",
              "    <tr>\n",
              "      <th>2</th>\n",
              "      <td>0.257</td>\n",
              "      <td>0.10900</td>\n",
              "      <td>7</td>\n",
              "      <td>-21.356</td>\n",
              "      <td>1</td>\n",
              "      <td>0.0597</td>\n",
              "      <td>0.90000</td>\n",
              "      <td>0.86700</td>\n",
              "      <td>0.0762</td>\n",
              "      <td>0.3070</td>\n",
              "      <td>75.020</td>\n",
              "      <td>151480</td>\n",
              "      <td>0</td>\n",
              "    </tr>\n",
              "    <tr>\n",
              "      <th>3</th>\n",
              "      <td>0.169</td>\n",
              "      <td>0.01610</td>\n",
              "      <td>9</td>\n",
              "      <td>-31.034</td>\n",
              "      <td>0</td>\n",
              "      <td>0.0442</td>\n",
              "      <td>0.98600</td>\n",
              "      <td>0.86000</td>\n",
              "      <td>0.0805</td>\n",
              "      <td>0.0573</td>\n",
              "      <td>128.143</td>\n",
              "      <td>174267</td>\n",
              "      <td>0</td>\n",
              "    </tr>\n",
              "    <tr>\n",
              "      <th>4</th>\n",
              "      <td>0.184</td>\n",
              "      <td>0.00527</td>\n",
              "      <td>1</td>\n",
              "      <td>-37.264</td>\n",
              "      <td>0</td>\n",
              "      <td>0.0432</td>\n",
              "      <td>0.99500</td>\n",
              "      <td>0.88700</td>\n",
              "      <td>0.1730</td>\n",
              "      <td>0.1510</td>\n",
              "      <td>170.612</td>\n",
              "      <td>315427</td>\n",
              "      <td>0</td>\n",
              "    </tr>\n",
              "  </tbody>\n",
              "</table>\n",
              "</div>"
            ],
            "text/plain": [
              "   danceability   energy  key  ...    tempo  duration_ms  genre_name_rock\n",
              "0         0.314  0.22000    9  ...  145.277       188787                0\n",
              "1         0.113  0.95100    0  ...  200.024       441560                0\n",
              "2         0.257  0.10900    7  ...   75.020       151480                0\n",
              "3         0.169  0.01610    9  ...  128.143       174267                0\n",
              "4         0.184  0.00527    1  ...  170.612       315427                0\n",
              "\n",
              "[5 rows x 13 columns]"
            ]
          },
          "metadata": {
            "tags": []
          },
          "execution_count": 121
        }
      ]
    },
    {
      "cell_type": "code",
      "metadata": {
        "id": "QdRw80Fd1P7a",
        "colab_type": "code",
        "colab": {}
      },
      "source": [
        "# Split the data into training and testing\n",
        "\n",
        "### BEGIN SOLUTION\n",
        "from sklearn.model_selection import train_test_split\n",
        "\n",
        "X_train, X_test, y_train, y_test = train_test_split(X, y, random_state=42)\n",
        "### END SOLUTION"
      ],
      "execution_count": null,
      "outputs": []
    },
    {
      "cell_type": "code",
      "metadata": {
        "id": "IAGlTr4_1QBS",
        "colab_type": "code",
        "colab": {}
      },
      "source": [
        "from sklearn.preprocessing import StandardScaler\n",
        "\n",
        "# Create a StandardScater model and fit it to the training data\n",
        "\n",
        "### BEGIN SOLUTION\n",
        "X_scaler = StandardScaler().fit(X_train)\n",
        "y_scaler = StandardScaler().fit(y_train)\n",
        "### END SOLUTION"
      ],
      "execution_count": null,
      "outputs": []
    },
    {
      "cell_type": "code",
      "metadata": {
        "id": "IypWee3l1P-h",
        "colab_type": "code",
        "colab": {}
      },
      "source": [
        "# Transform the training and testing data using the X_scaler and y_scaler models\n",
        "\n",
        "### BEGIN SOLUTION\n",
        "X_train_scaled = X_scaler.transform(X_train)\n",
        "X_test_scaled = X_scaler.transform(X_test)\n",
        "y_train_scaled = y_scaler.transform(y_train)\n",
        "y_test_scaled = y_scaler.transform(y_test)\n",
        "### END SOLUTION"
      ],
      "execution_count": null,
      "outputs": []
    },
    {
      "cell_type": "code",
      "metadata": {
        "id": "jmBWDI_I1Pyu",
        "colab_type": "code",
        "colab": {
          "base_uri": "https://localhost:8080/",
          "height": 34
        },
        "outputId": "c5d7ccd7-7a36-456f-9075-ed62b0281ec3"
      },
      "source": [
        "# Create a LinearRegression model and fit it to the scaled training data\n",
        "\n",
        "### BEGIN SOLUTION\n",
        "from sklearn.linear_model import LinearRegression\n",
        "model = LinearRegression()\n",
        "model.fit(X_train_scaled, y_train_scaled)\n",
        "### END SOLUTION"
      ],
      "execution_count": null,
      "outputs": [
        {
          "output_type": "execute_result",
          "data": {
            "text/plain": [
              "LinearRegression(copy_X=True, fit_intercept=True, n_jobs=None, normalize=False)"
            ]
          },
          "metadata": {
            "tags": []
          },
          "execution_count": 125
        }
      ]
    },
    {
      "cell_type": "code",
      "metadata": {
        "id": "uJHZepqU1Ph8",
        "colab_type": "code",
        "colab": {
          "base_uri": "https://localhost:8080/",
          "height": 281
        },
        "outputId": "343dc486-dda2-4247-f362-4c2298ccf8fc"
      },
      "source": [
        "# Make predictions using a fitted model\n",
        "# Plot the difference between the model predicted values and actual y values, versus the model predicted values\n",
        "# Hint: You can predict values of X training and testing data using the model.predict() method on a fitted model\n",
        "\n",
        "### BEGIN SOLUTION\n",
        "predictions = model.predict(X_test_scaled)\n",
        "model.fit(X_train_scaled, y_train_scaled)\n",
        "plt.scatter(model.predict(X_train_scaled), model.predict(X_train_scaled) - y_train_scaled, c=\"blue\", label=\"Training Data\")\n",
        "plt.scatter(model.predict(X_test_scaled), model.predict(X_test_scaled) - y_test_scaled, c=\"orange\", label=\"Testing Data\")\n",
        "plt.legend()\n",
        "plt.hlines(y=0, xmin=y_test_scaled.min(), xmax=y_test_scaled.max())\n",
        "plt.title(\"Residual Plot\")\n",
        "plt.show()\n",
        "### END SOLUTION"
      ],
      "execution_count": null,
      "outputs": [
        {
          "output_type": "display_data",
          "data": {
            "image/png": "[encoded data removed]",
            "text/plain": [
              "<Figure size 432x288 with 1 Axes>"
            ]
          },
          "metadata": {
            "tags": [],
            "needs_background": "light"
          }
        }
      ]
    },
    {
      "cell_type": "code",
      "metadata": {
        "id": "nvneLgai4VQS",
        "colab_type": "code",
        "colab": {
          "base_uri": "https://localhost:8080/",
          "height": 34
        },
        "outputId": "6cbccad1-e865-4583-9346-689846eb4939"
      },
      "source": [
        "# Used X_test_scaled, y_test_scaled, and model.predict(X_test_scaled) to calculate MSE and R2\n",
        "\n",
        "### BEGIN SOLUTION\n",
        "from sklearn.metrics import mean_squared_error\n",
        "\n",
        "MSE = mean_squared_error(y_test_scaled, predictions)\n",
        "r2 = model.score(X_test_scaled, y_test_scaled)\n",
        "### END SOLUTION\n",
        "\n",
        "print(f\"MSE: {MSE}, R2: {r2}\")\n"
      ],
      "execution_count": null,
      "outputs": [
        {
          "output_type": "stream",
          "text": [
            "MSE: 0.8582189479975649, R2: 0.10189393737605335\n"
          ],
          "name": "stdout"
        }
      ]
    },
    {
      "cell_type": "code",
      "metadata": {
        "id": "aO_x6lSt4YNl",
        "colab_type": "code",
        "colab": {
          "base_uri": "https://localhost:8080/",
          "height": 34
        },
        "outputId": "63493f61-58ef-4b80-c653-a4f0cbf4aab1"
      },
      "source": [
        "# LASSO model\n",
        "# Note: Use an alpha of .01 when creating the model for this activity\n",
        "from sklearn.linear_model import Lasso\n",
        "\n",
        "### BEGIN SOLUTION\n",
        "lasso = Lasso(alpha=.01).fit(X_train_scaled, y_train_scaled)\n",
        "\n",
        "predictions = lasso.predict(X_test_scaled)\n",
        "\n",
        "MSE = mean_squared_error(y_test_scaled, predictions)\n",
        "r2 = lasso.score(X_test_scaled, y_test_scaled)\n",
        "### END SOLUTION\n",
        "\n",
        "print(f\"MSE: {MSE}, R2: {r2}\")"
      ],
      "execution_count": null,
      "outputs": [
        {
          "output_type": "stream",
          "text": [
            "MSE: 0.8592679449771139, R2: 0.10106519149971394\n"
          ],
          "name": "stdout"
        }
      ]
    },
    {
      "cell_type": "code",
      "metadata": {
        "id": "GJU66sbi4c9T",
        "colab_type": "code",
        "colab": {
          "base_uri": "https://localhost:8080/",
          "height": 34
        },
        "outputId": "e57a378a-8df2-4668-9b95-bf3c853c245f"
      },
      "source": [
        "# Ridge model\n",
        "# Note: Use an alpha of .01 when creating the model for this activity\n",
        "from sklearn.linear_model import Ridge\n",
        "\n",
        "### BEGIN SOLUTION\n",
        "ridge = Ridge(alpha=.01).fit(X_train_scaled, y_train_scaled)\n",
        "\n",
        "predictions = ridge.predict(X_test_scaled)\n",
        "\n",
        "MSE = mean_squared_error(y_test_scaled, predictions)\n",
        "r2 = ridge.score(X_test_scaled, y_test_scaled)\n",
        "### END SOLUTION\n",
        "\n",
        "print(f\"MSE: {MSE}, R2: {r2}\")"
      ],
      "execution_count": null,
      "outputs": [
        {
          "output_type": "stream",
          "text": [
            "MSE: 0.8584757590791389, R2: 0.10189394751540791\n"
          ],
          "name": "stdout"
        }
      ]
    },
    {
      "cell_type": "code",
      "metadata": {
        "id": "VLjeX1pk4gU-",
        "colab_type": "code",
        "colab": {
          "base_uri": "https://localhost:8080/",
          "height": 34
        },
        "outputId": "04400048-388c-4f55-b188-0ec1d99ef3aa"
      },
      "source": [
        "# ElasticNet model\n",
        "# Note: Use an alpha of .01 when creating the model for this activity\n",
        "from sklearn.linear_model import ElasticNet\n",
        "\n",
        "### BEGIN SOLUTION\n",
        "elasticnet = ElasticNet(alpha=.01).fit(X_train_scaled, y_train_scaled)\n",
        "\n",
        "predictions = elasticnet.predict(X_test_scaled)\n",
        "\n",
        "MSE = mean_squared_error(y_test_scaled, predictions)\n",
        "r2 = elasticnet.score(X_test_scaled, y_test_scaled)\n",
        "### END SOLUTION\n",
        "\n",
        "print(f\"MSE: {MSE}, R2: {r2}\")"
      ],
      "execution_count": null,
      "outputs": [
        {
          "output_type": "stream",
          "text": [
            "MSE: 0.8582189479975649, R2: 0.10216261390961578\n"
          ],
          "name": "stdout"
        }
      ]
    },
    {
      "cell_type": "markdown",
      "metadata": {
        "id": "QOSYpl0b-_OH",
        "colab_type": "text"
      },
      "source": [
        "## Now trying with SVM"
      ]
    },
    {
      "cell_type": "code",
      "metadata": {
        "id": "1XNrwZoY_C-E",
        "colab_type": "code",
        "colab": {}
      },
      "source": [
        "target = ML_df[\"genre_name\"]"
      ],
      "execution_count": null,
      "outputs": []
    },
    {
      "cell_type": "code",
      "metadata": {
        "id": "cmMhX2KWB_DO",
        "colab_type": "code",
        "colab": {
          "base_uri": "https://localhost:8080/",
          "height": 224
        },
        "outputId": "32c49319-0aa1-4b26-a64c-6819dd2f19ed"
      },
      "source": [
        "ML_df = ML_df.drop(\"genre_name\", axis=1)\n",
        "feature_names = ML_df.columns\n",
        "ML_df.head()"
      ],
      "execution_count": null,
      "outputs": [
        {
          "output_type": "execute_result",
          "data": {
            "text/html": [
              "<div>\n",
              "<style scoped>\n",
              "    .dataframe tbody tr th:only-of-type {\n",
              "        vertical-align: middle;\n",
              "    }\n",
              "\n",
              "    .dataframe tbody tr th {\n",
              "        vertical-align: top;\n",
              "    }\n",
              "\n",
              "    .dataframe thead th {\n",
              "        text-align: right;\n",
              "    }\n",
              "</style>\n",
              "<table border=\"1\" class=\"dataframe\">\n",
              "  <thead>\n",
              "    <tr style=\"text-align: right;\">\n",
              "      <th></th>\n",
              "      <th>danceability</th>\n",
              "      <th>energy</th>\n",
              "      <th>key</th>\n",
              "      <th>loudness</th>\n",
              "      <th>mode</th>\n",
              "      <th>speechiness</th>\n",
              "      <th>acousticness</th>\n",
              "      <th>instrumentalness</th>\n",
              "      <th>liveness</th>\n",
              "      <th>valence</th>\n",
              "      <th>tempo</th>\n",
              "      <th>duration_ms</th>\n",
              "    </tr>\n",
              "  </thead>\n",
              "  <tbody>\n",
              "    <tr>\n",
              "      <th>0</th>\n",
              "      <td>0.314</td>\n",
              "      <td>0.22000</td>\n",
              "      <td>9</td>\n",
              "      <td>-21.343</td>\n",
              "      <td>1</td>\n",
              "      <td>0.0514</td>\n",
              "      <td>0.98700</td>\n",
              "      <td>0.94300</td>\n",
              "      <td>0.0802</td>\n",
              "      <td>0.1160</td>\n",
              "      <td>145.277</td>\n",
              "      <td>188787</td>\n",
              "    </tr>\n",
              "    <tr>\n",
              "      <th>1</th>\n",
              "      <td>0.113</td>\n",
              "      <td>0.95100</td>\n",
              "      <td>0</td>\n",
              "      <td>-4.743</td>\n",
              "      <td>0</td>\n",
              "      <td>0.1290</td>\n",
              "      <td>0.00176</td>\n",
              "      <td>0.00718</td>\n",
              "      <td>0.3340</td>\n",
              "      <td>0.1390</td>\n",
              "      <td>200.024</td>\n",
              "      <td>441560</td>\n",
              "    </tr>\n",
              "    <tr>\n",
              "      <th>2</th>\n",
              "      <td>0.257</td>\n",
              "      <td>0.10900</td>\n",
              "      <td>7</td>\n",
              "      <td>-21.356</td>\n",
              "      <td>1</td>\n",
              "      <td>0.0597</td>\n",
              "      <td>0.90000</td>\n",
              "      <td>0.86700</td>\n",
              "      <td>0.0762</td>\n",
              "      <td>0.3070</td>\n",
              "      <td>75.020</td>\n",
              "      <td>151480</td>\n",
              "    </tr>\n",
              "    <tr>\n",
              "      <th>3</th>\n",
              "      <td>0.169</td>\n",
              "      <td>0.01610</td>\n",
              "      <td>9</td>\n",
              "      <td>-31.034</td>\n",
              "      <td>0</td>\n",
              "      <td>0.0442</td>\n",
              "      <td>0.98600</td>\n",
              "      <td>0.86000</td>\n",
              "      <td>0.0805</td>\n",
              "      <td>0.0573</td>\n",
              "      <td>128.143</td>\n",
              "      <td>174267</td>\n",
              "    </tr>\n",
              "    <tr>\n",
              "      <th>4</th>\n",
              "      <td>0.184</td>\n",
              "      <td>0.00527</td>\n",
              "      <td>1</td>\n",
              "      <td>-37.264</td>\n",
              "      <td>0</td>\n",
              "      <td>0.0432</td>\n",
              "      <td>0.99500</td>\n",
              "      <td>0.88700</td>\n",
              "      <td>0.1730</td>\n",
              "      <td>0.1510</td>\n",
              "      <td>170.612</td>\n",
              "      <td>315427</td>\n",
              "    </tr>\n",
              "  </tbody>\n",
              "</table>\n",
              "</div>"
            ],
            "text/plain": [
              "   danceability   energy  key  ...  valence    tempo  duration_ms\n",
              "0         0.314  0.22000    9  ...   0.1160  145.277       188787\n",
              "1         0.113  0.95100    0  ...   0.1390  200.024       441560\n",
              "2         0.257  0.10900    7  ...   0.3070   75.020       151480\n",
              "3         0.169  0.01610    9  ...   0.0573  128.143       174267\n",
              "4         0.184  0.00527    1  ...   0.1510  170.612       315427\n",
              "\n",
              "[5 rows x 12 columns]"
            ]
          },
          "metadata": {
            "tags": []
          },
          "execution_count": 138
        }
      ]
    },
    {
      "cell_type": "code",
      "metadata": {
        "id": "FhCBnFbSCGCR",
        "colab_type": "code",
        "colab": {}
      },
      "source": [
        "from sklearn.model_selection import train_test_split\n",
        "X_train, X_test, y_train, y_test = train_test_split(ML_df, target)"
      ],
      "execution_count": null,
      "outputs": []
    },
    {
      "cell_type": "code",
      "metadata": {
        "id": "e-bO_O9VQo_I",
        "colab_type": "code",
        "colab": {}
      },
      "source": [
        "# taking forever to run\n",
        "\n",
        "from sklearn.svm import SVC \n",
        "model = SVC(kernel='linear')\n",
        "model.fit(X_train, y_train)"
      ],
      "execution_count": null,
      "outputs": []
    },
    {
      "cell_type": "markdown",
      "metadata": {
        "id": "DsAcT9Z7QVLK",
        "colab_type": "text"
      },
      "source": [
        "## Now trying with KNN Regression Model"
      ]
    },
    {
      "cell_type": "code",
      "metadata": {
        "id": "7u5GkLldQZQp",
        "colab_type": "code",
        "colab": {
          "base_uri": "https://localhost:8080/",
          "height": 224
        },
        "outputId": "28a9c129-96b9-4457-9ad6-34849b4eb235"
      },
      "source": [
        "from sklearn.neighbors import KNeighborsRegressor\n",
        "y = ML_df[\"genre_name\"]\n",
        "X = ML_df.drop(\"genre_name\", axis=1)\n",
        "X.head()"
      ],
      "execution_count": null,
      "outputs": [
        {
          "output_type": "execute_result",
          "data": {
            "text/html": [
              "<div>\n",
              "<style scoped>\n",
              "    .dataframe tbody tr th:only-of-type {\n",
              "        vertical-align: middle;\n",
              "    }\n",
              "\n",
              "    .dataframe tbody tr th {\n",
              "        vertical-align: top;\n",
              "    }\n",
              "\n",
              "    .dataframe thead th {\n",
              "        text-align: right;\n",
              "    }\n",
              "</style>\n",
              "<table border=\"1\" class=\"dataframe\">\n",
              "  <thead>\n",
              "    <tr style=\"text-align: right;\">\n",
              "      <th></th>\n",
              "      <th>danceability</th>\n",
              "      <th>energy</th>\n",
              "      <th>key</th>\n",
              "      <th>loudness</th>\n",
              "      <th>mode</th>\n",
              "      <th>speechiness</th>\n",
              "      <th>acousticness</th>\n",
              "      <th>instrumentalness</th>\n",
              "      <th>liveness</th>\n",
              "      <th>valence</th>\n",
              "      <th>tempo</th>\n",
              "      <th>duration_ms</th>\n",
              "    </tr>\n",
              "  </thead>\n",
              "  <tbody>\n",
              "    <tr>\n",
              "      <th>0</th>\n",
              "      <td>0.314</td>\n",
              "      <td>0.22000</td>\n",
              "      <td>9</td>\n",
              "      <td>-21.343</td>\n",
              "      <td>1</td>\n",
              "      <td>0.0514</td>\n",
              "      <td>0.98700</td>\n",
              "      <td>0.94300</td>\n",
              "      <td>0.0802</td>\n",
              "      <td>0.1160</td>\n",
              "      <td>145.277</td>\n",
              "      <td>188787</td>\n",
              "    </tr>\n",
              "    <tr>\n",
              "      <th>1</th>\n",
              "      <td>0.113</td>\n",
              "      <td>0.95100</td>\n",
              "      <td>0</td>\n",
              "      <td>-4.743</td>\n",
              "      <td>0</td>\n",
              "      <td>0.1290</td>\n",
              "      <td>0.00176</td>\n",
              "      <td>0.00718</td>\n",
              "      <td>0.3340</td>\n",
              "      <td>0.1390</td>\n",
              "      <td>200.024</td>\n",
              "      <td>441560</td>\n",
              "    </tr>\n",
              "    <tr>\n",
              "      <th>2</th>\n",
              "      <td>0.257</td>\n",
              "      <td>0.10900</td>\n",
              "      <td>7</td>\n",
              "      <td>-21.356</td>\n",
              "      <td>1</td>\n",
              "      <td>0.0597</td>\n",
              "      <td>0.90000</td>\n",
              "      <td>0.86700</td>\n",
              "      <td>0.0762</td>\n",
              "      <td>0.3070</td>\n",
              "      <td>75.020</td>\n",
              "      <td>151480</td>\n",
              "    </tr>\n",
              "    <tr>\n",
              "      <th>3</th>\n",
              "      <td>0.169</td>\n",
              "      <td>0.01610</td>\n",
              "      <td>9</td>\n",
              "      <td>-31.034</td>\n",
              "      <td>0</td>\n",
              "      <td>0.0442</td>\n",
              "      <td>0.98600</td>\n",
              "      <td>0.86000</td>\n",
              "      <td>0.0805</td>\n",
              "      <td>0.0573</td>\n",
              "      <td>128.143</td>\n",
              "      <td>174267</td>\n",
              "    </tr>\n",
              "    <tr>\n",
              "      <th>4</th>\n",
              "      <td>0.184</td>\n",
              "      <td>0.00527</td>\n",
              "      <td>1</td>\n",
              "      <td>-37.264</td>\n",
              "      <td>0</td>\n",
              "      <td>0.0432</td>\n",
              "      <td>0.99500</td>\n",
              "      <td>0.88700</td>\n",
              "      <td>0.1730</td>\n",
              "      <td>0.1510</td>\n",
              "      <td>170.612</td>\n",
              "      <td>315427</td>\n",
              "    </tr>\n",
              "  </tbody>\n",
              "</table>\n",
              "</div>"
            ],
            "text/plain": [
              "   danceability   energy  key  ...  valence    tempo  duration_ms\n",
              "0         0.314  0.22000    9  ...   0.1160  145.277       188787\n",
              "1         0.113  0.95100    0  ...   0.1390  200.024       441560\n",
              "2         0.257  0.10900    7  ...   0.3070   75.020       151480\n",
              "3         0.169  0.01610    9  ...   0.0573  128.143       174267\n",
              "4         0.184  0.00527    1  ...   0.1510  170.612       315427\n",
              "\n",
              "[5 rows x 12 columns]"
            ]
          },
          "metadata": {
            "tags": []
          },
          "execution_count": 16
        }
      ]
    },
    {
      "cell_type": "code",
      "metadata": {
        "id": "xy6hFJYCr6X-",
        "colab_type": "code",
        "colab": {
          "base_uri": "https://localhost:8080/",
          "height": 68
        },
        "outputId": "5bb1e172-e6d1-432e-ad44-3966340077c5"
      },
      "source": [
        "from sklearn.model_selection import train_test_split\n",
        "# split the wave dataset into a training and a test set\n",
        "X_train, X_test, y_train, y_test = train_test_split(X, y)\n",
        "# instantiate the model and set the number of neighbors to consider to 3\n",
        "reg = KNeighborsRegressor(n_neighbors=3)\n",
        "# fit the model using the training data and training targets\n",
        "reg.fit(X_train, y_train)"
      ],
      "execution_count": null,
      "outputs": [
        {
          "output_type": "execute_result",
          "data": {
            "text/plain": [
              "KNeighborsRegressor(algorithm='auto', leaf_size=30, metric='minkowski',\n",
              "                    metric_params=None, n_jobs=None, n_neighbors=3, p=2,\n",
              "                    weights='uniform')"
            ]
          },
          "metadata": {
            "tags": []
          },
          "execution_count": 13
        }
      ]
    },
    {
      "cell_type": "code",
      "metadata": {
        "id": "ghNWznLwtO4u",
        "colab_type": "code",
        "colab": {
          "base_uri": "https://localhost:8080/",
          "height": 409
        },
        "outputId": "0744e17e-d94b-4594-ec3b-f0109b928e85"
      },
      "source": [
        "\n",
        "from sklearn.model_selection import train_test_split\n",
        "# split the wave dataset into a training and a test set\n",
        "X_train, X_test, y_train, y_test = train_test_split(X, y)\n",
        "\n",
        "train_scores = []\n",
        "test_scores = []\n",
        "for k in range(1, 20, 2):\n",
        "    knn = KNeighborsRegressor(n_neighbors=k)\n",
        "    knn.fit(X_train, y_train)\n",
        "    train_score = knn.score(X_train, y_train)\n",
        "    test_score = knn.score(X_test, y_test)\n",
        "    all_score = train_score + test_score\n",
        "    train_scores.append(train_score)\n",
        "    test_scores.append(test_score)\n",
        "    print(f\"k: {k}, Train/Test Score: {train_score:.3f}/{test_score:.3f}, {all_score:.3f}\")\n",
        "    \n",
        "plt.plot(range(1, 20, 2), train_scores, marker='o')\n",
        "plt.plot(range(1, 20, 2), test_scores, marker=\"x\")\n",
        "plt.xlabel(\"k neighbors\")\n",
        "plt.ylabel(\"Testing accuracy Score\")\n",
        "plt.show()"
      ],
      "execution_count": null,
      "outputs": [
        {
          "output_type": "error",
          "ename": "TypeError",
          "evalue": "ignored",
          "traceback": [
            "\u001b[0;31m---------------------------------------------------------------------------\u001b[0m",
            "\u001b[0;31mTypeError\u001b[0m                                 Traceback (most recent call last)",
            "\u001b[0;32m<ipython-input-17-d6acdce47814>\u001b[0m in \u001b[0;36m<module>\u001b[0;34m()\u001b[0m\n\u001b[1;32m      9\u001b[0m     \u001b[0mknn\u001b[0m \u001b[0;34m=\u001b[0m \u001b[0mKNeighborsRegressor\u001b[0m\u001b[0;34m(\u001b[0m\u001b[0mn_neighbors\u001b[0m\u001b[0;34m=\u001b[0m\u001b[0mk\u001b[0m\u001b[0;34m)\u001b[0m\u001b[0;34m\u001b[0m\u001b[0;34m\u001b[0m\u001b[0m\n\u001b[1;32m     10\u001b[0m     \u001b[0mknn\u001b[0m\u001b[0;34m.\u001b[0m\u001b[0mfit\u001b[0m\u001b[0;34m(\u001b[0m\u001b[0mX_train\u001b[0m\u001b[0;34m,\u001b[0m \u001b[0my_train\u001b[0m\u001b[0;34m)\u001b[0m\u001b[0;34m\u001b[0m\u001b[0;34m\u001b[0m\u001b[0m\n\u001b[0;32m---> 11\u001b[0;31m     \u001b[0mtrain_score\u001b[0m \u001b[0;34m=\u001b[0m \u001b[0mknn\u001b[0m\u001b[0;34m.\u001b[0m\u001b[0mscore\u001b[0m\u001b[0;34m(\u001b[0m\u001b[0mX_train\u001b[0m\u001b[0;34m,\u001b[0m \u001b[0my_train\u001b[0m\u001b[0;34m)\u001b[0m\u001b[0;34m\u001b[0m\u001b[0;34m\u001b[0m\u001b[0m\n\u001b[0m\u001b[1;32m     12\u001b[0m     \u001b[0mtest_score\u001b[0m \u001b[0;34m=\u001b[0m \u001b[0mknn\u001b[0m\u001b[0;34m.\u001b[0m\u001b[0mscore\u001b[0m\u001b[0;34m(\u001b[0m\u001b[0mX_test\u001b[0m\u001b[0;34m,\u001b[0m \u001b[0my_test\u001b[0m\u001b[0;34m)\u001b[0m\u001b[0;34m\u001b[0m\u001b[0;34m\u001b[0m\u001b[0m\n\u001b[1;32m     13\u001b[0m     \u001b[0mall_score\u001b[0m \u001b[0;34m=\u001b[0m \u001b[0mtrain_score\u001b[0m \u001b[0;34m+\u001b[0m \u001b[0mtest_score\u001b[0m\u001b[0;34m\u001b[0m\u001b[0;34m\u001b[0m\u001b[0m\n",
            "\u001b[0;32m/usr/local/lib/python3.6/dist-packages/sklearn/base.py\u001b[0m in \u001b[0;36mscore\u001b[0;34m(self, X, y, sample_weight)\u001b[0m\n\u001b[1;32m    420\u001b[0m         \u001b[0;32mfrom\u001b[0m \u001b[0;34m.\u001b[0m\u001b[0mmetrics\u001b[0m \u001b[0;32mimport\u001b[0m \u001b[0mr2_score\u001b[0m\u001b[0;34m\u001b[0m\u001b[0;34m\u001b[0m\u001b[0m\n\u001b[1;32m    421\u001b[0m         \u001b[0;32mfrom\u001b[0m \u001b[0;34m.\u001b[0m\u001b[0mmetrics\u001b[0m\u001b[0;34m.\u001b[0m\u001b[0m_regression\u001b[0m \u001b[0;32mimport\u001b[0m \u001b[0m_check_reg_targets\u001b[0m\u001b[0;34m\u001b[0m\u001b[0;34m\u001b[0m\u001b[0m\n\u001b[0;32m--> 422\u001b[0;31m         \u001b[0my_pred\u001b[0m \u001b[0;34m=\u001b[0m \u001b[0mself\u001b[0m\u001b[0;34m.\u001b[0m\u001b[0mpredict\u001b[0m\u001b[0;34m(\u001b[0m\u001b[0mX\u001b[0m\u001b[0;34m)\u001b[0m\u001b[0;34m\u001b[0m\u001b[0;34m\u001b[0m\u001b[0m\n\u001b[0m\u001b[1;32m    423\u001b[0m         \u001b[0;31m# XXX: Remove the check in 0.23\u001b[0m\u001b[0;34m\u001b[0m\u001b[0;34m\u001b[0m\u001b[0;34m\u001b[0m\u001b[0m\n\u001b[1;32m    424\u001b[0m         \u001b[0my_type\u001b[0m\u001b[0;34m,\u001b[0m \u001b[0m_\u001b[0m\u001b[0;34m,\u001b[0m \u001b[0m_\u001b[0m\u001b[0;34m,\u001b[0m \u001b[0m_\u001b[0m \u001b[0;34m=\u001b[0m \u001b[0m_check_reg_targets\u001b[0m\u001b[0;34m(\u001b[0m\u001b[0my\u001b[0m\u001b[0;34m,\u001b[0m \u001b[0my_pred\u001b[0m\u001b[0;34m,\u001b[0m \u001b[0;32mNone\u001b[0m\u001b[0;34m)\u001b[0m\u001b[0;34m\u001b[0m\u001b[0;34m\u001b[0m\u001b[0m\n",
            "\u001b[0;32m/usr/local/lib/python3.6/dist-packages/sklearn/neighbors/_regression.py\u001b[0m in \u001b[0;36mpredict\u001b[0;34m(self, X)\u001b[0m\n\u001b[1;32m    181\u001b[0m \u001b[0;34m\u001b[0m\u001b[0m\n\u001b[1;32m    182\u001b[0m         \u001b[0;32mif\u001b[0m \u001b[0mweights\u001b[0m \u001b[0;32mis\u001b[0m \u001b[0;32mNone\u001b[0m\u001b[0;34m:\u001b[0m\u001b[0;34m\u001b[0m\u001b[0;34m\u001b[0m\u001b[0m\n\u001b[0;32m--> 183\u001b[0;31m             \u001b[0my_pred\u001b[0m \u001b[0;34m=\u001b[0m \u001b[0mnp\u001b[0m\u001b[0;34m.\u001b[0m\u001b[0mmean\u001b[0m\u001b[0;34m(\u001b[0m\u001b[0m_y\u001b[0m\u001b[0;34m[\u001b[0m\u001b[0mneigh_ind\u001b[0m\u001b[0;34m]\u001b[0m\u001b[0;34m,\u001b[0m \u001b[0maxis\u001b[0m\u001b[0;34m=\u001b[0m\u001b[0;36m1\u001b[0m\u001b[0;34m)\u001b[0m\u001b[0;34m\u001b[0m\u001b[0;34m\u001b[0m\u001b[0m\n\u001b[0m\u001b[1;32m    184\u001b[0m         \u001b[0;32melse\u001b[0m\u001b[0;34m:\u001b[0m\u001b[0;34m\u001b[0m\u001b[0;34m\u001b[0m\u001b[0m\n\u001b[1;32m    185\u001b[0m             \u001b[0my_pred\u001b[0m \u001b[0;34m=\u001b[0m \u001b[0mnp\u001b[0m\u001b[0;34m.\u001b[0m\u001b[0mempty\u001b[0m\u001b[0;34m(\u001b[0m\u001b[0;34m(\u001b[0m\u001b[0mX\u001b[0m\u001b[0;34m.\u001b[0m\u001b[0mshape\u001b[0m\u001b[0;34m[\u001b[0m\u001b[0;36m0\u001b[0m\u001b[0;34m]\u001b[0m\u001b[0;34m,\u001b[0m \u001b[0m_y\u001b[0m\u001b[0;34m.\u001b[0m\u001b[0mshape\u001b[0m\u001b[0;34m[\u001b[0m\u001b[0;36m1\u001b[0m\u001b[0;34m]\u001b[0m\u001b[0;34m)\u001b[0m\u001b[0;34m,\u001b[0m \u001b[0mdtype\u001b[0m\u001b[0;34m=\u001b[0m\u001b[0mnp\u001b[0m\u001b[0;34m.\u001b[0m\u001b[0mfloat64\u001b[0m\u001b[0;34m)\u001b[0m\u001b[0;34m\u001b[0m\u001b[0;34m\u001b[0m\u001b[0m\n",
            "\u001b[0;32m<__array_function__ internals>\u001b[0m in \u001b[0;36mmean\u001b[0;34m(*args, **kwargs)\u001b[0m\n",
            "\u001b[0;32m/usr/local/lib/python3.6/dist-packages/numpy/core/fromnumeric.py\u001b[0m in \u001b[0;36mmean\u001b[0;34m(a, axis, dtype, out, keepdims)\u001b[0m\n\u001b[1;32m   3333\u001b[0m \u001b[0;34m\u001b[0m\u001b[0m\n\u001b[1;32m   3334\u001b[0m     return _methods._mean(a, axis=axis, dtype=dtype,\n\u001b[0;32m-> 3335\u001b[0;31m                           out=out, **kwargs)\n\u001b[0m\u001b[1;32m   3336\u001b[0m \u001b[0;34m\u001b[0m\u001b[0m\n\u001b[1;32m   3337\u001b[0m \u001b[0;34m\u001b[0m\u001b[0m\n",
            "\u001b[0;32m/usr/local/lib/python3.6/dist-packages/numpy/core/_methods.py\u001b[0m in \u001b[0;36m_mean\u001b[0;34m(a, axis, dtype, out, keepdims)\u001b[0m\n\u001b[1;32m    152\u001b[0m     \u001b[0;32mif\u001b[0m \u001b[0misinstance\u001b[0m\u001b[0;34m(\u001b[0m\u001b[0mret\u001b[0m\u001b[0;34m,\u001b[0m \u001b[0mmu\u001b[0m\u001b[0;34m.\u001b[0m\u001b[0mndarray\u001b[0m\u001b[0;34m)\u001b[0m\u001b[0;34m:\u001b[0m\u001b[0;34m\u001b[0m\u001b[0;34m\u001b[0m\u001b[0m\n\u001b[1;32m    153\u001b[0m         ret = um.true_divide(\n\u001b[0;32m--> 154\u001b[0;31m                 ret, rcount, out=ret, casting='unsafe', subok=False)\n\u001b[0m\u001b[1;32m    155\u001b[0m         \u001b[0;32mif\u001b[0m \u001b[0mis_float16_result\u001b[0m \u001b[0;32mand\u001b[0m \u001b[0mout\u001b[0m \u001b[0;32mis\u001b[0m \u001b[0;32mNone\u001b[0m\u001b[0;34m:\u001b[0m\u001b[0;34m\u001b[0m\u001b[0;34m\u001b[0m\u001b[0m\n\u001b[1;32m    156\u001b[0m             \u001b[0mret\u001b[0m \u001b[0;34m=\u001b[0m \u001b[0marr\u001b[0m\u001b[0;34m.\u001b[0m\u001b[0mdtype\u001b[0m\u001b[0;34m.\u001b[0m\u001b[0mtype\u001b[0m\u001b[0;34m(\u001b[0m\u001b[0mret\u001b[0m\u001b[0;34m)\u001b[0m\u001b[0;34m\u001b[0m\u001b[0;34m\u001b[0m\u001b[0m\n",
            "\u001b[0;31mTypeError\u001b[0m: unsupported operand type(s) for /: 'str' and 'int'"
          ]
        }
      ]
    },
    {
      "cell_type": "code",
      "metadata": {
        "id": "An_OGIicsGhQ",
        "colab_type": "code",
        "colab": {
          "base_uri": "https://localhost:8080/",
          "height": 341
        },
        "outputId": "1ec756b0-45e8-4fa1-a7e8-01308542c65e"
      },
      "source": [
        "print(reg.score(reg.score(X_test, y_test)))"
      ],
      "execution_count": null,
      "outputs": [
        {
          "output_type": "error",
          "ename": "TypeError",
          "evalue": "ignored",
          "traceback": [
            "\u001b[0;31m---------------------------------------------------------------------------\u001b[0m",
            "\u001b[0;31mTypeError\u001b[0m                                 Traceback (most recent call last)",
            "\u001b[0;32m<ipython-input-9-0390dad5a350>\u001b[0m in \u001b[0;36m<module>\u001b[0;34m()\u001b[0m\n\u001b[0;32m----> 1\u001b[0;31m \u001b[0mprint\u001b[0m\u001b[0;34m(\u001b[0m\u001b[0mreg\u001b[0m\u001b[0;34m.\u001b[0m\u001b[0mscore\u001b[0m\u001b[0;34m(\u001b[0m\u001b[0mreg\u001b[0m\u001b[0;34m.\u001b[0m\u001b[0mscore\u001b[0m\u001b[0;34m(\u001b[0m\u001b[0mX_test\u001b[0m\u001b[0;34m,\u001b[0m \u001b[0my_test\u001b[0m\u001b[0;34m)\u001b[0m\u001b[0;34m)\u001b[0m\u001b[0;34m)\u001b[0m\u001b[0;34m\u001b[0m\u001b[0;34m\u001b[0m\u001b[0m\n\u001b[0m",
            "\u001b[0;32m/usr/local/lib/python3.6/dist-packages/sklearn/base.py\u001b[0m in \u001b[0;36mscore\u001b[0;34m(self, X, y, sample_weight)\u001b[0m\n\u001b[1;32m    420\u001b[0m         \u001b[0;32mfrom\u001b[0m \u001b[0;34m.\u001b[0m\u001b[0mmetrics\u001b[0m \u001b[0;32mimport\u001b[0m \u001b[0mr2_score\u001b[0m\u001b[0;34m\u001b[0m\u001b[0;34m\u001b[0m\u001b[0m\n\u001b[1;32m    421\u001b[0m         \u001b[0;32mfrom\u001b[0m \u001b[0;34m.\u001b[0m\u001b[0mmetrics\u001b[0m\u001b[0;34m.\u001b[0m\u001b[0m_regression\u001b[0m \u001b[0;32mimport\u001b[0m \u001b[0m_check_reg_targets\u001b[0m\u001b[0;34m\u001b[0m\u001b[0;34m\u001b[0m\u001b[0m\n\u001b[0;32m--> 422\u001b[0;31m         \u001b[0my_pred\u001b[0m \u001b[0;34m=\u001b[0m \u001b[0mself\u001b[0m\u001b[0;34m.\u001b[0m\u001b[0mpredict\u001b[0m\u001b[0;34m(\u001b[0m\u001b[0mX\u001b[0m\u001b[0;34m)\u001b[0m\u001b[0;34m\u001b[0m\u001b[0;34m\u001b[0m\u001b[0m\n\u001b[0m\u001b[1;32m    423\u001b[0m         \u001b[0;31m# XXX: Remove the check in 0.23\u001b[0m\u001b[0;34m\u001b[0m\u001b[0;34m\u001b[0m\u001b[0;34m\u001b[0m\u001b[0m\n\u001b[1;32m    424\u001b[0m         \u001b[0my_type\u001b[0m\u001b[0;34m,\u001b[0m \u001b[0m_\u001b[0m\u001b[0;34m,\u001b[0m \u001b[0m_\u001b[0m\u001b[0;34m,\u001b[0m \u001b[0m_\u001b[0m \u001b[0;34m=\u001b[0m \u001b[0m_check_reg_targets\u001b[0m\u001b[0;34m(\u001b[0m\u001b[0my\u001b[0m\u001b[0;34m,\u001b[0m \u001b[0my_pred\u001b[0m\u001b[0;34m,\u001b[0m \u001b[0;32mNone\u001b[0m\u001b[0;34m)\u001b[0m\u001b[0;34m\u001b[0m\u001b[0;34m\u001b[0m\u001b[0m\n",
            "\u001b[0;32m/usr/local/lib/python3.6/dist-packages/sklearn/neighbors/_regression.py\u001b[0m in \u001b[0;36mpredict\u001b[0;34m(self, X)\u001b[0m\n\u001b[1;32m    181\u001b[0m \u001b[0;34m\u001b[0m\u001b[0m\n\u001b[1;32m    182\u001b[0m         \u001b[0;32mif\u001b[0m \u001b[0mweights\u001b[0m \u001b[0;32mis\u001b[0m \u001b[0;32mNone\u001b[0m\u001b[0;34m:\u001b[0m\u001b[0;34m\u001b[0m\u001b[0;34m\u001b[0m\u001b[0m\n\u001b[0;32m--> 183\u001b[0;31m             \u001b[0my_pred\u001b[0m \u001b[0;34m=\u001b[0m \u001b[0mnp\u001b[0m\u001b[0;34m.\u001b[0m\u001b[0mmean\u001b[0m\u001b[0;34m(\u001b[0m\u001b[0m_y\u001b[0m\u001b[0;34m[\u001b[0m\u001b[0mneigh_ind\u001b[0m\u001b[0;34m]\u001b[0m\u001b[0;34m,\u001b[0m \u001b[0maxis\u001b[0m\u001b[0;34m=\u001b[0m\u001b[0;36m1\u001b[0m\u001b[0;34m)\u001b[0m\u001b[0;34m\u001b[0m\u001b[0;34m\u001b[0m\u001b[0m\n\u001b[0m\u001b[1;32m    184\u001b[0m         \u001b[0;32melse\u001b[0m\u001b[0;34m:\u001b[0m\u001b[0;34m\u001b[0m\u001b[0;34m\u001b[0m\u001b[0m\n\u001b[1;32m    185\u001b[0m             \u001b[0my_pred\u001b[0m \u001b[0;34m=\u001b[0m \u001b[0mnp\u001b[0m\u001b[0;34m.\u001b[0m\u001b[0mempty\u001b[0m\u001b[0;34m(\u001b[0m\u001b[0;34m(\u001b[0m\u001b[0mX\u001b[0m\u001b[0;34m.\u001b[0m\u001b[0mshape\u001b[0m\u001b[0;34m[\u001b[0m\u001b[0;36m0\u001b[0m\u001b[0;34m]\u001b[0m\u001b[0;34m,\u001b[0m \u001b[0m_y\u001b[0m\u001b[0;34m.\u001b[0m\u001b[0mshape\u001b[0m\u001b[0;34m[\u001b[0m\u001b[0;36m1\u001b[0m\u001b[0;34m]\u001b[0m\u001b[0;34m)\u001b[0m\u001b[0;34m,\u001b[0m \u001b[0mdtype\u001b[0m\u001b[0;34m=\u001b[0m\u001b[0mnp\u001b[0m\u001b[0;34m.\u001b[0m\u001b[0mfloat64\u001b[0m\u001b[0;34m)\u001b[0m\u001b[0;34m\u001b[0m\u001b[0;34m\u001b[0m\u001b[0m\n",
            "\u001b[0;32m<__array_function__ internals>\u001b[0m in \u001b[0;36mmean\u001b[0;34m(*args, **kwargs)\u001b[0m\n",
            "\u001b[0;32m/usr/local/lib/python3.6/dist-packages/numpy/core/fromnumeric.py\u001b[0m in \u001b[0;36mmean\u001b[0;34m(a, axis, dtype, out, keepdims)\u001b[0m\n\u001b[1;32m   3333\u001b[0m \u001b[0;34m\u001b[0m\u001b[0m\n\u001b[1;32m   3334\u001b[0m     return _methods._mean(a, axis=axis, dtype=dtype,\n\u001b[0;32m-> 3335\u001b[0;31m                           out=out, **kwargs)\n\u001b[0m\u001b[1;32m   3336\u001b[0m \u001b[0;34m\u001b[0m\u001b[0m\n\u001b[1;32m   3337\u001b[0m \u001b[0;34m\u001b[0m\u001b[0m\n",
            "\u001b[0;32m/usr/local/lib/python3.6/dist-packages/numpy/core/_methods.py\u001b[0m in \u001b[0;36m_mean\u001b[0;34m(a, axis, dtype, out, keepdims)\u001b[0m\n\u001b[1;32m    152\u001b[0m     \u001b[0;32mif\u001b[0m \u001b[0misinstance\u001b[0m\u001b[0;34m(\u001b[0m\u001b[0mret\u001b[0m\u001b[0;34m,\u001b[0m \u001b[0mmu\u001b[0m\u001b[0;34m.\u001b[0m\u001b[0mndarray\u001b[0m\u001b[0;34m)\u001b[0m\u001b[0;34m:\u001b[0m\u001b[0;34m\u001b[0m\u001b[0;34m\u001b[0m\u001b[0m\n\u001b[1;32m    153\u001b[0m         ret = um.true_divide(\n\u001b[0;32m--> 154\u001b[0;31m                 ret, rcount, out=ret, casting='unsafe', subok=False)\n\u001b[0m\u001b[1;32m    155\u001b[0m         \u001b[0;32mif\u001b[0m \u001b[0mis_float16_result\u001b[0m \u001b[0;32mand\u001b[0m \u001b[0mout\u001b[0m \u001b[0;32mis\u001b[0m \u001b[0;32mNone\u001b[0m\u001b[0;34m:\u001b[0m\u001b[0;34m\u001b[0m\u001b[0;34m\u001b[0m\u001b[0m\n\u001b[1;32m    156\u001b[0m             \u001b[0mret\u001b[0m \u001b[0;34m=\u001b[0m \u001b[0marr\u001b[0m\u001b[0;34m.\u001b[0m\u001b[0mdtype\u001b[0m\u001b[0;34m.\u001b[0m\u001b[0mtype\u001b[0m\u001b[0;34m(\u001b[0m\u001b[0mret\u001b[0m\u001b[0;34m)\u001b[0m\u001b[0;34m\u001b[0m\u001b[0;34m\u001b[0m\u001b[0m\n",
            "\u001b[0;31mTypeError\u001b[0m: unsupported operand type(s) for /: 'str' and 'int'"
          ]
        }
      ]
    },
    {
      "cell_type": "code",
      "metadata": {
        "id": "DRpI44AbsPXc",
        "colab_type": "code",
        "colab": {}
      },
      "source": [
        ""
      ],
      "execution_count": null,
      "outputs": []
    }
  ]
}