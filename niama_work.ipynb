{
  "nbformat": 4,
  "nbformat_minor": 0,
  "metadata": {
    "colab": {
      "name": "niama_work.ipynb",
      "provenance": []
    },
    "kernelspec": {
      "name": "python3",
      "display_name": "Python 3"
    }
  },
  "cells": [
    {
      "cell_type": "code",
      "metadata": {
        "id": "J8OtItryP5rs",
        "colab_type": "code",
        "colab": {}
      },
      "source": [
        ""
      ],
      "execution_count": null,
      "outputs": []
    },
    {
      "cell_type": "code",
      "metadata": {
        "id": "1vM6veEfDgtf",
        "colab_type": "code",
        "colab": {
          "resources": {
            "http://localhost:8080/nbextensions/google.colab/files.js": {
              "data": "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",
              "ok": true,
              "headers": [
                [
                  "content-type",
                  "application/javascript"
                ]
              ],
              "status": 200,
              "status_text": ""
            }
          },
          "base_uri": "https://localhost:8080/",
          "height": 72
        },
        "outputId": "a9ea2926-e4cb-47dc-8c80-4fd0d28f8c1d"
      },
      "source": [
        "from google.colab import files\n",
        "uploaded = files.upload()"
      ],
      "execution_count": null,
      "outputs": [
        {
          "output_type": "display_data",
          "data": {
            "text/html": [
              "\n",
              "     <input type=\"file\" id=\"files-2369a366-1ed8-4aa4-a4f2-58a40d2d14b2\" name=\"files[]\" multiple disabled\n",
              "        style=\"border:none\" />\n",
              "     <output id=\"result-2369a366-1ed8-4aa4-a4f2-58a40d2d14b2\">\n",
              "      Upload widget is only available when the cell has been executed in the\n",
              "      current browser session. Please rerun this cell to enable.\n",
              "      </output>\n",
              "      <script src=\"/nbextensions/google.colab/files.js\"></script> "
            ],
            "text/plain": [
              "<IPython.core.display.HTML object>"
            ]
          },
          "metadata": {
            "tags": []
          }
        },
        {
          "output_type": "stream",
          "text": [
            "Saving spotify_df_3 (1) (1).csv to spotify_df_3 (1) (1).csv\n"
          ],
          "name": "stdout"
        }
      ]
    },
    {
      "cell_type": "code",
      "metadata": {
        "id": "zqNuTl_pnv1E",
        "colab_type": "code",
        "colab": {
          "base_uri": "https://localhost:8080/",
          "height": 694
        },
        "outputId": "5dc2aeaf-ad10-4af2-947c-508aeb0ea392"
      },
      "source": [
        "import pandas as pd\n",
        "import io\n",
        "\n",
        "df = pd.read_csv(io.BytesIO(uploaded['spotify_df_3 (1) (1).csv']))\n",
        "df"
      ],
      "execution_count": null,
      "outputs": [
        {
          "output_type": "execute_result",
          "data": {
            "text/html": [
              "<div>\n",
              "<style scoped>\n",
              "    .dataframe tbody tr th:only-of-type {\n",
              "        vertical-align: middle;\n",
              "    }\n",
              "\n",
              "    .dataframe tbody tr th {\n",
              "        vertical-align: top;\n",
              "    }\n",
              "\n",
              "    .dataframe thead th {\n",
              "        text-align: right;\n",
              "    }\n",
              "</style>\n",
              "<table border=\"1\" class=\"dataframe\">\n",
              "  <thead>\n",
              "    <tr style=\"text-align: right;\">\n",
              "      <th></th>\n",
              "      <th>artist_name</th>\n",
              "      <th>track_name</th>\n",
              "      <th>track_id</th>\n",
              "      <th>artist_href</th>\n",
              "      <th>track_href</th>\n",
              "      <th>genre_name</th>\n",
              "      <th>danceability</th>\n",
              "      <th>energy</th>\n",
              "      <th>key</th>\n",
              "      <th>loudness</th>\n",
              "      <th>mode</th>\n",
              "      <th>speechiness</th>\n",
              "      <th>acousticness</th>\n",
              "      <th>instrumentalness</th>\n",
              "      <th>liveness</th>\n",
              "      <th>valence</th>\n",
              "      <th>tempo</th>\n",
              "      <th>duration_ms</th>\n",
              "    </tr>\n",
              "  </thead>\n",
              "  <tbody>\n",
              "    <tr>\n",
              "      <th>0</th>\n",
              "      <td>lil dicky</td>\n",
              "      <td>freaky friday (feat. chris brown)</td>\n",
              "      <td>10Igtw8bSDyyFs7KIsKngZ</td>\n",
              "      <td>https://open.spotify.com/artist/1tqhsYv8yBBdwA...</td>\n",
              "      <td>https://open.spotify.com/track/10Igtw8bSDyyFs7...</td>\n",
              "      <td>comedy</td>\n",
              "      <td>0.755</td>\n",
              "      <td>0.599</td>\n",
              "      <td>8</td>\n",
              "      <td>-5.042</td>\n",
              "      <td>1</td>\n",
              "      <td>0.2240</td>\n",
              "      <td>0.14700</td>\n",
              "      <td>0.000000</td>\n",
              "      <td>0.1090</td>\n",
              "      <td>0.7550</td>\n",
              "      <td>133.123</td>\n",
              "      <td>216632</td>\n",
              "    </tr>\n",
              "    <tr>\n",
              "      <th>1</th>\n",
              "      <td>afroman</td>\n",
              "      <td>crazy rap (colt 45 &amp; 2 zig zags)</td>\n",
              "      <td>1ACZpHI5vZ5Ea4xGlkdGWM</td>\n",
              "      <td>https://open.spotify.com/artist/4Icvbp9RDt5aY2...</td>\n",
              "      <td>https://open.spotify.com/track/1ACZpHI5vZ5Ea4x...</td>\n",
              "      <td>comedy</td>\n",
              "      <td>0.927</td>\n",
              "      <td>0.367</td>\n",
              "      <td>9</td>\n",
              "      <td>-7.797</td>\n",
              "      <td>1</td>\n",
              "      <td>0.3820</td>\n",
              "      <td>0.32500</td>\n",
              "      <td>0.000000</td>\n",
              "      <td>0.1320</td>\n",
              "      <td>0.5760</td>\n",
              "      <td>99.053</td>\n",
              "      <td>328667</td>\n",
              "    </tr>\n",
              "    <tr>\n",
              "      <th>2</th>\n",
              "      <td>lil dicky</td>\n",
              "      <td>molly (feat. brendon urie of panic at the disco)</td>\n",
              "      <td>0NBiC3zLXoBQXBjsbnbwJq</td>\n",
              "      <td>https://open.spotify.com/artist/1tqhsYv8yBBdwA...</td>\n",
              "      <td>https://open.spotify.com/track/0NBiC3zLXoBQXBj...</td>\n",
              "      <td>comedy</td>\n",
              "      <td>0.831</td>\n",
              "      <td>0.514</td>\n",
              "      <td>7</td>\n",
              "      <td>-6.695</td>\n",
              "      <td>1</td>\n",
              "      <td>0.0368</td>\n",
              "      <td>0.20300</td>\n",
              "      <td>0.000156</td>\n",
              "      <td>0.1150</td>\n",
              "      <td>0.3970</td>\n",
              "      <td>114.940</td>\n",
              "      <td>244340</td>\n",
              "    </tr>\n",
              "    <tr>\n",
              "      <th>3</th>\n",
              "      <td>lil dicky</td>\n",
              "      <td>$ave dat money (feat. fetty wap &amp; rich homie q...</td>\n",
              "      <td>6AoYWCzsDls6c61Zp5qTuU</td>\n",
              "      <td>https://open.spotify.com/artist/1tqhsYv8yBBdwA...</td>\n",
              "      <td>https://open.spotify.com/track/6AoYWCzsDls6c61...</td>\n",
              "      <td>comedy</td>\n",
              "      <td>0.858</td>\n",
              "      <td>0.697</td>\n",
              "      <td>2</td>\n",
              "      <td>-5.361</td>\n",
              "      <td>1</td>\n",
              "      <td>0.2300</td>\n",
              "      <td>0.11400</td>\n",
              "      <td>0.000000</td>\n",
              "      <td>0.2240</td>\n",
              "      <td>0.3640</td>\n",
              "      <td>98.012</td>\n",
              "      <td>290836</td>\n",
              "    </tr>\n",
              "    <tr>\n",
              "      <th>4</th>\n",
              "      <td>lil dicky</td>\n",
              "      <td>professional rapper (feat. snoop dogg)</td>\n",
              "      <td>1Ysc1uDZtf430TGavoS1j4</td>\n",
              "      <td>https://open.spotify.com/artist/1tqhsYv8yBBdwA...</td>\n",
              "      <td>https://open.spotify.com/track/1Ysc1uDZtf430TG...</td>\n",
              "      <td>comedy</td>\n",
              "      <td>0.685</td>\n",
              "      <td>0.621</td>\n",
              "      <td>11</td>\n",
              "      <td>-8.442</td>\n",
              "      <td>0</td>\n",
              "      <td>0.3610</td>\n",
              "      <td>0.43300</td>\n",
              "      <td>0.000000</td>\n",
              "      <td>0.6070</td>\n",
              "      <td>0.5380</td>\n",
              "      <td>128.906</td>\n",
              "      <td>353960</td>\n",
              "    </tr>\n",
              "    <tr>\n",
              "      <th>...</th>\n",
              "      <td>...</td>\n",
              "      <td>...</td>\n",
              "      <td>...</td>\n",
              "      <td>...</td>\n",
              "      <td>...</td>\n",
              "      <td>...</td>\n",
              "      <td>...</td>\n",
              "      <td>...</td>\n",
              "      <td>...</td>\n",
              "      <td>...</td>\n",
              "      <td>...</td>\n",
              "      <td>...</td>\n",
              "      <td>...</td>\n",
              "      <td>...</td>\n",
              "      <td>...</td>\n",
              "      <td>...</td>\n",
              "      <td>...</td>\n",
              "      <td>...</td>\n",
              "    </tr>\n",
              "    <tr>\n",
              "      <th>37950</th>\n",
              "      <td>zahid</td>\n",
              "      <td>biasa (feat viral)</td>\n",
              "      <td>1ansTTR07mqQjnFDQNxvCN</td>\n",
              "      <td>https://open.spotify.com/artist/3ZGfDgL6ZUN6h5...</td>\n",
              "      <td>https://open.spotify.com/track/1ansTTR07mqQjnF...</td>\n",
              "      <td>malay</td>\n",
              "      <td>0.798</td>\n",
              "      <td>0.668</td>\n",
              "      <td>0</td>\n",
              "      <td>-5.902</td>\n",
              "      <td>1</td>\n",
              "      <td>0.0359</td>\n",
              "      <td>0.10000</td>\n",
              "      <td>0.000000</td>\n",
              "      <td>0.3540</td>\n",
              "      <td>0.8730</td>\n",
              "      <td>99.993</td>\n",
              "      <td>250600</td>\n",
              "    </tr>\n",
              "    <tr>\n",
              "      <th>37951</th>\n",
              "      <td>nomadic voice</td>\n",
              "      <td>pravasi</td>\n",
              "      <td>1eh1HgZiP3Hd5nn9zq6bfm</td>\n",
              "      <td>https://open.spotify.com/artist/1oze8SLXENyjFZ...</td>\n",
              "      <td>https://open.spotify.com/track/1eh1HgZiP3Hd5nn...</td>\n",
              "      <td>malay</td>\n",
              "      <td>0.755</td>\n",
              "      <td>0.543</td>\n",
              "      <td>8</td>\n",
              "      <td>-10.736</td>\n",
              "      <td>1</td>\n",
              "      <td>0.1610</td>\n",
              "      <td>0.08160</td>\n",
              "      <td>0.000000</td>\n",
              "      <td>0.0770</td>\n",
              "      <td>0.0568</td>\n",
              "      <td>100.090</td>\n",
              "      <td>176177</td>\n",
              "    </tr>\n",
              "    <tr>\n",
              "      <th>37952</th>\n",
              "      <td>san jaimt</td>\n",
              "      <td>thee</td>\n",
              "      <td>4gLd8UFqGv0ZdM8xizCE8U</td>\n",
              "      <td>https://open.spotify.com/artist/2BrfO48KSTebyO...</td>\n",
              "      <td>https://open.spotify.com/track/4gLd8UFqGv0ZdM8...</td>\n",
              "      <td>malay</td>\n",
              "      <td>0.649</td>\n",
              "      <td>0.800</td>\n",
              "      <td>4</td>\n",
              "      <td>-5.866</td>\n",
              "      <td>1</td>\n",
              "      <td>0.1690</td>\n",
              "      <td>0.52500</td>\n",
              "      <td>0.000000</td>\n",
              "      <td>0.0873</td>\n",
              "      <td>0.3810</td>\n",
              "      <td>159.933</td>\n",
              "      <td>240000</td>\n",
              "    </tr>\n",
              "    <tr>\n",
              "      <th>37953</th>\n",
              "      <td>street academics</td>\n",
              "      <td>pambaram - v3k remix</td>\n",
              "      <td>5oTGvHta44zs7IJvJ32hJA</td>\n",
              "      <td>https://open.spotify.com/artist/0LZRSRpEniupzK...</td>\n",
              "      <td>https://open.spotify.com/track/5oTGvHta44zs7IJ...</td>\n",
              "      <td>malay</td>\n",
              "      <td>0.643</td>\n",
              "      <td>0.677</td>\n",
              "      <td>11</td>\n",
              "      <td>-7.336</td>\n",
              "      <td>1</td>\n",
              "      <td>0.1440</td>\n",
              "      <td>0.00333</td>\n",
              "      <td>0.532000</td>\n",
              "      <td>0.0675</td>\n",
              "      <td>0.3580</td>\n",
              "      <td>180.049</td>\n",
              "      <td>197346</td>\n",
              "    </tr>\n",
              "    <tr>\n",
              "      <th>37954</th>\n",
              "      <td>salammusik</td>\n",
              "      <td>aku pelat</td>\n",
              "      <td>6n9CZj1zDLZxLkYVjbtRAt</td>\n",
              "      <td>https://open.spotify.com/artist/2GNPXIZNyBOs68...</td>\n",
              "      <td>https://open.spotify.com/track/6n9CZj1zDLZxLkY...</td>\n",
              "      <td>malay</td>\n",
              "      <td>0.862</td>\n",
              "      <td>0.884</td>\n",
              "      <td>4</td>\n",
              "      <td>-4.787</td>\n",
              "      <td>0</td>\n",
              "      <td>0.1840</td>\n",
              "      <td>0.25900</td>\n",
              "      <td>0.000000</td>\n",
              "      <td>0.1220</td>\n",
              "      <td>0.9330</td>\n",
              "      <td>92.988</td>\n",
              "      <td>190240</td>\n",
              "    </tr>\n",
              "  </tbody>\n",
              "</table>\n",
              "<p>37955 rows × 18 columns</p>\n",
              "</div>"
            ],
            "text/plain": [
              "            artist_name  ... duration_ms\n",
              "0             lil dicky  ...      216632\n",
              "1               afroman  ...      328667\n",
              "2             lil dicky  ...      244340\n",
              "3             lil dicky  ...      290836\n",
              "4             lil dicky  ...      353960\n",
              "...                 ...  ...         ...\n",
              "37950             zahid  ...      250600\n",
              "37951     nomadic voice  ...      176177\n",
              "37952         san jaimt  ...      240000\n",
              "37953  street academics  ...      197346\n",
              "37954        salammusik  ...      190240\n",
              "\n",
              "[37955 rows x 18 columns]"
            ]
          },
          "metadata": {
            "tags": []
          },
          "execution_count": 3
        }
      ]
    },
    {
      "cell_type": "code",
      "metadata": {
        "id": "U0Iguv-PtsSw",
        "colab_type": "code",
        "colab": {
          "base_uri": "https://localhost:8080/",
          "height": 357
        },
        "outputId": "75f4fbf6-4314-48e1-f3f5-63dc5378ca8e"
      },
      "source": [
        "target = df[\"genre_name\"]\n",
        "target_names = target.unique().tolist()\n",
        "target_names"
      ],
      "execution_count": null,
      "outputs": [
        {
          "output_type": "execute_result",
          "data": {
            "text/plain": [
              "['comedy',\n",
              " 'turkish',\n",
              " 'afrobeat',\n",
              " 'bluegrass',\n",
              " 'black-metal',\n",
              " 'indian',\n",
              " 'deep-house',\n",
              " 'chill',\n",
              " 'alt-rock',\n",
              " 'heavy-metal',\n",
              " 'acoustic',\n",
              " 'ambient',\n",
              " 'grindcore',\n",
              " 'idm',\n",
              " 'dancehall',\n",
              " 'forro',\n",
              " 'emo',\n",
              " 'anime',\n",
              " 'chicago-house',\n",
              " 'malay']"
            ]
          },
          "metadata": {
            "tags": []
          },
          "execution_count": 11
        }
      ]
    },
    {
      "cell_type": "code",
      "metadata": {
        "id": "YxVDxcTVub0D",
        "colab_type": "code",
        "colab": {
          "base_uri": "https://localhost:8080/",
          "height": 198
        },
        "outputId": "53f6a5c9-fed8-410f-f1cf-3394cc5162d7"
      },
      "source": [
        "data = df.drop([\"artist_name\", \"track_name\", \"track_id\", \"artist_href\", \"track_href\"], axis=1)\n",
        "feature_names = data.columns\n",
        "data.head()"
      ],
      "execution_count": null,
      "outputs": [
        {
          "output_type": "error",
          "ename": "NameError",
          "evalue": "ignored",
          "traceback": [
            "\u001b[0;31m---------------------------------------------------------------------------\u001b[0m",
            "\u001b[0;31mNameError\u001b[0m                                 Traceback (most recent call last)",
            "\u001b[0;32m<ipython-input-1-37b75a81b48d>\u001b[0m in \u001b[0;36m<module>\u001b[0;34m()\u001b[0m\n\u001b[0;32m----> 1\u001b[0;31m \u001b[0mdata\u001b[0m \u001b[0;34m=\u001b[0m \u001b[0mdf\u001b[0m\u001b[0;34m.\u001b[0m\u001b[0mdrop\u001b[0m\u001b[0;34m(\u001b[0m\u001b[0;34m[\u001b[0m\u001b[0;34m\"artist_name\"\u001b[0m\u001b[0;34m,\u001b[0m \u001b[0;34m\"track_name\"\u001b[0m\u001b[0;34m,\u001b[0m \u001b[0;34m\"track_id\"\u001b[0m\u001b[0;34m,\u001b[0m \u001b[0;34m\"artist_href\"\u001b[0m\u001b[0;34m,\u001b[0m \u001b[0;34m\"track_href\"\u001b[0m\u001b[0;34m]\u001b[0m\u001b[0;34m,\u001b[0m \u001b[0maxis\u001b[0m\u001b[0;34m=\u001b[0m\u001b[0;36m1\u001b[0m\u001b[0;34m)\u001b[0m\u001b[0;34m\u001b[0m\u001b[0;34m\u001b[0m\u001b[0m\n\u001b[0m\u001b[1;32m      2\u001b[0m \u001b[0mfeature_names\u001b[0m \u001b[0;34m=\u001b[0m \u001b[0mdata\u001b[0m\u001b[0;34m.\u001b[0m\u001b[0mcolumns\u001b[0m\u001b[0;34m\u001b[0m\u001b[0;34m\u001b[0m\u001b[0m\n\u001b[1;32m      3\u001b[0m \u001b[0mdata\u001b[0m\u001b[0;34m.\u001b[0m\u001b[0mhead\u001b[0m\u001b[0;34m(\u001b[0m\u001b[0;34m)\u001b[0m\u001b[0;34m\u001b[0m\u001b[0;34m\u001b[0m\u001b[0m\n",
            "\u001b[0;31mNameError\u001b[0m: name 'df' is not defined"
          ]
        }
      ]
    },
    {
      "cell_type": "code",
      "metadata": {
        "id": "kVmHCHnpiqn4",
        "colab_type": "code",
        "colab": {
          "base_uri": "https://localhost:8080/",
          "height": 71
        },
        "outputId": "144a7a27-bd4f-4cec-c894-fbc649a9e9dd"
      },
      "source": [
        "import pandas as pd\n",
        "from sklearn.model_selection import train_test_split\n",
        "from sklearn.linear_model import LogisticRegression\n",
        "from sklearn import metrics\n",
        "import seaborn as sn\n",
        "import matplotlib.pyplot as plt"
      ],
      "execution_count": null,
      "outputs": [
        {
          "output_type": "stream",
          "text": [
            "/usr/local/lib/python3.6/dist-packages/statsmodels/tools/_testing.py:19: FutureWarning: pandas.util.testing is deprecated. Use the functions in the public API at pandas.testing instead.\n",
            "  import pandas.util.testing as tm\n"
          ],
          "name": "stderr"
        }
      ]
    },
    {
      "cell_type": "code",
      "metadata": {
        "id": "M7Z6UAi3o4fL",
        "colab_type": "code",
        "colab": {}
      },
      "source": [
        "X_train,X_test,y_train,y_test = train_test_split(data,target,test_size=0.25,random_state=0)"
      ],
      "execution_count": null,
      "outputs": []
    },
    {
      "cell_type": "code",
      "metadata": {
        "id": "KXYl4NKEpctY",
        "colab_type": "code",
        "colab": {}
      },
      "source": [
        "logistic_regression= LogisticRegression()\n",
        "logistic_regression.fit(X_train,y_train)\n",
        "y_pred=logistic_regression.predict(X_test)"
      ],
      "execution_count": null,
      "outputs": []
    },
    {
      "cell_type": "code",
      "metadata": {
        "id": "cF4Z0Jgfpo9D",
        "colab_type": "code",
        "colab": {
          "base_uri": "https://localhost:8080/",
          "height": 296
        },
        "outputId": "7aed0759-1f28-408d-b8c3-9e8e80a69788"
      },
      "source": [
        "confusion_matrix = pd.crosstab(y_test, y_pred, rownames=['Actual'], colnames=['Predicted'])\n",
        "sn.heatmap(confusion_matrix, annot=True)"
      ],
      "execution_count": null,
      "outputs": [
        {
          "output_type": "execute_result",
          "data": {
            "text/plain": [
              "<matplotlib.axes._subplots.AxesSubplot at 0x7f91f7d7d048>"
            ]
          },
          "metadata": {
            "tags": []
          },
          "execution_count": 15
        },
        {
          "output_type": "display_data",
          "data": {
            "image/png": "[encoded data removed]",
            "text/plain": [
              "<Figure size 432x288 with 2 Axes>"
            ]
          },
          "metadata": {
            "tags": [],
            "needs_background": "light"
          }
        }
      ]
    },
    {
      "cell_type": "code",
      "metadata": {
        "id": "SHefqObiqA6-",
        "colab_type": "code",
        "colab": {
          "base_uri": "https://localhost:8080/",
          "height": 34
        },
        "outputId": "b8edd2c8-1a55-4551-d62d-163dfd983bec"
      },
      "source": [
        "print('Accuracy: ',metrics.accuracy_score(y_test, y_pred))\n",
        "plt.show()"
      ],
      "execution_count": null,
      "outputs": [
        {
          "output_type": "stream",
          "text": [
            "Accuracy:  0.04837179892507114\n"
          ],
          "name": "stdout"
        }
      ]
    }
  ]
}