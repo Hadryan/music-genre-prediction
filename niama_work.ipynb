{
  "nbformat": 4,
  "nbformat_minor": 0,
  "metadata": {
    "colab": {
      "name": "niama_work.ipynb",
      "provenance": [],
      "collapsed_sections": []
    },
    "kernelspec": {
      "name": "python3",
      "display_name": "Python 3"
    }
  },
  "cells": [
    {
      "cell_type": "code",
      "metadata": {
        "id": "J8OtItryP5rs",
        "colab_type": "code",
        "colab": {}
      },
      "source": [
        ""
      ],
      "execution_count": 1,
      "outputs": []
    },
    {
      "cell_type": "code",
      "metadata": {
        "id": "1vM6veEfDgtf",
        "colab_type": "code",
        "colab": {
          "resources": {
            "http://localhost:8080/nbextensions/google.colab/files.js": {
              "data": "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",
              "ok": true,
              "headers": [
                [
                  "content-type",
                  "application/javascript"
                ]
              ],
              "status": 200,
              "status_text": ""
            }
          },
          "base_uri": "https://localhost:8080/",
          "height": 72
        },
        "outputId": "995ef7cd-90eb-44ef-d92e-338e90993bab"
      },
      "source": [
        "from google.colab import files\n",
        "uploaded = files.upload()"
      ],
      "execution_count": 1,
      "outputs": [
        {
          "output_type": "display_data",
          "data": {
            "text/html": [
              "\n",
              "     <input type=\"file\" id=\"files-040b3357-75c3-4cd0-b916-01ee876b5213\" name=\"files[]\" multiple disabled\n",
              "        style=\"border:none\" />\n",
              "     <output id=\"result-040b3357-75c3-4cd0-b916-01ee876b5213\">\n",
              "      Upload widget is only available when the cell has been executed in the\n",
              "      current browser session. Please rerun this cell to enable.\n",
              "      </output>\n",
              "      <script src=\"/nbextensions/google.colab/files.js\"></script> "
            ],
            "text/plain": [
              "<IPython.core.display.HTML object>"
            ]
          },
          "metadata": {
            "tags": []
          }
        },
        {
          "output_type": "stream",
          "text": [
            "Saving spotify_df_5.csv to spotify_df_5.csv\n"
          ],
          "name": "stdout"
        }
      ]
    },
    {
      "cell_type": "code",
      "metadata": {
        "id": "zqNuTl_pnv1E",
        "colab_type": "code",
        "colab": {
          "base_uri": "https://localhost:8080/",
          "height": 762
        },
        "outputId": "3e8c6f61-9de1-470a-a451-5b5d8b6dbc87"
      },
      "source": [
        "import pandas as pd\n",
        "import io\n",
        "\n",
        "df = pd.read_csv(io.BytesIO(uploaded['spotify_df_5.csv']))\n",
        "df"
      ],
      "execution_count": 2,
      "outputs": [
        {
          "output_type": "execute_result",
          "data": {
            "text/html": [
              "<div>\n",
              "<style scoped>\n",
              "    .dataframe tbody tr th:only-of-type {\n",
              "        vertical-align: middle;\n",
              "    }\n",
              "\n",
              "    .dataframe tbody tr th {\n",
              "        vertical-align: top;\n",
              "    }\n",
              "\n",
              "    .dataframe thead th {\n",
              "        text-align: right;\n",
              "    }\n",
              "</style>\n",
              "<table border=\"1\" class=\"dataframe\">\n",
              "  <thead>\n",
              "    <tr style=\"text-align: right;\">\n",
              "      <th></th>\n",
              "      <th>artist_name</th>\n",
              "      <th>track_name</th>\n",
              "      <th>track_id</th>\n",
              "      <th>artist_href</th>\n",
              "      <th>track_href</th>\n",
              "      <th>genre_name</th>\n",
              "      <th>danceability</th>\n",
              "      <th>energy</th>\n",
              "      <th>key</th>\n",
              "      <th>loudness</th>\n",
              "      <th>mode</th>\n",
              "      <th>speechiness</th>\n",
              "      <th>acousticness</th>\n",
              "      <th>instrumentalness</th>\n",
              "      <th>liveness</th>\n",
              "      <th>valence</th>\n",
              "      <th>tempo</th>\n",
              "      <th>duration_ms</th>\n",
              "    </tr>\n",
              "  </thead>\n",
              "  <tbody>\n",
              "    <tr>\n",
              "      <th>0</th>\n",
              "      <td>yiruma</td>\n",
              "      <td>river flows in you</td>\n",
              "      <td>64rL48E6xWMIXdpcFDEiB8</td>\n",
              "      <td>https://open.spotify.com/artist/0fauHpmSHwodVY...</td>\n",
              "      <td>https://open.spotify.com/track/64rL48E6xWMIXdp...</td>\n",
              "      <td>classical</td>\n",
              "      <td>0.314</td>\n",
              "      <td>0.22000</td>\n",
              "      <td>9</td>\n",
              "      <td>-21.343</td>\n",
              "      <td>1</td>\n",
              "      <td>0.0514</td>\n",
              "      <td>0.98700</td>\n",
              "      <td>0.943000</td>\n",
              "      <td>0.0802</td>\n",
              "      <td>0.1160</td>\n",
              "      <td>145.277</td>\n",
              "      <td>188787</td>\n",
              "    </tr>\n",
              "    <tr>\n",
              "      <th>1</th>\n",
              "      <td>dragonforce</td>\n",
              "      <td>through the fire and flames</td>\n",
              "      <td>6nnacTL5on2aVsRhVDNUSo</td>\n",
              "      <td>https://open.spotify.com/artist/2pH3wEn4eYlMMI...</td>\n",
              "      <td>https://open.spotify.com/track/6nnacTL5on2aVsR...</td>\n",
              "      <td>classical</td>\n",
              "      <td>0.113</td>\n",
              "      <td>0.95100</td>\n",
              "      <td>0</td>\n",
              "      <td>-4.743</td>\n",
              "      <td>0</td>\n",
              "      <td>0.1290</td>\n",
              "      <td>0.00176</td>\n",
              "      <td>0.007180</td>\n",
              "      <td>0.3340</td>\n",
              "      <td>0.1390</td>\n",
              "      <td>200.024</td>\n",
              "      <td>441560</td>\n",
              "    </tr>\n",
              "    <tr>\n",
              "      <th>2</th>\n",
              "      <td>johann sebastian bach</td>\n",
              "      <td>cello suite no. 1 in g major, bwv 1007: i. pré...</td>\n",
              "      <td>61dYvvfIRtIDFuqZypPAta</td>\n",
              "      <td>https://open.spotify.com/artist/5aIqB5nVVvmFsv...</td>\n",
              "      <td>https://open.spotify.com/track/61dYvvfIRtIDFuq...</td>\n",
              "      <td>classical</td>\n",
              "      <td>0.257</td>\n",
              "      <td>0.10900</td>\n",
              "      <td>7</td>\n",
              "      <td>-21.356</td>\n",
              "      <td>1</td>\n",
              "      <td>0.0597</td>\n",
              "      <td>0.90000</td>\n",
              "      <td>0.867000</td>\n",
              "      <td>0.0762</td>\n",
              "      <td>0.3070</td>\n",
              "      <td>75.020</td>\n",
              "      <td>151480</td>\n",
              "    </tr>\n",
              "    <tr>\n",
              "      <th>3</th>\n",
              "      <td>camille saint-saëns</td>\n",
              "      <td>the carnival of the animals, r. 125: xiii. the...</td>\n",
              "      <td>0jOnZhF75V68VsBObWx2XO</td>\n",
              "      <td>https://open.spotify.com/artist/436sYg6CZhNefQ...</td>\n",
              "      <td>https://open.spotify.com/track/0jOnZhF75V68VsB...</td>\n",
              "      <td>classical</td>\n",
              "      <td>0.169</td>\n",
              "      <td>0.01610</td>\n",
              "      <td>9</td>\n",
              "      <td>-31.034</td>\n",
              "      <td>0</td>\n",
              "      <td>0.0442</td>\n",
              "      <td>0.98600</td>\n",
              "      <td>0.860000</td>\n",
              "      <td>0.0805</td>\n",
              "      <td>0.0573</td>\n",
              "      <td>128.143</td>\n",
              "      <td>174267</td>\n",
              "    </tr>\n",
              "    <tr>\n",
              "      <th>4</th>\n",
              "      <td>ludwig van beethoven</td>\n",
              "      <td>sonata no. 14 \"moonlight\" in c-sharp minor\", o...</td>\n",
              "      <td>3DNRdudZ2SstnDCVKFdXxG</td>\n",
              "      <td>https://open.spotify.com/artist/2wOqMjp9TyABvt...</td>\n",
              "      <td>https://open.spotify.com/track/3DNRdudZ2SstnDC...</td>\n",
              "      <td>classical</td>\n",
              "      <td>0.184</td>\n",
              "      <td>0.00527</td>\n",
              "      <td>1</td>\n",
              "      <td>-37.264</td>\n",
              "      <td>0</td>\n",
              "      <td>0.0432</td>\n",
              "      <td>0.99500</td>\n",
              "      <td>0.887000</td>\n",
              "      <td>0.1730</td>\n",
              "      <td>0.1510</td>\n",
              "      <td>170.612</td>\n",
              "      <td>315427</td>\n",
              "    </tr>\n",
              "    <tr>\n",
              "      <th>...</th>\n",
              "      <td>...</td>\n",
              "      <td>...</td>\n",
              "      <td>...</td>\n",
              "      <td>...</td>\n",
              "      <td>...</td>\n",
              "      <td>...</td>\n",
              "      <td>...</td>\n",
              "      <td>...</td>\n",
              "      <td>...</td>\n",
              "      <td>...</td>\n",
              "      <td>...</td>\n",
              "      <td>...</td>\n",
              "      <td>...</td>\n",
              "      <td>...</td>\n",
              "      <td>...</td>\n",
              "      <td>...</td>\n",
              "      <td>...</td>\n",
              "      <td>...</td>\n",
              "    </tr>\n",
              "    <tr>\n",
              "      <th>11262</th>\n",
              "      <td>whethan</td>\n",
              "      <td>superlove (feat. oh wonder)</td>\n",
              "      <td>0lchLc0vSyRRqKSPIkFtJI</td>\n",
              "      <td>https://open.spotify.com/artist/0vqJkZ0RpLZixt...</td>\n",
              "      <td>https://open.spotify.com/track/0lchLc0vSyRRqKS...</td>\n",
              "      <td>rock</td>\n",
              "      <td>0.578</td>\n",
              "      <td>0.49100</td>\n",
              "      <td>11</td>\n",
              "      <td>-8.544</td>\n",
              "      <td>0</td>\n",
              "      <td>0.2100</td>\n",
              "      <td>0.20300</td>\n",
              "      <td>0.000378</td>\n",
              "      <td>0.1820</td>\n",
              "      <td>0.6400</td>\n",
              "      <td>98.273</td>\n",
              "      <td>184814</td>\n",
              "    </tr>\n",
              "    <tr>\n",
              "      <th>11263</th>\n",
              "      <td>my chemical romance</td>\n",
              "      <td>the ghost of you</td>\n",
              "      <td>1yKAqZoi8xWGLCf5vajroL</td>\n",
              "      <td>https://open.spotify.com/artist/7FBcuc1gsnv6Y1...</td>\n",
              "      <td>https://open.spotify.com/track/1yKAqZoi8xWGLCf...</td>\n",
              "      <td>rock</td>\n",
              "      <td>0.202</td>\n",
              "      <td>0.88600</td>\n",
              "      <td>11</td>\n",
              "      <td>-3.805</td>\n",
              "      <td>0</td>\n",
              "      <td>0.0816</td>\n",
              "      <td>0.02860</td>\n",
              "      <td>0.000000</td>\n",
              "      <td>0.6430</td>\n",
              "      <td>0.1920</td>\n",
              "      <td>145.781</td>\n",
              "      <td>194253</td>\n",
              "    </tr>\n",
              "    <tr>\n",
              "      <th>11264</th>\n",
              "      <td>maroon 5</td>\n",
              "      <td>cold (feat. future)</td>\n",
              "      <td>7gwLQ4tZ5UdZ7qNcDyJ8wr</td>\n",
              "      <td>https://open.spotify.com/artist/04gDigrS5kc9YW...</td>\n",
              "      <td>https://open.spotify.com/track/7gwLQ4tZ5UdZ7qN...</td>\n",
              "      <td>rock</td>\n",
              "      <td>0.693</td>\n",
              "      <td>0.71700</td>\n",
              "      <td>9</td>\n",
              "      <td>-6.346</td>\n",
              "      <td>0</td>\n",
              "      <td>0.1070</td>\n",
              "      <td>0.14000</td>\n",
              "      <td>0.000000</td>\n",
              "      <td>0.0464</td>\n",
              "      <td>0.4120</td>\n",
              "      <td>99.836</td>\n",
              "      <td>234308</td>\n",
              "    </tr>\n",
              "    <tr>\n",
              "      <th>11265</th>\n",
              "      <td>the beatles</td>\n",
              "      <td>oh! darling - remastered 2009</td>\n",
              "      <td>2mxByJWOajjiVsLWjNXvDJ</td>\n",
              "      <td>https://open.spotify.com/artist/3WrFJ7ztbogyGn...</td>\n",
              "      <td>https://open.spotify.com/track/2mxByJWOajjiVsL...</td>\n",
              "      <td>rock</td>\n",
              "      <td>0.422</td>\n",
              "      <td>0.65600</td>\n",
              "      <td>4</td>\n",
              "      <td>-8.412</td>\n",
              "      <td>1</td>\n",
              "      <td>0.0397</td>\n",
              "      <td>0.01260</td>\n",
              "      <td>0.027900</td>\n",
              "      <td>0.2680</td>\n",
              "      <td>0.5490</td>\n",
              "      <td>173.930</td>\n",
              "      <td>207240</td>\n",
              "    </tr>\n",
              "    <tr>\n",
              "      <th>11266</th>\n",
              "      <td>the doors</td>\n",
              "      <td>l.a. woman</td>\n",
              "      <td>6DmfWj5kOa1fX8AwN9byOn</td>\n",
              "      <td>https://open.spotify.com/artist/22WZ7M8sxp5THd...</td>\n",
              "      <td>https://open.spotify.com/track/6DmfWj5kOa1fX8A...</td>\n",
              "      <td>rock</td>\n",
              "      <td>0.354</td>\n",
              "      <td>0.73100</td>\n",
              "      <td>2</td>\n",
              "      <td>-9.178</td>\n",
              "      <td>1</td>\n",
              "      <td>0.0381</td>\n",
              "      <td>0.08170</td>\n",
              "      <td>0.001190</td>\n",
              "      <td>0.1150</td>\n",
              "      <td>0.6980</td>\n",
              "      <td>170.640</td>\n",
              "      <td>471160</td>\n",
              "    </tr>\n",
              "  </tbody>\n",
              "</table>\n",
              "<p>11267 rows × 18 columns</p>\n",
              "</div>"
            ],
            "text/plain": [
              "                 artist_name  ... duration_ms\n",
              "0                     yiruma  ...      188787\n",
              "1                dragonforce  ...      441560\n",
              "2      johann sebastian bach  ...      151480\n",
              "3        camille saint-saëns  ...      174267\n",
              "4       ludwig van beethoven  ...      315427\n",
              "...                      ...  ...         ...\n",
              "11262                whethan  ...      184814\n",
              "11263    my chemical romance  ...      194253\n",
              "11264               maroon 5  ...      234308\n",
              "11265            the beatles  ...      207240\n",
              "11266              the doors  ...      471160\n",
              "\n",
              "[11267 rows x 18 columns]"
            ]
          },
          "metadata": {
            "tags": []
          },
          "execution_count": 2
        }
      ]
    },
    {
      "cell_type": "code",
      "metadata": {
        "id": "U0Iguv-PtsSw",
        "colab_type": "code",
        "colab": {
          "base_uri": "https://localhost:8080/",
          "height": 34
        },
        "outputId": "8fa81526-d7b6-4f1c-d546-b6d0e5898efd"
      },
      "source": [
        "target = df[\"genre_name\"]\n",
        "target_names = target.unique().tolist()\n",
        "target_names"
      ],
      "execution_count": 3,
      "outputs": [
        {
          "output_type": "execute_result",
          "data": {
            "text/plain": [
              "['classical', 'country', 'folk', 'hip hop', 'jazz', 'pop', 'rock']"
            ]
          },
          "metadata": {
            "tags": []
          },
          "execution_count": 3
        }
      ]
    },
    {
      "cell_type": "code",
      "metadata": {
        "id": "YxVDxcTVub0D",
        "colab_type": "code",
        "colab": {
          "base_uri": "https://localhost:8080/",
          "height": 204
        },
        "outputId": "6fbe526a-512e-4a3e-ebad-765dce51684a"
      },
      "source": [
        "data = df.drop([\"artist_name\", \"track_name\", \"track_id\", \"artist_href\", \"track_href\", \"genre_name\"], axis=1)\n",
        "feature_names = data.columns\n",
        "data.head()"
      ],
      "execution_count": 4,
      "outputs": [
        {
          "output_type": "execute_result",
          "data": {
            "text/html": [
              "<div>\n",
              "<style scoped>\n",
              "    .dataframe tbody tr th:only-of-type {\n",
              "        vertical-align: middle;\n",
              "    }\n",
              "\n",
              "    .dataframe tbody tr th {\n",
              "        vertical-align: top;\n",
              "    }\n",
              "\n",
              "    .dataframe thead th {\n",
              "        text-align: right;\n",
              "    }\n",
              "</style>\n",
              "<table border=\"1\" class=\"dataframe\">\n",
              "  <thead>\n",
              "    <tr style=\"text-align: right;\">\n",
              "      <th></th>\n",
              "      <th>danceability</th>\n",
              "      <th>energy</th>\n",
              "      <th>key</th>\n",
              "      <th>loudness</th>\n",
              "      <th>mode</th>\n",
              "      <th>speechiness</th>\n",
              "      <th>acousticness</th>\n",
              "      <th>instrumentalness</th>\n",
              "      <th>liveness</th>\n",
              "      <th>valence</th>\n",
              "      <th>tempo</th>\n",
              "      <th>duration_ms</th>\n",
              "    </tr>\n",
              "  </thead>\n",
              "  <tbody>\n",
              "    <tr>\n",
              "      <th>0</th>\n",
              "      <td>0.314</td>\n",
              "      <td>0.22000</td>\n",
              "      <td>9</td>\n",
              "      <td>-21.343</td>\n",
              "      <td>1</td>\n",
              "      <td>0.0514</td>\n",
              "      <td>0.98700</td>\n",
              "      <td>0.94300</td>\n",
              "      <td>0.0802</td>\n",
              "      <td>0.1160</td>\n",
              "      <td>145.277</td>\n",
              "      <td>188787</td>\n",
              "    </tr>\n",
              "    <tr>\n",
              "      <th>1</th>\n",
              "      <td>0.113</td>\n",
              "      <td>0.95100</td>\n",
              "      <td>0</td>\n",
              "      <td>-4.743</td>\n",
              "      <td>0</td>\n",
              "      <td>0.1290</td>\n",
              "      <td>0.00176</td>\n",
              "      <td>0.00718</td>\n",
              "      <td>0.3340</td>\n",
              "      <td>0.1390</td>\n",
              "      <td>200.024</td>\n",
              "      <td>441560</td>\n",
              "    </tr>\n",
              "    <tr>\n",
              "      <th>2</th>\n",
              "      <td>0.257</td>\n",
              "      <td>0.10900</td>\n",
              "      <td>7</td>\n",
              "      <td>-21.356</td>\n",
              "      <td>1</td>\n",
              "      <td>0.0597</td>\n",
              "      <td>0.90000</td>\n",
              "      <td>0.86700</td>\n",
              "      <td>0.0762</td>\n",
              "      <td>0.3070</td>\n",
              "      <td>75.020</td>\n",
              "      <td>151480</td>\n",
              "    </tr>\n",
              "    <tr>\n",
              "      <th>3</th>\n",
              "      <td>0.169</td>\n",
              "      <td>0.01610</td>\n",
              "      <td>9</td>\n",
              "      <td>-31.034</td>\n",
              "      <td>0</td>\n",
              "      <td>0.0442</td>\n",
              "      <td>0.98600</td>\n",
              "      <td>0.86000</td>\n",
              "      <td>0.0805</td>\n",
              "      <td>0.0573</td>\n",
              "      <td>128.143</td>\n",
              "      <td>174267</td>\n",
              "    </tr>\n",
              "    <tr>\n",
              "      <th>4</th>\n",
              "      <td>0.184</td>\n",
              "      <td>0.00527</td>\n",
              "      <td>1</td>\n",
              "      <td>-37.264</td>\n",
              "      <td>0</td>\n",
              "      <td>0.0432</td>\n",
              "      <td>0.99500</td>\n",
              "      <td>0.88700</td>\n",
              "      <td>0.1730</td>\n",
              "      <td>0.1510</td>\n",
              "      <td>170.612</td>\n",
              "      <td>315427</td>\n",
              "    </tr>\n",
              "  </tbody>\n",
              "</table>\n",
              "</div>"
            ],
            "text/plain": [
              "   danceability   energy  key  ...  valence    tempo  duration_ms\n",
              "0         0.314  0.22000    9  ...   0.1160  145.277       188787\n",
              "1         0.113  0.95100    0  ...   0.1390  200.024       441560\n",
              "2         0.257  0.10900    7  ...   0.3070   75.020       151480\n",
              "3         0.169  0.01610    9  ...   0.0573  128.143       174267\n",
              "4         0.184  0.00527    1  ...   0.1510  170.612       315427\n",
              "\n",
              "[5 rows x 12 columns]"
            ]
          },
          "metadata": {
            "tags": []
          },
          "execution_count": 4
        }
      ]
    },
    {
      "cell_type": "code",
      "metadata": {
        "id": "kVmHCHnpiqn4",
        "colab_type": "code",
        "colab": {
          "base_uri": "https://localhost:8080/",
          "height": 71
        },
        "outputId": "f8f6d53e-47a9-46dd-a1d9-44e637040544"
      },
      "source": [
        "import pandas as pd\n",
        "from sklearn.model_selection import train_test_split\n",
        "from sklearn.linear_model import LogisticRegression\n",
        "from sklearn import metrics\n",
        "import seaborn as sn\n",
        "import matplotlib.pyplot as plt"
      ],
      "execution_count": 5,
      "outputs": [
        {
          "output_type": "stream",
          "text": [
            "/usr/local/lib/python3.6/dist-packages/statsmodels/tools/_testing.py:19: FutureWarning: pandas.util.testing is deprecated. Use the functions in the public API at pandas.testing instead.\n",
            "  import pandas.util.testing as tm\n"
          ],
          "name": "stderr"
        }
      ]
    },
    {
      "cell_type": "code",
      "metadata": {
        "id": "M7Z6UAi3o4fL",
        "colab_type": "code",
        "colab": {}
      },
      "source": [
        "X_train,X_test,y_train,y_test = train_test_split(data,target,test_size=0.25,random_state=0)"
      ],
      "execution_count": 6,
      "outputs": []
    },
    {
      "cell_type": "code",
      "metadata": {
        "id": "y4oyBV_R1quk",
        "colab_type": "code",
        "colab": {
          "base_uri": "https://localhost:8080/",
          "height": 238
        },
        "outputId": "dc6e32e3-a967-416a-94bb-af26d7ee84b2"
      },
      "source": [
        "data.dtypes"
      ],
      "execution_count": 7,
      "outputs": [
        {
          "output_type": "execute_result",
          "data": {
            "text/plain": [
              "danceability        float64\n",
              "energy              float64\n",
              "key                   int64\n",
              "loudness            float64\n",
              "mode                  int64\n",
              "speechiness         float64\n",
              "acousticness        float64\n",
              "instrumentalness    float64\n",
              "liveness            float64\n",
              "valence             float64\n",
              "tempo               float64\n",
              "duration_ms           int64\n",
              "dtype: object"
            ]
          },
          "metadata": {
            "tags": []
          },
          "execution_count": 7
        }
      ]
    },
    {
      "cell_type": "code",
      "metadata": {
        "id": "yfYRf81teWkQ",
        "colab_type": "code",
        "colab": {
          "base_uri": "https://localhost:8080/",
          "height": 419
        },
        "outputId": "c16fb88c-9ad8-4156-c454-dd3a3b614ba2"
      },
      "source": [
        "data.iloc[:, 1:]"
      ],
      "execution_count": 8,
      "outputs": [
        {
          "output_type": "execute_result",
          "data": {
            "text/html": [
              "<div>\n",
              "<style scoped>\n",
              "    .dataframe tbody tr th:only-of-type {\n",
              "        vertical-align: middle;\n",
              "    }\n",
              "\n",
              "    .dataframe tbody tr th {\n",
              "        vertical-align: top;\n",
              "    }\n",
              "\n",
              "    .dataframe thead th {\n",
              "        text-align: right;\n",
              "    }\n",
              "</style>\n",
              "<table border=\"1\" class=\"dataframe\">\n",
              "  <thead>\n",
              "    <tr style=\"text-align: right;\">\n",
              "      <th></th>\n",
              "      <th>energy</th>\n",
              "      <th>key</th>\n",
              "      <th>loudness</th>\n",
              "      <th>mode</th>\n",
              "      <th>speechiness</th>\n",
              "      <th>acousticness</th>\n",
              "      <th>instrumentalness</th>\n",
              "      <th>liveness</th>\n",
              "      <th>valence</th>\n",
              "      <th>tempo</th>\n",
              "      <th>duration_ms</th>\n",
              "    </tr>\n",
              "  </thead>\n",
              "  <tbody>\n",
              "    <tr>\n",
              "      <th>0</th>\n",
              "      <td>0.22000</td>\n",
              "      <td>9</td>\n",
              "      <td>-21.343</td>\n",
              "      <td>1</td>\n",
              "      <td>0.0514</td>\n",
              "      <td>0.98700</td>\n",
              "      <td>0.943000</td>\n",
              "      <td>0.0802</td>\n",
              "      <td>0.1160</td>\n",
              "      <td>145.277</td>\n",
              "      <td>188787</td>\n",
              "    </tr>\n",
              "    <tr>\n",
              "      <th>1</th>\n",
              "      <td>0.95100</td>\n",
              "      <td>0</td>\n",
              "      <td>-4.743</td>\n",
              "      <td>0</td>\n",
              "      <td>0.1290</td>\n",
              "      <td>0.00176</td>\n",
              "      <td>0.007180</td>\n",
              "      <td>0.3340</td>\n",
              "      <td>0.1390</td>\n",
              "      <td>200.024</td>\n",
              "      <td>441560</td>\n",
              "    </tr>\n",
              "    <tr>\n",
              "      <th>2</th>\n",
              "      <td>0.10900</td>\n",
              "      <td>7</td>\n",
              "      <td>-21.356</td>\n",
              "      <td>1</td>\n",
              "      <td>0.0597</td>\n",
              "      <td>0.90000</td>\n",
              "      <td>0.867000</td>\n",
              "      <td>0.0762</td>\n",
              "      <td>0.3070</td>\n",
              "      <td>75.020</td>\n",
              "      <td>151480</td>\n",
              "    </tr>\n",
              "    <tr>\n",
              "      <th>3</th>\n",
              "      <td>0.01610</td>\n",
              "      <td>9</td>\n",
              "      <td>-31.034</td>\n",
              "      <td>0</td>\n",
              "      <td>0.0442</td>\n",
              "      <td>0.98600</td>\n",
              "      <td>0.860000</td>\n",
              "      <td>0.0805</td>\n",
              "      <td>0.0573</td>\n",
              "      <td>128.143</td>\n",
              "      <td>174267</td>\n",
              "    </tr>\n",
              "    <tr>\n",
              "      <th>4</th>\n",
              "      <td>0.00527</td>\n",
              "      <td>1</td>\n",
              "      <td>-37.264</td>\n",
              "      <td>0</td>\n",
              "      <td>0.0432</td>\n",
              "      <td>0.99500</td>\n",
              "      <td>0.887000</td>\n",
              "      <td>0.1730</td>\n",
              "      <td>0.1510</td>\n",
              "      <td>170.612</td>\n",
              "      <td>315427</td>\n",
              "    </tr>\n",
              "    <tr>\n",
              "      <th>...</th>\n",
              "      <td>...</td>\n",
              "      <td>...</td>\n",
              "      <td>...</td>\n",
              "      <td>...</td>\n",
              "      <td>...</td>\n",
              "      <td>...</td>\n",
              "      <td>...</td>\n",
              "      <td>...</td>\n",
              "      <td>...</td>\n",
              "      <td>...</td>\n",
              "      <td>...</td>\n",
              "    </tr>\n",
              "    <tr>\n",
              "      <th>11262</th>\n",
              "      <td>0.49100</td>\n",
              "      <td>11</td>\n",
              "      <td>-8.544</td>\n",
              "      <td>0</td>\n",
              "      <td>0.2100</td>\n",
              "      <td>0.20300</td>\n",
              "      <td>0.000378</td>\n",
              "      <td>0.1820</td>\n",
              "      <td>0.6400</td>\n",
              "      <td>98.273</td>\n",
              "      <td>184814</td>\n",
              "    </tr>\n",
              "    <tr>\n",
              "      <th>11263</th>\n",
              "      <td>0.88600</td>\n",
              "      <td>11</td>\n",
              "      <td>-3.805</td>\n",
              "      <td>0</td>\n",
              "      <td>0.0816</td>\n",
              "      <td>0.02860</td>\n",
              "      <td>0.000000</td>\n",
              "      <td>0.6430</td>\n",
              "      <td>0.1920</td>\n",
              "      <td>145.781</td>\n",
              "      <td>194253</td>\n",
              "    </tr>\n",
              "    <tr>\n",
              "      <th>11264</th>\n",
              "      <td>0.71700</td>\n",
              "      <td>9</td>\n",
              "      <td>-6.346</td>\n",
              "      <td>0</td>\n",
              "      <td>0.1070</td>\n",
              "      <td>0.14000</td>\n",
              "      <td>0.000000</td>\n",
              "      <td>0.0464</td>\n",
              "      <td>0.4120</td>\n",
              "      <td>99.836</td>\n",
              "      <td>234308</td>\n",
              "    </tr>\n",
              "    <tr>\n",
              "      <th>11265</th>\n",
              "      <td>0.65600</td>\n",
              "      <td>4</td>\n",
              "      <td>-8.412</td>\n",
              "      <td>1</td>\n",
              "      <td>0.0397</td>\n",
              "      <td>0.01260</td>\n",
              "      <td>0.027900</td>\n",
              "      <td>0.2680</td>\n",
              "      <td>0.5490</td>\n",
              "      <td>173.930</td>\n",
              "      <td>207240</td>\n",
              "    </tr>\n",
              "    <tr>\n",
              "      <th>11266</th>\n",
              "      <td>0.73100</td>\n",
              "      <td>2</td>\n",
              "      <td>-9.178</td>\n",
              "      <td>1</td>\n",
              "      <td>0.0381</td>\n",
              "      <td>0.08170</td>\n",
              "      <td>0.001190</td>\n",
              "      <td>0.1150</td>\n",
              "      <td>0.6980</td>\n",
              "      <td>170.640</td>\n",
              "      <td>471160</td>\n",
              "    </tr>\n",
              "  </tbody>\n",
              "</table>\n",
              "<p>11267 rows × 11 columns</p>\n",
              "</div>"
            ],
            "text/plain": [
              "        energy  key  loudness  mode  ...  liveness  valence    tempo  duration_ms\n",
              "0      0.22000    9   -21.343     1  ...    0.0802   0.1160  145.277       188787\n",
              "1      0.95100    0    -4.743     0  ...    0.3340   0.1390  200.024       441560\n",
              "2      0.10900    7   -21.356     1  ...    0.0762   0.3070   75.020       151480\n",
              "3      0.01610    9   -31.034     0  ...    0.0805   0.0573  128.143       174267\n",
              "4      0.00527    1   -37.264     0  ...    0.1730   0.1510  170.612       315427\n",
              "...        ...  ...       ...   ...  ...       ...      ...      ...          ...\n",
              "11262  0.49100   11    -8.544     0  ...    0.1820   0.6400   98.273       184814\n",
              "11263  0.88600   11    -3.805     0  ...    0.6430   0.1920  145.781       194253\n",
              "11264  0.71700    9    -6.346     0  ...    0.0464   0.4120   99.836       234308\n",
              "11265  0.65600    4    -8.412     1  ...    0.2680   0.5490  173.930       207240\n",
              "11266  0.73100    2    -9.178     1  ...    0.1150   0.6980  170.640       471160\n",
              "\n",
              "[11267 rows x 11 columns]"
            ]
          },
          "metadata": {
            "tags": []
          },
          "execution_count": 8
        }
      ]
    },
    {
      "cell_type": "code",
      "metadata": {
        "id": "rQNMIifpKP82",
        "colab_type": "code",
        "colab": {}
      },
      "source": [
        "from sklearn.preprocessing import StandardScaler\n",
        "\n",
        "# Create a StandardScater model and fit it to the training data\n",
        "\n",
        "X_scaler = StandardScaler().fit(X_train)\n",
        "X_train_scaled = X_scaler.transform(X_train)\n",
        "X_test_scaled = X_scaler.transform(X_test)"
      ],
      "execution_count": 12,
      "outputs": []
    },
    {
      "cell_type": "code",
      "metadata": {
        "id": "KXYl4NKEpctY",
        "colab_type": "code",
        "colab": {}
      },
      "source": [
        "logistic_regression= LogisticRegression()\n",
        "logistic_regression.fit(X_train_scaled, y_train)\n",
        "y_pred=logistic_regression.predict(X_test_scaled)"
      ],
      "execution_count": 13,
      "outputs": []
    },
    {
      "cell_type": "code",
      "metadata": {
        "id": "cF4Z0Jgfpo9D",
        "colab_type": "code",
        "colab": {
          "base_uri": "https://localhost:8080/",
          "height": 329
        },
        "outputId": "07bef8d9-cce9-46ff-82a3-d51d5c9bb8fb"
      },
      "source": [
        "confusion_matrix = pd.crosstab(y_test, y_pred, rownames=['Actual'], colnames=['Predicted'])\n",
        "sn.heatmap(confusion_matrix, annot=True)"
      ],
      "execution_count": 14,
      "outputs": [
        {
          "output_type": "execute_result",
          "data": {
            "text/plain": [
              "<matplotlib.axes._subplots.AxesSubplot at 0x7f9bbc5fdd30>"
            ]
          },
          "metadata": {
            "tags": []
          },
          "execution_count": 14
        },
        {
          "output_type": "display_data",
          "data": {
            "image/png": "[encoded data removed]",
            "text/plain": [
              "<Figure size 432x288 with 2 Axes>"
            ]
          },
          "metadata": {
            "tags": [],
            "needs_background": "light"
          }
        }
      ]
    },
    {
      "cell_type": "code",
      "metadata": {
        "id": "SHefqObiqA6-",
        "colab_type": "code",
        "colab": {
          "base_uri": "https://localhost:8080/",
          "height": 34
        },
        "outputId": "50d733fc-b61c-4a66-eb04-4ec6665d0000"
      },
      "source": [
        "print('Accuracy: ',metrics.accuracy_score(y_test, y_pred))\n",
        "plt.show()"
      ],
      "execution_count": 23,
      "outputs": [
        {
          "output_type": "stream",
          "text": [
            "Accuracy:  0.561945331913383\n"
          ],
          "name": "stdout"
        }
      ]
    },
    {
      "cell_type": "code",
      "metadata": {
        "id": "jRgB5YF9d6GA",
        "colab_type": "code",
        "colab": {}
      },
      "source": [
        "import pickle\n",
        "# save the model to disk\n",
        "filename = 'niama_audio_model.save'\n",
        "pickle.dump(logistic_regression, open(filename, 'wb'))"
      ],
      "execution_count": 24,
      "outputs": []
    },
    {
      "cell_type": "code",
      "metadata": {
        "id": "zEjN4bk6i0JN",
        "colab_type": "code",
        "colab": {}
      },
      "source": [
        "# load the model from disk\n",
        "loaded_model = pickle.load(open(filename, 'rb'))\n",
        "result = loaded_model.score(X_test, y_pred)\n",
        "print(result)"
      ],
      "execution_count": null,
      "outputs": []
    }
  ]
}