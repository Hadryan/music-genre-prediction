{
 "cells": [
  {
   "cell_type": "markdown",
   "metadata": {},
   "source": [
    "# LOAD DATA & CREATE UNIQUE KEY"
   ]
  },
  {
   "cell_type": "code",
   "execution_count": 1,
   "metadata": {},
   "outputs": [],
   "source": [
    "import pandas as pd\n",
    "genre_df = pd.read_csv('../final-data/spotify_df_5.csv')\n",
    "lyrics_df = pd.read_csv('../final-data/az_lyrics_dataframe.csv')"
   ]
  },
  {
   "cell_type": "code",
   "execution_count": 2,
   "metadata": {},
   "outputs": [
    {
     "data": {
      "text/html": [
       "<div>\n",
       "<style scoped>\n",
       "    .dataframe tbody tr th:only-of-type {\n",
       "        vertical-align: middle;\n",
       "    }\n",
       "\n",
       "    .dataframe tbody tr th {\n",
       "        vertical-align: top;\n",
       "    }\n",
       "\n",
       "    .dataframe thead th {\n",
       "        text-align: right;\n",
       "    }\n",
       "</style>\n",
       "<table border=\"1\" class=\"dataframe\">\n",
       "  <thead>\n",
       "    <tr style=\"text-align: right;\">\n",
       "      <th></th>\n",
       "      <th>artist_name</th>\n",
       "      <th>track_name</th>\n",
       "      <th>track_id</th>\n",
       "      <th>artist_href</th>\n",
       "      <th>track_href</th>\n",
       "      <th>genre_name</th>\n",
       "      <th>danceability</th>\n",
       "      <th>energy</th>\n",
       "      <th>key</th>\n",
       "      <th>loudness</th>\n",
       "      <th>mode</th>\n",
       "      <th>speechiness</th>\n",
       "      <th>acousticness</th>\n",
       "      <th>instrumentalness</th>\n",
       "      <th>liveness</th>\n",
       "      <th>valence</th>\n",
       "      <th>tempo</th>\n",
       "      <th>duration_ms</th>\n",
       "    </tr>\n",
       "  </thead>\n",
       "  <tbody>\n",
       "    <tr>\n",
       "      <th>0</th>\n",
       "      <td>yiruma</td>\n",
       "      <td>river flows in you</td>\n",
       "      <td>64rL48E6xWMIXdpcFDEiB8</td>\n",
       "      <td>https://open.spotify.com/artist/0fauHpmSHwodVY...</td>\n",
       "      <td>https://open.spotify.com/track/64rL48E6xWMIXdp...</td>\n",
       "      <td>classical</td>\n",
       "      <td>0.314</td>\n",
       "      <td>0.22000</td>\n",
       "      <td>9</td>\n",
       "      <td>-21.343</td>\n",
       "      <td>1</td>\n",
       "      <td>0.0514</td>\n",
       "      <td>0.98700</td>\n",
       "      <td>0.94300</td>\n",
       "      <td>0.0802</td>\n",
       "      <td>0.1160</td>\n",
       "      <td>145.277</td>\n",
       "      <td>188787</td>\n",
       "    </tr>\n",
       "    <tr>\n",
       "      <th>1</th>\n",
       "      <td>dragonforce</td>\n",
       "      <td>through the fire and flames</td>\n",
       "      <td>6nnacTL5on2aVsRhVDNUSo</td>\n",
       "      <td>https://open.spotify.com/artist/2pH3wEn4eYlMMI...</td>\n",
       "      <td>https://open.spotify.com/track/6nnacTL5on2aVsR...</td>\n",
       "      <td>classical</td>\n",
       "      <td>0.113</td>\n",
       "      <td>0.95100</td>\n",
       "      <td>0</td>\n",
       "      <td>-4.743</td>\n",
       "      <td>0</td>\n",
       "      <td>0.1290</td>\n",
       "      <td>0.00176</td>\n",
       "      <td>0.00718</td>\n",
       "      <td>0.3340</td>\n",
       "      <td>0.1390</td>\n",
       "      <td>200.024</td>\n",
       "      <td>441560</td>\n",
       "    </tr>\n",
       "    <tr>\n",
       "      <th>2</th>\n",
       "      <td>johann sebastian bach</td>\n",
       "      <td>cello suite no. 1 in g major, bwv 1007: i. pré...</td>\n",
       "      <td>61dYvvfIRtIDFuqZypPAta</td>\n",
       "      <td>https://open.spotify.com/artist/5aIqB5nVVvmFsv...</td>\n",
       "      <td>https://open.spotify.com/track/61dYvvfIRtIDFuq...</td>\n",
       "      <td>classical</td>\n",
       "      <td>0.257</td>\n",
       "      <td>0.10900</td>\n",
       "      <td>7</td>\n",
       "      <td>-21.356</td>\n",
       "      <td>1</td>\n",
       "      <td>0.0597</td>\n",
       "      <td>0.90000</td>\n",
       "      <td>0.86700</td>\n",
       "      <td>0.0762</td>\n",
       "      <td>0.3070</td>\n",
       "      <td>75.020</td>\n",
       "      <td>151480</td>\n",
       "    </tr>\n",
       "    <tr>\n",
       "      <th>3</th>\n",
       "      <td>camille saint-saëns</td>\n",
       "      <td>the carnival of the animals, r. 125: xiii. the...</td>\n",
       "      <td>0jOnZhF75V68VsBObWx2XO</td>\n",
       "      <td>https://open.spotify.com/artist/436sYg6CZhNefQ...</td>\n",
       "      <td>https://open.spotify.com/track/0jOnZhF75V68VsB...</td>\n",
       "      <td>classical</td>\n",
       "      <td>0.169</td>\n",
       "      <td>0.01610</td>\n",
       "      <td>9</td>\n",
       "      <td>-31.034</td>\n",
       "      <td>0</td>\n",
       "      <td>0.0442</td>\n",
       "      <td>0.98600</td>\n",
       "      <td>0.86000</td>\n",
       "      <td>0.0805</td>\n",
       "      <td>0.0573</td>\n",
       "      <td>128.143</td>\n",
       "      <td>174267</td>\n",
       "    </tr>\n",
       "    <tr>\n",
       "      <th>4</th>\n",
       "      <td>ludwig van beethoven</td>\n",
       "      <td>sonata no. 14 \"moonlight\" in c-sharp minor\", o...</td>\n",
       "      <td>3DNRdudZ2SstnDCVKFdXxG</td>\n",
       "      <td>https://open.spotify.com/artist/2wOqMjp9TyABvt...</td>\n",
       "      <td>https://open.spotify.com/track/3DNRdudZ2SstnDC...</td>\n",
       "      <td>classical</td>\n",
       "      <td>0.184</td>\n",
       "      <td>0.00527</td>\n",
       "      <td>1</td>\n",
       "      <td>-37.264</td>\n",
       "      <td>0</td>\n",
       "      <td>0.0432</td>\n",
       "      <td>0.99500</td>\n",
       "      <td>0.88700</td>\n",
       "      <td>0.1730</td>\n",
       "      <td>0.1510</td>\n",
       "      <td>170.612</td>\n",
       "      <td>315427</td>\n",
       "    </tr>\n",
       "  </tbody>\n",
       "</table>\n",
       "</div>"
      ],
      "text/plain": [
       "             artist_name                                         track_name  \\\n",
       "0                 yiruma                                 river flows in you   \n",
       "1            dragonforce                        through the fire and flames   \n",
       "2  johann sebastian bach  cello suite no. 1 in g major, bwv 1007: i. pré...   \n",
       "3    camille saint-saëns  the carnival of the animals, r. 125: xiii. the...   \n",
       "4   ludwig van beethoven  sonata no. 14 \"moonlight\" in c-sharp minor\", o...   \n",
       "\n",
       "                 track_id                                        artist_href  \\\n",
       "0  64rL48E6xWMIXdpcFDEiB8  https://open.spotify.com/artist/0fauHpmSHwodVY...   \n",
       "1  6nnacTL5on2aVsRhVDNUSo  https://open.spotify.com/artist/2pH3wEn4eYlMMI...   \n",
       "2  61dYvvfIRtIDFuqZypPAta  https://open.spotify.com/artist/5aIqB5nVVvmFsv...   \n",
       "3  0jOnZhF75V68VsBObWx2XO  https://open.spotify.com/artist/436sYg6CZhNefQ...   \n",
       "4  3DNRdudZ2SstnDCVKFdXxG  https://open.spotify.com/artist/2wOqMjp9TyABvt...   \n",
       "\n",
       "                                          track_href genre_name  danceability  \\\n",
       "0  https://open.spotify.com/track/64rL48E6xWMIXdp...  classical         0.314   \n",
       "1  https://open.spotify.com/track/6nnacTL5on2aVsR...  classical         0.113   \n",
       "2  https://open.spotify.com/track/61dYvvfIRtIDFuq...  classical         0.257   \n",
       "3  https://open.spotify.com/track/0jOnZhF75V68VsB...  classical         0.169   \n",
       "4  https://open.spotify.com/track/3DNRdudZ2SstnDC...  classical         0.184   \n",
       "\n",
       "    energy  key  loudness  mode  speechiness  acousticness  instrumentalness  \\\n",
       "0  0.22000    9   -21.343     1       0.0514       0.98700           0.94300   \n",
       "1  0.95100    0    -4.743     0       0.1290       0.00176           0.00718   \n",
       "2  0.10900    7   -21.356     1       0.0597       0.90000           0.86700   \n",
       "3  0.01610    9   -31.034     0       0.0442       0.98600           0.86000   \n",
       "4  0.00527    1   -37.264     0       0.0432       0.99500           0.88700   \n",
       "\n",
       "   liveness  valence    tempo  duration_ms  \n",
       "0    0.0802   0.1160  145.277       188787  \n",
       "1    0.3340   0.1390  200.024       441560  \n",
       "2    0.0762   0.3070   75.020       151480  \n",
       "3    0.0805   0.0573  128.143       174267  \n",
       "4    0.1730   0.1510  170.612       315427  "
      ]
     },
     "execution_count": 2,
     "metadata": {},
     "output_type": "execute_result"
    }
   ],
   "source": [
    "genre_df.head()"
   ]
  },
  {
   "cell_type": "code",
   "execution_count": 3,
   "metadata": {},
   "outputs": [
    {
     "data": {
      "text/plain": [
       "11247"
      ]
     },
     "execution_count": 3,
     "metadata": {},
     "output_type": "execute_result"
    }
   ],
   "source": [
    "genre_df.drop_duplicates(subset=['artist_name','track_name'],inplace=True)\n",
    "len(genre_df)"
   ]
  },
  {
   "cell_type": "code",
   "execution_count": 4,
   "metadata": {},
   "outputs": [
    {
     "data": {
      "text/html": [
       "<div>\n",
       "<style scoped>\n",
       "    .dataframe tbody tr th:only-of-type {\n",
       "        vertical-align: middle;\n",
       "    }\n",
       "\n",
       "    .dataframe tbody tr th {\n",
       "        vertical-align: top;\n",
       "    }\n",
       "\n",
       "    .dataframe thead th {\n",
       "        text-align: right;\n",
       "    }\n",
       "</style>\n",
       "<table border=\"1\" class=\"dataframe\">\n",
       "  <thead>\n",
       "    <tr style=\"text-align: right;\">\n",
       "      <th></th>\n",
       "      <th>artist_name</th>\n",
       "      <th>artist_url</th>\n",
       "      <th>track_name</th>\n",
       "      <th>song_url</th>\n",
       "      <th>lyrics</th>\n",
       "    </tr>\n",
       "  </thead>\n",
       "  <tbody>\n",
       "    <tr>\n",
       "      <th>0</th>\n",
       "      <td>03 greedo</td>\n",
       "      <td>https://www.azlyrics.com/19/03greedo.html</td>\n",
       "      <td>sweet lady</td>\n",
       "      <td>https://www.azlyrics.com/lyrics/03greedo/sweet...</td>\n",
       "      <td>its only one, 03, i'm from grape street, where...</td>\n",
       "    </tr>\n",
       "    <tr>\n",
       "      <th>1</th>\n",
       "      <td>03 greedo</td>\n",
       "      <td>https://www.azlyrics.com/19/03greedo.html</td>\n",
       "      <td>mafia business</td>\n",
       "      <td>https://www.azlyrics.com/lyrics/03greedo/mafia...</td>\n",
       "      <td>you gonna make me put you in a suit and tie, s...</td>\n",
       "    </tr>\n",
       "    <tr>\n",
       "      <th>2</th>\n",
       "      <td>03 greedo</td>\n",
       "      <td>https://www.azlyrics.com/19/03greedo.html</td>\n",
       "      <td>paranoid</td>\n",
       "      <td>https://www.azlyrics.com/lyrics/03greedo/paran...</td>\n",
       "      <td>we could kill it, yeah, we could, we could, we...</td>\n",
       "    </tr>\n",
       "    <tr>\n",
       "      <th>3</th>\n",
       "      <td>03 greedo</td>\n",
       "      <td>https://www.azlyrics.com/19/03greedo.html</td>\n",
       "      <td>never bend</td>\n",
       "      <td>https://www.azlyrics.com/lyrics/03greedo/never...</td>\n",
       "      <td>yeah, you lil bitch ass niggas steady speaking...</td>\n",
       "    </tr>\n",
       "    <tr>\n",
       "      <th>4</th>\n",
       "      <td>03 greedo</td>\n",
       "      <td>https://www.azlyrics.com/19/03greedo.html</td>\n",
       "      <td>prayer for my lost</td>\n",
       "      <td>https://www.azlyrics.com/lyrics/03greedo/praye...</td>\n",
       "      <td>x loaded up bro, never see me in the church, p...</td>\n",
       "    </tr>\n",
       "  </tbody>\n",
       "</table>\n",
       "</div>"
      ],
      "text/plain": [
       "  artist_name                                 artist_url          track_name  \\\n",
       "0   03 greedo  https://www.azlyrics.com/19/03greedo.html          sweet lady   \n",
       "1   03 greedo  https://www.azlyrics.com/19/03greedo.html      mafia business   \n",
       "2   03 greedo  https://www.azlyrics.com/19/03greedo.html            paranoid   \n",
       "3   03 greedo  https://www.azlyrics.com/19/03greedo.html          never bend   \n",
       "4   03 greedo  https://www.azlyrics.com/19/03greedo.html  prayer for my lost   \n",
       "\n",
       "                                            song_url  \\\n",
       "0  https://www.azlyrics.com/lyrics/03greedo/sweet...   \n",
       "1  https://www.azlyrics.com/lyrics/03greedo/mafia...   \n",
       "2  https://www.azlyrics.com/lyrics/03greedo/paran...   \n",
       "3  https://www.azlyrics.com/lyrics/03greedo/never...   \n",
       "4  https://www.azlyrics.com/lyrics/03greedo/praye...   \n",
       "\n",
       "                                              lyrics  \n",
       "0  its only one, 03, i'm from grape street, where...  \n",
       "1  you gonna make me put you in a suit and tie, s...  \n",
       "2  we could kill it, yeah, we could, we could, we...  \n",
       "3  yeah, you lil bitch ass niggas steady speaking...  \n",
       "4  x loaded up bro, never see me in the church, p...  "
      ]
     },
     "execution_count": 4,
     "metadata": {},
     "output_type": "execute_result"
    }
   ],
   "source": [
    "lyrics_df.dropna(how=\"all\")\n",
    "lyrics_df.head()"
   ]
  },
  {
   "cell_type": "code",
   "execution_count": 5,
   "metadata": {},
   "outputs": [
    {
     "data": {
      "text/html": [
       "<div>\n",
       "<style scoped>\n",
       "    .dataframe tbody tr th:only-of-type {\n",
       "        vertical-align: middle;\n",
       "    }\n",
       "\n",
       "    .dataframe tbody tr th {\n",
       "        vertical-align: top;\n",
       "    }\n",
       "\n",
       "    .dataframe thead th {\n",
       "        text-align: right;\n",
       "    }\n",
       "</style>\n",
       "<table border=\"1\" class=\"dataframe\">\n",
       "  <thead>\n",
       "    <tr style=\"text-align: right;\">\n",
       "      <th></th>\n",
       "      <th>artist_name</th>\n",
       "      <th>artist_url</th>\n",
       "      <th>track_name</th>\n",
       "      <th>song_url</th>\n",
       "      <th>lyrics</th>\n",
       "    </tr>\n",
       "  </thead>\n",
       "  <tbody>\n",
       "    <tr>\n",
       "      <th>0</th>\n",
       "      <td>03 greedo</td>\n",
       "      <td>https://www.azlyrics.com/19/03greedo.html</td>\n",
       "      <td>sweet lady</td>\n",
       "      <td>https://www.azlyrics.com/lyrics/03greedo/sweet...</td>\n",
       "      <td>its only one, 03, i'm from grape street, where...</td>\n",
       "    </tr>\n",
       "    <tr>\n",
       "      <th>1</th>\n",
       "      <td>03 greedo</td>\n",
       "      <td>https://www.azlyrics.com/19/03greedo.html</td>\n",
       "      <td>mafia business</td>\n",
       "      <td>https://www.azlyrics.com/lyrics/03greedo/mafia...</td>\n",
       "      <td>you gonna make me put you in a suit and tie, s...</td>\n",
       "    </tr>\n",
       "    <tr>\n",
       "      <th>2</th>\n",
       "      <td>03 greedo</td>\n",
       "      <td>https://www.azlyrics.com/19/03greedo.html</td>\n",
       "      <td>paranoid</td>\n",
       "      <td>https://www.azlyrics.com/lyrics/03greedo/paran...</td>\n",
       "      <td>we could kill it, yeah, we could, we could, we...</td>\n",
       "    </tr>\n",
       "    <tr>\n",
       "      <th>3</th>\n",
       "      <td>03 greedo</td>\n",
       "      <td>https://www.azlyrics.com/19/03greedo.html</td>\n",
       "      <td>never bend</td>\n",
       "      <td>https://www.azlyrics.com/lyrics/03greedo/never...</td>\n",
       "      <td>yeah, you lil bitch ass niggas steady speaking...</td>\n",
       "    </tr>\n",
       "    <tr>\n",
       "      <th>4</th>\n",
       "      <td>03 greedo</td>\n",
       "      <td>https://www.azlyrics.com/19/03greedo.html</td>\n",
       "      <td>prayer for my lost</td>\n",
       "      <td>https://www.azlyrics.com/lyrics/03greedo/praye...</td>\n",
       "      <td>x loaded up bro, never see me in the church, p...</td>\n",
       "    </tr>\n",
       "    <tr>\n",
       "      <th>...</th>\n",
       "      <td>...</td>\n",
       "      <td>...</td>\n",
       "      <td>...</td>\n",
       "      <td>...</td>\n",
       "      <td>...</td>\n",
       "    </tr>\n",
       "    <tr>\n",
       "      <th>147867</th>\n",
       "      <td>jory boy</td>\n",
       "      <td>https://www.azlyrics.com/j/joryboy.html</td>\n",
       "      <td>por que cambiar</td>\n",
       "      <td>https://www.azlyrics.com/lyrics/joryboy/porque...</td>\n",
       "      <td>, los evos jedis, no entiendo como, esto suced...</td>\n",
       "    </tr>\n",
       "    <tr>\n",
       "      <th>147868</th>\n",
       "      <td>jory boy</td>\n",
       "      <td>https://www.azlyrics.com/j/joryboy.html</td>\n",
       "      <td>imposible amor</td>\n",
       "      <td>https://www.azlyrics.com/lyrics/joryboy/imposi...</td>\n",
       "      <td>yo se que lo que tuvimos anoche te gusto, echa...</td>\n",
       "    </tr>\n",
       "    <tr>\n",
       "      <th>147869</th>\n",
       "      <td>jory boy</td>\n",
       "      <td>https://www.azlyrics.com/j/joryboy.html</td>\n",
       "      <td>bonita</td>\n",
       "      <td>https://www.azlyrics.com/lyrics/joryboy/bonita...</td>\n",
       "      <td>, dice, matando la liga baby, jory boy, baby d...</td>\n",
       "    </tr>\n",
       "    <tr>\n",
       "      <th>147870</th>\n",
       "      <td>jory boy</td>\n",
       "      <td>https://www.azlyrics.com/j/joryboy.html</td>\n",
       "      <td>no me condenes</td>\n",
       "      <td>https://www.azlyrics.com/lyrics/joryboy/nomeco...</td>\n",
       "      <td>, no se lo que te sucedio, quien te convirtio ...</td>\n",
       "    </tr>\n",
       "    <tr>\n",
       "      <th>147871</th>\n",
       "      <td>josef salvat</td>\n",
       "      <td>https://www.azlyrics.com/j/josefsalvat.html</td>\n",
       "      <td>closer</td>\n",
       "      <td>https://www.azlyrics.com/lyrics/josefsalvat/cl...</td>\n",
       "      <td>oh we're further than before, and it's harder ...</td>\n",
       "    </tr>\n",
       "  </tbody>\n",
       "</table>\n",
       "<p>147610 rows × 5 columns</p>\n",
       "</div>"
      ],
      "text/plain": [
       "         artist_name                                   artist_url  \\\n",
       "0          03 greedo    https://www.azlyrics.com/19/03greedo.html   \n",
       "1          03 greedo    https://www.azlyrics.com/19/03greedo.html   \n",
       "2          03 greedo    https://www.azlyrics.com/19/03greedo.html   \n",
       "3          03 greedo    https://www.azlyrics.com/19/03greedo.html   \n",
       "4          03 greedo    https://www.azlyrics.com/19/03greedo.html   \n",
       "...              ...                                          ...   \n",
       "147867      jory boy      https://www.azlyrics.com/j/joryboy.html   \n",
       "147868      jory boy      https://www.azlyrics.com/j/joryboy.html   \n",
       "147869      jory boy      https://www.azlyrics.com/j/joryboy.html   \n",
       "147870      jory boy      https://www.azlyrics.com/j/joryboy.html   \n",
       "147871  josef salvat  https://www.azlyrics.com/j/josefsalvat.html   \n",
       "\n",
       "                track_name                                           song_url  \\\n",
       "0               sweet lady  https://www.azlyrics.com/lyrics/03greedo/sweet...   \n",
       "1           mafia business  https://www.azlyrics.com/lyrics/03greedo/mafia...   \n",
       "2                 paranoid  https://www.azlyrics.com/lyrics/03greedo/paran...   \n",
       "3               never bend  https://www.azlyrics.com/lyrics/03greedo/never...   \n",
       "4       prayer for my lost  https://www.azlyrics.com/lyrics/03greedo/praye...   \n",
       "...                    ...                                                ...   \n",
       "147867     por que cambiar  https://www.azlyrics.com/lyrics/joryboy/porque...   \n",
       "147868      imposible amor  https://www.azlyrics.com/lyrics/joryboy/imposi...   \n",
       "147869              bonita  https://www.azlyrics.com/lyrics/joryboy/bonita...   \n",
       "147870      no me condenes  https://www.azlyrics.com/lyrics/joryboy/nomeco...   \n",
       "147871              closer  https://www.azlyrics.com/lyrics/josefsalvat/cl...   \n",
       "\n",
       "                                                   lyrics  \n",
       "0       its only one, 03, i'm from grape street, where...  \n",
       "1       you gonna make me put you in a suit and tie, s...  \n",
       "2       we could kill it, yeah, we could, we could, we...  \n",
       "3       yeah, you lil bitch ass niggas steady speaking...  \n",
       "4       x loaded up bro, never see me in the church, p...  \n",
       "...                                                   ...  \n",
       "147867  , los evos jedis, no entiendo como, esto suced...  \n",
       "147868  yo se que lo que tuvimos anoche te gusto, echa...  \n",
       "147869  , dice, matando la liga baby, jory boy, baby d...  \n",
       "147870  , no se lo que te sucedio, quien te convirtio ...  \n",
       "147871  oh we're further than before, and it's harder ...  \n",
       "\n",
       "[147610 rows x 5 columns]"
      ]
     },
     "execution_count": 5,
     "metadata": {},
     "output_type": "execute_result"
    }
   ],
   "source": [
    "lyrics_df.drop_duplicates(subset=['artist_name','track_name'])"
   ]
  },
  {
   "cell_type": "code",
   "execution_count": 6,
   "metadata": {},
   "outputs": [
    {
     "data": {
      "text/plain": [
       "147872"
      ]
     },
     "execution_count": 6,
     "metadata": {},
     "output_type": "execute_result"
    }
   ],
   "source": [
    "len(lyrics_df)"
   ]
  },
  {
   "cell_type": "code",
   "execution_count": 7,
   "metadata": {},
   "outputs": [
    {
     "data": {
      "text/html": [
       "<div>\n",
       "<style scoped>\n",
       "    .dataframe tbody tr th:only-of-type {\n",
       "        vertical-align: middle;\n",
       "    }\n",
       "\n",
       "    .dataframe tbody tr th {\n",
       "        vertical-align: top;\n",
       "    }\n",
       "\n",
       "    .dataframe thead th {\n",
       "        text-align: right;\n",
       "    }\n",
       "</style>\n",
       "<table border=\"1\" class=\"dataframe\">\n",
       "  <thead>\n",
       "    <tr style=\"text-align: right;\">\n",
       "      <th></th>\n",
       "      <th>artist_name</th>\n",
       "      <th>track_name</th>\n",
       "      <th>track_id</th>\n",
       "      <th>artist_href</th>\n",
       "      <th>track_href</th>\n",
       "      <th>genre_name</th>\n",
       "      <th>danceability</th>\n",
       "      <th>energy</th>\n",
       "      <th>key</th>\n",
       "      <th>loudness</th>\n",
       "      <th>mode</th>\n",
       "      <th>speechiness</th>\n",
       "      <th>acousticness</th>\n",
       "      <th>instrumentalness</th>\n",
       "      <th>liveness</th>\n",
       "      <th>valence</th>\n",
       "      <th>tempo</th>\n",
       "      <th>duration_ms</th>\n",
       "    </tr>\n",
       "  </thead>\n",
       "  <tbody>\n",
       "  </tbody>\n",
       "</table>\n",
       "</div>"
      ],
      "text/plain": [
       "Empty DataFrame\n",
       "Columns: [artist_name, track_name, track_id, artist_href, track_href, genre_name, danceability, energy, key, loudness, mode, speechiness, acousticness, instrumentalness, liveness, valence, tempo, duration_ms]\n",
       "Index: []"
      ]
     },
     "execution_count": 7,
     "metadata": {},
     "output_type": "execute_result"
    }
   ],
   "source": [
    "genre_df[genre_df.genre_name == \"world-music\"]"
   ]
  },
  {
   "cell_type": "markdown",
   "metadata": {},
   "source": [
    "# CHECK ARTIST NAMES"
   ]
  },
  {
   "cell_type": "code",
   "execution_count": 8,
   "metadata": {},
   "outputs": [],
   "source": [
    "import numpy as np\n",
    "\n",
    "# for artist in np.sort(genre_df.artist_name.unique()):\n",
    "#     print(artist)"
   ]
  },
  {
   "cell_type": "code",
   "execution_count": 9,
   "metadata": {},
   "outputs": [],
   "source": [
    "# for artist in np.sort(lyrics_df.artist_name.unique()):\n",
    "#     print(artist)"
   ]
  },
  {
   "cell_type": "code",
   "execution_count": 10,
   "metadata": {},
   "outputs": [],
   "source": [
    "# FLIP LYRIC ARTIST NAMES\n",
    "lyrics_df['fixed_artist_name'] = lyrics_df['artist_name'].str.split(', ').str[::-1].str.join(' ')\n"
   ]
  },
  {
   "cell_type": "code",
   "execution_count": 11,
   "metadata": {},
   "outputs": [],
   "source": [
    "# for artist in np.sort(lyrics_df.fixed_artist_name.unique()):\n",
    "#     print(artist)"
   ]
  },
  {
   "cell_type": "markdown",
   "metadata": {},
   "source": [
    "# GET RID OF NON ENGLISH LYRICS"
   ]
  },
  {
   "cell_type": "code",
   "execution_count": 12,
   "metadata": {},
   "outputs": [
    {
     "name": "stdout",
     "output_type": "stream",
     "text": [
      "Requirement already satisfied: langdetect in /Users/erendiztarakci/anaconda3/envs/cleanenv/lib/python3.8/site-packages (1.0.8)\n",
      "Requirement already satisfied: six in /Users/erendiztarakci/anaconda3/envs/cleanenv/lib/python3.8/site-packages (from langdetect) (1.15.0)\n"
     ]
    }
   ],
   "source": [
    "!pip install langdetect"
   ]
  },
  {
   "cell_type": "code",
   "execution_count": 13,
   "metadata": {},
   "outputs": [],
   "source": [
    "import langdetect\n",
    "from langdetect import detect"
   ]
  },
  {
   "cell_type": "code",
   "execution_count": 14,
   "metadata": {},
   "outputs": [
    {
     "data": {
      "text/plain": [
       "str"
      ]
     },
     "execution_count": 14,
     "metadata": {},
     "output_type": "execute_result"
    }
   ],
   "source": [
    "type(lyrics_df['lyrics'][0])"
   ]
  },
  {
   "cell_type": "code",
   "execution_count": 15,
   "metadata": {},
   "outputs": [
    {
     "data": {
      "text/plain": [
       "'en'"
      ]
     },
     "execution_count": 15,
     "metadata": {},
     "output_type": "execute_result"
    }
   ],
   "source": [
    "detect(\"hello my name is bob\")"
   ]
  },
  {
   "cell_type": "code",
   "execution_count": 16,
   "metadata": {},
   "outputs": [
    {
     "name": "stdout",
     "output_type": "stream",
     "text": [
      "7015 nan\n",
      "7518 ,\n",
      "9507 nan\n",
      "14599 ,,\n",
      "52806 1 2 3 4!\n",
      "62247 911\n",
      "63447 ]\n",
      "63452 nan\n",
      "63477 :]\n",
      "87128 10\n",
      "99296 nan\n",
      "99307 :]\n",
      "99313 , :]\n",
      "99322 :]\n",
      "102194 ,\n",
      "106243 https://www.azlyrics.com/lyrics/frankzappa/youtherewiththehardon.html\n",
      "115839 1-2-3\n",
      "121987 nan\n",
      "124523 nan\n",
      "124561 https://www.azlyrics.com/lyrics/lloyd/tkcall3playatoplayapimptopimp.html\n",
      "129160 ,,\n"
     ]
    }
   ],
   "source": [
    "# from langdetect import detect\n",
    "\n",
    "# detect(\"Hello world\")\n",
    "\n",
    "# lyrics_df[detect(lyrics_df['lyrics']) == 'en']\n",
    "# lyrics_df[lyrics_df['lyrics'].map(detect) == 'en']\n",
    "# lyrics[\"lang\"] = [detect(x) for x in list(lyrics_df['lyrics'])]\n",
    "\n",
    "r = list(lyrics_df['lyrics'])\n",
    "l = []\n",
    "remove = []\n",
    "cntr = 0\n",
    "for x in r:\n",
    "    try:\n",
    "        l.append(detect(x))\n",
    "    except:\n",
    "        l.append(\"error\")\n",
    "        remove.append(cntr)\n",
    "        print(cntr, x)\n",
    "    cntr +=1\n",
    "        \n"
   ]
  },
  {
   "cell_type": "code",
   "execution_count": 17,
   "metadata": {},
   "outputs": [
    {
     "name": "stdout",
     "output_type": "stream",
     "text": [
      "147872\n",
      "147872\n"
     ]
    }
   ],
   "source": [
    "print(len(l))\n",
    "print(len(lyrics_df))"
   ]
  },
  {
   "cell_type": "code",
   "execution_count": 18,
   "metadata": {},
   "outputs": [],
   "source": [
    "lyrics_df[\"lang\"] = l"
   ]
  },
  {
   "cell_type": "code",
   "execution_count": 19,
   "metadata": {},
   "outputs": [],
   "source": [
    "lyrics_df.drop(labels=remove,axis=\"index\",inplace=True)"
   ]
  },
  {
   "cell_type": "code",
   "execution_count": 20,
   "metadata": {},
   "outputs": [
    {
     "data": {
      "text/plain": [
       "147851"
      ]
     },
     "execution_count": 20,
     "metadata": {},
     "output_type": "execute_result"
    }
   ],
   "source": [
    "len(lyrics_df[\"lyrics\"])"
   ]
  },
  {
   "cell_type": "code",
   "execution_count": 21,
   "metadata": {},
   "outputs": [
    {
     "data": {
      "text/html": [
       "<div>\n",
       "<style scoped>\n",
       "    .dataframe tbody tr th:only-of-type {\n",
       "        vertical-align: middle;\n",
       "    }\n",
       "\n",
       "    .dataframe tbody tr th {\n",
       "        vertical-align: top;\n",
       "    }\n",
       "\n",
       "    .dataframe thead th {\n",
       "        text-align: right;\n",
       "    }\n",
       "</style>\n",
       "<table border=\"1\" class=\"dataframe\">\n",
       "  <thead>\n",
       "    <tr style=\"text-align: right;\">\n",
       "      <th></th>\n",
       "      <th>artist_name</th>\n",
       "      <th>artist_url</th>\n",
       "      <th>track_name</th>\n",
       "      <th>song_url</th>\n",
       "      <th>lyrics</th>\n",
       "      <th>fixed_artist_name</th>\n",
       "      <th>lang</th>\n",
       "    </tr>\n",
       "  </thead>\n",
       "  <tbody>\n",
       "    <tr>\n",
       "      <th>0</th>\n",
       "      <td>03 greedo</td>\n",
       "      <td>https://www.azlyrics.com/19/03greedo.html</td>\n",
       "      <td>sweet lady</td>\n",
       "      <td>https://www.azlyrics.com/lyrics/03greedo/sweet...</td>\n",
       "      <td>its only one, 03, i'm from grape street, where...</td>\n",
       "      <td>03 greedo</td>\n",
       "      <td>en</td>\n",
       "    </tr>\n",
       "    <tr>\n",
       "      <th>1</th>\n",
       "      <td>03 greedo</td>\n",
       "      <td>https://www.azlyrics.com/19/03greedo.html</td>\n",
       "      <td>mafia business</td>\n",
       "      <td>https://www.azlyrics.com/lyrics/03greedo/mafia...</td>\n",
       "      <td>you gonna make me put you in a suit and tie, s...</td>\n",
       "      <td>03 greedo</td>\n",
       "      <td>en</td>\n",
       "    </tr>\n",
       "    <tr>\n",
       "      <th>2</th>\n",
       "      <td>03 greedo</td>\n",
       "      <td>https://www.azlyrics.com/19/03greedo.html</td>\n",
       "      <td>paranoid</td>\n",
       "      <td>https://www.azlyrics.com/lyrics/03greedo/paran...</td>\n",
       "      <td>we could kill it, yeah, we could, we could, we...</td>\n",
       "      <td>03 greedo</td>\n",
       "      <td>en</td>\n",
       "    </tr>\n",
       "    <tr>\n",
       "      <th>3</th>\n",
       "      <td>03 greedo</td>\n",
       "      <td>https://www.azlyrics.com/19/03greedo.html</td>\n",
       "      <td>never bend</td>\n",
       "      <td>https://www.azlyrics.com/lyrics/03greedo/never...</td>\n",
       "      <td>yeah, you lil bitch ass niggas steady speaking...</td>\n",
       "      <td>03 greedo</td>\n",
       "      <td>en</td>\n",
       "    </tr>\n",
       "    <tr>\n",
       "      <th>4</th>\n",
       "      <td>03 greedo</td>\n",
       "      <td>https://www.azlyrics.com/19/03greedo.html</td>\n",
       "      <td>prayer for my lost</td>\n",
       "      <td>https://www.azlyrics.com/lyrics/03greedo/praye...</td>\n",
       "      <td>x loaded up bro, never see me in the church, p...</td>\n",
       "      <td>03 greedo</td>\n",
       "      <td>en</td>\n",
       "    </tr>\n",
       "  </tbody>\n",
       "</table>\n",
       "</div>"
      ],
      "text/plain": [
       "  artist_name                                 artist_url          track_name  \\\n",
       "0   03 greedo  https://www.azlyrics.com/19/03greedo.html          sweet lady   \n",
       "1   03 greedo  https://www.azlyrics.com/19/03greedo.html      mafia business   \n",
       "2   03 greedo  https://www.azlyrics.com/19/03greedo.html            paranoid   \n",
       "3   03 greedo  https://www.azlyrics.com/19/03greedo.html          never bend   \n",
       "4   03 greedo  https://www.azlyrics.com/19/03greedo.html  prayer for my lost   \n",
       "\n",
       "                                            song_url  \\\n",
       "0  https://www.azlyrics.com/lyrics/03greedo/sweet...   \n",
       "1  https://www.azlyrics.com/lyrics/03greedo/mafia...   \n",
       "2  https://www.azlyrics.com/lyrics/03greedo/paran...   \n",
       "3  https://www.azlyrics.com/lyrics/03greedo/never...   \n",
       "4  https://www.azlyrics.com/lyrics/03greedo/praye...   \n",
       "\n",
       "                                              lyrics fixed_artist_name lang  \n",
       "0  its only one, 03, i'm from grape street, where...         03 greedo   en  \n",
       "1  you gonna make me put you in a suit and tie, s...         03 greedo   en  \n",
       "2  we could kill it, yeah, we could, we could, we...         03 greedo   en  \n",
       "3  yeah, you lil bitch ass niggas steady speaking...         03 greedo   en  \n",
       "4  x loaded up bro, never see me in the church, p...         03 greedo   en  "
      ]
     },
     "execution_count": 21,
     "metadata": {},
     "output_type": "execute_result"
    }
   ],
   "source": [
    "lyrics_df.head()"
   ]
  },
  {
   "cell_type": "code",
   "execution_count": 22,
   "metadata": {},
   "outputs": [],
   "source": [
    "lyrics_df.drop(lyrics_df[lyrics_df[\"lang\"] != 'en'].index,inplace=True)"
   ]
  },
  {
   "cell_type": "code",
   "execution_count": 23,
   "metadata": {},
   "outputs": [
    {
     "data": {
      "text/plain": [
       "126873"
      ]
     },
     "execution_count": 23,
     "metadata": {},
     "output_type": "execute_result"
    }
   ],
   "source": [
    "len(lyrics_df)"
   ]
  },
  {
   "cell_type": "markdown",
   "metadata": {},
   "source": [
    "# GET RID OF NON UTF-8 CHARACTERS"
   ]
  },
  {
   "cell_type": "code",
   "execution_count": 24,
   "metadata": {},
   "outputs": [
    {
     "name": "stdout",
     "output_type": "stream",
     "text": [
      "aeeohello\n"
     ]
    }
   ],
   "source": [
    "# taken from: https://stackoverflow.com/questions/44431730/how-to-replace-accented-characters-in-python/44432222\n",
    "import unicodedata\n",
    "\n",
    "def strip_accents(text):\n",
    "\n",
    "    try:\n",
    "        text = unicode(text, 'utf-8')\n",
    "    except NameError: # unicode is a default on python 3 \n",
    "        pass\n",
    "\n",
    "    text = unicodedata.normalize('NFD', text)\\\n",
    "           .encode('ascii', 'ignore')\\\n",
    "           .decode(\"utf-8\")\n",
    "\n",
    "    return str(text)\n",
    "\n",
    "s = strip_accents('àéêöhello')\n",
    "\n",
    "print(s)"
   ]
  },
  {
   "cell_type": "code",
   "execution_count": 25,
   "metadata": {},
   "outputs": [],
   "source": [
    "genre_df['artist_name'] = genre_df['artist_name'].apply(lambda row: strip_accents(row))"
   ]
  },
  {
   "cell_type": "code",
   "execution_count": 26,
   "metadata": {},
   "outputs": [],
   "source": [
    "# for artist in np.sort(genre_df.artist_name.unique()):\n",
    "#     print(artist)"
   ]
  },
  {
   "cell_type": "code",
   "execution_count": 27,
   "metadata": {},
   "outputs": [],
   "source": [
    "lyrics_df['fixed_artist_name'] = lyrics_df['fixed_artist_name'].apply(lambda row: strip_accents(row))"
   ]
  },
  {
   "cell_type": "code",
   "execution_count": 28,
   "metadata": {},
   "outputs": [],
   "source": [
    "# for artist in np.sort(lyrics_df.fixed_artist_name.unique()):\n",
    "#     print(artist)"
   ]
  },
  {
   "cell_type": "markdown",
   "metadata": {},
   "source": [
    "# FIX NICKNAMES (PARANTHESES)"
   ]
  },
  {
   "cell_type": "code",
   "execution_count": 29,
   "metadata": {},
   "outputs": [],
   "source": [
    "# lyrics_df['artist_nickname'] = lyrics_df['fixed_artist_name'].str.split(' (').str[::1]\n",
    "\n",
    "# new data frame with split value columns \n",
    "new = lyrics_df['fixed_artist_name'].str.split(\" \\(\", n = 1, expand = True) \n",
    "lyrics_df['artist_no_nickname'] = new[0]\n",
    "# making separate last name column from new data frame \n",
    "lyrics_df['artist_nickname']= new[1]\n",
    "nickname = lyrics_df['artist_nickname'].str.split(\"\\)\", n = 1, expand = True) \n",
    "lyrics_df['artist_nickname'] = nickname[0]"
   ]
  },
  {
   "cell_type": "code",
   "execution_count": 30,
   "metadata": {},
   "outputs": [
    {
     "data": {
      "text/html": [
       "<div>\n",
       "<style scoped>\n",
       "    .dataframe tbody tr th:only-of-type {\n",
       "        vertical-align: middle;\n",
       "    }\n",
       "\n",
       "    .dataframe tbody tr th {\n",
       "        vertical-align: top;\n",
       "    }\n",
       "\n",
       "    .dataframe thead th {\n",
       "        text-align: right;\n",
       "    }\n",
       "</style>\n",
       "<table border=\"1\" class=\"dataframe\">\n",
       "  <thead>\n",
       "    <tr style=\"text-align: right;\">\n",
       "      <th></th>\n",
       "      <th>artist_name</th>\n",
       "      <th>artist_url</th>\n",
       "      <th>track_name</th>\n",
       "      <th>song_url</th>\n",
       "      <th>lyrics</th>\n",
       "      <th>fixed_artist_name</th>\n",
       "      <th>lang</th>\n",
       "      <th>artist_no_nickname</th>\n",
       "      <th>artist_nickname</th>\n",
       "    </tr>\n",
       "  </thead>\n",
       "  <tbody>\n",
       "    <tr>\n",
       "      <th>0</th>\n",
       "      <td>03 greedo</td>\n",
       "      <td>https://www.azlyrics.com/19/03greedo.html</td>\n",
       "      <td>sweet lady</td>\n",
       "      <td>https://www.azlyrics.com/lyrics/03greedo/sweet...</td>\n",
       "      <td>its only one, 03, i'm from grape street, where...</td>\n",
       "      <td>03 greedo</td>\n",
       "      <td>en</td>\n",
       "      <td>03 greedo</td>\n",
       "      <td></td>\n",
       "    </tr>\n",
       "    <tr>\n",
       "      <th>1</th>\n",
       "      <td>03 greedo</td>\n",
       "      <td>https://www.azlyrics.com/19/03greedo.html</td>\n",
       "      <td>mafia business</td>\n",
       "      <td>https://www.azlyrics.com/lyrics/03greedo/mafia...</td>\n",
       "      <td>you gonna make me put you in a suit and tie, s...</td>\n",
       "      <td>03 greedo</td>\n",
       "      <td>en</td>\n",
       "      <td>03 greedo</td>\n",
       "      <td></td>\n",
       "    </tr>\n",
       "    <tr>\n",
       "      <th>2</th>\n",
       "      <td>03 greedo</td>\n",
       "      <td>https://www.azlyrics.com/19/03greedo.html</td>\n",
       "      <td>paranoid</td>\n",
       "      <td>https://www.azlyrics.com/lyrics/03greedo/paran...</td>\n",
       "      <td>we could kill it, yeah, we could, we could, we...</td>\n",
       "      <td>03 greedo</td>\n",
       "      <td>en</td>\n",
       "      <td>03 greedo</td>\n",
       "      <td></td>\n",
       "    </tr>\n",
       "    <tr>\n",
       "      <th>3</th>\n",
       "      <td>03 greedo</td>\n",
       "      <td>https://www.azlyrics.com/19/03greedo.html</td>\n",
       "      <td>never bend</td>\n",
       "      <td>https://www.azlyrics.com/lyrics/03greedo/never...</td>\n",
       "      <td>yeah, you lil bitch ass niggas steady speaking...</td>\n",
       "      <td>03 greedo</td>\n",
       "      <td>en</td>\n",
       "      <td>03 greedo</td>\n",
       "      <td></td>\n",
       "    </tr>\n",
       "    <tr>\n",
       "      <th>4</th>\n",
       "      <td>03 greedo</td>\n",
       "      <td>https://www.azlyrics.com/19/03greedo.html</td>\n",
       "      <td>prayer for my lost</td>\n",
       "      <td>https://www.azlyrics.com/lyrics/03greedo/praye...</td>\n",
       "      <td>x loaded up bro, never see me in the church, p...</td>\n",
       "      <td>03 greedo</td>\n",
       "      <td>en</td>\n",
       "      <td>03 greedo</td>\n",
       "      <td></td>\n",
       "    </tr>\n",
       "    <tr>\n",
       "      <th>...</th>\n",
       "      <td>...</td>\n",
       "      <td>...</td>\n",
       "      <td>...</td>\n",
       "      <td>...</td>\n",
       "      <td>...</td>\n",
       "      <td>...</td>\n",
       "      <td>...</td>\n",
       "      <td>...</td>\n",
       "      <td>...</td>\n",
       "    </tr>\n",
       "    <tr>\n",
       "      <th>147862</th>\n",
       "      <td>jordin sparks</td>\n",
       "      <td>https://www.azlyrics.com/j/jordinsparks.html</td>\n",
       "      <td>i (who have nothing)</td>\n",
       "      <td>https://www.azlyrics.com/lyrics/jordinsparks/i...</td>\n",
       "      <td>i, i who have nothing, i, i who have no one, a...</td>\n",
       "      <td>jordin sparks</td>\n",
       "      <td>en</td>\n",
       "      <td>jordin sparks</td>\n",
       "      <td></td>\n",
       "    </tr>\n",
       "    <tr>\n",
       "      <th>147863</th>\n",
       "      <td>jordin sparks</td>\n",
       "      <td>https://www.azlyrics.com/j/jordinsparks.html</td>\n",
       "      <td>wishing on a star</td>\n",
       "      <td>https://www.azlyrics.com/lyrics/jordinsparks/w...</td>\n",
       "      <td>i'm wishing on a star, to follow where you are...</td>\n",
       "      <td>jordin sparks</td>\n",
       "      <td>en</td>\n",
       "      <td>jordin sparks</td>\n",
       "      <td></td>\n",
       "    </tr>\n",
       "    <tr>\n",
       "      <th>147864</th>\n",
       "      <td>jordin sparks</td>\n",
       "      <td>https://www.azlyrics.com/j/jordinsparks.html</td>\n",
       "      <td>to love somebody</td>\n",
       "      <td>https://www.azlyrics.com/lyrics/jordinsparks/t...</td>\n",
       "      <td>there's a light, a certain kind of light, that...</td>\n",
       "      <td>jordin sparks</td>\n",
       "      <td>en</td>\n",
       "      <td>jordin sparks</td>\n",
       "      <td></td>\n",
       "    </tr>\n",
       "    <tr>\n",
       "      <th>147865</th>\n",
       "      <td>jordin sparks</td>\n",
       "      <td>https://www.azlyrics.com/j/jordinsparks.html</td>\n",
       "      <td>a broken wing</td>\n",
       "      <td>https://www.azlyrics.com/lyrics/jordinsparks/a...</td>\n",
       "      <td>she loved him like he was, the last man on ear...</td>\n",
       "      <td>jordin sparks</td>\n",
       "      <td>en</td>\n",
       "      <td>jordin sparks</td>\n",
       "      <td></td>\n",
       "    </tr>\n",
       "    <tr>\n",
       "      <th>147871</th>\n",
       "      <td>josef salvat</td>\n",
       "      <td>https://www.azlyrics.com/j/josefsalvat.html</td>\n",
       "      <td>closer</td>\n",
       "      <td>https://www.azlyrics.com/lyrics/josefsalvat/cl...</td>\n",
       "      <td>oh we're further than before, and it's harder ...</td>\n",
       "      <td>josef salvat</td>\n",
       "      <td>en</td>\n",
       "      <td>josef salvat</td>\n",
       "      <td></td>\n",
       "    </tr>\n",
       "  </tbody>\n",
       "</table>\n",
       "<p>126873 rows × 9 columns</p>\n",
       "</div>"
      ],
      "text/plain": [
       "          artist_name                                    artist_url  \\\n",
       "0           03 greedo     https://www.azlyrics.com/19/03greedo.html   \n",
       "1           03 greedo     https://www.azlyrics.com/19/03greedo.html   \n",
       "2           03 greedo     https://www.azlyrics.com/19/03greedo.html   \n",
       "3           03 greedo     https://www.azlyrics.com/19/03greedo.html   \n",
       "4           03 greedo     https://www.azlyrics.com/19/03greedo.html   \n",
       "...               ...                                           ...   \n",
       "147862  jordin sparks  https://www.azlyrics.com/j/jordinsparks.html   \n",
       "147863  jordin sparks  https://www.azlyrics.com/j/jordinsparks.html   \n",
       "147864  jordin sparks  https://www.azlyrics.com/j/jordinsparks.html   \n",
       "147865  jordin sparks  https://www.azlyrics.com/j/jordinsparks.html   \n",
       "147871   josef salvat   https://www.azlyrics.com/j/josefsalvat.html   \n",
       "\n",
       "                  track_name  \\\n",
       "0                 sweet lady   \n",
       "1             mafia business   \n",
       "2                   paranoid   \n",
       "3                 never bend   \n",
       "4         prayer for my lost   \n",
       "...                      ...   \n",
       "147862  i (who have nothing)   \n",
       "147863     wishing on a star   \n",
       "147864      to love somebody   \n",
       "147865         a broken wing   \n",
       "147871                closer   \n",
       "\n",
       "                                                 song_url  \\\n",
       "0       https://www.azlyrics.com/lyrics/03greedo/sweet...   \n",
       "1       https://www.azlyrics.com/lyrics/03greedo/mafia...   \n",
       "2       https://www.azlyrics.com/lyrics/03greedo/paran...   \n",
       "3       https://www.azlyrics.com/lyrics/03greedo/never...   \n",
       "4       https://www.azlyrics.com/lyrics/03greedo/praye...   \n",
       "...                                                   ...   \n",
       "147862  https://www.azlyrics.com/lyrics/jordinsparks/i...   \n",
       "147863  https://www.azlyrics.com/lyrics/jordinsparks/w...   \n",
       "147864  https://www.azlyrics.com/lyrics/jordinsparks/t...   \n",
       "147865  https://www.azlyrics.com/lyrics/jordinsparks/a...   \n",
       "147871  https://www.azlyrics.com/lyrics/josefsalvat/cl...   \n",
       "\n",
       "                                                   lyrics fixed_artist_name  \\\n",
       "0       its only one, 03, i'm from grape street, where...         03 greedo   \n",
       "1       you gonna make me put you in a suit and tie, s...         03 greedo   \n",
       "2       we could kill it, yeah, we could, we could, we...         03 greedo   \n",
       "3       yeah, you lil bitch ass niggas steady speaking...         03 greedo   \n",
       "4       x loaded up bro, never see me in the church, p...         03 greedo   \n",
       "...                                                   ...               ...   \n",
       "147862  i, i who have nothing, i, i who have no one, a...     jordin sparks   \n",
       "147863  i'm wishing on a star, to follow where you are...     jordin sparks   \n",
       "147864  there's a light, a certain kind of light, that...     jordin sparks   \n",
       "147865  she loved him like he was, the last man on ear...     jordin sparks   \n",
       "147871  oh we're further than before, and it's harder ...      josef salvat   \n",
       "\n",
       "       lang artist_no_nickname artist_nickname  \n",
       "0        en          03 greedo                  \n",
       "1        en          03 greedo                  \n",
       "2        en          03 greedo                  \n",
       "3        en          03 greedo                  \n",
       "4        en          03 greedo                  \n",
       "...     ...                ...             ...  \n",
       "147862   en      jordin sparks                  \n",
       "147863   en      jordin sparks                  \n",
       "147864   en      jordin sparks                  \n",
       "147865   en      jordin sparks                  \n",
       "147871   en       josef salvat                  \n",
       "\n",
       "[126873 rows x 9 columns]"
      ]
     },
     "execution_count": 30,
     "metadata": {},
     "output_type": "execute_result"
    }
   ],
   "source": [
    "# from: https://stackoverflow.com/questions/38330278/how-to-edit-the-order-of-lastname-firstname-in-pandas-without-losing-the-datafr\n",
    "lyrics_df.fillna(\"\",inplace=True)\n",
    "lyrics_df"
   ]
  },
  {
   "cell_type": "code",
   "execution_count": 31,
   "metadata": {},
   "outputs": [],
   "source": [
    "# for artist in lyrics_df.artist_nickname:\n",
    "#     if artist:\n",
    "#         print(artist)"
   ]
  },
  {
   "cell_type": "code",
   "execution_count": 32,
   "metadata": {},
   "outputs": [],
   "source": [
    "# name_count = 0\n",
    "# nickname_count = 0\n",
    "# for artist in cleaned_genre_df['artist_name']:\n",
    "#     for name in lyrics_df['artist_no_nickname']:\n",
    "#         if artist == name:\n",
    "#             name_count += 1\n",
    "#     for nickname in lyrics_df['artist_nickname']:\n",
    "#         if artist == nickname:\n",
    "#             nickname_count += 1\n",
    "# print(f\"Name: {name_count}\")\n",
    "# print(f\"Nickname: {nickname_count}\")\n",
    "# # Name: 830039\n",
    "# # Nickname: 19452504"
   ]
  },
  {
   "cell_type": "code",
   "execution_count": 33,
   "metadata": {},
   "outputs": [],
   "source": [
    "# GET RID OF ARTIST NAMES WITH PARENTHESES\n",
    "# cleaned_lyrics_df = cleaned_lyrics_df[\"\\(\" in lyrics_df.artist_name | \"\\)\" in lyrics_df.artist_name]\n",
    "\n",
    "#MERGE BASED ON artist_no_nickname OR artist_nickname\n"
   ]
  },
  {
   "cell_type": "code",
   "execution_count": 34,
   "metadata": {},
   "outputs": [
    {
     "data": {
      "text/plain": [
       "Index(['artist_name', 'artist_url', 'track_name', 'song_url', 'lyrics',\n",
       "       'fixed_artist_name', 'lang', 'artist_no_nickname', 'artist_nickname'],\n",
       "      dtype='object')"
      ]
     },
     "execution_count": 34,
     "metadata": {},
     "output_type": "execute_result"
    }
   ],
   "source": [
    "lyrics_df.columns"
   ]
  },
  {
   "cell_type": "code",
   "execution_count": 35,
   "metadata": {},
   "outputs": [
    {
     "data": {
      "text/plain": [
       "Index(['artist_name', 'track_name', 'track_id', 'artist_href', 'track_href',\n",
       "       'genre_name', 'danceability', 'energy', 'key', 'loudness', 'mode',\n",
       "       'speechiness', 'acousticness', 'instrumentalness', 'liveness',\n",
       "       'valence', 'tempo', 'duration_ms'],\n",
       "      dtype='object')"
      ]
     },
     "execution_count": 35,
     "metadata": {},
     "output_type": "execute_result"
    }
   ],
   "source": [
    "genre_df.columns"
   ]
  },
  {
   "cell_type": "code",
   "execution_count": 36,
   "metadata": {},
   "outputs": [],
   "source": [
    "# cleaned_lyrics_df.head()"
   ]
  },
  {
   "cell_type": "code",
   "execution_count": 37,
   "metadata": {},
   "outputs": [],
   "source": [
    "# cleaned_genre_df.head()"
   ]
  },
  {
   "cell_type": "code",
   "execution_count": 38,
   "metadata": {},
   "outputs": [],
   "source": [
    "merged_df = genre_df.merge(lyrics_df, left_on=['artist_name','track_name'], right_on=['artist_no_nickname','track_name'],suffixes=('_left', '_right'))"
   ]
  },
  {
   "cell_type": "code",
   "execution_count": 39,
   "metadata": {},
   "outputs": [
    {
     "data": {
      "text/plain": [
       "Index(['artist_name_left', 'track_name', 'track_id', 'artist_href',\n",
       "       'track_href', 'genre_name', 'danceability', 'energy', 'key', 'loudness',\n",
       "       'mode', 'speechiness', 'acousticness', 'instrumentalness', 'liveness',\n",
       "       'valence', 'tempo', 'duration_ms', 'artist_name_right', 'artist_url',\n",
       "       'song_url', 'lyrics', 'fixed_artist_name', 'lang', 'artist_no_nickname',\n",
       "       'artist_nickname'],\n",
       "      dtype='object')"
      ]
     },
     "execution_count": 39,
     "metadata": {},
     "output_type": "execute_result"
    }
   ],
   "source": [
    "merged_df.columns"
   ]
  },
  {
   "cell_type": "code",
   "execution_count": 40,
   "metadata": {},
   "outputs": [
    {
     "data": {
      "text/html": [
       "<div>\n",
       "<style scoped>\n",
       "    .dataframe tbody tr th:only-of-type {\n",
       "        vertical-align: middle;\n",
       "    }\n",
       "\n",
       "    .dataframe tbody tr th {\n",
       "        vertical-align: top;\n",
       "    }\n",
       "\n",
       "    .dataframe thead th {\n",
       "        text-align: right;\n",
       "    }\n",
       "</style>\n",
       "<table border=\"1\" class=\"dataframe\">\n",
       "  <thead>\n",
       "    <tr style=\"text-align: right;\">\n",
       "      <th></th>\n",
       "      <th>artist_name</th>\n",
       "      <th>track_name</th>\n",
       "      <th>track_id</th>\n",
       "      <th>artist_href</th>\n",
       "      <th>track_href</th>\n",
       "      <th>genre_name</th>\n",
       "      <th>danceability</th>\n",
       "      <th>energy</th>\n",
       "      <th>key</th>\n",
       "      <th>loudness</th>\n",
       "      <th>mode</th>\n",
       "      <th>speechiness</th>\n",
       "      <th>acousticness</th>\n",
       "      <th>instrumentalness</th>\n",
       "      <th>liveness</th>\n",
       "      <th>valence</th>\n",
       "      <th>tempo</th>\n",
       "      <th>duration_ms</th>\n",
       "      <th>lyrics_url</th>\n",
       "      <th>lyrics</th>\n",
       "    </tr>\n",
       "  </thead>\n",
       "  <tbody>\n",
       "    <tr>\n",
       "      <th>0</th>\n",
       "      <td>morgan wallen</td>\n",
       "      <td>whiskey glasses</td>\n",
       "      <td>6foY66mWZN0pSRjZ408c00</td>\n",
       "      <td>https://open.spotify.com/artist/4oUHIQIBe0LHzY...</td>\n",
       "      <td>https://open.spotify.com/track/6foY66mWZN0pSRj...</td>\n",
       "      <td>country</td>\n",
       "      <td>0.614</td>\n",
       "      <td>0.680</td>\n",
       "      <td>6</td>\n",
       "      <td>-4.580</td>\n",
       "      <td>1</td>\n",
       "      <td>0.0289</td>\n",
       "      <td>0.3690</td>\n",
       "      <td>0.000002</td>\n",
       "      <td>0.115</td>\n",
       "      <td>0.707</td>\n",
       "      <td>149.959</td>\n",
       "      <td>234347</td>\n",
       "      <td>https://www.azlyrics.com/lyrics/morganwallen/w...</td>\n",
       "      <td>poor me, pour me another drink, cause i don't ...</td>\n",
       "    </tr>\n",
       "    <tr>\n",
       "      <th>1</th>\n",
       "      <td>morgan wallen</td>\n",
       "      <td>chasin' you</td>\n",
       "      <td>5MwynWK9s4hlyKHqhkNn4A</td>\n",
       "      <td>https://open.spotify.com/artist/4oUHIQIBe0LHzY...</td>\n",
       "      <td>https://open.spotify.com/track/5MwynWK9s4hlyKH...</td>\n",
       "      <td>country</td>\n",
       "      <td>0.631</td>\n",
       "      <td>0.591</td>\n",
       "      <td>7</td>\n",
       "      <td>-5.785</td>\n",
       "      <td>1</td>\n",
       "      <td>0.0277</td>\n",
       "      <td>0.6570</td>\n",
       "      <td>0.000000</td>\n",
       "      <td>0.110</td>\n",
       "      <td>0.489</td>\n",
       "      <td>97.074</td>\n",
       "      <td>205453</td>\n",
       "      <td>https://www.azlyrics.com/lyrics/morganwallen/c...</td>\n",
       "      <td>we used to chase that chattanooga freight, cou...</td>\n",
       "    </tr>\n",
       "    <tr>\n",
       "      <th>2</th>\n",
       "      <td>morgan wallen</td>\n",
       "      <td>more than my hometown</td>\n",
       "      <td>6FniJZn4agmDtPx1pKZQsa</td>\n",
       "      <td>https://open.spotify.com/artist/4oUHIQIBe0LHzY...</td>\n",
       "      <td>https://open.spotify.com/track/6FniJZn4agmDtPx...</td>\n",
       "      <td>country</td>\n",
       "      <td>0.621</td>\n",
       "      <td>0.882</td>\n",
       "      <td>6</td>\n",
       "      <td>-5.010</td>\n",
       "      <td>1</td>\n",
       "      <td>0.0459</td>\n",
       "      <td>0.6010</td>\n",
       "      <td>0.000000</td>\n",
       "      <td>0.132</td>\n",
       "      <td>0.573</td>\n",
       "      <td>126.023</td>\n",
       "      <td>216573</td>\n",
       "      <td>https://www.azlyrics.com/lyrics/morganwallen/m...</td>\n",
       "      <td>girl, our mamas are best friends and so are we...</td>\n",
       "    </tr>\n",
       "    <tr>\n",
       "      <th>3</th>\n",
       "      <td>gabby barrett</td>\n",
       "      <td>i hope</td>\n",
       "      <td>23T0OX7QOiIUFShSzbJ5Uo</td>\n",
       "      <td>https://open.spotify.com/artist/6Iz3eq2aQGFf7T...</td>\n",
       "      <td>https://open.spotify.com/track/23T0OX7QOiIUFSh...</td>\n",
       "      <td>country</td>\n",
       "      <td>0.466</td>\n",
       "      <td>0.536</td>\n",
       "      <td>6</td>\n",
       "      <td>-6.227</td>\n",
       "      <td>1</td>\n",
       "      <td>0.0429</td>\n",
       "      <td>0.0951</td>\n",
       "      <td>0.000000</td>\n",
       "      <td>0.114</td>\n",
       "      <td>0.377</td>\n",
       "      <td>75.998</td>\n",
       "      <td>210773</td>\n",
       "      <td>https://www.azlyrics.com/lyrics/gabbybarrett/i...</td>\n",
       "      <td>i, i hope she makes you smile, the way you mad...</td>\n",
       "    </tr>\n",
       "    <tr>\n",
       "      <th>4</th>\n",
       "      <td>gabby barrett</td>\n",
       "      <td>i hope</td>\n",
       "      <td>23T0OX7QOiIUFShSzbJ5Uo</td>\n",
       "      <td>https://open.spotify.com/artist/6Iz3eq2aQGFf7T...</td>\n",
       "      <td>https://open.spotify.com/track/23T0OX7QOiIUFSh...</td>\n",
       "      <td>country</td>\n",
       "      <td>0.466</td>\n",
       "      <td>0.536</td>\n",
       "      <td>6</td>\n",
       "      <td>-6.227</td>\n",
       "      <td>1</td>\n",
       "      <td>0.0429</td>\n",
       "      <td>0.0951</td>\n",
       "      <td>0.000000</td>\n",
       "      <td>0.114</td>\n",
       "      <td>0.377</td>\n",
       "      <td>75.998</td>\n",
       "      <td>210773</td>\n",
       "      <td>https://www.azlyrics.com/lyrics/gabbybarrett/i...</td>\n",
       "      <td>i, i hope she makes you smile, the way you mad...</td>\n",
       "    </tr>\n",
       "  </tbody>\n",
       "</table>\n",
       "</div>"
      ],
      "text/plain": [
       "     artist_name             track_name                track_id  \\\n",
       "0  morgan wallen        whiskey glasses  6foY66mWZN0pSRjZ408c00   \n",
       "1  morgan wallen            chasin' you  5MwynWK9s4hlyKHqhkNn4A   \n",
       "2  morgan wallen  more than my hometown  6FniJZn4agmDtPx1pKZQsa   \n",
       "3  gabby barrett                 i hope  23T0OX7QOiIUFShSzbJ5Uo   \n",
       "4  gabby barrett                 i hope  23T0OX7QOiIUFShSzbJ5Uo   \n",
       "\n",
       "                                         artist_href  \\\n",
       "0  https://open.spotify.com/artist/4oUHIQIBe0LHzY...   \n",
       "1  https://open.spotify.com/artist/4oUHIQIBe0LHzY...   \n",
       "2  https://open.spotify.com/artist/4oUHIQIBe0LHzY...   \n",
       "3  https://open.spotify.com/artist/6Iz3eq2aQGFf7T...   \n",
       "4  https://open.spotify.com/artist/6Iz3eq2aQGFf7T...   \n",
       "\n",
       "                                          track_href genre_name  danceability  \\\n",
       "0  https://open.spotify.com/track/6foY66mWZN0pSRj...    country         0.614   \n",
       "1  https://open.spotify.com/track/5MwynWK9s4hlyKH...    country         0.631   \n",
       "2  https://open.spotify.com/track/6FniJZn4agmDtPx...    country         0.621   \n",
       "3  https://open.spotify.com/track/23T0OX7QOiIUFSh...    country         0.466   \n",
       "4  https://open.spotify.com/track/23T0OX7QOiIUFSh...    country         0.466   \n",
       "\n",
       "   energy  key  loudness  mode  speechiness  acousticness  instrumentalness  \\\n",
       "0   0.680    6    -4.580     1       0.0289        0.3690          0.000002   \n",
       "1   0.591    7    -5.785     1       0.0277        0.6570          0.000000   \n",
       "2   0.882    6    -5.010     1       0.0459        0.6010          0.000000   \n",
       "3   0.536    6    -6.227     1       0.0429        0.0951          0.000000   \n",
       "4   0.536    6    -6.227     1       0.0429        0.0951          0.000000   \n",
       "\n",
       "   liveness  valence    tempo  duration_ms  \\\n",
       "0     0.115    0.707  149.959       234347   \n",
       "1     0.110    0.489   97.074       205453   \n",
       "2     0.132    0.573  126.023       216573   \n",
       "3     0.114    0.377   75.998       210773   \n",
       "4     0.114    0.377   75.998       210773   \n",
       "\n",
       "                                          lyrics_url  \\\n",
       "0  https://www.azlyrics.com/lyrics/morganwallen/w...   \n",
       "1  https://www.azlyrics.com/lyrics/morganwallen/c...   \n",
       "2  https://www.azlyrics.com/lyrics/morganwallen/m...   \n",
       "3  https://www.azlyrics.com/lyrics/gabbybarrett/i...   \n",
       "4  https://www.azlyrics.com/lyrics/gabbybarrett/i...   \n",
       "\n",
       "                                              lyrics  \n",
       "0  poor me, pour me another drink, cause i don't ...  \n",
       "1  we used to chase that chattanooga freight, cou...  \n",
       "2  girl, our mamas are best friends and so are we...  \n",
       "3  i, i hope she makes you smile, the way you mad...  \n",
       "4  i, i hope she makes you smile, the way you mad...  "
      ]
     },
     "execution_count": 40,
     "metadata": {},
     "output_type": "execute_result"
    }
   ],
   "source": [
    "merged_df.drop(columns=['artist_name_right', 'artist_url','fixed_artist_name', 'lang','artist_no_nickname',\n",
    "       'artist_nickname'],inplace=True)\n",
    "merged_df.rename(columns={'artist_name_left':'artist_name','song_url':'lyrics_url'},inplace=True)\n",
    "merged_df.head()"
   ]
  },
  {
   "cell_type": "code",
   "execution_count": 41,
   "metadata": {},
   "outputs": [],
   "source": [
    "# double clean text (source: https://medium.com/data-from-the-trenches/text-classification-the-first-step-toward-nlp-mastery-f5f95d525d73)\n",
    "import re\n",
    "\n",
    "def clean_text(text):\n",
    "    \"\"\"\n",
    "    Applies some pre-processing on the given text.\n",
    "\n",
    "    Steps :\n",
    "    - Removing HTML tags\n",
    "    - Removing punctuation\n",
    "    - Lowering text\n",
    "    \"\"\"\n",
    "    \n",
    "    # remove HTML tags\n",
    "    text = re.sub(r'<.*?>', '', text)\n",
    "    \n",
    "    # remove the characters [\\], ['] and [\"]\n",
    "    text = re.sub(r\"\\\\\", \"\", text)    \n",
    "    text = re.sub(r\"\\'\", \"\", text)    \n",
    "    text = re.sub(r\"\\\"\", \"\", text)    \n",
    "    \n",
    "    # convert text to lowercase\n",
    "    text = text.strip().lower()\n",
    "    \n",
    "    # replace punctuation characters with spaces\n",
    "    filters='!\"\\'#$%&()*+,-./:;<=>?@[\\\\]^_`{|}~\\t\\n'\n",
    "    translate_dict = dict((c, \" \") for c in filters)\n",
    "    translate_map = str.maketrans(translate_dict)\n",
    "    text = text.translate(translate_map)\n",
    "\n",
    "    return text"
   ]
  },
  {
   "cell_type": "code",
   "execution_count": 43,
   "metadata": {},
   "outputs": [],
   "source": [
    "merged_df['lyrics_cleaned'] = merged_df['lyrics'].map(clean_text)"
   ]
  },
  {
   "cell_type": "code",
   "execution_count": null,
   "metadata": {},
   "outputs": [],
   "source": [
    "# merged_df['lyrics_cleaned'] = merged_df['lyrics'].str.replace(',', '').str.replace('.', '').str.replace('?','').str.replace('!','').str.replace(';','')\n"
   ]
  },
  {
   "cell_type": "code",
   "execution_count": 44,
   "metadata": {},
   "outputs": [
    {
     "data": {
      "text/plain": [
       "'poor me  pour me another drink  cause i dont wanna feel a thing  no more  hell nah  i just wanna sip it til the pain wears off  poor me  pour me another round  lineem up and knockem down  two more  lets go  cause i aint ever hurt like this before  dont wanna think about her  or wear a ring without her  dont wanna hit the karaoke bar  cant sing without her  so make them drinks strong  cause brother shes gone  and if im ever gonna move on  ima need some whiskey glasses  cause i dont wanna see the truth  shes probly makin out on the couch right now with someone new  yea ima need some whiskey glasses  if im gonna make it through  if ima be single ima need a double shot of that heartbreak proof  and see the world through whiskey glasses  see the world through whiskey glasses  last call  i swear thisll be my last call  now i aint drunk dialin no more at 3am  mr  bartender hit me again  dont wanna think about her  or wear a ring without her  dont wanna hit the karaoke bar  cant sing without her  so make them drinks strong  cause brother shes gone  and if im ever gonna move on  ima need some whiskey glasses  cause i dont wanna see the truth  shes probly makin out on the couch right now with someone new  yea ima need some whiskey glasses  if im gonna make it through  if ima be single ima need a double shot of that heartbreak proof  and see the world through whiskey glasses  oh see the world through whiskey glasses  yeah  lineem up  lineem up  lineem up  lineem up  knock em back  knock em back  knockem back  knockem back  fillem up  fillem up  fillem up  fillem up  cause if she aint ever comin back  lineem up  lineem up  lineem up  lineem up  knockem back  knockem back  knockem back  knockem back  fillem up  fillem up  fillem up  fillem up  cause if she aint ever comin back  ima need some whiskey glasses  cause i dont wanna see the truth  shes probly makin out on the couch right now with someone new  yea ima need some whiskey glasses  if im gonna make it through  if ima be single ima need a double shot of that heartbreak proof  and see the world through whiskey glasses  ohh see the world through whiskey glasses  yeah  see the world through whiskey glasses  yeah'"
      ]
     },
     "execution_count": 44,
     "metadata": {},
     "output_type": "execute_result"
    }
   ],
   "source": [
    "merged_df['lyrics_cleaned'][0]"
   ]
  },
  {
   "cell_type": "code",
   "execution_count": 50,
   "metadata": {},
   "outputs": [
    {
     "data": {
      "text/plain": [
       "1484"
      ]
     },
     "execution_count": 50,
     "metadata": {},
     "output_type": "execute_result"
    }
   ],
   "source": [
    "len(merged_df)"
   ]
  },
  {
   "cell_type": "code",
   "execution_count": 45,
   "metadata": {},
   "outputs": [],
   "source": [
    "merged_df.to_csv('data/genre_lyrics_sound_data_7_genres.csv')"
   ]
  },
  {
   "cell_type": "code",
   "execution_count": 46,
   "metadata": {},
   "outputs": [
    {
     "data": {
      "text/plain": [
       "Index(['Unnamed: 0', 'artist_name', 'track_name', 'track_id', 'artist_href',\n",
       "       'track_href', 'genre_name', 'danceability', 'energy', 'key', 'loudness',\n",
       "       'mode', 'speechiness', 'acousticness', 'instrumentalness', 'liveness',\n",
       "       'valence', 'tempo', 'duration_ms', 'lyrics_url', 'lyrics',\n",
       "       'lyrics_cleaned'],\n",
       "      dtype='object')"
      ]
     },
     "execution_count": 46,
     "metadata": {},
     "output_type": "execute_result"
    }
   ],
   "source": [
    "import pandas as pd\n",
    "full_df = pd.read_csv('data/genre_lyrics_sound_data_7_genres.csv')\n",
    "full_df.columns"
   ]
  },
  {
   "cell_type": "code",
   "execution_count": 47,
   "metadata": {},
   "outputs": [],
   "source": [
    "lyric_ml_df = full_df[['genre_name','lyrics_cleaned']]\n",
    "lyric_ml_df.to_csv('data/genre_lyrics_data_7_genres.csv')"
   ]
  },
  {
   "cell_type": "code",
   "execution_count": 48,
   "metadata": {},
   "outputs": [
    {
     "data": {
      "text/plain": [
       "str"
      ]
     },
     "execution_count": 48,
     "metadata": {},
     "output_type": "execute_result"
    }
   ],
   "source": [
    "type(lyric_ml_df[\"lyrics_cleaned\"][0])"
   ]
  },
  {
   "cell_type": "code",
   "execution_count": null,
   "metadata": {},
   "outputs": [],
   "source": [
    "# lyric_ml_df['genre_name'].unique()"
   ]
  },
  {
   "cell_type": "code",
   "execution_count": null,
   "metadata": {},
   "outputs": [],
   "source": [
    "# # lyric_english_ml_df = lyric_ml_df.drop(lyric_ml_df[lyric_ml_df['genre_name']=='french'])\n",
    "# lyric_english_ml_df = lyric_ml_df[lyric_ml_df['genre_name'] != 'french']\n",
    "# lyric_english_ml_df = lyric_english_ml_df[lyric_english_ml_df['genre_name'] != 'german']\n",
    "# lyric_english_ml_df = lyric_english_ml_df[lyric_english_ml_df['genre_name'] != 'indian']\n",
    "# lyric_english_ml_df = lyric_english_ml_df[lyric_english_ml_df['genre_name'] != 'j-dance']\n",
    "# lyric_english_ml_df = lyric_english_ml_df[lyric_english_ml_df['genre_name'] != 'j-idol']\n",
    "# lyric_english_ml_df = lyric_english_ml_df[lyric_english_ml_df['genre_name'] != 'j-pop']\n",
    "# lyric_english_ml_df = lyric_english_ml_df[lyric_english_ml_df['genre_name'] != 'j-rock']\n",
    "# lyric_english_ml_df = lyric_english_ml_df[lyric_english_ml_df['genre_name'] != 'k-pop']\n",
    "# lyric_english_ml_df = lyric_english_ml_df[lyric_english_ml_df['genre_name'] != 'latino']\n",
    "# lyric_english_ml_df = lyric_english_ml_df[lyric_english_ml_df['genre_name'] != 'malay']\n",
    "# lyric_english_ml_df = lyric_english_ml_df[lyric_english_ml_df['genre_name'] != 'mandopop']\n",
    "# lyric_english_ml_df = lyric_english_ml_df[lyric_english_ml_df['genre_name'] != 'spanish']\n",
    "# lyric_english_ml_df = lyric_english_ml_df[lyric_english_ml_df['genre_name'] != 'swedish']\n",
    "# lyric_english_ml_df = lyric_english_ml_df[lyric_english_ml_df['genre_name'] != 'turkish']\n",
    "                                    \n"
   ]
  },
  {
   "cell_type": "code",
   "execution_count": null,
   "metadata": {},
   "outputs": [],
   "source": [
    "# len(lyric_english_ml_df)"
   ]
  },
  {
   "cell_type": "code",
   "execution_count": null,
   "metadata": {},
   "outputs": [],
   "source": [
    "# len(lyric_english_ml_df['genre_name'].unique())"
   ]
  },
  {
   "cell_type": "code",
   "execution_count": null,
   "metadata": {},
   "outputs": [],
   "source": [
    "# lyric_english_ml_df.to_csv('data/genre_english_lyrics.csv')"
   ]
  },
  {
   "cell_type": "code",
   "execution_count": null,
   "metadata": {},
   "outputs": [],
   "source": []
  }
 ],
 "metadata": {
  "kernelspec": {
   "display_name": "Python 3",
   "language": "python",
   "name": "python3"
  },
  "language_info": {
   "codemirror_mode": {
    "name": "ipython",
    "version": 3
   },
   "file_extension": ".py",
   "mimetype": "text/x-python",
   "name": "python",
   "nbconvert_exporter": "python",
   "pygments_lexer": "ipython3",
   "version": "3.8.3"
  }
 },
 "nbformat": 4,
 "nbformat_minor": 4
}
